{
 "cells": [
  {
   "cell_type": "code",
   "execution_count": 63,
   "metadata": {
    "ExecuteTime": {
     "end_time": "2017-08-02T03:14:57.031983Z",
     "start_time": "2017-08-02T03:14:57.027458Z"
    },
    "collapsed": true
   },
   "outputs": [],
   "source": [
    "import pandas as pd\n",
    "import numpy as np\n",
    "from keras.layers import Dense, Flatten, Embedding, Input, merge, Dropout\n",
    "from keras.regularizers import l2\n",
    "from keras.models import Model\n",
    "from keras.optimizers import Adam"
   ]
  },
  {
   "cell_type": "code",
   "execution_count": 4,
   "metadata": {
    "ExecuteTime": {
     "end_time": "2017-08-02T02:15:46.793739Z",
     "start_time": "2017-08-02T02:15:46.782221Z"
    },
    "collapsed": true
   },
   "outputs": [],
   "source": [
    "movies = pd.read_csv(\"ml-latest-small/movies.csv\")"
   ]
  },
  {
   "cell_type": "code",
   "execution_count": 3,
   "metadata": {
    "ExecuteTime": {
     "end_time": "2017-08-02T02:15:25.298664Z",
     "start_time": "2017-08-02T02:15:25.273130Z"
    }
   },
   "outputs": [
    {
     "data": {
      "text/html": [
       "<div>\n",
       "<style>\n",
       "    .dataframe thead tr:only-child th {\n",
       "        text-align: right;\n",
       "    }\n",
       "\n",
       "    .dataframe thead th {\n",
       "        text-align: left;\n",
       "    }\n",
       "\n",
       "    .dataframe tbody tr th {\n",
       "        vertical-align: top;\n",
       "    }\n",
       "</style>\n",
       "<table border=\"1\" class=\"dataframe\">\n",
       "  <thead>\n",
       "    <tr style=\"text-align: right;\">\n",
       "      <th></th>\n",
       "      <th>movieId</th>\n",
       "      <th>title</th>\n",
       "      <th>genres</th>\n",
       "    </tr>\n",
       "  </thead>\n",
       "  <tbody>\n",
       "    <tr>\n",
       "      <th>0</th>\n",
       "      <td>1</td>\n",
       "      <td>Toy Story (1995)</td>\n",
       "      <td>Adventure|Animation|Children|Comedy|Fantasy</td>\n",
       "    </tr>\n",
       "    <tr>\n",
       "      <th>1</th>\n",
       "      <td>2</td>\n",
       "      <td>Jumanji (1995)</td>\n",
       "      <td>Adventure|Children|Fantasy</td>\n",
       "    </tr>\n",
       "    <tr>\n",
       "      <th>2</th>\n",
       "      <td>3</td>\n",
       "      <td>Grumpier Old Men (1995)</td>\n",
       "      <td>Comedy|Romance</td>\n",
       "    </tr>\n",
       "    <tr>\n",
       "      <th>3</th>\n",
       "      <td>4</td>\n",
       "      <td>Waiting to Exhale (1995)</td>\n",
       "      <td>Comedy|Drama|Romance</td>\n",
       "    </tr>\n",
       "    <tr>\n",
       "      <th>4</th>\n",
       "      <td>5</td>\n",
       "      <td>Father of the Bride Part II (1995)</td>\n",
       "      <td>Comedy</td>\n",
       "    </tr>\n",
       "  </tbody>\n",
       "</table>\n",
       "</div>"
      ],
      "text/plain": [
       "   movieId                               title  \\\n",
       "0        1                    Toy Story (1995)   \n",
       "1        2                      Jumanji (1995)   \n",
       "2        3             Grumpier Old Men (1995)   \n",
       "3        4            Waiting to Exhale (1995)   \n",
       "4        5  Father of the Bride Part II (1995)   \n",
       "\n",
       "                                        genres  \n",
       "0  Adventure|Animation|Children|Comedy|Fantasy  \n",
       "1                   Adventure|Children|Fantasy  \n",
       "2                               Comedy|Romance  \n",
       "3                         Comedy|Drama|Romance  \n",
       "4                                       Comedy  "
      ]
     },
     "execution_count": 3,
     "metadata": {},
     "output_type": "execute_result"
    }
   ],
   "source": [
    "ml.head()"
   ]
  },
  {
   "cell_type": "code",
   "execution_count": 7,
   "metadata": {
    "ExecuteTime": {
     "end_time": "2017-08-02T02:16:25.894482Z",
     "start_time": "2017-08-02T02:16:25.853600Z"
    },
    "collapsed": true
   },
   "outputs": [],
   "source": [
    "ratings = pd.read_csv(\"ml-latest-small/ratings.csv\")"
   ]
  },
  {
   "cell_type": "code",
   "execution_count": 8,
   "metadata": {
    "ExecuteTime": {
     "end_time": "2017-08-02T02:16:30.325099Z",
     "start_time": "2017-08-02T02:16:30.310288Z"
    }
   },
   "outputs": [
    {
     "data": {
      "text/html": [
       "<div>\n",
       "<style>\n",
       "    .dataframe thead tr:only-child th {\n",
       "        text-align: right;\n",
       "    }\n",
       "\n",
       "    .dataframe thead th {\n",
       "        text-align: left;\n",
       "    }\n",
       "\n",
       "    .dataframe tbody tr th {\n",
       "        vertical-align: top;\n",
       "    }\n",
       "</style>\n",
       "<table border=\"1\" class=\"dataframe\">\n",
       "  <thead>\n",
       "    <tr style=\"text-align: right;\">\n",
       "      <th></th>\n",
       "      <th>userId</th>\n",
       "      <th>movieId</th>\n",
       "      <th>rating</th>\n",
       "      <th>timestamp</th>\n",
       "    </tr>\n",
       "  </thead>\n",
       "  <tbody>\n",
       "    <tr>\n",
       "      <th>0</th>\n",
       "      <td>1</td>\n",
       "      <td>31</td>\n",
       "      <td>2.5</td>\n",
       "      <td>1260759144</td>\n",
       "    </tr>\n",
       "    <tr>\n",
       "      <th>1</th>\n",
       "      <td>1</td>\n",
       "      <td>1029</td>\n",
       "      <td>3.0</td>\n",
       "      <td>1260759179</td>\n",
       "    </tr>\n",
       "    <tr>\n",
       "      <th>2</th>\n",
       "      <td>1</td>\n",
       "      <td>1061</td>\n",
       "      <td>3.0</td>\n",
       "      <td>1260759182</td>\n",
       "    </tr>\n",
       "    <tr>\n",
       "      <th>3</th>\n",
       "      <td>1</td>\n",
       "      <td>1129</td>\n",
       "      <td>2.0</td>\n",
       "      <td>1260759185</td>\n",
       "    </tr>\n",
       "    <tr>\n",
       "      <th>4</th>\n",
       "      <td>1</td>\n",
       "      <td>1172</td>\n",
       "      <td>4.0</td>\n",
       "      <td>1260759205</td>\n",
       "    </tr>\n",
       "  </tbody>\n",
       "</table>\n",
       "</div>"
      ],
      "text/plain": [
       "   userId  movieId  rating   timestamp\n",
       "0       1       31     2.5  1260759144\n",
       "1       1     1029     3.0  1260759179\n",
       "2       1     1061     3.0  1260759182\n",
       "3       1     1129     2.0  1260759185\n",
       "4       1     1172     4.0  1260759205"
      ]
     },
     "execution_count": 8,
     "metadata": {},
     "output_type": "execute_result"
    }
   ],
   "source": [
    "ratings.head()"
   ]
  },
  {
   "cell_type": "code",
   "execution_count": 9,
   "metadata": {
    "ExecuteTime": {
     "end_time": "2017-08-02T02:17:29.112328Z",
     "start_time": "2017-08-02T02:17:29.104672Z"
    },
    "collapsed": true
   },
   "outputs": [],
   "source": [
    "all_users = ratings.userId.unique()\n",
    "all_movies = ratings.movieId.unique()"
   ]
  },
  {
   "cell_type": "code",
   "execution_count": 11,
   "metadata": {
    "ExecuteTime": {
     "end_time": "2017-08-02T02:17:52.051196Z",
     "start_time": "2017-08-02T02:17:52.046122Z"
    }
   },
   "outputs": [
    {
     "data": {
      "text/plain": [
       "array([ 1,  2,  3,  4,  5,  6,  7,  8,  9, 10])"
      ]
     },
     "execution_count": 11,
     "metadata": {},
     "output_type": "execute_result"
    }
   ],
   "source": [
    "all_users[:10]"
   ]
  },
  {
   "cell_type": "code",
   "execution_count": 12,
   "metadata": {
    "ExecuteTime": {
     "end_time": "2017-08-02T02:18:08.097985Z",
     "start_time": "2017-08-02T02:18:08.093073Z"
    }
   },
   "outputs": [
    {
     "data": {
      "text/plain": [
       "array([  31, 1029, 1061, 1129, 1172, 1263, 1287, 1293, 1339, 1343])"
      ]
     },
     "execution_count": 12,
     "metadata": {},
     "output_type": "execute_result"
    }
   ],
   "source": [
    "all_movies[:10]"
   ]
  },
  {
   "cell_type": "code",
   "execution_count": 13,
   "metadata": {
    "ExecuteTime": {
     "end_time": "2017-08-02T02:29:29.112592Z",
     "start_time": "2017-08-02T02:29:29.109027Z"
    },
    "collapsed": true
   },
   "outputs": [],
   "source": [
    "user_mapping = {o:i for i,o in enumerate(all_users)}"
   ]
  },
  {
   "cell_type": "code",
   "execution_count": 14,
   "metadata": {
    "ExecuteTime": {
     "end_time": "2017-08-02T02:29:40.727539Z",
     "start_time": "2017-08-02T02:29:40.722558Z"
    },
    "collapsed": true
   },
   "outputs": [],
   "source": [
    "movie_mapping = {o:i for i,o in enumerate(all_movies)}"
   ]
  },
  {
   "cell_type": "code",
   "execution_count": 17,
   "metadata": {
    "ExecuteTime": {
     "end_time": "2017-08-02T02:34:17.721565Z",
     "start_time": "2017-08-02T02:34:14.106541Z"
    }
   },
   "outputs": [],
   "source": [
    "ratings['user_idx'] = ratings.apply(lambda x: user_mapping[x['userId']], axis=1)\n",
    "ratings['movie_idx'] = ratings.apply(lambda x: movie_mapping[x['movieId']], axis=1)"
   ]
  },
  {
   "cell_type": "code",
   "execution_count": 25,
   "metadata": {
    "ExecuteTime": {
     "end_time": "2017-08-02T02:38:20.015347Z",
     "start_time": "2017-08-02T02:38:20.006169Z"
    }
   },
   "outputs": [],
   "source": [
    "trn_idx = np.random.rand(len(ratings)) < .8\n",
    "trn = ratings[trn_idx]\n",
    "val = ratings[~trn_idx]"
   ]
  },
  {
   "cell_type": "code",
   "execution_count": 26,
   "metadata": {
    "ExecuteTime": {
     "end_time": "2017-08-02T02:38:31.624801Z",
     "start_time": "2017-08-02T02:38:31.607618Z"
    }
   },
   "outputs": [
    {
     "data": {
      "text/html": [
       "<div>\n",
       "<style>\n",
       "    .dataframe thead tr:only-child th {\n",
       "        text-align: right;\n",
       "    }\n",
       "\n",
       "    .dataframe thead th {\n",
       "        text-align: left;\n",
       "    }\n",
       "\n",
       "    .dataframe tbody tr th {\n",
       "        vertical-align: top;\n",
       "    }\n",
       "</style>\n",
       "<table border=\"1\" class=\"dataframe\">\n",
       "  <thead>\n",
       "    <tr style=\"text-align: right;\">\n",
       "      <th></th>\n",
       "      <th>userId</th>\n",
       "      <th>movieId</th>\n",
       "      <th>rating</th>\n",
       "      <th>timestamp</th>\n",
       "      <th>user_idx</th>\n",
       "      <th>movie_idx</th>\n",
       "    </tr>\n",
       "  </thead>\n",
       "  <tbody>\n",
       "    <tr>\n",
       "      <th>1</th>\n",
       "      <td>1</td>\n",
       "      <td>1029</td>\n",
       "      <td>3.0</td>\n",
       "      <td>1260759179</td>\n",
       "      <td>0</td>\n",
       "      <td>1</td>\n",
       "    </tr>\n",
       "    <tr>\n",
       "      <th>3</th>\n",
       "      <td>1</td>\n",
       "      <td>1129</td>\n",
       "      <td>2.0</td>\n",
       "      <td>1260759185</td>\n",
       "      <td>0</td>\n",
       "      <td>3</td>\n",
       "    </tr>\n",
       "    <tr>\n",
       "      <th>5</th>\n",
       "      <td>1</td>\n",
       "      <td>1263</td>\n",
       "      <td>2.0</td>\n",
       "      <td>1260759151</td>\n",
       "      <td>0</td>\n",
       "      <td>5</td>\n",
       "    </tr>\n",
       "    <tr>\n",
       "      <th>6</th>\n",
       "      <td>1</td>\n",
       "      <td>1287</td>\n",
       "      <td>2.0</td>\n",
       "      <td>1260759187</td>\n",
       "      <td>0</td>\n",
       "      <td>6</td>\n",
       "    </tr>\n",
       "    <tr>\n",
       "      <th>7</th>\n",
       "      <td>1</td>\n",
       "      <td>1293</td>\n",
       "      <td>2.0</td>\n",
       "      <td>1260759148</td>\n",
       "      <td>0</td>\n",
       "      <td>7</td>\n",
       "    </tr>\n",
       "  </tbody>\n",
       "</table>\n",
       "</div>"
      ],
      "text/plain": [
       "   userId  movieId  rating   timestamp  user_idx  movie_idx\n",
       "1       1     1029     3.0  1260759179         0          1\n",
       "3       1     1129     2.0  1260759185         0          3\n",
       "5       1     1263     2.0  1260759151         0          5\n",
       "6       1     1287     2.0  1260759187         0          6\n",
       "7       1     1293     2.0  1260759148         0          7"
      ]
     },
     "execution_count": 26,
     "metadata": {},
     "output_type": "execute_result"
    }
   ],
   "source": [
    "trn.head()"
   ]
  },
  {
   "cell_type": "code",
   "execution_count": 27,
   "metadata": {
    "ExecuteTime": {
     "end_time": "2017-08-02T02:38:36.862813Z",
     "start_time": "2017-08-02T02:38:36.846151Z"
    }
   },
   "outputs": [
    {
     "data": {
      "text/html": [
       "<div>\n",
       "<style>\n",
       "    .dataframe thead tr:only-child th {\n",
       "        text-align: right;\n",
       "    }\n",
       "\n",
       "    .dataframe thead th {\n",
       "        text-align: left;\n",
       "    }\n",
       "\n",
       "    .dataframe tbody tr th {\n",
       "        vertical-align: top;\n",
       "    }\n",
       "</style>\n",
       "<table border=\"1\" class=\"dataframe\">\n",
       "  <thead>\n",
       "    <tr style=\"text-align: right;\">\n",
       "      <th></th>\n",
       "      <th>userId</th>\n",
       "      <th>movieId</th>\n",
       "      <th>rating</th>\n",
       "      <th>timestamp</th>\n",
       "      <th>user_idx</th>\n",
       "      <th>movie_idx</th>\n",
       "    </tr>\n",
       "  </thead>\n",
       "  <tbody>\n",
       "    <tr>\n",
       "      <th>0</th>\n",
       "      <td>1</td>\n",
       "      <td>31</td>\n",
       "      <td>2.5</td>\n",
       "      <td>1260759144</td>\n",
       "      <td>0</td>\n",
       "      <td>0</td>\n",
       "    </tr>\n",
       "    <tr>\n",
       "      <th>2</th>\n",
       "      <td>1</td>\n",
       "      <td>1061</td>\n",
       "      <td>3.0</td>\n",
       "      <td>1260759182</td>\n",
       "      <td>0</td>\n",
       "      <td>2</td>\n",
       "    </tr>\n",
       "    <tr>\n",
       "      <th>4</th>\n",
       "      <td>1</td>\n",
       "      <td>1172</td>\n",
       "      <td>4.0</td>\n",
       "      <td>1260759205</td>\n",
       "      <td>0</td>\n",
       "      <td>4</td>\n",
       "    </tr>\n",
       "    <tr>\n",
       "      <th>8</th>\n",
       "      <td>1</td>\n",
       "      <td>1339</td>\n",
       "      <td>3.5</td>\n",
       "      <td>1260759125</td>\n",
       "      <td>0</td>\n",
       "      <td>8</td>\n",
       "    </tr>\n",
       "    <tr>\n",
       "      <th>11</th>\n",
       "      <td>1</td>\n",
       "      <td>1405</td>\n",
       "      <td>1.0</td>\n",
       "      <td>1260759203</td>\n",
       "      <td>0</td>\n",
       "      <td>11</td>\n",
       "    </tr>\n",
       "  </tbody>\n",
       "</table>\n",
       "</div>"
      ],
      "text/plain": [
       "    userId  movieId  rating   timestamp  user_idx  movie_idx\n",
       "0        1       31     2.5  1260759144         0          0\n",
       "2        1     1061     3.0  1260759182         0          2\n",
       "4        1     1172     4.0  1260759205         0          4\n",
       "8        1     1339     3.5  1260759125         0          8\n",
       "11       1     1405     1.0  1260759203         0         11"
      ]
     },
     "execution_count": 27,
     "metadata": {},
     "output_type": "execute_result"
    }
   ],
   "source": [
    "val.head()"
   ]
  },
  {
   "cell_type": "code",
   "execution_count": 34,
   "metadata": {
    "ExecuteTime": {
     "end_time": "2017-08-02T02:47:27.363768Z",
     "start_time": "2017-08-02T02:47:27.360255Z"
    },
    "collapsed": true
   },
   "outputs": [],
   "source": [
    "n_users = len(all_users)\n",
    "n_movies = len(all_movies)\n",
    "n_factors = 50"
   ]
  },
  {
   "cell_type": "code",
   "execution_count": 49,
   "metadata": {
    "ExecuteTime": {
     "end_time": "2017-08-02T02:57:10.265012Z",
     "start_time": "2017-08-02T02:57:10.261755Z"
    },
    "collapsed": true
   },
   "outputs": [],
   "source": [
    "np.random.seed = 42"
   ]
  },
  {
   "cell_type": "code",
   "execution_count": 58,
   "metadata": {
    "ExecuteTime": {
     "end_time": "2017-08-02T03:06:36.179691Z",
     "start_time": "2017-08-02T03:04:19.130428Z"
    }
   },
   "outputs": [
    {
     "name": "stdout",
     "output_type": "stream",
     "text": [
      "Train on 80095 samples, validate on 19909 samples\n",
      "Epoch 1/100\n",
      "80095/80095 [==============================] - 2s - loss: 13.6872 - val_loss: 13.7060\n",
      "Epoch 2/100\n",
      "80095/80095 [==============================] - 2s - loss: 13.6666 - val_loss: 13.6846\n",
      "Epoch 3/100\n",
      "80095/80095 [==============================] - 2s - loss: 13.5873 - val_loss: 13.5333\n",
      "Epoch 4/100\n",
      "80095/80095 [==============================] - 2s - loss: 13.2441 - val_loss: 12.9845\n",
      "Epoch 5/100\n",
      "80095/80095 [==============================] - 2s - loss: 12.4065 - val_loss: 11.9166\n",
      "Epoch 6/100\n",
      "80095/80095 [==============================] - 2s - loss: 11.0950 - val_loss: 10.4697\n",
      "Epoch 7/100\n",
      "80095/80095 [==============================] - 2s - loss: 9.5133 - val_loss: 8.8789\n",
      "Epoch 8/100\n",
      "80095/80095 [==============================] - 2s - loss: 7.9153 - val_loss: 7.3922\n",
      "Epoch 9/100\n",
      "80095/80095 [==============================] - 2s - loss: 6.5291 - val_loss: 6.1956\n",
      "Epoch 10/100\n",
      "80095/80095 [==============================] - 2s - loss: 5.4756 - val_loss: 5.3293\n",
      "Epoch 11/100\n",
      "80095/80095 [==============================] - 2s - loss: 4.7235 - val_loss: 4.7135\n",
      "Epoch 12/100\n",
      "80095/80095 [==============================] - 2s - loss: 4.1774 - val_loss: 4.2586\n",
      "Epoch 13/100\n",
      "80095/80095 [==============================] - 2s - loss: 3.7635 - val_loss: 3.9104\n",
      "Epoch 14/100\n",
      "80095/80095 [==============================] - 2s - loss: 3.4406 - val_loss: 3.6382\n",
      "Epoch 15/100\n",
      "80095/80095 [==============================] - 2s - loss: 3.1846 - val_loss: 3.4232\n",
      "Epoch 16/100\n",
      "80095/80095 [==============================] - 2s - loss: 2.9806 - val_loss: 3.2528\n",
      "Epoch 17/100\n",
      "80095/80095 [==============================] - 2s - loss: 2.8172 - val_loss: 3.1183\n",
      "Epoch 18/100\n",
      "80095/80095 [==============================] - 2s - loss: 2.6857 - val_loss: 3.0110\n",
      "Epoch 19/100\n",
      "80095/80095 [==============================] - 2s - loss: 2.5788 - val_loss: 2.9246\n",
      "Epoch 20/100\n",
      "80095/80095 [==============================] - 2s - loss: 2.4912 - val_loss: 2.8547\n",
      "Epoch 21/100\n",
      "80095/80095 [==============================] - 2s - loss: 2.4191 - val_loss: 2.7978\n",
      "Epoch 22/100\n",
      "80095/80095 [==============================] - 2s - loss: 2.3590 - val_loss: 2.7514\n",
      "Epoch 23/100\n",
      "80095/80095 [==============================] - 2s - loss: 2.3088 - val_loss: 2.7136\n",
      "Epoch 24/100\n",
      "80095/80095 [==============================] - 2s - loss: 2.2663 - val_loss: 2.6821\n",
      "Epoch 25/100\n",
      "80095/80095 [==============================] - 2s - loss: 2.2300 - val_loss: 2.6564\n",
      "Epoch 26/100\n",
      "80095/80095 [==============================] - 2s - loss: 2.1991 - val_loss: 2.6348\n",
      "Epoch 27/100\n",
      "80095/80095 [==============================] - 2s - loss: 2.1723 - val_loss: 2.6169\n",
      "Epoch 28/100\n",
      "80095/80095 [==============================] - 2s - loss: 2.1491 - val_loss: 2.6019\n",
      "Epoch 29/100\n",
      "80095/80095 [==============================] - 2s - loss: 2.1288 - val_loss: 2.5894\n",
      "Epoch 30/100\n",
      "80095/80095 [==============================] - 2s - loss: 2.1109 - val_loss: 2.5789\n",
      "Epoch 31/100\n",
      "80095/80095 [==============================] - 2s - loss: 2.0950 - val_loss: 2.5701\n",
      "Epoch 32/100\n",
      "80095/80095 [==============================] - 2s - loss: 2.0809 - val_loss: 2.5627\n",
      "Epoch 33/100\n",
      "80095/80095 [==============================] - 2s - loss: 2.0682 - val_loss: 2.5565\n",
      "Epoch 34/100\n",
      "80095/80095 [==============================] - 2s - loss: 2.0567 - val_loss: 2.5514\n",
      "Epoch 35/100\n",
      "80095/80095 [==============================] - 2s - loss: 2.0463 - val_loss: 2.5470\n",
      "Epoch 36/100\n",
      "80095/80095 [==============================] - 2s - loss: 2.0369 - val_loss: 2.5435\n",
      "Epoch 37/100\n",
      "80095/80095 [==============================] - 2s - loss: 2.0282 - val_loss: 2.5401\n",
      "Epoch 38/100\n",
      "80095/80095 [==============================] - 2s - loss: 2.0203 - val_loss: 2.5373\n",
      "Epoch 39/100\n",
      "80095/80095 [==============================] - 2s - loss: 2.0129 - val_loss: 2.5353\n",
      "Epoch 40/100\n",
      "80095/80095 [==============================] - 2s - loss: 2.0061 - val_loss: 2.5334\n",
      "Epoch 41/100\n",
      "80095/80095 [==============================] - 2s - loss: 1.9998 - val_loss: 2.5323\n",
      "Epoch 42/100\n",
      "80095/80095 [==============================] - 2s - loss: 1.9939 - val_loss: 2.5310\n",
      "Epoch 43/100\n",
      "80095/80095 [==============================] - 2s - loss: 1.9883 - val_loss: 2.5301\n",
      "Epoch 44/100\n",
      "80095/80095 [==============================] - 2s - loss: 1.9831 - val_loss: 2.5294\n",
      "Epoch 45/100\n",
      "80095/80095 [==============================] - 2s - loss: 1.9782 - val_loss: 2.5286\n",
      "Epoch 46/100\n",
      "80095/80095 [==============================] - 2s - loss: 1.9736 - val_loss: 2.5282\n",
      "Epoch 47/100\n",
      "80095/80095 [==============================] - 2s - loss: 1.9691 - val_loss: 2.5280\n",
      "Epoch 48/100\n",
      "80095/80095 [==============================] - 2s - loss: 1.9650 - val_loss: 2.5279\n",
      "Epoch 49/100\n",
      "80095/80095 [==============================] - 2s - loss: 1.9611 - val_loss: 2.5281\n",
      "Epoch 50/100\n",
      "80095/80095 [==============================] - 2s - loss: 1.9573 - val_loss: 2.5281\n",
      "Epoch 51/100\n",
      "80095/80095 [==============================] - 2s - loss: 1.9535 - val_loss: 2.5284\n",
      "Epoch 52/100\n",
      "80095/80095 [==============================] - 2s - loss: 1.9501 - val_loss: 2.5285\n",
      "Epoch 53/100\n",
      "79872/80095 [============================>.] - ETA: 0s - loss: 1.9466"
     ]
    },
    {
     "ename": "KeyboardInterrupt",
     "evalue": "",
     "output_type": "error",
     "traceback": [
      "\u001b[0;31m---------------------------------------------------------------------------\u001b[0m",
      "\u001b[0;31mKeyboardInterrupt\u001b[0m                         Traceback (most recent call last)",
      "\u001b[0;32m<ipython-input-58-15b3a776e372>\u001b[0m in \u001b[0;36m<module>\u001b[0;34m()\u001b[0m\n\u001b[1;32m     11\u001b[0m \u001b[0mmodel\u001b[0m\u001b[0;34m.\u001b[0m\u001b[0mcompile\u001b[0m\u001b[0;34m(\u001b[0m\u001b[0mAdam\u001b[0m\u001b[0;34m(\u001b[0m\u001b[0;36m0.0001\u001b[0m\u001b[0;34m)\u001b[0m\u001b[0;34m,\u001b[0m \u001b[0mloss\u001b[0m\u001b[0;34m=\u001b[0m\u001b[0;34m'mse'\u001b[0m\u001b[0;34m)\u001b[0m\u001b[0;34m\u001b[0m\u001b[0m\n\u001b[1;32m     12\u001b[0m model.fit([trn.user_idx, trn.movie_idx], trn.rating, batch_size=64, nb_epoch=100, \n\u001b[0;32m---> 13\u001b[0;31m           validation_data=([val.user_idx, val.movie_idx], val.rating))\n\u001b[0m",
      "\u001b[0;32m/home/ubuntu/anaconda2/lib/python2.7/site-packages/keras/engine/training.pyc\u001b[0m in \u001b[0;36mfit\u001b[0;34m(self, x, y, batch_size, nb_epoch, verbose, callbacks, validation_split, validation_data, shuffle, class_weight, sample_weight, initial_epoch)\u001b[0m\n\u001b[1;32m   1194\u001b[0m                               \u001b[0mval_f\u001b[0m\u001b[0;34m=\u001b[0m\u001b[0mval_f\u001b[0m\u001b[0;34m,\u001b[0m \u001b[0mval_ins\u001b[0m\u001b[0;34m=\u001b[0m\u001b[0mval_ins\u001b[0m\u001b[0;34m,\u001b[0m \u001b[0mshuffle\u001b[0m\u001b[0;34m=\u001b[0m\u001b[0mshuffle\u001b[0m\u001b[0;34m,\u001b[0m\u001b[0;34m\u001b[0m\u001b[0m\n\u001b[1;32m   1195\u001b[0m                               \u001b[0mcallback_metrics\u001b[0m\u001b[0;34m=\u001b[0m\u001b[0mcallback_metrics\u001b[0m\u001b[0;34m,\u001b[0m\u001b[0;34m\u001b[0m\u001b[0m\n\u001b[0;32m-> 1196\u001b[0;31m                               initial_epoch=initial_epoch)\n\u001b[0m\u001b[1;32m   1197\u001b[0m \u001b[0;34m\u001b[0m\u001b[0m\n\u001b[1;32m   1198\u001b[0m     \u001b[0;32mdef\u001b[0m \u001b[0mevaluate\u001b[0m\u001b[0;34m(\u001b[0m\u001b[0mself\u001b[0m\u001b[0;34m,\u001b[0m \u001b[0mx\u001b[0m\u001b[0;34m,\u001b[0m \u001b[0my\u001b[0m\u001b[0;34m,\u001b[0m \u001b[0mbatch_size\u001b[0m\u001b[0;34m=\u001b[0m\u001b[0;36m32\u001b[0m\u001b[0;34m,\u001b[0m \u001b[0mverbose\u001b[0m\u001b[0;34m=\u001b[0m\u001b[0;36m1\u001b[0m\u001b[0;34m,\u001b[0m \u001b[0msample_weight\u001b[0m\u001b[0;34m=\u001b[0m\u001b[0mNone\u001b[0m\u001b[0;34m)\u001b[0m\u001b[0;34m:\u001b[0m\u001b[0;34m\u001b[0m\u001b[0m\n",
      "\u001b[0;32m/home/ubuntu/anaconda2/lib/python2.7/site-packages/keras/engine/training.pyc\u001b[0m in \u001b[0;36m_fit_loop\u001b[0;34m(self, f, ins, out_labels, batch_size, nb_epoch, verbose, callbacks, val_f, val_ins, shuffle, callback_metrics, initial_epoch)\u001b[0m\n\u001b[1;32m    903\u001b[0m                         val_outs = self._test_loop(val_f, val_ins,\n\u001b[1;32m    904\u001b[0m                                                    \u001b[0mbatch_size\u001b[0m\u001b[0;34m=\u001b[0m\u001b[0mbatch_size\u001b[0m\u001b[0;34m,\u001b[0m\u001b[0;34m\u001b[0m\u001b[0m\n\u001b[0;32m--> 905\u001b[0;31m                                                    verbose=0)\n\u001b[0m\u001b[1;32m    906\u001b[0m                         \u001b[0;32mif\u001b[0m \u001b[0;32mnot\u001b[0m \u001b[0misinstance\u001b[0m\u001b[0;34m(\u001b[0m\u001b[0mval_outs\u001b[0m\u001b[0;34m,\u001b[0m \u001b[0mlist\u001b[0m\u001b[0;34m)\u001b[0m\u001b[0;34m:\u001b[0m\u001b[0;34m\u001b[0m\u001b[0m\n\u001b[1;32m    907\u001b[0m                             \u001b[0mval_outs\u001b[0m \u001b[0;34m=\u001b[0m \u001b[0;34m[\u001b[0m\u001b[0mval_outs\u001b[0m\u001b[0;34m]\u001b[0m\u001b[0;34m\u001b[0m\u001b[0m\n",
      "\u001b[0;32m/home/ubuntu/anaconda2/lib/python2.7/site-packages/keras/engine/training.pyc\u001b[0m in \u001b[0;36m_test_loop\u001b[0;34m(self, f, ins, batch_size, verbose)\u001b[0m\n\u001b[1;32m    988\u001b[0m                 \u001b[0mins_batch\u001b[0m \u001b[0;34m=\u001b[0m \u001b[0mslice_X\u001b[0m\u001b[0;34m(\u001b[0m\u001b[0mins\u001b[0m\u001b[0;34m,\u001b[0m \u001b[0mbatch_ids\u001b[0m\u001b[0;34m)\u001b[0m\u001b[0;34m\u001b[0m\u001b[0m\n\u001b[1;32m    989\u001b[0m \u001b[0;34m\u001b[0m\u001b[0m\n\u001b[0;32m--> 990\u001b[0;31m             \u001b[0mbatch_outs\u001b[0m \u001b[0;34m=\u001b[0m \u001b[0mf\u001b[0m\u001b[0;34m(\u001b[0m\u001b[0mins_batch\u001b[0m\u001b[0;34m)\u001b[0m\u001b[0;34m\u001b[0m\u001b[0m\n\u001b[0m\u001b[1;32m    991\u001b[0m             \u001b[0;32mif\u001b[0m \u001b[0misinstance\u001b[0m\u001b[0;34m(\u001b[0m\u001b[0mbatch_outs\u001b[0m\u001b[0;34m,\u001b[0m \u001b[0mlist\u001b[0m\u001b[0;34m)\u001b[0m\u001b[0;34m:\u001b[0m\u001b[0;34m\u001b[0m\u001b[0m\n\u001b[1;32m    992\u001b[0m                 \u001b[0;32mif\u001b[0m \u001b[0mbatch_index\u001b[0m \u001b[0;34m==\u001b[0m \u001b[0;36m0\u001b[0m\u001b[0;34m:\u001b[0m\u001b[0;34m\u001b[0m\u001b[0m\n",
      "\u001b[0;32m/home/ubuntu/anaconda2/lib/python2.7/site-packages/keras/backend/theano_backend.pyc\u001b[0m in \u001b[0;36m__call__\u001b[0;34m(self, inputs)\u001b[0m\n\u001b[1;32m    957\u001b[0m     \u001b[0;32mdef\u001b[0m \u001b[0m__call__\u001b[0m\u001b[0;34m(\u001b[0m\u001b[0mself\u001b[0m\u001b[0;34m,\u001b[0m \u001b[0minputs\u001b[0m\u001b[0;34m)\u001b[0m\u001b[0;34m:\u001b[0m\u001b[0;34m\u001b[0m\u001b[0m\n\u001b[1;32m    958\u001b[0m         \u001b[0;32massert\u001b[0m \u001b[0misinstance\u001b[0m\u001b[0;34m(\u001b[0m\u001b[0minputs\u001b[0m\u001b[0;34m,\u001b[0m \u001b[0;34m(\u001b[0m\u001b[0mlist\u001b[0m\u001b[0;34m,\u001b[0m \u001b[0mtuple\u001b[0m\u001b[0;34m)\u001b[0m\u001b[0;34m)\u001b[0m\u001b[0;34m\u001b[0m\u001b[0m\n\u001b[0;32m--> 959\u001b[0;31m         \u001b[0;32mreturn\u001b[0m \u001b[0mself\u001b[0m\u001b[0;34m.\u001b[0m\u001b[0mfunction\u001b[0m\u001b[0;34m(\u001b[0m\u001b[0;34m*\u001b[0m\u001b[0minputs\u001b[0m\u001b[0;34m)\u001b[0m\u001b[0;34m\u001b[0m\u001b[0m\n\u001b[0m\u001b[1;32m    960\u001b[0m \u001b[0;34m\u001b[0m\u001b[0m\n\u001b[1;32m    961\u001b[0m \u001b[0;34m\u001b[0m\u001b[0m\n",
      "\u001b[0;32m/home/ubuntu/anaconda2/lib/python2.7/site-packages/theano/compile/function_module.pyc\u001b[0m in \u001b[0;36m__call__\u001b[0;34m(self, *args, **kwargs)\u001b[0m\n\u001b[1;32m    882\u001b[0m         \u001b[0;32mtry\u001b[0m\u001b[0;34m:\u001b[0m\u001b[0;34m\u001b[0m\u001b[0m\n\u001b[1;32m    883\u001b[0m             \u001b[0moutputs\u001b[0m \u001b[0;34m=\u001b[0m\u001b[0;31m\\\u001b[0m\u001b[0;34m\u001b[0m\u001b[0m\n\u001b[0;32m--> 884\u001b[0;31m                 \u001b[0mself\u001b[0m\u001b[0;34m.\u001b[0m\u001b[0mfn\u001b[0m\u001b[0;34m(\u001b[0m\u001b[0;34m)\u001b[0m \u001b[0;32mif\u001b[0m \u001b[0moutput_subset\u001b[0m \u001b[0;32mis\u001b[0m \u001b[0mNone\u001b[0m \u001b[0;32melse\u001b[0m\u001b[0;31m\\\u001b[0m\u001b[0;34m\u001b[0m\u001b[0m\n\u001b[0m\u001b[1;32m    885\u001b[0m                 \u001b[0mself\u001b[0m\u001b[0;34m.\u001b[0m\u001b[0mfn\u001b[0m\u001b[0;34m(\u001b[0m\u001b[0moutput_subset\u001b[0m\u001b[0;34m=\u001b[0m\u001b[0moutput_subset\u001b[0m\u001b[0;34m)\u001b[0m\u001b[0;34m\u001b[0m\u001b[0m\n\u001b[1;32m    886\u001b[0m         \u001b[0;32mexcept\u001b[0m \u001b[0mException\u001b[0m\u001b[0;34m:\u001b[0m\u001b[0;34m\u001b[0m\u001b[0m\n",
      "\u001b[0;31mKeyboardInterrupt\u001b[0m: "
     ]
    }
   ],
   "source": [
    "user_in = Input(shape=(1,), dtype='int64', name='user_in')\n",
    "u = Embedding(n_users, n_factors, input_length=1, W_regularizer=l2(1e-4))(user_in)\n",
    "\n",
    "movie_in = Input(shape=(1,), dtype='int64', name='movie_in')\n",
    "m = Embedding(n_movies, n_factors, input_length=1, W_regularizer=l2(1e-4))(movie_in)\n",
    "\n",
    "x = merge([u, m], mode='dot')\n",
    "x = Flatten()(x)\n",
    "\n",
    "model = Model([user_in, movie_in], x)\n",
    "model.compile(Adam(0.0001), loss='mse')\n",
    "model.fit([trn.user_idx, trn.movie_idx], trn.rating, batch_size=64, nb_epoch=100, \n",
    "          validation_data=([val.user_idx, val.movie_idx], val.rating))"
   ]
  },
  {
   "cell_type": "code",
   "execution_count": 59,
   "metadata": {
    "ExecuteTime": {
     "end_time": "2017-08-02T03:08:01.590482Z",
     "start_time": "2017-08-02T03:06:56.961256Z"
    }
   },
   "outputs": [
    {
     "name": "stdout",
     "output_type": "stream",
     "text": [
      "Train on 80095 samples, validate on 19909 samples\n",
      "Epoch 1/100\n",
      "80095/80095 [==============================] - 2s - loss: 1.9436 - val_loss: 2.5295\n",
      "Epoch 2/100\n",
      "80095/80095 [==============================] - 2s - loss: 1.9405 - val_loss: 2.5301\n",
      "Epoch 3/100\n",
      "80095/80095 [==============================] - 2s - loss: 1.9375 - val_loss: 2.5307\n",
      "Epoch 4/100\n",
      "80095/80095 [==============================] - 2s - loss: 1.9346 - val_loss: 2.5311\n",
      "Epoch 5/100\n",
      "80095/80095 [==============================] - 2s - loss: 1.9317 - val_loss: 2.5321\n",
      "Epoch 6/100\n",
      "80095/80095 [==============================] - 2s - loss: 1.9291 - val_loss: 2.5329\n",
      "Epoch 7/100\n",
      "80095/80095 [==============================] - 2s - loss: 1.9264 - val_loss: 2.5336\n",
      "Epoch 8/100\n",
      "80095/80095 [==============================] - 2s - loss: 1.9238 - val_loss: 2.5341\n",
      "Epoch 9/100\n",
      "80095/80095 [==============================] - 2s - loss: 1.9213 - val_loss: 2.5348\n",
      "Epoch 10/100\n",
      "80095/80095 [==============================] - 2s - loss: 1.9188 - val_loss: 2.5362\n",
      "Epoch 11/100\n",
      "80095/80095 [==============================] - 2s - loss: 1.9165 - val_loss: 2.5373\n",
      "Epoch 12/100\n",
      "80095/80095 [==============================] - 2s - loss: 1.9141 - val_loss: 2.5382\n",
      "Epoch 13/100\n",
      "80095/80095 [==============================] - 2s - loss: 1.9118 - val_loss: 2.5390\n",
      "Epoch 14/100\n",
      "80095/80095 [==============================] - 2s - loss: 1.9094 - val_loss: 2.5400\n",
      "Epoch 15/100\n",
      "80095/80095 [==============================] - 2s - loss: 1.9073 - val_loss: 2.5411\n",
      "Epoch 16/100\n",
      "80095/80095 [==============================] - 2s - loss: 1.9050 - val_loss: 2.5422\n",
      "Epoch 17/100\n",
      "80095/80095 [==============================] - 2s - loss: 1.9029 - val_loss: 2.5431\n",
      "Epoch 18/100\n",
      "80095/80095 [==============================] - 2s - loss: 1.9008 - val_loss: 2.5442\n",
      "Epoch 19/100\n",
      "80095/80095 [==============================] - 2s - loss: 1.8986 - val_loss: 2.5456\n",
      "Epoch 20/100\n",
      "80095/80095 [==============================] - 2s - loss: 1.8966 - val_loss: 2.5467\n",
      "Epoch 21/100\n",
      "80095/80095 [==============================] - 2s - loss: 1.8946 - val_loss: 2.5477\n",
      "Epoch 22/100\n",
      "80095/80095 [==============================] - 2s - loss: 1.8925 - val_loss: 2.5488\n",
      "Epoch 23/100\n",
      "80095/80095 [==============================] - 2s - loss: 1.8906 - val_loss: 2.5501\n",
      "Epoch 24/100\n",
      "80095/80095 [==============================] - 2s - loss: 1.8886 - val_loss: 2.5514\n",
      "Epoch 25/100\n",
      "80095/80095 [==============================] - 2s - loss: 1.8866 - val_loss: 2.5526\n",
      "Epoch 26/100\n",
      "16896/80095 [=====>........................] - ETA: 1s - loss: 1.8661"
     ]
    },
    {
     "ename": "KeyboardInterrupt",
     "evalue": "",
     "output_type": "error",
     "traceback": [
      "\u001b[0;31m---------------------------------------------------------------------------\u001b[0m",
      "\u001b[0;31mKeyboardInterrupt\u001b[0m                         Traceback (most recent call last)",
      "\u001b[0;32m<ipython-input-59-790b69b5bac0>\u001b[0m in \u001b[0;36m<module>\u001b[0;34m()\u001b[0m\n\u001b[1;32m      1\u001b[0m \u001b[0mmodel\u001b[0m\u001b[0;34m.\u001b[0m\u001b[0moptimizer\u001b[0m\u001b[0;34m.\u001b[0m\u001b[0mlr\u001b[0m \u001b[0;34m=\u001b[0m \u001b[0;36m.00001\u001b[0m\u001b[0;34m\u001b[0m\u001b[0m\n\u001b[1;32m      2\u001b[0m model.fit([trn.user_idx, trn.movie_idx], trn.rating, batch_size=64, nb_epoch=100, \n\u001b[0;32m----> 3\u001b[0;31m           validation_data=([val.user_idx, val.movie_idx], val.rating))\n\u001b[0m",
      "\u001b[0;32m/home/ubuntu/anaconda2/lib/python2.7/site-packages/keras/engine/training.pyc\u001b[0m in \u001b[0;36mfit\u001b[0;34m(self, x, y, batch_size, nb_epoch, verbose, callbacks, validation_split, validation_data, shuffle, class_weight, sample_weight, initial_epoch)\u001b[0m\n\u001b[1;32m   1194\u001b[0m                               \u001b[0mval_f\u001b[0m\u001b[0;34m=\u001b[0m\u001b[0mval_f\u001b[0m\u001b[0;34m,\u001b[0m \u001b[0mval_ins\u001b[0m\u001b[0;34m=\u001b[0m\u001b[0mval_ins\u001b[0m\u001b[0;34m,\u001b[0m \u001b[0mshuffle\u001b[0m\u001b[0;34m=\u001b[0m\u001b[0mshuffle\u001b[0m\u001b[0;34m,\u001b[0m\u001b[0;34m\u001b[0m\u001b[0m\n\u001b[1;32m   1195\u001b[0m                               \u001b[0mcallback_metrics\u001b[0m\u001b[0;34m=\u001b[0m\u001b[0mcallback_metrics\u001b[0m\u001b[0;34m,\u001b[0m\u001b[0;34m\u001b[0m\u001b[0m\n\u001b[0;32m-> 1196\u001b[0;31m                               initial_epoch=initial_epoch)\n\u001b[0m\u001b[1;32m   1197\u001b[0m \u001b[0;34m\u001b[0m\u001b[0m\n\u001b[1;32m   1198\u001b[0m     \u001b[0;32mdef\u001b[0m \u001b[0mevaluate\u001b[0m\u001b[0;34m(\u001b[0m\u001b[0mself\u001b[0m\u001b[0;34m,\u001b[0m \u001b[0mx\u001b[0m\u001b[0;34m,\u001b[0m \u001b[0my\u001b[0m\u001b[0;34m,\u001b[0m \u001b[0mbatch_size\u001b[0m\u001b[0;34m=\u001b[0m\u001b[0;36m32\u001b[0m\u001b[0;34m,\u001b[0m \u001b[0mverbose\u001b[0m\u001b[0;34m=\u001b[0m\u001b[0;36m1\u001b[0m\u001b[0;34m,\u001b[0m \u001b[0msample_weight\u001b[0m\u001b[0;34m=\u001b[0m\u001b[0mNone\u001b[0m\u001b[0;34m)\u001b[0m\u001b[0;34m:\u001b[0m\u001b[0;34m\u001b[0m\u001b[0m\n",
      "\u001b[0;32m/home/ubuntu/anaconda2/lib/python2.7/site-packages/keras/engine/training.pyc\u001b[0m in \u001b[0;36m_fit_loop\u001b[0;34m(self, f, ins, out_labels, batch_size, nb_epoch, verbose, callbacks, val_f, val_ins, shuffle, callback_metrics, initial_epoch)\u001b[0m\n\u001b[1;32m    889\u001b[0m                 \u001b[0mbatch_logs\u001b[0m\u001b[0;34m[\u001b[0m\u001b[0;34m'size'\u001b[0m\u001b[0;34m]\u001b[0m \u001b[0;34m=\u001b[0m \u001b[0mlen\u001b[0m\u001b[0;34m(\u001b[0m\u001b[0mbatch_ids\u001b[0m\u001b[0;34m)\u001b[0m\u001b[0;34m\u001b[0m\u001b[0m\n\u001b[1;32m    890\u001b[0m                 \u001b[0mcallbacks\u001b[0m\u001b[0;34m.\u001b[0m\u001b[0mon_batch_begin\u001b[0m\u001b[0;34m(\u001b[0m\u001b[0mbatch_index\u001b[0m\u001b[0;34m,\u001b[0m \u001b[0mbatch_logs\u001b[0m\u001b[0;34m)\u001b[0m\u001b[0;34m\u001b[0m\u001b[0m\n\u001b[0;32m--> 891\u001b[0;31m                 \u001b[0mouts\u001b[0m \u001b[0;34m=\u001b[0m \u001b[0mf\u001b[0m\u001b[0;34m(\u001b[0m\u001b[0mins_batch\u001b[0m\u001b[0;34m)\u001b[0m\u001b[0;34m\u001b[0m\u001b[0m\n\u001b[0m\u001b[1;32m    892\u001b[0m                 \u001b[0;32mif\u001b[0m \u001b[0;32mnot\u001b[0m \u001b[0misinstance\u001b[0m\u001b[0;34m(\u001b[0m\u001b[0mouts\u001b[0m\u001b[0;34m,\u001b[0m \u001b[0mlist\u001b[0m\u001b[0;34m)\u001b[0m\u001b[0;34m:\u001b[0m\u001b[0;34m\u001b[0m\u001b[0m\n\u001b[1;32m    893\u001b[0m                     \u001b[0mouts\u001b[0m \u001b[0;34m=\u001b[0m \u001b[0;34m[\u001b[0m\u001b[0mouts\u001b[0m\u001b[0;34m]\u001b[0m\u001b[0;34m\u001b[0m\u001b[0m\n",
      "\u001b[0;32m/home/ubuntu/anaconda2/lib/python2.7/site-packages/keras/backend/theano_backend.pyc\u001b[0m in \u001b[0;36m__call__\u001b[0;34m(self, inputs)\u001b[0m\n\u001b[1;32m    957\u001b[0m     \u001b[0;32mdef\u001b[0m \u001b[0m__call__\u001b[0m\u001b[0;34m(\u001b[0m\u001b[0mself\u001b[0m\u001b[0;34m,\u001b[0m \u001b[0minputs\u001b[0m\u001b[0;34m)\u001b[0m\u001b[0;34m:\u001b[0m\u001b[0;34m\u001b[0m\u001b[0m\n\u001b[1;32m    958\u001b[0m         \u001b[0;32massert\u001b[0m \u001b[0misinstance\u001b[0m\u001b[0;34m(\u001b[0m\u001b[0minputs\u001b[0m\u001b[0;34m,\u001b[0m \u001b[0;34m(\u001b[0m\u001b[0mlist\u001b[0m\u001b[0;34m,\u001b[0m \u001b[0mtuple\u001b[0m\u001b[0;34m)\u001b[0m\u001b[0;34m)\u001b[0m\u001b[0;34m\u001b[0m\u001b[0m\n\u001b[0;32m--> 959\u001b[0;31m         \u001b[0;32mreturn\u001b[0m \u001b[0mself\u001b[0m\u001b[0;34m.\u001b[0m\u001b[0mfunction\u001b[0m\u001b[0;34m(\u001b[0m\u001b[0;34m*\u001b[0m\u001b[0minputs\u001b[0m\u001b[0;34m)\u001b[0m\u001b[0;34m\u001b[0m\u001b[0m\n\u001b[0m\u001b[1;32m    960\u001b[0m \u001b[0;34m\u001b[0m\u001b[0m\n\u001b[1;32m    961\u001b[0m \u001b[0;34m\u001b[0m\u001b[0m\n",
      "\u001b[0;32m/home/ubuntu/anaconda2/lib/python2.7/site-packages/theano/compile/function_module.pyc\u001b[0m in \u001b[0;36m__call__\u001b[0;34m(self, *args, **kwargs)\u001b[0m\n\u001b[1;32m    882\u001b[0m         \u001b[0;32mtry\u001b[0m\u001b[0;34m:\u001b[0m\u001b[0;34m\u001b[0m\u001b[0m\n\u001b[1;32m    883\u001b[0m             \u001b[0moutputs\u001b[0m \u001b[0;34m=\u001b[0m\u001b[0;31m\\\u001b[0m\u001b[0;34m\u001b[0m\u001b[0m\n\u001b[0;32m--> 884\u001b[0;31m                 \u001b[0mself\u001b[0m\u001b[0;34m.\u001b[0m\u001b[0mfn\u001b[0m\u001b[0;34m(\u001b[0m\u001b[0;34m)\u001b[0m \u001b[0;32mif\u001b[0m \u001b[0moutput_subset\u001b[0m \u001b[0;32mis\u001b[0m \u001b[0mNone\u001b[0m \u001b[0;32melse\u001b[0m\u001b[0;31m\\\u001b[0m\u001b[0;34m\u001b[0m\u001b[0m\n\u001b[0m\u001b[1;32m    885\u001b[0m                 \u001b[0mself\u001b[0m\u001b[0;34m.\u001b[0m\u001b[0mfn\u001b[0m\u001b[0;34m(\u001b[0m\u001b[0moutput_subset\u001b[0m\u001b[0;34m=\u001b[0m\u001b[0moutput_subset\u001b[0m\u001b[0;34m)\u001b[0m\u001b[0;34m\u001b[0m\u001b[0m\n\u001b[1;32m    886\u001b[0m         \u001b[0;32mexcept\u001b[0m \u001b[0mException\u001b[0m\u001b[0;34m:\u001b[0m\u001b[0;34m\u001b[0m\u001b[0m\n",
      "\u001b[0;31mKeyboardInterrupt\u001b[0m: "
     ]
    }
   ],
   "source": [
    "model.optimizer.lr = .00001\n",
    "model.fit([trn.user_idx, trn.movie_idx], trn.rating, batch_size=64, nb_epoch=100, \n",
    "          validation_data=([val.user_idx, val.movie_idx], val.rating))"
   ]
  },
  {
   "cell_type": "code",
   "execution_count": 45,
   "metadata": {
    "ExecuteTime": {
     "end_time": "2017-08-02T02:50:19.414645Z",
     "start_time": "2017-08-02T02:50:02.505069Z"
    }
   },
   "outputs": [
    {
     "name": "stdout",
     "output_type": "stream",
     "text": [
      "Train on 80095 samples, validate on 19909 samples\n",
      "Epoch 1/6\n",
      "80095/80095 [==============================] - 2s - loss: 3.3425 - val_loss: 2.9711\n",
      "Epoch 2/6\n",
      "80095/80095 [==============================] - 2s - loss: 2.5042 - val_loss: 2.6431\n",
      "Epoch 3/6\n",
      "80095/80095 [==============================] - 2s - loss: 2.2221 - val_loss: 2.5596\n",
      "Epoch 4/6\n",
      "80095/80095 [==============================] - 2s - loss: 2.1125 - val_loss: 2.5445\n",
      "Epoch 5/6\n",
      "80095/80095 [==============================] - 2s - loss: 2.0606 - val_loss: 2.5438\n",
      "Epoch 6/6\n",
      "80095/80095 [==============================] - 2s - loss: 2.0317 - val_loss: 2.5519\n"
     ]
    },
    {
     "data": {
      "text/plain": [
       "<keras.callbacks.History at 0x7f6086dc1d90>"
      ]
     },
     "execution_count": 45,
     "metadata": {},
     "output_type": "execute_result"
    }
   ],
   "source": [
    "model.compile(Adam(0.0001), loss='mse')\n",
    "model.fit([trn.user_idx, trn.movie_idx], trn.rating, batch_size=64, nb_epoch=6, \n",
    "          validation_data=([val.user_idx, val.movie_idx], val.rating))"
   ]
  },
  {
   "cell_type": "code",
   "execution_count": 46,
   "metadata": {
    "ExecuteTime": {
     "end_time": "2017-08-02T02:50:59.708240Z",
     "start_time": "2017-08-02T02:50:42.625053Z"
    }
   },
   "outputs": [
    {
     "name": "stdout",
     "output_type": "stream",
     "text": [
      "Train on 80095 samples, validate on 19909 samples\n",
      "Epoch 1/6\n",
      "80095/80095 [==============================] - 2s - loss: 2.1513 - val_loss: 2.6840\n",
      "Epoch 2/6\n",
      "80095/80095 [==============================] - 2s - loss: 2.0871 - val_loss: 2.6580\n",
      "Epoch 3/6\n",
      "80095/80095 [==============================] - 2s - loss: 2.0559 - val_loss: 2.6393\n",
      "Epoch 4/6\n",
      "80095/80095 [==============================] - 2s - loss: 2.0309 - val_loss: 2.6244\n",
      "Epoch 5/6\n",
      "80095/80095 [==============================] - 2s - loss: 2.0101 - val_loss: 2.6128\n",
      "Epoch 6/6\n",
      "80095/80095 [==============================] - 2s - loss: 1.9924 - val_loss: 2.6032\n"
     ]
    },
    {
     "data": {
      "text/plain": [
       "<keras.callbacks.History at 0x7f60899f8dd0>"
      ]
     },
     "execution_count": 46,
     "metadata": {},
     "output_type": "execute_result"
    }
   ],
   "source": [
    "model.compile(Adam(0.0001), loss='mse')\n",
    "model.fit([trn.user_idx, trn.movie_idx], trn.rating, batch_size=64, nb_epoch=6, \n",
    "          validation_data=([val.user_idx, val.movie_idx], val.rating))"
   ]
  },
  {
   "cell_type": "markdown",
   "metadata": {},
   "source": [
    "# Neural Net Model"
   ]
  },
  {
   "cell_type": "code",
   "execution_count": 73,
   "metadata": {
    "ExecuteTime": {
     "end_time": "2017-08-02T03:19:25.049091Z",
     "start_time": "2017-08-02T03:19:25.025362Z"
    },
    "collapsed": true
   },
   "outputs": [],
   "source": [
    "user_input = Input(shape=(1,), dtype='int64', name='user_in')\n",
    "u = Embedding(n_users, n_factors, input_length=1, W_regularizer=l2(1e-4))(user_input)\n",
    "movie_input = Input(shape=(1,), dtype='int64', name='movie_in')\n",
    "m = Embedding(n_movies, n_factors, input_length=1, W_regularizer=l2(1e-4))(movie_input)"
   ]
  },
  {
   "cell_type": "code",
   "execution_count": 74,
   "metadata": {
    "ExecuteTime": {
     "end_time": "2017-08-02T03:19:25.782943Z",
     "start_time": "2017-08-02T03:19:25.778672Z"
    },
    "collapsed": true
   },
   "outputs": [],
   "source": [
    "x = merge([u, m], mode='concat', concat_axis=1)"
   ]
  },
  {
   "cell_type": "code",
   "execution_count": 75,
   "metadata": {
    "ExecuteTime": {
     "end_time": "2017-08-02T03:19:44.012438Z",
     "start_time": "2017-08-02T03:19:26.731103Z"
    }
   },
   "outputs": [
    {
     "name": "stdout",
     "output_type": "stream",
     "text": [
      "Train on 80095 samples, validate on 19909 samples\n",
      "Epoch 1/3\n",
      "80095/80095 [==============================] - 3s - loss: 2.4588 - val_loss: 0.9028\n",
      "Epoch 2/3\n",
      "80095/80095 [==============================] - 3s - loss: 1.4620 - val_loss: 0.8797\n",
      "Epoch 3/3\n",
      "80095/80095 [==============================] - 3s - loss: 1.2273 - val_loss: 0.8552\n"
     ]
    },
    {
     "data": {
      "text/plain": [
       "<keras.callbacks.History at 0x7f607d099290>"
      ]
     },
     "execution_count": 75,
     "metadata": {},
     "output_type": "execute_result"
    }
   ],
   "source": [
    "x = Flatten()(x)\n",
    "x = Dropout(0.3)(x)\n",
    "x = Dense(70, activation='relu')(x)\n",
    "x = Dropout(0.75)(x)\n",
    "x = Dense(1)(x)\n",
    "nn = Model([user_input, movie_input], x)\n",
    "nn.compile(Adam(0.001), loss='mse')\n",
    "nn.fit([trn.user_idx, trn.movie_idx], \n",
    "       trn.rating, \n",
    "       batch_size=64, \n",
    "       nb_epoch=3, \n",
    "       validation_data=([val.user_idx, val.movie_idx], val.rating))"
   ]
  },
  {
   "cell_type": "code",
   "execution_count": 76,
   "metadata": {
    "ExecuteTime": {
     "end_time": "2017-08-02T03:20:08.775901Z",
     "start_time": "2017-08-02T03:19:57.974366Z"
    }
   },
   "outputs": [
    {
     "name": "stdout",
     "output_type": "stream",
     "text": [
      "Train on 80095 samples, validate on 19909 samples\n",
      "Epoch 1/3\n",
      "80095/80095 [==============================] - 3s - loss: 1.0411 - val_loss: 0.8460\n",
      "Epoch 2/3\n",
      "80095/80095 [==============================] - 3s - loss: 0.9202 - val_loss: 0.8349\n",
      "Epoch 3/3\n",
      "80095/80095 [==============================] - 3s - loss: 0.8478 - val_loss: 0.8262\n"
     ]
    },
    {
     "data": {
      "text/plain": [
       "<keras.callbacks.History at 0x7f60825f7550>"
      ]
     },
     "execution_count": 76,
     "metadata": {},
     "output_type": "execute_result"
    }
   ],
   "source": [
    "nn.fit([trn.user_idx, trn.movie_idx], \n",
    "       trn.rating, \n",
    "       batch_size=64, \n",
    "       nb_epoch=3, \n",
    "       validation_data=([val.user_idx, val.movie_idx], val.rating))"
   ]
  },
  {
   "cell_type": "code",
   "execution_count": 77,
   "metadata": {
    "ExecuteTime": {
     "end_time": "2017-08-02T03:21:01.943939Z",
     "start_time": "2017-08-02T03:20:26.292055Z"
    }
   },
   "outputs": [
    {
     "name": "stdout",
     "output_type": "stream",
     "text": [
      "Train on 80095 samples, validate on 19909 samples\n",
      "Epoch 1/10\n",
      "80095/80095 [==============================] - 3s - loss: 0.8213 - val_loss: 0.8266\n",
      "Epoch 2/10\n",
      "80095/80095 [==============================] - 3s - loss: 0.8085 - val_loss: 0.8301\n",
      "Epoch 3/10\n",
      "80095/80095 [==============================] - 3s - loss: 0.8049 - val_loss: 0.8334\n",
      "Epoch 4/10\n",
      "80095/80095 [==============================] - 3s - loss: 0.8003 - val_loss: 0.8244\n",
      "Epoch 5/10\n",
      "80095/80095 [==============================] - 3s - loss: 0.7974 - val_loss: 0.8277\n",
      "Epoch 6/10\n",
      "80095/80095 [==============================] - 3s - loss: 0.7994 - val_loss: 0.8260\n",
      "Epoch 7/10\n",
      "80095/80095 [==============================] - 3s - loss: 0.7954 - val_loss: 0.8283\n",
      "Epoch 8/10\n",
      "80095/80095 [==============================] - 3s - loss: 0.7926 - val_loss: 0.8309\n",
      "Epoch 9/10\n",
      "80095/80095 [==============================] - 3s - loss: 0.7926 - val_loss: 0.8272\n",
      "Epoch 10/10\n",
      "80095/80095 [==============================] - 3s - loss: 0.7899 - val_loss: 0.8292\n"
     ]
    },
    {
     "data": {
      "text/plain": [
       "<keras.callbacks.History at 0x7f607d6ddc10>"
      ]
     },
     "execution_count": 77,
     "metadata": {},
     "output_type": "execute_result"
    }
   ],
   "source": [
    "nn.fit([trn.user_idx, trn.movie_idx], \n",
    "       trn.rating, \n",
    "       batch_size=64, \n",
    "       nb_epoch=10, \n",
    "       validation_data=([val.user_idx, val.movie_idx], val.rating))"
   ]
  },
  {
   "cell_type": "code",
   "execution_count": 78,
   "metadata": {
    "ExecuteTime": {
     "end_time": "2017-08-02T03:21:58.120384Z",
     "start_time": "2017-08-02T03:21:19.925997Z"
    }
   },
   "outputs": [
    {
     "name": "stdout",
     "output_type": "stream",
     "text": [
      "Train on 80095 samples, validate on 19909 samples\n",
      "Epoch 1/10\n",
      "80095/80095 [==============================] - 3s - loss: 0.7623 - val_loss: 0.8039\n",
      "Epoch 2/10\n",
      "80095/80095 [==============================] - 3s - loss: 0.7572 - val_loss: 0.8007\n",
      "Epoch 3/10\n",
      "80095/80095 [==============================] - 3s - loss: 0.7476 - val_loss: 0.7989\n",
      "Epoch 4/10\n",
      "80095/80095 [==============================] - 3s - loss: 0.7423 - val_loss: 0.7976\n",
      "Epoch 5/10\n",
      "80095/80095 [==============================] - 3s - loss: 0.7348 - val_loss: 0.7973\n",
      "Epoch 6/10\n",
      "80095/80095 [==============================] - 3s - loss: 0.7284 - val_loss: 0.7967\n",
      "Epoch 7/10\n",
      "80095/80095 [==============================] - 3s - loss: 0.7260 - val_loss: 0.7961\n",
      "Epoch 8/10\n",
      "80095/80095 [==============================] - 3s - loss: 0.7239 - val_loss: 0.7959\n",
      "Epoch 9/10\n",
      "80095/80095 [==============================] - 3s - loss: 0.7200 - val_loss: 0.7958\n",
      "Epoch 10/10\n",
      "80095/80095 [==============================] - 3s - loss: 0.7182 - val_loss: 0.7954\n"
     ]
    },
    {
     "data": {
      "text/plain": [
       "<keras.callbacks.History at 0x7f6083682310>"
      ]
     },
     "execution_count": 78,
     "metadata": {},
     "output_type": "execute_result"
    }
   ],
   "source": [
    "nn.compile(Adam(0.0001), loss='mse')\n",
    "nn.fit([trn.user_idx, trn.movie_idx], \n",
    "       trn.rating, \n",
    "       batch_size=64, \n",
    "       nb_epoch=10, \n",
    "       validation_data=([val.user_idx, val.movie_idx], val.rating))"
   ]
  },
  {
   "cell_type": "code",
   "execution_count": 79,
   "metadata": {
    "ExecuteTime": {
     "end_time": "2017-08-02T03:23:04.803729Z",
     "start_time": "2017-08-02T03:22:26.287822Z"
    }
   },
   "outputs": [
    {
     "name": "stdout",
     "output_type": "stream",
     "text": [
      "Train on 80095 samples, validate on 19909 samples\n",
      "Epoch 1/10\n",
      "80095/80095 [==============================] - 3s - loss: 0.7148 - val_loss: 0.7932\n",
      "Epoch 2/10\n",
      "80095/80095 [==============================] - 3s - loss: 0.7162 - val_loss: 0.7932\n",
      "Epoch 3/10\n",
      "80095/80095 [==============================] - 3s - loss: 0.7129 - val_loss: 0.7932\n",
      "Epoch 4/10\n",
      "80095/80095 [==============================] - 3s - loss: 0.7165 - val_loss: 0.7932\n",
      "Epoch 5/10\n",
      "80095/80095 [==============================] - 3s - loss: 0.7162 - val_loss: 0.7932\n",
      "Epoch 6/10\n",
      "80095/80095 [==============================] - 3s - loss: 0.7155 - val_loss: 0.7932\n",
      "Epoch 7/10\n",
      "80095/80095 [==============================] - 3s - loss: 0.7141 - val_loss: 0.7931\n",
      "Epoch 8/10\n",
      "80095/80095 [==============================] - 3s - loss: 0.7132 - val_loss: 0.7931\n",
      "Epoch 9/10\n",
      "80095/80095 [==============================] - 3s - loss: 0.7100 - val_loss: 0.7931\n",
      "Epoch 10/10\n",
      "80095/80095 [==============================] - 3s - loss: 0.7163 - val_loss: 0.7931\n"
     ]
    },
    {
     "data": {
      "text/plain": [
       "<keras.callbacks.History at 0x7f607fd75110>"
      ]
     },
     "execution_count": 79,
     "metadata": {},
     "output_type": "execute_result"
    }
   ],
   "source": [
    "nn.compile(Adam(0.00001), loss='mse')\n",
    "nn.fit([trn.user_idx, trn.movie_idx], \n",
    "       trn.rating, \n",
    "       batch_size=64, \n",
    "       nb_epoch=10, \n",
    "\n",
    "       validation_data=([val.user_idx, val.movie_idx], val.rating))"
   ]
  },
  {
   "cell_type": "code",
   "execution_count": 80,
   "metadata": {
    "ExecuteTime": {
     "end_time": "2017-08-02T03:24:06.151609Z",
     "start_time": "2017-08-02T03:23:30.485644Z"
    }
   },
   "outputs": [
    {
     "name": "stdout",
     "output_type": "stream",
     "text": [
      "Train on 80095 samples, validate on 19909 samples\n",
      "Epoch 1/10\n",
      "80095/80095 [==============================] - 3s - loss: 0.7122 - val_loss: 0.7930\n",
      "Epoch 2/10\n",
      "80095/80095 [==============================] - 3s - loss: 0.7131 - val_loss: 0.7929\n",
      "Epoch 3/10\n",
      "80095/80095 [==============================] - 3s - loss: 0.7112 - val_loss: 0.7929\n",
      "Epoch 4/10\n",
      "80095/80095 [==============================] - 3s - loss: 0.7089 - val_loss: 0.7930\n",
      "Epoch 5/10\n",
      "80095/80095 [==============================] - 3s - loss: 0.7077 - val_loss: 0.7930\n",
      "Epoch 6/10\n",
      "80095/80095 [==============================] - 3s - loss: 0.7067 - val_loss: 0.7930\n",
      "Epoch 7/10\n",
      "80095/80095 [==============================] - 3s - loss: 0.7099 - val_loss: 0.7930\n",
      "Epoch 8/10\n",
      "80095/80095 [==============================] - 3s - loss: 0.7126 - val_loss: 0.7930\n",
      "Epoch 9/10\n",
      "80095/80095 [==============================] - 3s - loss: 0.7098 - val_loss: 0.7930\n",
      "Epoch 10/10\n",
      "80095/80095 [==============================] - 3s - loss: 0.7097 - val_loss: 0.7930\n"
     ]
    },
    {
     "data": {
      "text/plain": [
       "<keras.callbacks.History at 0x7f607fd75ad0>"
      ]
     },
     "execution_count": 80,
     "metadata": {},
     "output_type": "execute_result"
    }
   ],
   "source": [
    "nn.optimizer.lr = .00005\n",
    "nn.fit([trn.user_idx, trn.movie_idx], \n",
    "       trn.rating, \n",
    "       batch_size=64, \n",
    "       nb_epoch=10, \n",
    "       validation_data=([val.user_idx, val.movie_idx], val.rating))"
   ]
  },
  {
   "cell_type": "code",
   "execution_count": 81,
   "metadata": {
    "ExecuteTime": {
     "end_time": "2017-08-02T03:24:55.202641Z",
     "start_time": "2017-08-02T03:24:19.524643Z"
    }
   },
   "outputs": [
    {
     "name": "stdout",
     "output_type": "stream",
     "text": [
      "Train on 80095 samples, validate on 19909 samples\n",
      "Epoch 1/10\n",
      "80095/80095 [==============================] - 3s - loss: 0.7063 - val_loss: 0.7930\n",
      "Epoch 2/10\n",
      "80095/80095 [==============================] - 3s - loss: 0.7065 - val_loss: 0.7930\n",
      "Epoch 3/10\n",
      "80095/80095 [==============================] - 3s - loss: 0.7095 - val_loss: 0.7929\n",
      "Epoch 4/10\n",
      "80095/80095 [==============================] - 3s - loss: 0.7078 - val_loss: 0.7930\n",
      "Epoch 5/10\n",
      "80095/80095 [==============================] - 3s - loss: 0.7046 - val_loss: 0.7929\n",
      "Epoch 6/10\n",
      "80095/80095 [==============================] - 3s - loss: 0.7082 - val_loss: 0.7929\n",
      "Epoch 7/10\n",
      "80095/80095 [==============================] - 3s - loss: 0.7064 - val_loss: 0.7929\n",
      "Epoch 8/10\n",
      "80095/80095 [==============================] - 3s - loss: 0.7057 - val_loss: 0.7929\n",
      "Epoch 9/10\n",
      "80095/80095 [==============================] - 3s - loss: 0.7055 - val_loss: 0.7929\n",
      "Epoch 10/10\n",
      "80095/80095 [==============================] - 3s - loss: 0.7020 - val_loss: 0.7929\n"
     ]
    },
    {
     "data": {
      "text/plain": [
       "<keras.callbacks.History at 0x7f607fe44450>"
      ]
     },
     "execution_count": 81,
     "metadata": {},
     "output_type": "execute_result"
    }
   ],
   "source": [
    "nn.optimizer.lr = .0001\n",
    "nn.fit([trn.user_idx, trn.movie_idx], \n",
    "       trn.rating, \n",
    "       batch_size=64, \n",
    "       nb_epoch=10, \n",
    "       validation_data=([val.user_idx, val.movie_idx], val.rating))"
   ]
  }
 ],
 "metadata": {
  "kernelspec": {
   "display_name": "Python 2",
   "language": "python",
   "name": "python2"
  },
  "language_info": {
   "codemirror_mode": {
    "name": "ipython",
    "version": 2
   },
   "file_extension": ".py",
   "mimetype": "text/x-python",
   "name": "python",
   "nbconvert_exporter": "python",
   "pygments_lexer": "ipython2",
   "version": "2.7.13"
  }
 },
 "nbformat": 4,
 "nbformat_minor": 2
}
