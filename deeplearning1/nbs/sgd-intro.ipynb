{
 "cells": [
  {
   "cell_type": "markdown",
   "metadata": {
    "toc": "true"
   },
   "source": [
    "# Table of Contents\n",
    " <p>"
   ]
  },
  {
   "cell_type": "code",
   "execution_count": 1,
   "metadata": {
    "collapsed": true
   },
   "outputs": [],
   "source": [
    "%matplotlib inline\n",
    "import math,sys,os,numpy as np\n",
    "from numpy.random import random\n",
    "from matplotlib import pyplot as plt, rcParams, animation, rc\n",
    "from __future__ import print_function, division\n",
    "from ipywidgets import interact, interactive, fixed\n",
    "from ipywidgets.widgets import *\n",
    "rc('animation', html='html5')\n",
    "rcParams['figure.figsize'] = 3, 3\n",
    "%precision 4\n",
    "np.set_printoptions(precision=4, linewidth=100)"
   ]
  },
  {
   "cell_type": "code",
   "execution_count": 2,
   "metadata": {
    "collapsed": true
   },
   "outputs": [],
   "source": [
    "def lin(a,b,x): return a*x+b"
   ]
  },
  {
   "cell_type": "code",
   "execution_count": 3,
   "metadata": {
    "collapsed": true
   },
   "outputs": [],
   "source": [
    "a=3.\n",
    "b=8."
   ]
  },
  {
   "cell_type": "code",
   "execution_count": 4,
   "metadata": {
    "collapsed": true
   },
   "outputs": [],
   "source": [
    "n=30\n",
    "x = random(n)\n",
    "y = lin(a,b,x)"
   ]
  },
  {
   "cell_type": "code",
   "execution_count": 5,
   "metadata": {},
   "outputs": [
    {
     "data": {
      "text/plain": [
       "array([ 0.2827,  0.3947,  0.3377,  0.8262,  0.7675,  0.5788,  0.538 ,  0.832 ,  0.7134,  0.7473,\n",
       "        0.9882,  0.6577,  0.1003,  0.3557,  0.2343,  0.3235,  0.8236,  0.5532,  0.542 ,  0.6502,\n",
       "        0.0181,  0.7038,  0.2955,  0.2411,  0.7834,  0.1882,  0.5029,  0.8227,  0.2787,  0.5907])"
      ]
     },
     "execution_count": 5,
     "metadata": {},
     "output_type": "execute_result"
    }
   ],
   "source": [
    "x"
   ]
  },
  {
   "cell_type": "code",
   "execution_count": 6,
   "metadata": {},
   "outputs": [
    {
     "data": {
      "text/plain": [
       "array([  8.848 ,   9.184 ,   9.0131,  10.4786,  10.3026,   9.7364,   9.6139,  10.4959,  10.1403,\n",
       "        10.2419,  10.9647,   9.9732,   8.3008,   9.0672,   8.703 ,   8.9705,  10.4708,   9.6597,\n",
       "         9.626 ,   9.9505,   8.0542,  10.1115,   8.8866,   8.7233,  10.3501,   8.5646,   9.5087,\n",
       "        10.4682,   8.8362,   9.772 ])"
      ]
     },
     "execution_count": 6,
     "metadata": {},
     "output_type": "execute_result"
    }
   ],
   "source": [
    "y"
   ]
  },
  {
   "cell_type": "code",
   "execution_count": 7,
   "metadata": {},
   "outputs": [
    {
     "data": {
      "text/plain": [
       "<matplotlib.collections.PathCollection at 0x7fa2cc07e950>"
      ]
     },
     "execution_count": 7,
     "metadata": {},
     "output_type": "execute_result"
    },
    {
     "data": {
      "image/png": "[encoded data removed]",
      "text/plain": [
       "<matplotlib.figure.Figure at 0x7fa2f6778390>"
      ]
     },
     "metadata": {},
     "output_type": "display_data"
    }
   ],
   "source": [
    "plt.scatter(x,y)"
   ]
  },
  {
   "cell_type": "code",
   "execution_count": 8,
   "metadata": {
    "collapsed": true
   },
   "outputs": [],
   "source": [
    "def sse(y,y_pred): return ((y-y_pred)**2).sum()\n",
    "def loss(y,a,b,x): return sse(y, lin(a,b,x))\n",
    "def avg_loss(y,a,b,x): return np.sqrt(loss(y,a,b,x)/n)"
   ]
  },
  {
   "cell_type": "code",
   "execution_count": 9,
   "metadata": {},
   "outputs": [
    {
     "data": {
      "text/plain": [
       "9.1444"
      ]
     },
     "execution_count": 9,
     "metadata": {},
     "output_type": "execute_result"
    }
   ],
   "source": [
    "a_guess=-1.\n",
    "b_guess=1.\n",
    "avg_loss(y, a_guess, b_guess, x)"
   ]
  },
  {
   "cell_type": "code",
   "execution_count": 10,
   "metadata": {
    "collapsed": true
   },
   "outputs": [],
   "source": [
    "lr=0.01\n",
    "# d[(y-(a*x+b))**2,b] = 2 (b + a x - y)      = 2 (y_pred - y)\n",
    "# d[(y-(a*x+b))**2,a] = 2 x (b + a x - y)    = x * dy/db"
   ]
  },
  {
   "cell_type": "code",
   "execution_count": 11,
   "metadata": {
    "collapsed": true
   },
   "outputs": [],
   "source": [
    "def upd():\n",
    "    global a_guess, b_guess\n",
    "    y_pred = lin(a_guess, b_guess, x)\n",
    "    dydb = 2 * (y_pred - y)\n",
    "    dyda = x*dydb\n",
    "    a_guess -= lr*dyda.mean()\n",
    "    b_guess -= lr*dydb.mean()"
   ]
  },
  {
   "cell_type": "code",
   "execution_count": 12,
   "metadata": {},
   "outputs": [
    {
     "data": {
      "text/html": [
       "<video width=\"500\" height=\"400\" controls autoplay loop>\n",
       "  <source type=\"video/mp4\" src=\"data:video/mp4;base64,AAAAHGZ0eXBNNFYgAAACAGlzb21pc28yYXZjMQAAAAhmcmVlAABO2m1kYXQAAAKsBgX//6jcRem9\n",
       "5tlIt5Ys2CDZI+7veDI2NCAtIGNvcmUgMTM4IHIyMCA0MGU3MmRhIC0gSC4yNjQvTVBFRy00IEFW\n",
       "QyBjb2RlYyAtIENvcHlsZWZ0IDIwMDMtMjAxMyAtIGh0dHA6Ly93d3cudmlkZW9sYW4ub3JnL3gy\n",
       "NjQuaHRtbCAtIG9wdGlvbnM6IGNhYmFjPTEgcmVmPTMgZGVibG9jaz0xOjA6MCBhbmFseXNlPTB4\n",
       "MzoweDExMyBtZT1oZXggc3VibWU9NyBwc3k9MSBwc3lfcmQ9MS4wMDowLjAwIG1peGVkX3JlZj0x\n",
       "IG1lX3JhbmdlPTE2IGNocm9tYV9tZT0xIHRyZWxsaXM9MSA4eDhkY3Q9MSBjcW09MCBkZWFkem9u\n",
       "ZT0yMSwxMSBmYXN0X3Bza2lwPTEgY2hyb21hX3FwX29mZnNldD0tMiB0aHJlYWRzPTYgbG9va2Fo\n",
       "ZWFkX3RocmVhZHM9MSBzbGljZWRfdGhyZWFkcz0wIG5yPTAgZGVjaW1hdGU9MSBpbnRlcmxhY2Vk\n",
       "PTAgYmx1cmF5X2NvbXBhdD0wIGNvbnN0cmFpbmVkX2ludHJhPTAgYmZyYW1lcz0zIGJfcHlyYW1p\n",
       "ZD0yIGJfYWRhcHQ9MSBiX2JpYXM9MCBkaXJlY3Q9MSB3ZWlnaHRiPTEgb3Blbl9nb3A9MCB3ZWln\n",
       "aHRwPTIga2V5aW50PTI1MCBrZXlpbnRfbWluPTEwIHNjZW5lY3V0PTQwIGludHJhX3JlZnJlc2g9\n",
       "MCByY19sb29rYWhlYWQ9NDAgcmM9Y3JmIG1idHJlZT0xIGNyZj0yMy4wIHFjb21wPTAuNjAgcXBt\n",
       "aW49MCBxcG1heD02OSBxcHN0ZXA9NCBpcF9yYXRpbz0xLjQwIGFxPTE6MS4wMACAAAASdGWIhAA/\n",
       "//73aJ8Cm1pDeoDklcUl20+B/6tncHyP6QMAAAMAAAMAJAL8x7+hB0M0IAAAUInP4LJXTUFRBq1V\n",
       "iRE7nmVugr3qHwjjbq4yqtZnH2dD/PRH4qMF3383q0XiC6K7q89B8NNF+yB4lSsc8GA2Q9EMSZo4\n",
       "6MPVl5rm6Gw5AAHQzZvWygDAutrDbEGX1B2s3zNlsDEnnpobdjBRPceRNWbFfQrMN9UVS+F+yr1f\n",
       "ePvGE/o3qkAQfB2drYkFPrmmMPjE46K+5/ZvgLwC+wwPmBoyu2DRxkLy60SQ/QeibTVsXIhAbjjS\n",
       "hKg4hVAesrnQ9vA8b4t9EUGM0FiebAAMMBv+sak6vQqq03abaVRyKZjYi9TErlNF5gimLFOSkWX6\n",
       "oMoojD58C2N/wedJn9qWmcA6jYA8dUmiUjtMkHV0EPO4cUjsNQJ0d//pip9c7M3xfcGtVA+p7iMx\n",
       "aloNKHWUeThvHXb7M76Zl3E4Br8MpoNNnfcO5F+Q0gc4d1+gyP+6RxNISr7GQFYrXkeAqpHtqf60\n",
       "C5W9/31koZLywuNPWYiSjx5Q8s6aWG2bAWMsYEqjolbujV6mtHq0f0sva26/qv/4k2X424VLy+b5\n",
       "IRgW+nAGPvzOVAgzZ+4b5J4CeG9VE+gXgxbb3pUo4JYfREBSI6IPpfVhbsjXFaL1X6pyRRh5d5lX\n",
       "Ma25AkvqSgnqcqQvSeC60S8KHkePmxqSnNhYk6H3QSFAIUF+ZKad7MKkNKZzxjpt/mF8MA/aBm8+\n",
       "ISKwfhpDUzEBD2uXrJP2WTm5RkWW7x0sxHF1u1DSzlcBssC7LrWaefwZH3TUa8ZeWpm297rlAjhl\n",
       "QSXuZKzFnDQ6sWxRnDjQj/xq2RsK7SoN3rc13BAf3/pB/g+M9jdgb07K0VCIGznE9nlofKjtXcb5\n",
       "jeZFKAx6TIz8RRU+5zJD+eXBjn26wG6+RYbJNVYmmgfFI9SFDVYJ5GGdnfQr+8p9jPxW96KjdRC7\n",
       "tFZaRY1Qpk8QvhKScV3H/NiXepbXITWFF6S5nIuy7uPe9S101vi1lkpXI4OT26K8+j7PJPSFeHyB\n",
       "BEmAAAAd0zpfS/QWl/jthffOACzofnolL/BgxeO5/rh/z7l/kesAH3r0Qq09ZhVjJKpuQuxgUWca\n",
       "+ZIz66USN2rmcmsIKA1oRs1+2qPxUlD9wMb9hxM2AODq9S9NDDO7LLE5K428MHe0oqaB3HWe9T8b\n",
       "7OrVmtIYuR6GuagANo9zYCsdxixDYr175H77uN8uQGW5N9we+J7MXFOocQYmlmLM7mUgNkRGErez\n",
       "wsjX6H8NBLXAvvx7m+XqE5K/dtERKPmjCbsdGKeobbbVGttA6ThMPqEjloH4lmeQeoHXWGTExFiq\n",
       "TaHd8yQgeQHLD8XN+rwMNcHmRD3LDkaUVGdu9+6ZgSNW1e/563tTCh8eEjDD+BLREgIFYREsZrVY\n",
       "C6HuSEXmQflwnEgO3ge4UOTnjPqHfmdPWNbqEBNOpwiEHGx4QDNVzH+igYAme/2T+24107dyMW2N\n",
       "ULgE25mVZNUmhwDP7LGZPK4XlCOMjI0kCbcFeUX0TxguzXN1xubu4sM61qlMm8HoY1eppAiYl+j5\n",
       "6EyiSlMoO3lgwnsdDeX+iNRpeKXlTBG7qO8AlEA/y64xX4GquP2pmI5xUcsUpODYngXWWsQLoIe9\n",
       "cTWGpoeFwG9EVXaov9x5hsDQRmgRV7vFyV3n+Qt9TkYwwV/DiKYCXpI8vxTdAQE1Z6dnQG6AchaX\n",
       "MOlnd+ekoxnj8gcqCqHcQmkj5ljea7hvM9g2RbzEqzSnJUMdrd3famNVrbeoc55VmTSev4OizYPD\n",
       "0RZ8dbyA7IAMidZkXQy6T5QQgAewUSzfuBGR7nfMa3eSBuvKlHiPZTt5D7+75HPrixukI2HpjHR8\n",
       "O5NitsbjgiXZCQauh+0ZLNM7qPwwWhzOpp5USlGI1whAhId2MtGSwfujU+G6zVofaZevBRdwxvM1\n",
       "e6GVu21XZ+/e6h9VMZzpO3o8IyoMLUYoObGvgp8E7W5ZPxKyP4upfxO4qBZDdlXHhn/6OoL086bD\n",
       "nNXurnPtNZ2vb+MZaaNjrpBxTRE4aOyK3klZTeStUq4qhHQ2qPA28tR+syJaOBC3mtoDtk2brm4t\n",
       "1p2jnRfwLSCkrjhHKW1q8wbVXWT7PkJDAApzLqdKK6S3EaXDal5KeBNthra0O4JZHPM1joALl5Qm\n",
       "jC06fzJsj2JcKOCZo/3pHYJwn8xf/havn0+t/CpQjeNdSYZBrkA9eZzE0V2c+ed3LdKud+u8w9cd\n",
       "Kpugxwfrewn7NSrLUuIJze9aLc+1rzSVYZtlo7jyya87Yagjfxpk/2UvbCBf15aoU3lE6hNdbPy7\n",
       "IgGB7OUhdHq6Hxn7yW+E8wdZwPwRbm/S8kIMbek6Hz2NKP151X6KJlqJFEg22CkZnzigQDUlaHwE\n",
       "zbYPIlbZeL64olVOcXQ40kV6qAlvzH/hG9KRAvOTZ6e3gX5ZSNdHlDtMRBKelI+ugkJTeGrqPIdb\n",
       "dkUDv7VKAowD1UMR4Z7k1T40UdYG6VDjJKsNxQFHstaLQMGsNPv7ARub/idpHLxhI/kh+EagutvK\n",
       "tJOf+N0GgufPgEoMlbR0W8yS5DqW5zdX8u5Xf4VZms3oDsbpKFz7CVJbvsyV9pnAA7qQRtUXSOyY\n",
       "KlrrOXf1/jussrMoNRmG2KHC5poZvkeM+pNBzXZy3C4wCTK3QXvFt4X3+B1xmPN0GOUyPLSRopWD\n",
       "N2BnQx1tmyTf8uRVzqhgxxFuinRPZN8LfTPJ3Y8DHTyTv5//e8Oy3lPWeMeezsuyNTdiIRRK0DdE\n",
       "miAr8RxHAADqOyCYFqY8PYDEFVVkPuwlkF8Y1cdJHEkqkC3zfsBYI2Qh3G+yqTQafJIQv/nTMb4x\n",
       "7jXdvWK/mWux1swgrBjLVVFfUW8fpovYaxwAwdFjgJQu54qpVPpi4amxVUOhCrnUSatUWJfa3NM4\n",
       "barw/27o4p2Riz8IJaknT2Fd24Pjrl+Zg9cVjiAvBhNw4D4rMMs07q9ErMq0hzNf7dZAqSA5PyG9\n",
       "0PSOwAFDmXUSq5EAVFhktBNqIo2QxuTwHSjcqlOdbmId4mYBI8qYT5WPoUBBXMGnZqjciTjN4GGT\n",
       "mPdglGKiVfYBZ45/PVEdQOjBCSVAk6MHi9cVij36BNWikpI8tkCHZTwn51uWvtCCVtMBZ5CiFOjZ\n",
       "s1kLgrDNRlPttHCeePfvHScPf2QE0FgAFoPZeLoECeT412iixlePRbIw7yKdef/FmB0xIYI3UyF6\n",
       "uNbw31oIXBt7ZFYcLEvE7nZfl0jPQuBtGRA5+bjfiYBvtgW8S4j/ttO+to2LSyD9mRJ0MPuaqKrI\n",
       "sAlDGspqwiSTaxaMwIdT6pzXZEzCmkfyIdq9opBEsXljJbl9HBjjb81I9XEyYRqFac4FCmL9mnM3\n",
       "JdY5uKRsu/ZnIauj657COHG+j+p2ZZlvkWjuCAqzADmDhq06pIAFDAAJcp3QmZYQ/tv7Jyq/IvSZ\n",
       "y+lSkR8YoWls0zrnGZquMXoOg9SJEmvGEbVth17jhnDL2eosueZD/5PcUrIk/dMsrJOZV5Osby5N\n",
       "0vVtvQNwClBO6dTgqXY5bRyksnkIm+bgPByM1leBbZ9VO9H6hMkHa+AbMlm6gkZQggg9w5W1LzkC\n",
       "GNCBQO/AnrTwbpK58Y8+RF3v8JVtAdZK6kiTNzX8fTO68LIng9L41WocLHmJXfMRQHZUqpmIonWg\n",
       "9xXV1nOoSL3WNW4hEn0snU1aXGuhIx3729JaDLNRRPjQvwF+U0eZrO1WjZs1kLgpYE5jWtBmY67O\n",
       "mkfdJFR8PMzUpFtQCC6C3bbSZTDhwLDCBuKQatqX/AKtku7qtYDqrNH+QUyoPfkzKVUhOhZXtJ2p\n",
       "VKKvP2u/Vul6PalN9XymT+9zV48+fOeFP54jhj1QLg8c11Gi0+jR+4vZyO2zrq1Vl3JXj98sRQqO\n",
       "kx4X4D0LTZhVomsmtlxqaK+i4GxL7jdBiJixYd8GN8z8jugbzYLGEjXTAON1ZSwuA3ja6bgMQuUl\n",
       "ZKWzvXyr0zxlGgvjuRDr4Fw+PcnETRj8ZjA1HVKBsYWVU/8jxtraD7N9isWtUsRRJv8/tBI9BK2X\n",
       "gzg26ZNOpEfntT6vX+YxvRM5dZ2okBjfu63zzmVGjzvFSdqjRAzyqX0KP4q9HG8fCR22uGkffzAQ\n",
       "dq/Nyc4y4k8bqakOAWOnI+CqHFQCKZb+NFR5g1vPVEupICqYxYNVlekLqjxaCT2uS2BWnK+HUCLY\n",
       "4VNtCXkmyik62+mvfwnYWdGOlZkF7J2dIouWRNmzEWtGTJOuVIFSzWN8D1wEYk1bjS840qrS2CvO\n",
       "WeypNNMr6y0WE0+b2h8fcJ0xuzJTqG/be1BjxrzQBgteLk7BfY/QZuZ8I29VJruK2UUT9jEyFeG2\n",
       "aeUm+/ljtpyg9hxSX6lvg2lx4LFlSutieVAP+JPmF858WZM65y9n+PZFCmjSsEafQD2p4fTYQzW6\n",
       "nblzTZMTTgwwJrUSrlDaE5qj/daim/NxqXK2gbXVtgu0iNwp5aQpk1Rz+ntZ03kl6b3R8dCJKqOp\n",
       "T5P7iuGg2SN2zCFJBbrT4b+f7gBfhsrRYBEEjT60k44lr+WAuVMIfjobAbK+XtrVd/JVDKWB2qXK\n",
       "FYFjxNMIDecHJ/oWhmaqtZ9ZXRCqXGJ4Na+NPqqmbfkBXvJoQkXcyXuTeaiZGARUCT9Ot2FU9o5A\n",
       "rOlD/SN4p2vJuvOnvq1BC8yuO/DNNk9E+yFxuxeaYV5HY/aREUGj5609FPD2asguUmZoIF24SqPH\n",
       "WamBgO7xx2AU1HvA1px1ml1RvhUmHUVHaP80DyLnDB4Dgv+UpuphYBmJxGRU8f2VRFJ8G5qHxbu2\n",
       "WkOHRGgsjP2/9IgshmvP67LzgroUk1QuDMzXoDmPaKa+Zu+uSsaZqOA3wuV+N2D97vWNPHMq+bP+\n",
       "LBBpG241SRBMAkWj3KkUmmkE5v+W9oPB7YuohWHNrX/E9QDuOYBbGna0G9xJclx67eQZfxrsdOrY\n",
       "hZcFbBbgK+9VmTv0LOn9Fct96n6/ff22VdYK+4cBC2DEw+8qNCHoZgMjj/ifKP+DQx+Q3AYR2Yl3\n",
       "4J9J+/nt+Vl6d9ao0LWeEYep+XObXSHvESEbDJsHZL7m/E1GyQAlql6WIdwP6JtLbCJafeiCpsch\n",
       "gVIzfYsNbmu4Fif4ZHTgJMjEIAod355NbweA3J3gt7F+d+3yWdImEyx2mGaZ1oVKbqrFPfEGv/w3\n",
       "z3qkGGsTwqjTtRZn2Lob4eRckBITEtaC7kzWhSXthdgTMW7K9R8U6YfJMdp2pvwTSutvkBnf+uAS\n",
       "vz8xvrmzHx2sSc6KAWrUWIdIlC76AT1QyLGBLZZI0iF1+AoknG3dWjrdm/VlQUEjp4om3cBK8NYh\n",
       "pxanCVHonElCHNAZmDLiW9qbuCnqNn1bT4czwwCL8I/7Xw7tA0tv+sMcqZz0lOVVZECLl8JVfHmH\n",
       "DW1HP7HTlsBbGA7OYxaZwLWDUaalWYmYkCGBTthTpCu80GsB1SJADQBNvLYWw+jyXT+M+gj9fknz\n",
       "5v0gM0en2W70RN3sMFM2ISr9ZDEWuLtb3dbCSXRiUf7ZdtJlMzoMA7kEzkzce8cNvlF9veyA3y81\n",
       "0Vuh4xylxWyTmpQZTNJzJFjoBudIqeTFgZVY2GBOKhRMwjVyCYbvvSndozTh7aR3r85zLvptJNMW\n",
       "jagYbGVR+XNJ85Ut5rpsvUpMwaa/9pqi8LANISu/oIR7gVQ2ECbcXCwx82kz16Wb3llEN6AYUeV7\n",
       "tMRrCSX6wh4qfZXms1p9PGQbF3LzV4390z41/9Y4MshL/TBMkZozsKWCzxdmvR4Adr6f13vHK3X6\n",
       "30sag92xBDkSttJqCG94tJtInh7SnhcZTFymY8O/kGzoWv0RWakieyXXVQqSyP+zWsura1uNb/uH\n",
       "q5qXR0GW8S2kvwYUJpyLItfh7yocs4XwpDn+p0Q9cbS40mqHZBhVBCQ2k7ODwjSjYOzm6mTjOsLi\n",
       "tRF5di8cYob9eFl6UyT1kYom6ex3yWXlikelkEGhMhtCUQkhRATXZm5sjS5mFYqVIdT0J9HGYEUt\n",
       "o/xWxjEBa3yEbAdEjt6NUEadigFK1zc9T9eYLc5X1TpCPrkD6ElzgRVpZ0ZgzdTfiVvv1CbpC9JV\n",
       "B2vQvlE7TESDxsUV3ZL3O2jIMbqf/2/0lsI7U22j+E3DM7ajekRE7Tx5kC7atZNKKT+BPahZDFkg\n",
       "0pZtgp0L9Cnqid8uy+Ld5ZrVBeVPKD2+eio+bRMNsAda0dAGo93sY9gAANGBAAACTkGaIWxD//6p\n",
       "lgApQmXoBR9aMpj+8kNs1C4xI0x2BeF0ci3JGFBmvMzvXH1F/HMBRC4qLv5rxYzt3qH+4OrB5Lvd\n",
       "Ya98fEmGV2d/Y5ow9zg682LomVaradyDf3vA2ZeswlQ00d4nluSJE2w4G/Wqm5e5bag9yc4zOiRJ\n",
       "ONT7f6A8+2k1ZaySsO8OCb16ZvngngwiTk08JBRUeiJM9Ydqp5I+kGx8Rvn6dc1G3DUVaj969mtK\n",
       "Hd1+fRGCGFh5czFijsVomHdO2pU2h8lsOLj0+Setk240Q5D8KO446zHQgqW2yQnD8/Cludq6ZutM\n",
       "ZrHIImO4iLEjypl93SAekgPSLvsiwNnP9CLYQK34b0ICWQgJsG1UHdQU+SdZlFo8hdSrsR/AsXJ6\n",
       "lvKV9dJ2LXxaD7LXxZIm7mi3ERXigX4UkTq039nbh/mXeEujQesFYOVccClY7wabZxyuUJck1B3D\n",
       "Qnwn/icE/dELtH8EP+2k6Z1SuTsTJCCcYnb/W6kY4trni0BFTdbF2j0PB5DxWTN7rmBTzAk9LOC+\n",
       "Pt7o0WrQnQ8K8r/F3/wABMyrYtBRUV67N2h7mlFrbVry35ThMNYBtuGp9I0WimdSFKT7nS1ZhN07\n",
       "bA57GDV4p9eKDv3DlX1fwCX98eEHjUVZsU4iaeNmvamYdzznH6YVnaRxU8cAAAMABn65AAADAF4e\n",
       "bh6ZalzVZXqJUMAsKYQDY2qE36KBazP4cRCUfkwod9/iK4nEYnV4fsCRsA3wyW33+z8EjtxAksSB\n",
       "Wkfrx3LE31XwEJJeAAADJEGaQjwhkymEP//+qZYAIj8xNEiVujkTa7dADj3ZXmk0LsTM62oE/f/6\n",
       "HEOrLWiwHP7RNSOnOmg6ATihVzRID+QuS6t1izDKsLOR94Vg01JA3dnmzo3aGZwRILLI7R+u9vRD\n",
       "iIPOg8RNLSqWo3zcPqo3ojB1XEva6y1hGf26vhKHIz19SANC2H2/nWRoJnfwm73xroJBUtyuaeqQ\n",
       "nTuN7UlUbmyj5jOCbqBDmoImXLGH65+4vaUq8eIZht+6CRCzzd7xQCyFSpNGSf2AQGVoHKlF1jzM\n",
       "X+TjF12xvTKrn1rcQnCSOniLhx9XctRX0kCvloSST8iKZnn3h/kTZ72isqFttwn4rCZ1pZaXgeaI\n",
       "+enhIwlVBWJyTOrg20YywBY3BxGmMdFdIeORwBRZBzWP0RYNAScBly2QnfoE7XrAxj+nTDVf7PeO\n",
       "rBtuoNnbHRmla8Vf6dm3Tt788K+JgiKL/WdCNDAl3Znm/qlTSJ0QubBEsqtZ+GLhbHlHzEEFziDL\n",
       "9P8NiG0uHZWTBtffzAjHpsH/Y8IedyzWnFsxJ/uWbKoAKPXEY99fY5V+s2uogCcIjcua2HTpRr/Q\n",
       "gqgC/W6QESlz/PT3yI060Vtq3JMz4Ry/4W64IIo8oZWHME6q/qp2FE3xXEgvjQkIM1V2cq5sTVRE\n",
       "WCez6X0fVK2GcLMbvF6HvGz/5mtEWXzudJbO5hdIZd58xpbMn/5M/kHPOfcetsnfD2ub7LaexXCj\n",
       "rDaAFVEvXLSMevycrbDLASMATz8kXDVfYy6NEGaQumdbBSKvPd2XT9xjNWnTLkya0sgR9vseADIY\n",
       "jxfnoXmXpYFxaZWaoMWG9kt7n5koV/BWn7qQcu5fz5eLAjp5auE7EFMr+6qXaQmTuXK3AQBKhSaO\n",
       "HZenYq+M1tYALbJNLCNkK1WtPvXE7WY2n/0nCIprfvf+d20VpgeDc7iiKy8PuOzgmQ2yGedxFMsa\n",
       "7GrVAMCfGIwNb6EDgW6tRWTYjDHJBd4hLP1rpTtKOs6SDzyCoAX5sO2SYxyH00+PdswpzdcmkBvJ\n",
       "tLMfw3G9womKfygMBHdMvKetVAAh4QAABCxBmmNJ4Q8mUwIf//6plgAAUDqaoBSbsB1KSeXP/Rvi\n",
       "6v86crS1sR+nKuT/FQboy5Bmr6rbTuJRdsYM+0ScgThqQ+Pfqg504TwIccZ4a8b88gVrj4vf6D37\n",
       "tNYOAPJhl/BVJBQoxlkyMVG6nBwwpFRkyQYExQcoCrUF1Nsj034nRBTbQRau+difEh/q6W5cZSHz\n",
       "yTyrTCrLmbiC53hNfwqW/tTX/Drtij87feBctJ3WwQZ51s7lYgdLoLYj69iYeUxA4/2ifrEHJNZt\n",
       "cHf+2prYT/kT3IiF9clRgzcvHnxTxNRdFjCIX5cnryR419X/Qlm6HjmwJ5WqS4rwVabgAlhovXK5\n",
       "/FVnUcaIVnrLjeta2gcqvtGtIn6b8XsV9+sGNclTI0wFGIqPjbenYZvsMG9NUCoxrXNxL5XOmdHO\n",
       "zCmreLhOZmp39cVfT+tdIEjbQbASrdL9fMQOSogbWct5MpuUD4+7daVKIuCGNp3JhubgF6YRBE/Q\n",
       "j/vQwyUuNZJ+eEDrAkrE00EPzrslryt1IRdLh++zgwgclhySVumQZmiEASFYevepRkA0pq+ef4kl\n",
       "2t8g/P9oySFta+xNRDM+KheKom7ZCnJ1icKV1PDTuSzdgYIXfZFe3feuksYR9dmJ0eL2TmkytUtR\n",
       "g2YENkQ7OqDrIVhNF1S8M2iCFVGGdlXVuB9z7K068j/+px6MFv7TecPdYRZZT5kG6i4lW/C2gaEt\n",
       "lWpatHWw9LIDYvzcHes6eWcuu4j2q5usU1e8XWhQzmNnKa//a/NpxrTaliBu5i4ktUuxotfQ6SSj\n",
       "yMni5TetUgGIyS3rBINQNeioBcCTAS61XYRRsmiopL72qexb40GdZWnZy4iAw4HfoeARriCpg07e\n",
       "DlpUluwOCY4mV8bkjlhTtBEh4USthqY9jmoNId6aHZ8EpitbSyKwljWPEpT428yiaTCFaVors11a\n",
       "ch2jSrJtALPHmuP8Uy23Cu4tp098x/p+9yP67EySG4UNZjYRE4gJ38uKQenAH4WaAMNZZIyeQdhq\n",
       "lK7vk1Dwz6MYRf7ziNKNDpWCdyc96BeSKFeb/M9i/Of5O66maaBA6vOBpbNcFi13orysLK3nOakm\n",
       "lz2GV7Co9vLY9c5naK0zWAURadCeD1mqOG2W7pJqFFv2AVHFPsOgrLaKOh+l4x1a5PB9ZWtjEy1i\n",
       "GcmXrMDtrCus/9RfEBhQAgoGe3sXyrL1V/fnokG3r9MbL0pkvDhaDAG3pXjiCM11uLs04zYMdQju\n",
       "SahUnak8r5LeLikoFwd0jHgu/epqIY64CyH+ldBaqrhW5UMVAzuzX8zAmxlhx5FSQqtV6sKMhE0Y\n",
       "4RGHqo8LDUq7BpJ27Z6Brm+2cAmtp2z8/oUm7S3MUPRZnO2p2UXfMbJui6OgAWz5ppsA0C2FK99v\n",
       "ZHZCAACxkPCACPgAAAH1QZqESeEPJlMCCH/+qlUAADGbS/uDdzAA7NFB5iTByVGe+DcVqadO5uaC\n",
       "l58Y48835FzsdxNvCCZ4/Qw8e3mHTl++wx0RJT6PrDXzVfc3uN+LqDLAVTbdUIpdFxnQmuDUpgEd\n",
       "O9JhRvB2L+uxycxyTk9C0Zfn9f/m6ZjUis5QMN/U49xHdy3PzWo0uvnN6oraz8hPyUT6Sg2iGirc\n",
       "A+1ZKQp891WurL6IIho4pTa2pzpSEqpk65vJ7H0k5cC0eP/GFme9dvobHJ+r595zxpL940DUbGVx\n",
       "yNko2AgztQCYM5NMYhq/HhgavAfHcC+nT+oa0yxyGajb9wILPw+5ub8lTVbtl9ZNym3V0T2eMZKC\n",
       "eo6twsRhdfxlW5HrXLrFZNN933ieII48+VUvOFkBz4K6J4PfhkGrMeNrAwzUMMScqtogM9WmT6X5\n",
       "RHyM4gDMvymed/cjC8z5DflK5ChC+BrmlbmwfPsJ6GwBLA8s7FyFkiT/FPU9lGCLDgvbbuZ1tqfd\n",
       "s1ezz1XNKlbbLcKNI+HOQyHH/k0cgTepeSEBqbeq7lOH9H+sSws43N/fUz08YiWoYp79CUvbE6F8\n",
       "1e1oFzidXuSJ5OhP6a2zToVHX1pLCVZ5tsCwBrKrqOSfp5PsKwslska9iRs61EXZT4pXAAADAItf\n",
       "CDuhAAACAkGapUnhDyZTAgh//qpVAABxzwVydu1hmnL9/8kgd4sTQabvwp2OvR7+465WMA3dGLSK\n",
       "trnUxgQjkN2QL3SVzCw90uIQFCeQRR/vMp+Yzr8xkL459j+KMiiU521SgFetTDRv+oBOPO0X7oPN\n",
       "jq3W6SBYLnM4lfpo3yNwxZrBfthyK0EYRWfWpHdhX6ISbgTdRSzFgyD6B8J7M7f3xuPnwuIQHmR5\n",
       "uBFBTROkF7zQrDvTI9fto+kEwV1W0xFZ/wnnkcHUwsYMMhi+D2npL4EkQL3N/8suWEXsk3sjP6rk\n",
       "bQsigvwbfheuEXdnTiZYfwDUb3W24sc3WBFl8hef+MRtC6Ct1eBnaqzm/j+CEDUfwrs+SG0RlnFW\n",
       "sj2XakTNTQma8bS5TFGv+baBeWXnSg4PL3DfvWSj6O3my9I3FTOAu7vdHTUJTwu811+jzBOooePE\n",
       "OMpPtmZZsrhFqv8fZWAxiquCU4D2WtO+isGGhkt+U/n76uLdrx5frNSFTdJTmdv+g6FaRliFLPyb\n",
       "PstOqJbhUIzRtV77CHzteP7dY0wbbAZxdAI9oVuYdzpOqraNUiZso8wbBqGUluOgBiu/SolwPWkn\n",
       "GCPzcFomGdFgI6VNk/lyEB9znAcQhRyHnrZxKfovEtcHUnrU/+vrQuKSh7gADMV1z6E5Za41GHPy\n",
       "Q9xQaHqgW0EAAAKBQZrGSeEPJlMCCH/+qlUAAPr/VzvsgI2CjK/4rTI1EhkAWbTmN9lLJXgm3oN/\n",
       "w9p+aS2mVVgpH0amabGvDkIxyri7GYsznwTh1Hhh7kjcASjL/49Qx2/2Xdr4qf999NmqTeNKFMtq\n",
       "4+fzA8k1K08vmhJIRiOmDz9BLhItdNu1Vq9ooa88to32D8FAwg29i4owfEdhuDm3tqLPWOjUbP51\n",
       "LaDPxR4jRdKQOrLhY+/zREewGPNWRax2rx78G6kYUYTWAUljXgNOmysxezhKq4AgzCkARtrnH/no\n",
       "3z8lDuw2HR5ROav6RU3idtlx4RHgg+/6MYcimIgQaob+faPgIu/wpKx0BptRulYZdDpEPWNivTkj\n",
       "Uh9cc82SvXFdTh6tXIPwZg0YoQ/r3tfZDU3RLA3CJLygHYtwZ8Bn1UvSqozN5DTP5ylSyiEmgTQk\n",
       "fT4UMFa0qSNCLm8z3rHl3v8O1EaZEfW7sEkfUxzbuMP296vqWb2TAeVzdOlL3GIcRI7eAaI+0Gxm\n",
       "pbQzM84JwgCZIMApP658ZYWOXjE45b9fWQIdvfhkm8x7bGpvCFa2TVfJkoI1HYII+jc/iO0/fjGz\n",
       "sfYobhPWY0hQi7VgqcoOqQ7iIGmnbr/wFDidBNC1a7RvqJostmo0LrX3vYo61i+g0UsAY1Uah5BK\n",
       "/XS/lJ2gS218y++USDr0ylNpq20M39qBaqmgaXnAszrGqe+igmZm4GGhKHRN1y0iTmPB2KEn388z\n",
       "ocKMRUVUyV8ZHoyOX5WzSvrg4D63iYBH/lSrxgTSzugwdP3+2JOy/ue4NwJqxvK8BRi6plWi7hFn\n",
       "4BHCc5QuccEYBdrVT+PCDtftp7Vsth2ZYm8AAAHoQZrnSeEPJlMCCP/+tSqAAQhtiSDsCm4VvXmb\n",
       "+BuckPvTJn29nnJ4qQ9MuZkpsHFRcQ7+o6uswNVEIpoa47pJuUxKqL8j3lL1npAKPE8+4M9JjjRU\n",
       "sV8NoIcG3KZk/QpYCCiWdofAS+iLBbzkl7BOFe9K40VDAiiVw82GypQv21Q0B3+YI11LODei1XXU\n",
       "2IJHAbITbbDJck19CmNIP4PBedhG6hnnOFhfYSW23TnLH5JEENedHXIwd4u4huw21vjTx/87IGWM\n",
       "+6tBoz7H8N/x5cjuLC0GPurw39kfi6crG+9tQMeGRgfZCyvYsvA+WZ3OQ4nto5QNGvpCNdRrX2w4\n",
       "IbwvkzGONc2zGgcM6Ykskz3Yp8mCrS1KVI6TbTm+GLJ1MY1nWtX+OMoVfXaNLCj92QlGBxWDJrkF\n",
       "QrLxr0FIuFwJ1tx7ekslVWDKAKK5ubd1jO9lS1MnpNGxDN5qAikq62Q0TTmrhqYKUQn/nfbd5FgP\n",
       "NpDX3bHmXfZNaEjdSDNT9JaE5LPvOtYHWq1cZoR8DV3y2WAlKThpbi8oQtOlogLpikcyPA7j6UEl\n",
       "ehJ90QBW6P+/7jFFnWA+C/FBjF6chvFd9yGbCUa2cZn0NgMj21J8tePESiDPBZbNq9txH0Bf6PNi\n",
       "PGg5YmcAAAU9QZsLSeEPJlMCCP/+tSqAAoXCO34Ks0FC9KyxUbjCk6urVvJrWvmJrYo8WerOTpF8\n",
       "JE977lDL7MW+pEFSowSafVvN5nD2i5zn7flhoCdYo5Mx+awI/xCmBUSBZcUOrbKG9ksORRkAth+r\n",
       "cbxYyF9nFWOnUPrJbJOhl9iVfGGyf2CYZjEPTFCTddtWm9WVPrL8n3AZiykdEgc7CEGF7pgeVrQP\n",
       "Su1Oza5oMPcNBDxabz1Y9/cMNAG7kpseSkZdTuSxO+8PwPkjEfgPSyQRla9FHJ+l2YMKBvtiNU2S\n",
       "iv3Xh6ahzztYPtFTm6TpKUYCQIDBl8p3mPBqmef8H7sKfI3/6HUS3gGGbdWUnBuVFVkpl+bs0Q6Q\n",
       "xAqO6iGJC2MPaQdX9dO2R786xzFUsZjynKuD2zKhR0pjoqSuxrUIQ7zqJu5+1U+ilts6L1vrXo54\n",
       "rEEN6T74mz3BMPoCz1N1l1XdSmec+wM63iN+21t8s4d/O+jglLvUVVXjFLcX4g4BojYUK90hB5Ju\n",
       "xrOgx8RYZpbt5j5qwdGLMTXsbri/2rRYV72gfoasHfeKOCTEXEh4K8A6HlST9JVnYjYJT3XUpRtf\n",
       "YPT13lUogsmQeQHFvCMCYU1asSDi3Nm/988igm3kJPmgTW7cBz9H/TzcknlOcGFmBv9wfDkieUHr\n",
       "SzGVMzdKGDd95vlZdeqZQ0Fiodll/L6ejLlcwP0jjKiozsZMdFtPPnO4Sl1doyaH5l90Jhq0AV8B\n",
       "LuVjoLQybChh9VBjAGL8PQ9U1KjW/N10zStLAE+Jsdnl5ZpD5RQ5JIoVSL2+rdT4Yei4QDbK8Gvi\n",
       "TRnj3NdqZna1DNR20nLXuBwii5y9vUhDf8lwsC6TWJZ5zqFQJZeyRmz3o//5OYIkSF8ZHzW3A/P+\n",
       "Q8Wgr3XtaDr2JG6xr95xFnH6A1/NH3+IpAhM7ax5vNlsybdUsQZKkNBRKdMVBIxtNYlsGA7a0N7p\n",
       "AhYSiQp6ch9L5enFZkhr2nImJgZEk9Don9zUJ95QqkWJ59GJ/4nJ790dlvqCjfGQV8+N+rm7JBwM\n",
       "k29Ul3LLjb++Ah+oKohOHfgyxB320qQezwiT6q7oABpX6+V1AaGuE23FZaYAvAXoamxshovOnr1A\n",
       "u/qByx8JQkdmTsOqcbff0opeQBgNwl9g/LHVaSYD1m67iEDB8ZakjaKw09wf9cV+NVgIcTP1Jnl8\n",
       "xXWE2finaqwMBtcR10XU8GBFhK1fK7l0fhfcmLOIB+3ZVqlqFlfr5xcWybHx2ocWf03ptDX1eORy\n",
       "vuqrY9c95FFDlTH1xbb5lyUds9ozzXyRRHCWmitH9/FMZ+gZOayxkiHNcNDMoze5EQh+k3xi6PZw\n",
       "JY79qPcjwQsainv+xjkfMIuVNH4xbPAC/k1dHAnd2URNCoaJjJJJVfq3DhmSvkF9qZakt6UQgKhx\n",
       "YRGuRTmH0a/0Frq+MD1BiEGZPEzUbP9gAhtoIaf9JEaqxkisqIsEo1oclkOZuMu2CAP+YCcoxxqK\n",
       "tk2AZ3LC9Vy80OVDStQpuuCyS4Z7QhZP04VyJeu2EHSpOqHvLJMPEIsNe1aJf6aUiWA5Cw9FsIIO\n",
       "ng/0MR0D4F9mGTXl8nEHH7ver0CT5DmB3mYo51X+nYeY2ulyfsDLlV47iqeI0k+9ldIecSbxfwN5\n",
       "FwH2SwSdXCWpvuOD1j7Oovy6+00c+YsMoZEYA7t8nNUzh3pyuAqZIYJBwza2GXKSjqtdQodns8zj\n",
       "qNSSSCq1odluPbc7qjaCi6Zd0QwGYsljMMdngCyhkocTBkIYKg/wAAACD0GfKUURPDv/AAsOMH9y\n",
       "s3r3aO11tknAAh+s6o5wPtH9zRPW8B/ddYuAmdCwigdeFYooB2uKJLxmckUKDgspxok83YiT2zC9\n",
       "DKYsn7Il9ZpRud8dvt7ZoFhTlg7ujJL8/bZDv/selwde/C5hYkltSRYJ+NvbHa71PlVU8tbQUzTi\n",
       "zLuHTCDNYvS1pRP/WqWZG1UgFDbhY/itXZPcHHFK3mhoP5bSh1py9qfNlUoTRaud94SubePjMJ33\n",
       "y6fGP7JQsBWIhdSrmSm9mztusNhJ4SIKqixfho6DeG89qxmmkwn0fnVwwDM6WBlIcFFACg4Dy3jt\n",
       "QwBvxFJv5bpPLuJVJfxGdU8XyL/p2bFIEK23zH/L7mfdJOfrzVqpj5WZJuyAz3xHOBSShDEbU2C/\n",
       "igdvyhaOtg2JHxcb+WQ1u8vYfL6g9apik3wGGI6T48F+XkygzjTLjeD3j163GPvpMvg1Io5WmNf8\n",
       "QfF9INNQKmzm8Aw9ZIq2PmA488aDBsLUVlLTN+9dzvHx+CqFb06R9U1pjliNovqFvmucKOTEkYEc\n",
       "YWHfOyzC9LSeJ63YJOFkfEZcLJ1pTaAuZZBT0Y1sJ/V1b/OeVXGu63tDGN5E8Z3QyFPF/zlqQPwd\n",
       "XilrO1Px3A78iNvBgmIZ91Kjd6aAH9AVQNWGZ4WOF74eJ2NF5UcS32N686FX69t6vVLe6A1OuqdH\n",
       "AAAAvwGfSHRDfwAPhp/NfL323EDlk+6YmsK09YACciiFfZ2hynasws4ox0aAWYZa3U9tmntSb6rP\n",
       "GA6W9/EjQhy6CUw/bqF9su+fBXV4BfuHTxYHQ4YgSMGFks+GEqpW0AOOh/C5qz4RZlS6uTcKcqPJ\n",
       "qebh3I3yLzuWgqQs1vFI0+iLOHVsKBkyv6ydOqWUBgji/7HI4wITJoAd/3A7yj4kuYuiQ+503ig1\n",
       "tnedhKFUkrt29fYHhccAZwArrhgLMD5hAAABKgGfSmpDfwAPiUX6ygNS/btqsXjl4AP3zW/eX0zJ\n",
       "Ytyb/Ky+eMa6OhbRjs0YM8cAMo2o43HX+VIrOU6Uj3oc66t19hGStK0kzqVu+E5UTHDOLOInCd/d\n",
       "kj4TlDyQJd8/bKfb6QoUm8wWpUd4hJPRUNPLIvaalYZjjK8NVQwZ5vnQYTaQo9gt2Md6Bdcmr4Fc\n",
       "g+D6sjhTCQQdP44pyOOfUf9oD3Uynmrqluff8cRw6HWPBM135aCOGeGDG+IpRjNz/uYmQxdD8G4y\n",
       "4LHhfzz+frnA6Xw7bqjhIoO0twlEVdBk7Ghz80FjPrzot3aZ7l/4Iy0dxQolHpLIoEdPReVhSf42\n",
       "biL9K/pW1TebX8J1dUT7ZoeMQuC4rezUY+P1ZF8gNIdA0CzIQAUIFbAAAARoQZtPSahBaJlMCCH/\n",
       "/qpVAAVLxN4AOLbZKlQWj6/KbrFdIcw363EaSFw7BiT11RXIuRUY6nJX93pUuEeaDEXJl3x6ktxj\n",
       "mcrLZw8pMf+kkCcgksOKKVruUICNZyy6Lbw+HNASLOeN0XomCep7F6tofAT+IOKVf1NUVcNCJ1yG\n",
       "CtylsnGKM5fXFf+2ef338LMhQy+6G+bMeKe0zLBAkbJdfskq9T53kyb2DKI3aTAe2stevtthA6O+\n",
       "dOTKckN3zuAzgrad1wxfNKAJS8w/NpVcKyGZ74zORVZXzU2HJR1NTQ+5ipIcErBF0njhWr8YZpGp\n",
       "DH92SXSRe5eisxVi3hvq/qk3CaVM9qP2qwuiZA2u4kKhoTJGaKx1zgn0NjdizMxEmbKWJQ1AfHzQ\n",
       "09YVOHq7LGgOqT3N9q+nO4XHAybpb1LOYlKNRPM9vXwQYQGY/eQsnH5IWmf72TIUGH1mbkajN1Oc\n",
       "G+nWvc9qvXx2BpDTGZQ7dm1RYjD+URNRZBD992THPx5LP9vnXDae2fy/CeJOOSs/QzPEPkPyU00H\n",
       "tWPu9G0poYfzg+xTrfF09vg+CAMQSoKyf4VWT4qrZTtYkFAKEENrcm+KhoZ+Q8VbriOHrplVtufp\n",
       "bjGrsdBblAYP5ozuLUfCJyypjk97fNwHPmK1uShzei/fZ4oZORdIpQwNAMeWdTcaqdbNEFvk58wB\n",
       "GRenlrHTclTSbz18WafQbYLo9s8xUzJCbc5SH7MAEKCSxVBx5DqWTJ9seP6ypfQR9xOSHviXTxR7\n",
       "MXjfAqN2EBKNr4HfGlivI/Mw7EBN018RuUtvtOGVyO2O+ERTfuWrUUXg0dqLLx8s7hvFFN27Eu8H\n",
       "efO8Qukorl6jdULgJTCw+G/+3KTFqIrx/q40/dyRbpuc4jDbuLCH+bi+3GTAzQnohUeha9C0ndim\n",
       "nGYaLXRFXpwSdTaQyGEqCrNk0y6zOyylzjv8zB0/CTudAgbT5Gne6pSb1XYGlh0tN79m3lRKNIFu\n",
       "0kpKkK/RvOF9K0wOjdIr3NpCeVsEj2gR1VGaKbm8odxnEAYrCT/IvNm56TSAmKOoaHKvF2C5RAXC\n",
       "IMWuREaglYDusW2ke6B/xuwHj7AjmCtUmkEt3beltcvHzdM/NufEvrNQzzv8FBws+4N6nELDZXZW\n",
       "vhz+TM9Mr1cwx+QQatMxPFRZjvr2E0O3kkm3zPAkywGs4g3HQ0lbxehO16xMnB5UdL9vG+VgJqqO\n",
       "s0FqGcgqmYKqQF/QLPuMlLxfSK1F9WWedSOBonzIQWOBJsiZ+zGH18fVhYVqWYpP06W541+gLIGt\n",
       "kJRM5802iHiuyy+9nz5q9kO05sMtdOlEEy5/SElpH+clKEPkMDYzTylDQ1ZO38bJh2dEoFGsz4Jk\n",
       "AQCxUZYJ7q2DQD57Aq2FulXwGvpFPqRNd98KKjPWmHEM13rGo5yR9LtLRQJXc/oTT4/ONTtCFG9O\n",
       "qGfAKAJXyWZCzh+fDfOEKID704hsZ33/JgCtj098GA34AAACUEGfbUURLDv/AAsrhl74LPbAA2q4\n",
       "8KaMLPbWO3MklHvGHX0s1saOwZ1AmyG00zqf1/DGXYQMqZJwNrvKlwu9ZqQr+9iTv6RBiK6NgpLA\n",
       "yvl6GcXN+HR3N+d7aI4GMCGLZ9VJT5BuFQzmK9T2rJotfWtEBXKZPXr2DRJPBk1VrwhtxfyiGFMV\n",
       "kMhu5kA8iDJyVJ7BsZaA8yujF53pEMtiKQIygAUoHQPoeu/2ssnbToPxBEw0tUm+3kZ83yP048qd\n",
       "rnoi2yiUngOADgYn48TyNU1ls7Ao6n4IuWP8zj/IgfchKOQbPm/c9dyLakMkbFEof4gnI0fM9Bnq\n",
       "8CEl8fEHEg4mTHsYqHTrcvz8Fo4MyPIYZcCFYS0U0qgCD0/4NqdMWCXya/yI3ojlsYAk0LmUsZb4\n",
       "VqaJgqBh2FPpkrpxtrnxUFe330THEABJ7osaTlprQVnqJmDVmdyblL6VGaq16n7aX9y4K4Q3+i7h\n",
       "NsuD+80c3Yy8VVMBVZqQ/pDqyGsTdDVUznP7sR3NSTPVcT/XPUFJlkng2zoiSDeTOk8dKovM02wf\n",
       "YwV8l5/2LiL4e0vzNtZseZPMUbG2j+9R91dsIqms03G6xejCWet81zGpeYKN2MsR/8KljYEq0m9s\n",
       "wVIOeZjlILOgt27kj1/t+ruaC/BpsNSJbV+AYRnTKlf1Z6FQJabJeEWF0ZzaQCHyXa9YvHcV/HpB\n",
       "fLfNOQeLDR5E4vvAaM/73erBN91T+wfZ4tsS9dALK3/+MUWImrmNPunwXJ5pmOQja7rIt1X3OV+o\n",
       "EbEAAAHbAZ+MdEN/AA9iqobWN/zQB0NmjWqSra6eagBNNWzytpBInswG/+sAJLAUdDeewxTTh4AR\n",
       "iFjSdyjA9A3MYbFUz9idglgfR9jjH9Yp2ZGxA8UehdCVhp2UqyRv7I30ZfTDLRlnP9QdYjx2EjMd\n",
       "5xBxGu5qefp7iqyTFGsufcKjupfP6nyz0fxxX88pBjadDvNEdHrQy2QdAOjlcUXOTI0FUqmI2AQH\n",
       "7gtAJPtnCl7lYCoEJa0Pb6EaxHGflUhYZ4iPV4Gd0eu1VML1L15CJfEqBI1wdx8m98ZyiDXVXDs3\n",
       "kGdsoPDZjaPAKopM/lOJYDZ5peXhjzzQd6o/IW8v+r5+o1Vk4690DN+6ajdy1t+A0/u/B+R2cDgU\n",
       "YBZRlkonHkWFzmrbfnG0qbSnNOosUmQhpMLiaKFNNf49JPOPnxSdXJ2s/s1ZZ9ykPi1d4eRnQM+l\n",
       "olfNbTmwUnS+95cnvW0BzuzZZYYtq/VCQO/1GyzQHcNJtEJPW9c/UuwcMGYeINIsSjRwAd+iNBZL\n",
       "U1RYkuifFY/cOWiszH7NA62c0APqF7BCa5w3xYVptTUEN18/AFjxNi2Q/1LMNkeOF+M2nIsfPjag\n",
       "kqFgEwoDLCTUiIiYAMYogCYtu55xVSgpoQAAATYBn45qQ38AD2KqjwXOQAiD3fLgOsrTmkoxoIzv\n",
       "9nR1zGfZDdj1+q2djxPHhzT/og/ZxwkfznPrD7Gtkmsb5WZXvUVYxmtTQZ7tW7r9pEd91DI+QTXJ\n",
       "H3bkyI6A8XQGcAcLYReUF6L1rcDc6SYSc9/Sq3kEsPlGYXyuIFLRpA1UiE3vi+Ryvil8ZRubw4HN\n",
       "Z0Uh54AIxtTmFf47YZftYQgwsycqi8cmq6KakHUmf92BbVQ5a+F9uuXodq2V6pHpSzhKSBH8WJG0\n",
       "zEFn2mg2OkMSgcawoJcAWVaNdrPUjapA2Sanzy8XmPYRjeAGWwu7Kg5W0WN8lVuWlIAduvaJKYHL\n",
       "4pdnOITLSlhIxygiMPkmG3tBPCR4siUpg+WSKIls7JuNl3tBNtH7IA8oiFx6rBiMD9Qq6DAhAAAD\n",
       "IEGbkEmoQWyZTAgj//61KoACpk/SABdKSVF3SBbGBF2q+cxCjkvkD7dZRxuD1I41ZA78Xu+kLCpf\n",
       "KuLvylaqxl/X1rqTbLpOfENDllyaHI7rHhyZW7yrjKtU13HOZ6IRVzVo+qLBC1hMAKqqwrsjzvh1\n",
       "VoERT5GXLFdlUe+Wz2M2w5tAvrMPotsJ3dGf9th57Hmg//RUVaQPD90a4HkBPscWm0t8YOMUajMh\n",
       "Fq1Q9PatJp+Ve8Rj5IJsBLF1MADD3/g5PclhDmZE8SkEd0V/JPqI5FCIZR0W6POYkYnkzUIYv3cE\n",
       "x7yIyRBcWc0b8cVkJhnn/mGoFGdCUBoBZ/ehs1MsvShd4hduooF/b6jTYjhfTT76y5zm0a6kqqe6\n",
       "PsmlkfMZE1/IJhzw5rqSCRhtAMi9wvJwkMtICMHgkDaut2DhZdyDHNW9HWGHl8K+BoKZRZtbWgv/\n",
       "yI6PzezGJN81pisz6BoOk3nV4veu/PJqW3tQewyNsyONgxeZwnerwvrM33Hq3IQNEF8gDObDEkW+\n",
       "MjMLG0+KYnSIC588KqCBod8mER4GBYkdBLlS3b6KS06QBGgvY0g7eHQp3i3UJ4y2Sux7yldB5Cz8\n",
       "oD7Y4Qf/9wzjQC7q9laLF3WDjtkGGnxoYr2AZPCCvKCqannHvsoNILBUuLlYTaI5Q7eRkIXIkk+D\n",
       "9ANfNUy5dKDKIagUkZ7YvXUOBBvLrwkIHpGHWiwyIuDOmaGwPBLmB3BUCq2gWNHq+QD7xSGk28+c\n",
       "/Gf57yLomBL9BRgaNw6KAWVINtWJ8qJHou2SRAjbaesEP6USep+Nw0EoYjWYUclvYfsMA7bT21QK\n",
       "c3ltK036kPIXl+Dtl4eZrSZN9XF30ZTIZXN4JHCahuDi3tC0/0WIkX6+1FsL9n918+gf+oDM8XeY\n",
       "d9hgvcyTSVSXlksuYNZpqgpHCRo73Fdw1gYFxvxs6e2oUK1pf7d6dVbvYVFQLfA+ZcUxirMvC1+R\n",
       "mW7xkUnjE+C4zL83+XiZ+6AMeCgpkMKW+DYl2UAOm4O4SRkrfQXaMweVhdx7lAqw/azRorYeZ4+J\n",
       "gjAgAAAEGEGbtEnhClJlMCCH//6qVQAFSv7K59VEATtSvbdyliEcYDrlRyHWeWIuSXaXZgWfMUSH\n",
       "m3f7IEfc7daF4GqIlrCJt7z970pKuPEPpBv3dbrAqCmRpRYyqIvhqPsRXTZrOPxHz8yuK+JTSLeg\n",
       "Tliw9tlUamSALQNlDMjMJGb4WkYEOThhoRPAZkqHryDeadBaHFYq0Z1uAqYP6B9B7P6uQzoxRUxr\n",
       "Hi8hU1I182O+hjNaJ6kK6A3qZ8jjW5fx9KjQqR9BtGhcTJsvx/iKRktBruhP32F5w+Z561fqyqeM\n",
       "7lYVLeaEQZyE2Gf09cyrk377LaDzbTOPHgaDPBzbyPSqyP7vxv+FAliqZwvUWzsfrpQLzoPCi9yx\n",
       "yyMlbJY3kloLEW+CJOay9XQulT4emlET3VlaBXOft0H8bm1B/J1PTBk3j+3RC0WUG1d8HhkRoEPh\n",
       "tbWzU4MLURzPq4qa4F+X+FcTJBsUISmKZPO7phq02z1sKLucDJ111CzUne2aBHYIjNUKbnyr/Wpt\n",
       "Te2ZBt5wQoierWRes3DQdmJU1eXxcLAjziDjwO7+iJ9TSm+PolXvqOUZ9G7jkYyIcfXaRvkD5nC6\n",
       "KAjbVRu5Z9w1UX/Ll1SDtzIOdCUtjO5yk/QKqWEpHvVR9TdBEeTfcVEbwhOgTtAv/iUhOhre8gh1\n",
       "LZ7b8AIuO4Bde8UTavf4bdCzbK7QWxFB2SV+enHdPnEUnhvl/NqpDNSL45njnAIB4BZ0Qbm837vE\n",
       "J+L9z/fCY45gr9QpbzsHMcXpo1PONsG0hE0PSMkgIQ3x8N2KsuqhaHO2sU7ee0sHGD6BP3ej8Cxh\n",
       "6qpGlQPwR00gXTT5DDfkr9H4IopYMGUG8vL4ctAKeJbFj7QIvholgzHHL0dHsoXaN+PHpSyPeirB\n",
       "I+kn7NfijFVoWVq8nBKflaGL9A5ngIxBD/H3k7TTOOZWwitBIBjAbiDQgJ2wC24EEKYuQy0zfc42\n",
       "UuO07FOmOFaMjO82xJYcnCdiO9DKe/kDsysMG5ABWTR2Ie9RY0cA1hG3Y4baVBcMTF4rGIeO3da1\n",
       "4EIWjMZha3SBjBbbwR3xrZyDWpUjkvxWwXQdqm5piKwUDwzWKH3lQM/rpclCzbt+f7HasBwpImhZ\n",
       "oPyAcxrhb8KfZen93eD6HJvlM/Kp8kL5iu3yvDyOqychhyfkJ4+1l8NDZlZnhAtZCemNLyymtyMk\n",
       "+aRVUfg0+q6QpjKrEBSsPpjUvG8YzvPCmVviwlOpEMmKFsWblONA0Kcrp4ZCZ5Xm86e3OZ06bnbm\n",
       "BAX9otuVo9jJ7JXvXm4znu4ibYB9SwcLN5RcrYoCZUInHXfmgp/I01hg8qYcVSeQaniQaSPmXSMc\n",
       "OynbC5rvCYOxI5w1YEZbfC466/oP0T8rYjhDWEkAAAFhQZ/SRTRMO/8ACw4wh8OsAJprOfbyjYFa\n",
       "ge9SjW43lf1v+/DEF0kmX0u50jt3TxpcALQxblh+zTvdNmGOrtx0q3jjNNHHzs2ieWaxJQgcz0rY\n",
       "Q74adKt01e6+A2Eke2k+KRp2oTWuZ+LQIHEKC5NUYLaTjaHWLAItQEL2u6ufHmDWPx0PrlJdvhSJ\n",
       "pIacsWvf3NxRZTTPpK+4z5y7+hd1LBFT0i6udxxAfuRHBhM4trXEwbawtVHdOA44pxWC/CiIU6VV\n",
       "25Z3GIIq2sitPHIw2gBYggV3BcxYzIim4+W2Unn6jWkNX7IDIsnWeVf2IgOkBl58ck0dfrGfVapO\n",
       "qYcxJbAzafSqWJLyGyE31nQmTkO7Icx0ixWKpfPXH6kpVHv46mtrDxY+0z44We44Q2HauFVQduDp\n",
       "tAI4uxI+3PLZ3rdnn4lPwITdZDPoK2zTasl9Avi6yEkA+2aJSBtIIACqAcsAAAEKAZ/xdEN/AA9i\n",
       "qo+sKAEJB8HDaWLZjzTTe3PilFk+kkBJExDZKLHicH9TU4vkjDRYk9yQ+BREF9M+XTZwHSlZO4ur\n",
       "zCmOl4QP5bKrHpqbHo04lgnpjzgq4caHQo3hfrSZdHWW4Wt5JUXct6nWGIElJY4lYgkMp8dnRcuh\n",
       "XXjXWaScvvSdXgRadcca56684fllY+KCdxNJg7qKUfYUqMml5/9TCAgEVYa7CHa6UbaFqwMUP6RG\n",
       "KEPqS7oah/nLfMVQwZrenwMsxaFbziTGAuFP6vKAj3T0ZE7ocOr7CgwB8MJFXYNa4pQlCwlAK3dt\n",
       "8stsAF/xkSoIJu8odIF+DAyGtxebC5I5omHuG8IAAAC3AZ/zakN/AA9iqo+sKAEIxWjm9JS81R7T\n",
       "M89vWXMcxKVHmJQlTekm2x7uPwn7LgE+r2deiMkE4hmiVx6X4wInZ7ZaT2M0a/XUQvasSuinwZs4\n",
       "z+EMWFWVsMddZmljKBsBYtHgp1NlOzG2A1xDsav66TJlaIwQvaDoid9FcBDXM+TziGrxqaN/xyuF\n",
       "lIh+QP4V1FDaHRFwqaTtHU+rPIZCeMZhGs9QR5a30iFWnAKXG8qCveDbevkkAAABgkGb9UmoQWiZ\n",
       "TAgh//6qVQAK34+AALBbZKoHAsr4Pf/WpoNHItYlJKVSzqO/J/0yyozuZxlKm9l6/5UfzlJN495x\n",
       "eI3f6WuoRfqFWYwGB6F2Xm2oqNUJVpOGM7PIRNuW167gRv/xMfMysqBXwFjZHLjWWg9Ud1E5T4aR\n",
       "dMputYqNPON+TmftvvoNyMkiBhnYGSFbFogwQ5n7AK7EGRhudnm3weEDoIkAIxnEPTv9XofaTN2Z\n",
       "I/8+3kfm9QhzUZqt920lTFmV16s9LYkkH4BExLBH3w3xe1Tlkn8WumNobzUSv8BJ2FdVDHKOKkAR\n",
       "gHFBix6Tb9lnACZzltzwWAxSda+LN+THzImqPSsvBy3hCQtrFU2q/U9sxw185ZUC3bYxg6bNXy2f\n",
       "avmMIMFBqvoB/17n0TZ6B5hl3uNzlOBtptZXndMIXV3uC7DqI24rFPia2Cnv5a320GrGwE8PS9da\n",
       "Nn4HvB2c7xRJnqf3qsKpHaTiJOybE8oJ7LE1t4ib0+vAgXjbAAABmEGaFknhClJlMCCP//61KoAF\n",
       "cp8U9QAOMjTGtQZh3vOQ3cBMwMDvparhnRLxEgNQ8IDFVRBrEpC4zMgH7dS/2CHkgn+5B4yr++CQ\n",
       "Wxee2hfmePIioXh66UiQlBKJXVU6G5i2mW6u+V0WoxXvg0/7G1jhTLbIgQzD6uqjKDHvr6lST6Yc\n",
       "D5mkSIkj05ifQIpVJ7hAh6whBafkpBCzm/isJaghxLfQ9H81ip+kifI0MY0mskufwuFErsTK0w9I\n",
       "NUbfvvKtvQUXZZ4umTlrB+uAgttqBOXxP58uwVw8EygIUhMFcVACPS6Etr7IQBCxYMqzEZU5xUE8\n",
       "GAGuhVaIzoBga9sdXOM8yksAk01RtzwYCrFzmWyrfJGAICr9TRIC+LSX3S0Jfyv+yjrm+o3UfGoi\n",
       "5NUZTYq+Gas4n6hpyqOMUdsdDJkGozDe/Ymtye1rtU77hPPm6dygqNtBpGYAM3b7Caf+WQRIfH+u\n",
       "QyKN6XlBdZatC8Yrpt4H+5nnA9XtQfqbO3mccKMRUuE2sBN0w5RCyzMpN6MC4AAFJAAAAjpBmjpJ\n",
       "4Q6JlMCCP/61KoAFcyR2cQAtoWl29e3V8Tz7dJNo3afYxsm1iP5BIBWDgd6tLaV0P+fo1N7kR/vr\n",
       "SB7KwMygrWy7F8Mch6pJieJdlgFBgrgk8HIp7x2FJE6756Cug28FkKvxAL6Ycm3m0FxmWP+Fviko\n",
       "3ZrMLLH3Z60yzsq8qZKba/tVAZ6spl0SGxhYF0t7lWHMowO2bXJUcjvoljX8HN7IplC+3TSmePEV\n",
       "zIFK+SlxH2kRaGQ2vSgOsOxmc4wxR11UMt+ADMSpu/6Kh+KIVUXc9tds1pruXPuxtcflBEouYf86\n",
       "vQTUmaQxgSdqp8JGWSNyquenxIdxNLHUqF5T6EtKEz3QEDCDXFDZjp+BkD4L4B1+l417YZYxHyYq\n",
       "tzgrlIJDgZ1lIEo30ohSlNYwGlwfBLr11MuCYalLUww9mjSiCTxrV6D9vGgPiq/Se5kKAdqRL5Ba\n",
       "VDn1HwMVIrB+vu+gmrM0wG6oBxds4Q3pbcbKNcXdD0bfX7mwxm7CtAOp2IvFr8D17MTuulPnZEfQ\n",
       "DgTToOv1Y5kMwbQIjvVJTW5h2yEevsuCQD7siB9uAGSYfs2s8PxNEt7dNjPAeEQwV0yZqHwg/BE1\n",
       "bug4NLtzt4t8ro8fTtt1fX0pUHkUAawhrBTylScvhVad7Ftu9f4ZLKoMDYOlYrB+HTeaAIiuH9F1\n",
       "j9ZxyCKlnlfkNKMgMOcLITkdOLxBDAjgv8hXc+AYtJQ2NyYF18DHwt+O24RlBzlcXH8bP+EAAACU\n",
       "QZ5YRRE8O/8ACw4wh8OsAH6gclxKI5WGrdsGabfJXo913e4WDa4I0ejO4uhVI92AO6cQXw25faKe\n",
       "2lLqJEUHRteL8aQF/aIAQYH30Hz+rFV6FhQ1Wp8n5rZMNV1UMiJ3nw8n+pzJdZOUADQ9CsvDfZzq\n",
       "ibzJ0xiwuoDA6ms3q72NsejBpe8OxeEMQAGVBIQCQyPxSQAAAFMBnnd0Q38AHa08wRzZClsgBDki\n",
       "Fl23q0BrHLmcbMpe32Ov1E082cG9sIXq1JX7lUBoDIa5CDXsqlLJVLEo2543Qi4NgiOHvYKjpaRU\n",
       "ANUAiS2jegAAAC0BnnlqQ38AHaUROAfDRwTeEyx8UiNJpcpoTZLk1+hSJ0p0bLG3aEiWFoichsEA\n",
       "AAFcQZp+SahBaJlMCCP//rUqgAVzLFPUACWBeIJsnK8gl476l09ERKV5qo7dEloMTpc4qY1qxcUk\n",
       "4yaxEstVdbdGltSPx2hPU+1wX9Ftsxju9YyRT/2lcph/ScS9xMv8c6M1cG6aQkQrPvz0YA4icCyg\n",
       "seC41SqwxT15694JyVBJ7SVWqiMXZjznWMOJmZG7miRXej/UPUJSJqfFCbbPzHypAmYK1Xi2S5U9\n",
       "39agsKMg02zebKXKByEskDVL9jdvUuK43QzW5yOktRJ3W821/hvYMxHyajLU2phB7CFmk6vMxv+C\n",
       "n0QJWV3lSQ4R75JQWAkik+APt3ors/cbSNW+GuJs1lYz9iTfEPKOq368v4Nd2Zuis8qgbIfSmihl\n",
       "uwwJVhkCBePAibEL9xba+btyFRSGHMpm/wCf1ATQpJewpyeWQ1Vj4rCy+NSBUm4kI9d7QKD339TC\n",
       "ZRneaxum4FEiAAAAOkGenEURLDv/AAsOMH9xYrCFdeKWeT/R5CYH/Z65Liah4BH5pqmvd2sTcj+K\n",
       "HRodPDImYChAChU5JlEAAAAfAZ67dEN/AA+Gni4UUZ0OG27xjmGkLIa1ICnMiR33cQAAACEBnr1q\n",
       "Q38AD4lGYRe/9aRifFZOAp5SN0FM3wHCiGP5wYAAAABgQZqiSahBbJlMCCH//qpVAArh5TL6yysA\n",
       "Lek6gPzV+IpxlVhwzhkik0zjVMU8pg9QhYEZsSAGb67CaLPksQNb/7qWxT9qSMlxMYYp2To7gC5v\n",
       "Vbb+y2241UMgEe3oAAMWAAAAKkGewEUVLDv/AAsrhgqkqwrI0aC9BsZ+WEu/aTde8n26hnqEAANU\n",
       "ASEEvQAAAB8Bnv90Q38AD4aeLhRRnQ5PbkgVWEuNhrUgKcyJHfdwAAAAHwGe4WpDfwAPiUQuJBqt\n",
       "UXJEZaR9GU2hcuAHQzELvj8AAAAqQZrmSahBbJlMCHf//qmWACpnldDAHfgA/A9kUUEnN1WiWvus\n",
       "EcHbwAEvAAAALEGfBEUVLDv/AAsrhkgwUQj/JsUwIetv2/RiQy6F4pepC2Ko9q4AA5IBlgalAAAA\n",
       "IAGfI3RDfwAPhqBgbn6p8UpspWz5vr9dBY00D3RDpOEZAAAAIQGfJWpDfwAPiUXMy6pKjRVgUqR0\n",
       "CyPWseuGgbf8ZPnugQAAABtBmydJqEFsmUwIb//+p4QAJaSxudaBMTQAF3EAAATPbW9vdgAAAGxt\n",
       "dmhkAAAAAAAAAAAAAAAAAAAD6AAAD6AAAQAAAQAAAAAAAAAAAAAAAAEAAAAAAAAAAAAAAAAAAAAB\n",
       "AAAAAAAAAAAAAAAAAABAAAAAAAAAAAAAAAAAAAAAAAAAAAAAAAAAAAAAAAAAAgAAA/l0cmFrAAAA\n",
       "XHRraGQAAAADAAAAAAAAAAAAAAABAAAAAAAAD6AAAAAAAAAAAAAAAAAAAAAAAAEAAAAAAAAAAAAA\n",
       "AAAAAAABAAAAAAAAAAAAAAAAAABAAAAAAfQAAAGQAAAAAAAkZWR0cwAAABxlbHN0AAAAAAAAAAEA\n",
       "AA+gAAAIAAABAAAAAANxbWRpYQAAACBtZGhkAAAAAAAAAAAAAAAAAAAoAAAAoABVxAAAAAAALWhk\n",
       "bHIAAAAAAAAAAHZpZGUAAAAAAAAAAAAAAABWaWRlb0hhbmRsZXIAAAADHG1pbmYAAAAUdm1oZAAA\n",
       "AAEAAAAAAAAAAAAAACRkaW5mAAAAHGRyZWYAAAAAAAAAAQAAAAx1cmwgAAAAAQAAAtxzdGJsAAAA\n",
       "tHN0c2QAAAAAAAAAAQAAAKRhdmMxAAAAAAAAAAEAAAAAAAAAAAAAAAAAAAAAAfQBkABIAAAASAAA\n",
       "AAAAAAABAAAAAAAAAAAAAAAAAAAAAAAAAAAAAAAAAAAAAAAAAAAAGP//AAAAMmF2Y0MBZAAW/+EA\n",
       "GWdkABas2UCAM+fhAAADAAEAAAMAFA8WLZYBAAZo6+PLIsAAAAAcdXVpZGtoQPJfJE/FujmlG88D\n",
       "I/MAAAAAAAAAGHN0dHMAAAAAAAAAAQAAACgAAAQAAAAAFHN0c3MAAAAAAAAAAQAAAAEAAAEQY3R0\n",
       "cwAAAAAAAAAgAAAACAAACAAAAAABAAAUAAAAAAEAAAgAAAAAAQAAAAAAAAABAAAEAAAAAAEAABQA\n",
       "AAAAAQAACAAAAAABAAAAAAAAAAEAAAQAAAAAAQAACAAAAAABAAAUAAAAAAEAAAgAAAAAAQAAAAAA\n",
       "AAABAAAEAAAAAAIAAAgAAAAAAQAAFAAAAAABAAAIAAAAAAEAAAAAAAAAAQAABAAAAAABAAAUAAAA\n",
       "AAEAAAgAAAAAAQAAAAAAAAABAAAEAAAAAAEAABQAAAAAAQAACAAAAAABAAAAAAAAAAEAAAQAAAAA\n",
       "AQAAFAAAAAABAAAIAAAAAAEAAAAAAAAAAQAABAAAAAABAAAIAAAAABxzdHNjAAAAAAAAAAEAAAAB\n",
       "AAAAKAAAAAEAAAC0c3RzegAAAAAAAAAAAAAAKAAAFSgAAAJSAAADKAAABDAAAAH5AAACBgAAAoUA\n",
       "AAHsAAAFQQAAAhMAAADDAAABLgAABGwAAAJUAAAB3wAAAToAAAMkAAAEHAAAAWUAAAEOAAAAuwAA\n",
       "AYYAAAGcAAACPgAAAJgAAABXAAAAMQAAAWAAAAA+AAAAIwAAACUAAABkAAAALgAAACMAAAAjAAAA\n",
       "LgAAADAAAAAkAAAAJQAAAB8AAAAUc3RjbwAAAAAAAAABAAAALAAAAGJ1ZHRhAAAAWm1ldGEAAAAA\n",
       "AAAAIWhkbHIAAAAAAAAAAG1kaXJhcHBsAAAAAAAAAAAAAAAALWlsc3QAAAAlqXRvbwAAAB1kYXRh\n",
       "AAAAAQAAAABMYXZmNTcuNTYuMTAx\n",
       "\">\n",
       "  Your browser does not support the video tag.\n",
       "</video>"
      ],
      "text/plain": [
       "<matplotlib.animation.FuncAnimation at 0x7fa2cbfb8c10>"
      ]
     },
     "execution_count": 12,
     "metadata": {},
     "output_type": "execute_result"
    }
   ],
   "source": [
    "fig = plt.figure(dpi=100, figsize=(5, 4))\n",
    "plt.scatter(x,y)\n",
    "line, = plt.plot(x,lin(a_guess,b_guess,x))\n",
    "plt.close()\n",
    "\n",
    "def animate(i):\n",
    "    line.set_ydata(lin(a_guess,b_guess,x))\n",
    "    for i in range(10): upd()\n",
    "    return line,\n",
    "\n",
    "ani = animation.FuncAnimation(fig, animate, np.arange(0, 40), interval=100)\n",
    "ani"
   ]
  }
 ],
 "metadata": {
  "kernelspec": {
   "display_name": "Python 2",
   "language": "python",
   "name": "python2"
  },
  "language_info": {
   "codemirror_mode": {
    "name": "ipython",
    "version": 2
   },
   "file_extension": ".py",
   "mimetype": "text/x-python",
   "name": "python",
   "nbconvert_exporter": "python",
   "pygments_lexer": "ipython2",
   "version": "2.7.13"
  },
  "nav_menu": {},
  "toc": {
   "navigate_menu": true,
   "number_sections": true,
   "sideBar": true,
   "threshold": 6,
   "toc_cell": true,
   "toc_section_display": "block",
   "toc_window_display": false
  },
  "widgets": {
   "state": {},
   "version": "1.1.2"
  }
 },
 "nbformat": 4,
 "nbformat_minor": 1
}
