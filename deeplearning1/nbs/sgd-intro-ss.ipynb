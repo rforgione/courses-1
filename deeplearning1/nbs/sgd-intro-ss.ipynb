{
 "cells": [
  {
   "cell_type": "code",
   "execution_count": 1,
   "metadata": {
    "collapsed": true
   },
   "outputs": [],
   "source": [
    "%matplotlib inline\n",
    "import math,sys,os,numpy as np\n",
    "from numpy.random import random\n",
    "from matplotlib import pyplot as plt, rcParams, animation, rc\n",
    "from __future__ import print_function, division\n",
    "from ipywidgets import interact, interactive, fixed\n",
    "from ipywidgets.widgets import *\n",
    "rc('animation', html='html5')\n",
    "rcParams['figure.figsize'] = 3, 3\n",
    "%precision 4\n",
    "np.set_printoptions(precision=4, linewidth=100)"
   ]
  },
  {
   "cell_type": "code",
   "execution_count": 2,
   "metadata": {
    "collapsed": true
   },
   "outputs": [],
   "source": [
    "def lin(a, b, x): return a*x + b"
   ]
  },
  {
   "cell_type": "code",
   "execution_count": 3,
   "metadata": {
    "collapsed": true
   },
   "outputs": [],
   "source": [
    "a = 3.\n",
    "b = 8."
   ]
  },
  {
   "cell_type": "code",
   "execution_count": 4,
   "metadata": {
    "collapsed": true
   },
   "outputs": [],
   "source": [
    "n = 30"
   ]
  },
  {
   "cell_type": "code",
   "execution_count": 5,
   "metadata": {
    "collapsed": true
   },
   "outputs": [],
   "source": [
    "x = random(n)\n",
    "y = lin(a, b, x)"
   ]
  },
  {
   "cell_type": "code",
   "execution_count": 6,
   "metadata": {},
   "outputs": [
    {
     "data": {
      "text/plain": [
       "<matplotlib.collections.PathCollection at 0x7f8d84315bd0>"
      ]
     },
     "execution_count": 6,
     "metadata": {},
     "output_type": "execute_result"
    },
    {
     "data": {
      "image/png": "[encoded data removed]",
      "text/plain": [
       "<matplotlib.figure.Figure at 0x7f8daea47150>"
      ]
     },
     "metadata": {},
     "output_type": "display_data"
    }
   ],
   "source": [
    "plt.scatter(x, y)"
   ]
  },
  {
   "cell_type": "code",
   "execution_count": 7,
   "metadata": {
    "collapsed": true
   },
   "outputs": [],
   "source": [
    "def sse(y, y_pred): return ((y - y_pred)**2).sum()"
   ]
  },
  {
   "cell_type": "code",
   "execution_count": 8,
   "metadata": {
    "collapsed": true
   },
   "outputs": [],
   "source": [
    "def loss(y, a, b, x): return sse(y, lin(a, b, x))"
   ]
  },
  {
   "cell_type": "code",
   "execution_count": 9,
   "metadata": {
    "collapsed": true
   },
   "outputs": [],
   "source": [
    "def avg_loss(y, a, b, x): return np.sqrt(loss(y, a, b, x)/n) # RMSE"
   ]
  },
  {
   "cell_type": "code",
   "execution_count": 15,
   "metadata": {
    "collapsed": true
   },
   "outputs": [],
   "source": [
    "a_guess = -1.\n",
    "b_guess = 1."
   ]
  },
  {
   "cell_type": "code",
   "execution_count": 16,
   "metadata": {},
   "outputs": [
    {
     "data": {
      "text/plain": [
       "9.1015"
      ]
     },
     "execution_count": 16,
     "metadata": {},
     "output_type": "execute_result"
    }
   ],
   "source": [
    "avg_loss(y, a_guess, b_guess, x)"
   ]
  },
  {
   "cell_type": "code",
   "execution_count": 17,
   "metadata": {
    "collapsed": true
   },
   "outputs": [],
   "source": [
    "lr = 0.01"
   ]
  },
  {
   "cell_type": "code",
   "execution_count": 18,
   "metadata": {
    "collapsed": true
   },
   "outputs": [],
   "source": [
    "def upd(lr=0.01):\n",
    "    global a_guess, b_guess\n",
    "    y_pred = lin(a_guess, b_guess, x)\n",
    "    dydb = 2*(y_pred - y)\n",
    "    dyda = x*dydb\n",
    "    a_guess -= lr*dyda.mean()\n",
    "    b_guess -= lr*dydb.mean()"
   ]
  },
  {
   "cell_type": "code",
   "execution_count": 19,
   "metadata": {
    "scrolled": true
   },
   "outputs": [
    {
     "data": {
      "text/html": [
       "<video width=\"500\" height=\"400\" controls autoplay loop>\n",
       "  <source type=\"video/mp4\" src=\"data:video/mp4;base64,AAAAHGZ0eXBNNFYgAAACAGlzb21pc28yYXZjMQAAAAhmcmVlAABOd21kYXQAAAKsBgX//6jcRem9\n",
       "5tlIt5Ys2CDZI+7veDI2NCAtIGNvcmUgMTM4IHIyMCA0MGU3MmRhIC0gSC4yNjQvTVBFRy00IEFW\n",
       "QyBjb2RlYyAtIENvcHlsZWZ0IDIwMDMtMjAxMyAtIGh0dHA6Ly93d3cudmlkZW9sYW4ub3JnL3gy\n",
       "NjQuaHRtbCAtIG9wdGlvbnM6IGNhYmFjPTEgcmVmPTMgZGVibG9jaz0xOjA6MCBhbmFseXNlPTB4\n",
       "MzoweDExMyBtZT1oZXggc3VibWU9NyBwc3k9MSBwc3lfcmQ9MS4wMDowLjAwIG1peGVkX3JlZj0x\n",
       "IG1lX3JhbmdlPTE2IGNocm9tYV9tZT0xIHRyZWxsaXM9MSA4eDhkY3Q9MSBjcW09MCBkZWFkem9u\n",
       "ZT0yMSwxMSBmYXN0X3Bza2lwPTEgY2hyb21hX3FwX29mZnNldD0tMiB0aHJlYWRzPTYgbG9va2Fo\n",
       "ZWFkX3RocmVhZHM9MSBzbGljZWRfdGhyZWFkcz0wIG5yPTAgZGVjaW1hdGU9MSBpbnRlcmxhY2Vk\n",
       "PTAgYmx1cmF5X2NvbXBhdD0wIGNvbnN0cmFpbmVkX2ludHJhPTAgYmZyYW1lcz0zIGJfcHlyYW1p\n",
       "ZD0yIGJfYWRhcHQ9MSBiX2JpYXM9MCBkaXJlY3Q9MSB3ZWlnaHRiPTEgb3Blbl9nb3A9MCB3ZWln\n",
       "aHRwPTIga2V5aW50PTI1MCBrZXlpbnRfbWluPTEwIHNjZW5lY3V0PTQwIGludHJhX3JlZnJlc2g9\n",
       "MCByY19sb29rYWhlYWQ9NDAgcmM9Y3JmIG1idHJlZT0xIGNyZj0yMy4wIHFjb21wPTAuNjAgcXBt\n",
       "aW49MCBxcG1heD02OSBxcHN0ZXA9NCBpcF9yYXRpbz0xLjQwIGFxPTE6MS4wMACAAAASS2WIhAA/\n",
       "//73aJ8Cm1pDeoDklcUl20+B/6tncHyP6QMAAAMAAAMAJAL8x7+hB0M0IAAAUInP4LJXTYocbHIZ\n",
       "d2VwwVWvtEd9R871uVoQbgcRuxqSx6Hy1WCn3n/M71wtHVtY0ZqAzjTsfJOXHzSx7I1tP9NC4Zi1\n",
       "DlsVu+WkkOoKV4/YABG0RTP/+KwMWWiaLEYBClrg08FRww+NE0V31LddK+TStCTMR4h7YRcnlnl+\n",
       "aPlG+wK3KkGbZM5szhHnJI1G5l6sYHfAkhFMszBPIpfjoQke7rZc1aMmJzUlNV9YkiJlbD08YRq3\n",
       "h/+NvblV9vvGfrwdx0fU+kI9vP9udetra0ASdUhjx5TEXsMyH44AAuVjbq6jOwZGJr6dM3UOeEZS\n",
       "XFbv2tpnyKvJLUv9zlalCS8HfRcC2RT9/jo6lpnqI/X3AZH8R/ZVsKdvDjwxA6JidQzpQCbb//k2\n",
       "TDojX9SQhKbRPR1e0OMZaN5WN8uE9jxtGaR0VBTZgw6MUgpq/BapROHxSkNLOoKtrRiB+pXymqTK\n",
       "Ans6OlLDnkjhWuTZQvbw6SeO3ntnh//vzsSCup4GKFKtq8/oBwaR7lLjl3mOBOh259A7UK3kcZWc\n",
       "2x1l8TqByxjodJjgzv/FTUgWBsE4+7dQg85AkowIXfZTvowOfN8qaurXAJ3/iC6H85FH2kJEjWX5\n",
       "9vOIl0LPB5s8zkzvs15v9eTyY5XFSejbKOvAushaUzIN4/N+KRadF/S/bN89onpxKWkf2TVKKj/7\n",
       "Il81lqapxNI1dU42sclictaLQlTbx6npGe2dlqgTsWCMUJ5vwfqylC/BUtVlC7+U3or/iTNsbPc/\n",
       "9bAc4zfV/EVq2Jp+50PcY563ydBlCyvOBZtylxllLYRE3OwY3gx8XXlc83YEmi0Aryn7vLIRTlxC\n",
       "vnGk1OFp0EizliNX/eAy9Y8sPMFaptkmmriR6Yey3sF7vbirNUXuiDusGZMhDK0K8r9vRr4zQFza\n",
       "fVwb19NjP/7IZwVUVzSN2ROAYNGRGOisz8iMd+cTc/oa6I9+MgSngh9nm/kjCpgcacqDBrdCcsRo\n",
       "vcQDmAi+z9rsqf7ZDoAf+32pSxZRRxsF58vD/SYuoMtsla4Ulh88LlrujLpupm8cnl+Wf04wfopR\n",
       "q9XYAAJ5xF3rTWuyAjsVvrYix/zgPRRSPylrC/sFjix5cAjzC7D64DFikxFXQMJalqbJm1h88vka\n",
       "4PxbaieY8Hxl1bi4MJN77IQe0+Z+aWKL8WvjBYBfc6xhCaz6ovtetZXT2hnA21YjkEUpbO48aQPo\n",
       "OSOolNsVAM6bZ6GFDdx9DUITWV/eqhsAE+SDGrGEm46vBqyXd9NgAjvRwfuF9CzrngQlUd5eKbo/\n",
       "cozIYZelEW6eJBvlggaFoGTUfMweAJv+N/Qd+Ykh2GaaMNZe6C//i5yPu2aBeW7+rHQG8Dhn+c/D\n",
       "ofP8CgPgw2Z5UwbeLwloTWM5t4KqlHx5Rh+oAhsmpYAW5Bscz2f0SOv0tgfnaLqm2/kvHkCcC6zn\n",
       "GJzLPBqJqYN4kslKyVfIdqJgn/juB9fXP/4Qs/aBRwO9s5O6AAOCBqeEXVCMmyz6rIPU+MkkVyd7\n",
       "u2DcgDwis07T4PuX3ecUUnIM76JhZfCBSKsmDTOFj/jSY6EoMZ6blPQXmyNC53o4pd3hTw2kG7XQ\n",
       "5FQl+iKpc4JCTZgIW6u8GS4GWNa9g5Tio4nODu5IRfxEaOvsUtGyV12aHm2963K4M3kdlcUaooks\n",
       "Zejv3pKKqXRR3qp34nFQcKjrHMiynuj5AmZCPPSRtP+d2243yfi0WmWk67DGAowWHyczDuK9YwH1\n",
       "CvOMU1TsgPWWcEGp/IPPB4uH1xbQr8YXBii0F3a+TnObXR1HFAn1urz7HnE4NWeqRELk+utfnUXF\n",
       "rgwZmREt/Qt0RUWbK0kPVluunT/mBxA+bHuUpcWga8F1ZxEswgRkXGdLdK27N8u9nFX5f/3AEnrO\n",
       "q/sqCtD4LpeB5GT1oept8oG6GjHutF7mS0Zt8Ko+qV0okx2lRQZxUsVbZkgtBD8oU5nMYfzsHF/m\n",
       "PkB5fhk72ZVtJEeaCoh25h5ZtXgF6gS3yv/2ESYssX/KNgCoUO/cgunHR+HOKOOPivLrmczOZI3L\n",
       "0etSoxH/5+phz91yJCFEFPGLURoPInGy9JroJ4FKN0MiDSTh+QZSGOOK7RP/zNY0Kvf1kYqefyHq\n",
       "PBA5I7ENhJ8qxH2TU2FwxD8wpboXIvLfARLSwa5haxCHQdvRYT0ei7C4OhWXdh1G5R3fnmLEv2xZ\n",
       "fXc2BtMKbQawy+ExeTSv2oMqPY6WXVgyAeqIxIEgJ41RXMb+WI/ZOogvu/Dl36AO6OzO/Hfx81/F\n",
       "G4s3Zs473ofBv/zGHz4YqBhjHOqLbRRnFu1jvSdt4vKEKyTIn8aeb/+5NsakFX/66tT+AJDbMxvA\n",
       "uQAAqzBygYVKKXEYDWCoYMw3c19qBd6QoWOQPzs3baxqA4u89ElCRrI2pjaiQumZdUf6QJqrf3ep\n",
       "q5+3q4QJK8IaQbTTpmVSxFXYicYJ5mOVrJhoXJZPOmAoKfZUovha0UcouLfHmdC4WjpxrcBP4DQ8\n",
       "KTTCHrC/tonYjiWtn5kjlH2uMXDS43ZE2ZZaaP0ypi98WOFEqfXssmFBNyYSwlUma0m5S6v3mM7n\n",
       "BvlSz0UqhSg91KB8hWp6f/idvc6xKSUUc2ENJHplnkbfWksYoCdf/nvrQ+imAsRsf6DLNyUp1jeX\n",
       "48MLOuuDQiqDuguqpoWMAanpnvFKecCc/4jC77TtrBxk0k4WnQqu6h+kV8kWzgNis6p9E22Z7jZw\n",
       "mzzNzSSiJtpArQngjmzbMBOxcz+DPshtZh1y3PS5B/pT+YspoEGFZo2b4+DlAjRHLJOb2k3fef3P\n",
       "fuyyZQ4nFo6PZTUohA1+u+biP+5qXrffL1YJDAV+pBHIfAbohO3ME6tU6/5EfuY4o2ynwHmEI/YG\n",
       "FKiUXDMkoVJDaOiTipv6Ls+1bpTu+iZ1OUkcJlLp7nFgmCeic9ErRkcvpBUlkIc8Xxp7DKlc20b6\n",
       "otiKlcJUuC5KlDCLhyFbqSmpqSuSXNXkQw0HAxrLg+7vXbXoMnfBt5uFG4MivK8Js6jk2FCKpmQA\n",
       "ZIxNu4MFP6U/A+kjcPBkvyVAmIyG9JTvIXBaPTRsQIsqFRqoJwFWcpzCOLyYhnjnyWqyqYaTW6mE\n",
       "u0GZc8hWTNalqDVfjl4oKJALHaHTn3BnV0jwBKMLAtCo6EtfD9tE4A2JPhaVEasK/Shv1VYbJs8G\n",
       "guhzPacK1ADv/lVjAWdyih7qqkw1CEXjNtjaA0XuHwphWDGZIoGZiL7ISWuK01QUM3bNPOndzyAP\n",
       "iOqfBOlBLHaYAocztA/p+vvZ7dqAc+izXbok/S5bIw/jPhR7MydxcGmN+mVI3CicTBYPHzunZ+WY\n",
       "5zj3RQeXlhhgGraWkMwAO5eFkRKMtoOeVuJ2dAfAKEFNpvSoLYwNUEBLdgngJmzLD7PVJNdm4Cxl\n",
       "Q7BoesKIsE+bl70BmFNo5B45da+FQGRo9OcmuV9o6mjlIroIogZjfLFAfBKj/mq1jWR/l9J75zGG\n",
       "+q99wvV9g84iMBjQLxy0vJloKyKDNZu+64/5RHDEPzMpzlCVnGeOngrntZ+/zwnE70TKiBZJ4sEc\n",
       "BjK71R5I6+5lOKNRmVkta4gQkdLwO5/Hz+PpndeFkP1tYJCkY0ot75t9WAiyOmlYER3LjYjnbkSP\n",
       "Dl6OqK6lbMJPpZOprzVYa7dh7Ur7gktW6iVssg5J1ikO3ICZoapa9ORQP0EM1+3+wal98g5ctA5e\n",
       "nTORKhj41RdOFkRxFKGrKt4Nj4fy2zKcSznsJB6XUG8QR35IfXKzpNWF5m69HoY7QYoby+B6D2ds\n",
       "JQPac0C8++20qM+N+VM+5u7anBgQBUUMYqZo2VkHxdjBR0pnKnCVfmXcnS1wFCu1XdHK6ElKSIkA\n",
       "EzgXQPYL5N8Gz7ZpEQiDUb2gt9btlGT8MB+7Fpu+TnzKH+YXGwxbHtuiFhytSaRd1YSJar5JYZkq\n",
       "8Feru/Ox/Ktrm6Ro8kYgwuxwaNQm3mMEtz/RHcqoLGEb7WIyqQ2mfaU5n5orTLrmg6UrC+D4pSLS\n",
       "Xs1g9VSH/qZxjDzkKiEE5+vV2j7w2nu1gC8u3CyTqqJ/jgFQnEieFvC89qr8f5TArmm2yuQqlwtF\n",
       "wVEBqVnUtEBmmJRyKQupnI758bq/i7R7l0ren3CmbqBrosy9FUC2uBqettJFmFFPUw4jqZP2Q7Ue\n",
       "6kDtVm64Pze1c2ZNk1xKgcPRch15XdNhKZVGL7EIFyGuK6AgoyFl/DeigA2hF7bh+YAKqrZa7+yE\n",
       "inDQqNM2Imn56vY6Wk28q8AX90aXZl6sOppYL0Q0joNoYv+A0oA7vFmAdu4QgDN/O0yl1exvF4Mi\n",
       "ToHFAlVWH1wThTaaShA0Hk/T5TQZ2T1NU08Xn/q32eEW8/4vQ1uuAVn9zMGb2MTTgeOjqvBk+zfp\n",
       "B4xV/qavfNfZySqmyDJZ4CjQZHk+lmcAL9/JRgICMb2xU1S6YzxsFJHjNh6PTp/L7EARtGy/8JsF\n",
       "LLt3/I9vFozrTFJcIDLQ9FFrDRW38HnaUmQm1Owsv/em06MzCA3nBygBlVP3f/HRLZQDWfjRI1zq\n",
       "FINjobrTNyLg0FjU5dXNiew4j/nN4fspeVoZ5r7wAoJzl+KGvuR1ELYNLSeroi886wmBzW7yQwGq\n",
       "H6JnuUHK50Z+jz/NsXJXFenFE32hzlw4bv+4FdeSp7gc7i699uezjUgGfCX+gnxHEOhGEUvVlz/n\n",
       "MiV2wcUmBJxjdxMheXoUMM74VFlfV4LG0cfREEbetDCpp15yEO81ZUKhj4uDEjs1teVWVYfdsItO\n",
       "XYy6JaWytER1FV2tKnTBXVdObHygQim3N7NjlGXHCH42LN7qNhVCOQpRMDpAZB+JfHAnodT5lRcq\n",
       "mmTSS55N9yUNKvxuw8vGt0kxuSq8IrWLg6HTpCni20XMjI/pRlUYYLoLn+KY7J1uHKag/Rv9h1K2\n",
       "1qjVde3zcLgspbotb+d9l4i5gAZcMP7wbmrqaFcMf9UIKf5WWgfopWIBS5sLIFVvF6jJ9t4kLkz7\n",
       "Bj7tywItYNQVBHZXUzUID3++VCGbezk5C+yTJPlyvoPf9gELsOCqXWQgVq0mDl9WZfaLZb0vKsuI\n",
       "QiJsXDK9iB5oPxBqA7Tr9DwUHVZQJbHjJquWQfoqhDEbD7wMdbD8dI1gQlGTN3g8jDbP0jhQg2jN\n",
       "EWYc0CIvnQEYRKnZ8Z2uNZp3S0ikwiTiOt6679GOONdDICR9e5DzuYRg+/UV8NY6cohGTXP47IG1\n",
       "0j8fv1aY+L21uHoUs32xaY28DwLL/I7+1S/tXHJ01S0pjld2nhcQRnEQgNVoN5J+OK3xqN+wutRC\n",
       "bX0Kqy2vaInKJ9AUd1S4ohdv6RAC7R5J5aQ/efLPg6pf7yJvt1Z5xdj9eJ8UkXSzZIUIZVbRCxK3\n",
       "t+y7xKxoxXZSyAwvH907G42TdSPnn9b7B7JRVjvQotpAkeD9a3yIEHbq1uzk8u34OvDk3vcXWP3Y\n",
       "j0/c1x+sv1+EHrrrOa6nemOLQfiuOhcVmKO20VW4HO99Fi6zhcRbpfD1Vo6IHXvwl4rvb8Qh+3nt\n",
       "aqzx5ojdWHIPMgmN42g/KrD1itgA8H/6meU+cWZFRUQtqmGq1Q5UEGYp3VvQXLO2pus32pZx5F5X\n",
       "kR+5ZnRZj+LVUklwEWhOUQOgT2NVgPshUcrWZm3Lbkoz/RPQK5FkBIjZwS79FE9Ltc6jiy9gnmXu\n",
       "aNDEjIWRLB9vxoRjECCkoDFgMRQBRchB1LqJCUH7XQvb4HutmxphucPWB1cCBbY44HqehWpX5g0D\n",
       "ORe7E54e+hLplimo53heU/NApvUgI7UmjoIQI2WayzuRzm5+cISu5MquN/klfhvatClTgcPqeN7b\n",
       "U1BQFd5ZweEYhuaKbjNAHmAFQawQgTDy7OLsZScq9XUHkvkvxmgFqbk9hYcKJwzuIupogoBO/9mM\n",
       "obqaF96WcTfSZEiL2NENXG1BlX9n7+GNAtWPh/qfx1mAd8cxIfoX5/cYLeJV/B0CJ1PtVLQPaGVH\n",
       "b27CcqVGo7sPazGd3kI4yCHKkVQ3sjZK7XowJN1d8uIdHnkcdRutoU3OIm5CuemzSWWYhOvZOLXp\n",
       "3yogATprF5HYLUAXz4xcLNUoj7NKEcp9jpeJ00sSIjU1WmHbj0EMukg2xYcq+hdOgU9Z5wozn+RP\n",
       "IAABdwAAAjdBmiFsQ//+qZYAKUJl6AUgYeKer0qetU4/mpb5LD58/3TN9G5aU5L/aj92EM6OCAm7\n",
       "sDbiUfPU6EL+qt1kZoKz5jDcZJg7N2ifwrgF2HwBYHEoLi8Neq150dq9JYgw9Rpkj/RKcDYVOOL8\n",
       "G2BuPNkaBV4bhETxPWyYv81mCKUtYU6g6HiHeAtXyNwXn1mgrllJCyv5JSekuJTRs9rNMYPfkTLe\n",
       "TmHWa4xKuQ0nxyHeCb3IHM6B9Gemv+ZVkXoTUnvDxJfMoT4tcBkB8BAduw4tlKcWOQ+fOjLtHOy6\n",
       "L3FfAXlzhUXUr3RTSauOQ7UPv+sBz46hmbi1OIFAe3ByRIfndnWjU1Dx/WFGrz7EwFh9GBn+K04i\n",
       "xtW83tnh+ekM7LauchwWfWAVCWbj448qm9KFMZl6jsWR/FzaRu6dQX5GotS9fDnHFsyff6KrdkQO\n",
       "2tlflJMN14cgN7seiVOvYv16piazNvW+Fyn1J338cKept9Sh3pNQjLzIi0y6HNrXkd+CXOZnmLCg\n",
       "q6yF6p/AUmg/CNgKJ0qXVo6Ygkfkt5iO7vKdGteuUBW4FDiCXi1dW/WNscTwO0akDNqCBI7zeKDS\n",
       "mYgbr4ilVL9tTSBZncQY8R3t4FZrxbu+7ob0BvpZzD4hCWyR2cc3r9mbwEqJztMEFGQlBBLmPokZ\n",
       "CERBxZtt+TWjM9PkpdP2lycMOmeAAABZgAAAC6tUB/cT20qZvN6e7k43fs7p8Kq29WjaznLTBn6A\n",
       "xPjBWGAAAAMRQZpCPCGTKYQ///6plgAAEB5X/gnb4ALquwJO4Z+xUqYVUYZnejW2l4YR5jodUROU\n",
       "aaPG+0uFNz9Nx3XBZnQiGkNHC56pM0jbUdagn+x8PbCVev9OtEYTkLXTPyb0jL6jZxHB2x6Ct6oF\n",
       "iVzet067BZHCb/66UcZM8bzdc16TgsI/AXm2ZIL95PJDGawcnS8REkQvA2xdS/LHgmTYseEqpKip\n",
       "E6+t1lUnq139syw2gnxlu6IVxTXHJs4Dl78lM0mD+ZVqrYXmIdmaYsqs3E2ZF+wzrALOIV9EguSE\n",
       "GgORJqmXk4LRo7pY7yBDc3ooX2xeKQCDorld5FATDzgmq9+KCWl4h1R+VLH02CulKI+BZ/t7q/YN\n",
       "qFW16rrL0iJ0IUGv19cYSlVjieHqSyNlzXdSWRrJeKHKwXOGVSzrmwE2n4B7ejAr4LAaRn0SntdB\n",
       "BUEb48FBXI6pe92W4Vo/77V3QAiXc5QdLmKU2LNjtnVRip9DQtEnfLspzcPoEVH3VSeJyAhk5hBl\n",
       "U8ybolTWAenmcbY+TH3urAo4oAHvvElswYu2p/JCBZtokUqw8zI5h5pslOdH2RfF9xjJYONTQuYZ\n",
       "gP11bdGjblNPPiawtFmeb18JpEH0pmSqIJM5VOxQgOGzmmUPnUj8vyIg6pKQeVC2TmOLHBANrFRU\n",
       "MMhMrcAH8w4M32H2OCQOpCpeRHpooKIcBZz2cU54nPOvgIQQHLSoEh2UZ9Pb3amwOxnctAj8k1P0\n",
       "0wIHSVe7YhUsh5idZlV2L/otN9vqClgEo5/IMZUI53O9L7DKsVBxwJEL5/mtUxqENpP9iZuSYL0k\n",
       "zcGOS/R1Fe1BA7FgCcGs+Ujw0F/3r9bo3rgy1FhhvyDt8Ptl7b4SemmbF+qQHQto1IHh2TpksI+4\n",
       "kaHsyFXlOaoVuN1LcCaqx15v65bav3Sjf1Vcdb1nJ2ycINctrLB7M8s+2Ie9q7yjhIFVEoyXKAjD\n",
       "yN/QhOS4BsHKYzULNcJhSwb7tRCm/ynnjXOOK+o8nvWvuvwzmQMYcA4LQ2B4Ta1ZmWAA8YEAAAQF\n",
       "QZpjSeEPJlMCH//+qZYAAE55X/hHKxABGKBgMvcgX4/jAUkRyKLqEn/C1RtAUTU52YTI2iod9/cg\n",
       "5Eueb6Nvsdb42RI/3ZxlCTzrpWdWooIbqnwuWiaM+bPOHNyGApfroTIWEw89WD9l+tXyVWhpJPHn\n",
       "ddjanjyRYJl/Y+zVg38YwHYQawwFLTom03b+f3INqs4oqGn8xT2o0V/ApCt8gN7nHDTimGStbfgZ\n",
       "9Gvt8Eb2ztmznaHQ7Qi0QTK8CPsvJF1UjrvfRE64EAKqSNUtb+1MVFZP4cuMfGTiskMBv9HG9YqU\n",
       "8nES4WNQeRP0mW3YhreZ4MOgikHNfclxR8ntJXFEDJzJpr7S2EZXFx6IqRDhyuwR0i1AJC2M36SA\n",
       "z/JYbZGz7UylCz8r60DmLjQ8Tyl0dHiw0Au+1180m4ZitwMGJCAhyntG/9De7meRLuDruBI2PKjV\n",
       "gm+Qnx5+FrJZZE0cqJb5SSl+1wObjM7S2bO0zI+BHjzDerpXo5LyhlrtI7uIb8L2RLN3KKFXm6BF\n",
       "c5our9JV7cQCTskhEFR0fTdHVHGxg8gGjXO5JFkcPwuqx/XZFMfDpoBAoKcLRKIHNx+Jk2Vbmm9Y\n",
       "ETxY/VnSO8IVxBvJrOW/n6stHroWZ9lpcFxtHmQZ0d6UqqgK/D+/dkReCYtnCSo2ovlxQ29hu8/F\n",
       "pghwtijL1EP8JamsaYHaHg3K5aOhm7XGrlV83EzZUnG62w/4zPYWmALEUnqSKYGofWJR4bGGs6PP\n",
       "eJwSNJckLKJ8cWyFDcfOCyNM/Yz8uGnGMbCh2SCagjHTUP2rS+FCvpuHuLW2tjYu8yHCvQBH9KlG\n",
       "esKrJ+uMUoZYic74sKAzW814ezEg9YFZaJIKE6az1A5QAPwA9jZW2QjLRZCns6g3+cm8yTqEPAzk\n",
       "YW7+4XKQBDSgICqipoHv7+3mxjGC5iRMW4P71dWX8pW5pUL3VzBzU3P6B/wETQvAmPa7iIPcogjT\n",
       "ZzB4v0gYEgJB7Hy5lRx+zwVzsWgP6EvMfbr0+ENxqc22m2bED/6k567okYwqQSVGuN5rf37bNFjE\n",
       "ZkK3OzEK2LbwtS4Iasgij+7Dv5WLPegN1/5TonBcAFbdNSMOcrLmZ8KakatuvAjtR71/Lm+udS7q\n",
       "ET601nYrwl+imp2b3Sr9ZeZCdWCjKsATJZa3LPHGPZjHV3EqP32UypGp3b1X0jeUmQV5P6qFwQe9\n",
       "ltDkcY9csH4jD/MNAGgWe3Ced2pV7U0ngD8ZjDuWvWOnGxEnrETJauKa+C6zekayJSSAEAbETY0W\n",
       "mtaDcea86z85nqUWpnPMm8xIm2NAFCDCHbFUsbO4JGUcM5FhCRXR41C5zelL1HnLAAXHkAAB0+6Z\n",
       "YAEnAAACt0GahEnhDyZTAgh//qpVAAAxm0v4RzAgAJ1tslOxqYbCf9V+PiZwciZX+I6Ae0LtrAm+\n",
       "CQY+vu7UvAZo/Lm8kTIgYXOM0v6KC9QeTOlPr7YRrVhbqbokwB4bPKFf0grle5W6fMF0gI2E9Juj\n",
       "2xDhJeSSWOZaMUg0ZfHO491OCAwWhRVEjkqPXLB+gureJwZG8ZWAksg2kmG4Q4C52yAnnm39suS3\n",
       "29muH1gMsJ/z8DHEO+dBIKSeRf9FKe0kYCo1XmAMr7lKkEpU9EkNcbz/1IdgJB0LZyr18/98Ea70\n",
       "rZC0qigYi0JWLDRXo8rq8mZh8xylgX5Z7U1PjpCGAH/tXvUARF0ip5xyyCntmAUcGLlTs62DyoNn\n",
       "Dp+D1q0p9k8TRuhF4XgnQqwPWK6jeMW1EIAY07LfDAqfKYq7o/UoEw9sUKRw43UgGOOljK//fuVH\n",
       "/v4T7MFmih2xAhy03k6Ji2EG2lF2ZkWaTTb5PfecFmKYNWRAXAuUa3bVzimczH2o58zLzcu7OA1O\n",
       "0vBZ+jv2R95LsZTcZqDAqbeokCKh5Ew2s/pHlyhAqq2NoFoaRh2sOVkV9Q7goySLhYQAzqsGc0En\n",
       "lRQS47YOKZPv4L3jYneo3e2pLbiDOBrQInUdRo/rirGEv8LPQyxq8KDCvqs4bOy+KX94PgNnnXvv\n",
       "ixY+k/EEx8fkqKT0yIfjfO68VX/jnytxvJa5L/m0+Hn0TT8kDpp/R0Hf3C4YwOiLfh/Ixyw0AHWO\n",
       "ExJR8o6Fzq2isiNm3/GXxgL85nyfPj2wsbFoi6rNupbmf/MiLqirPnirXWEgVsO7Q5levrC3PnCn\n",
       "amEa3oeshG8r2PbqS+6Ae27UFXryiPmuE77pAA+rMfFkrOIiUIPsbj//gc1q9lUX8AHIKQVMWxEA\n",
       "psSen7sjoaOOsoAAAA078INnAAABz0GapUnhDyZTAgh//qpVAAByf6pXej+xMpHe4nGL/wjkPgAu\n",
       "lHXgh3pftdNzNuwnbWGwphDJHafWVRK2akdl7FyZE8CSoDB5P70gfS0IJjN7Urel6bO4MP+XgjTl\n",
       "OhicMlzoTPkyBUhc65HmVdRsflOmjVQLUYQGiDOrWG0b3iGOXe4g39fRbeMMwKXKK0x9ilqAwb1N\n",
       "7/efui1vyC6nzvn9+OFcF5rBEg6NtBa8iDEpcUjD4nYv7jzpeTOu1et/CQEAXnwi1IBgrlukXXiV\n",
       "fS1XC4sLTAwjLuIT/hM9U17Fg8jKq60L/bJmC7uxGEfhSyTSeObzvLXhM1UYJKwD/JcKQmsuQ9oH\n",
       "lFRO4yja+JWG/M1zzN25l5ew+ZI1/sp0owrnoCGa8UGET5cX0THWpTaH6PnSh4teN1V51SSGHskl\n",
       "2LzR1IZuWMp5zAVoM1Hb/sRpuGy2O1SicKfIQu5+z1ReO+O+5H26cz+BciLlfRmZ7DlXnSJawvVS\n",
       "13ImQ/PsGvk3dtW/knr8K3UCVMPFD+8q6DA2nlgdNbEsZ9eVjgHjIzal2wTRIgpnuQo34Ve74nZt\n",
       "wuejt2/PKK44qut8L3af3MMFpNDRwYjwA0tiFJEAAAIJQZrGSeEPJlMCCH/+qlUAAPQfhAAUG85K\n",
       "dVt1MpB/5uwxBagvnCyiZDo2hLcoZ6lQTp7K3HuAzo6yV8835mTQ8np2boaA+/TMpuG863VE0JIt\n",
       "ZfW9CkcbPiTr/CFPHfQpBbDCTm3/jE2S9O6Y4q7QNI1iaEbmhndf/nmBKa9TXBrYwD3X8xORJIMX\n",
       "xyaDbxfruhpI13e0swlb1bixdfuIIgruOgt2VbXsSwsNEplNBMEmWCLxJjOcaW9lxj8VUJO7UM8H\n",
       "rD4wZ7z4mSL8YviLDd7GvqvMOJnuCIHSvkYxxO74s4g/Sn0zLbRv1a0rFeZP5VeIhy9n1aJGQCPz\n",
       "00IIePqaCBPFoXB/ypJ0zKuLw9osHT2AlhV1aSuOZ5FQ7kkM46ipcFkwBWmCuDNRAOT34E0WuEl0\n",
       "BWKDLMsZ9WDqXRinR9Z+ALAAFHtDaFueb4KesTHaRItQet0Zz8F1hQDmqvibTFasaoJ/fx1oois7\n",
       "La+qmChUQ25kOaesv1FOIBPWHoueTQST4AQePnvMVgBgW3M4l+vXzvQ+HV9mhtn7tj6zx0/v88pN\n",
       "EW2dkYhv2cbDw833+nmECB7VCsKLXuad3MNtKo3Z9fehQ9fjb63mQVGQH248noFd1Q2+Z8Qd1FJP\n",
       "riTQ0o4sWMOAhqAaElT5qZ3MkIRvR5hDGUz6YsyYaQNoTqD5SZdMtRkAAAG6QZrnSeEPJlMCCP/+\n",
       "tSqAAIg2x3nXAn1WGv8Z9TeaUweA79X2JvnYkS7lwN7bQonbllHKS2K2oATmcSHIJHqv3mYAmkmm\n",
       "Od+afFe0txoKRyf8zFJu8URgYonZ92ij6WTMZBuSSjBdfQL18FdWj9C7BH9uX2cwbYINIhzr8mwu\n",
       "uNeQFLEB6/3t9G8fpnCAEbj8+XtKQbL1F+YWa5eAvQr72tdMfEXOjQX/rwfw64nbjdg4eb7d4tbX\n",
       "E9fZp9olNlykOiZ3FgXsMzDmERX7RjfGK7w961Ckw4/zZeH3gfkOM2QjJj728j3FYQCHaYpxX5xP\n",
       "bioyoYqZOzqV22a0AVsGUppF0ZTEvS75LgxfpRSLDcn/Fbe3HTts1MHUw0QDAAG3bUE8P9umetOw\n",
       "UFd1NoqZv74skXkyuGdC9djqaRMcIukYWoWpSDTKsNRi0UFMsxSZaodtJwO1IoA05iBATexutIcN\n",
       "r8RiDw0W1w9pgRoRgL5YOmYY6ttA0mWmgEinqms+Co3LAG/pjReWO9StZbCuodpf8IsHGm6xWamI\n",
       "2DCk++RsdRIFeePj5ftUiURz3UGp5nkwJvjlhkpErQAABPZBmwtJ4Q8mUwII//61KoACc8zf3Dqt\n",
       "AAF82++TD9f3G8SPT/tDXI/9efxUg8CfxV+3cdpsXQvKUnmcjweZJaNvVfO/3NTmbw7f5VjUIih4\n",
       "O74DHGf7ZnzBPPToFXRp6K82FxIc2qCOeUMZDpwHBd1JJOtsCkdxaYtUflF9rBqdRLmiRQH/vZj4\n",
       "yQv4+QAJfzM5vU7jk4TnZQFx50Iu1BKcEu46dGSNTa+bnu3qY3lA9ZlWTmhkpvSBO9RXlmWiIcZ+\n",
       "jv+nhYRvQyn955iRWQV7uN08pEiOMqFnREt4hn2SXg+qb5TCyX2tc8YPPSUMo6t2A9FEa/eG14Ye\n",
       "4j7L1VTPvBK5BWHUlwJJod4NyXupgQinkxageiEiYApNiES9yRdz8uIl+hO8bsZUEmr4UHUDRCDA\n",
       "nPvLN+drpRApcY42REb3e/Xfdahx6ixIYBXsxHOV8802wFDP5iavD1gJxPGK4vlqshWQFjE+Je0L\n",
       "LBPL7p+Dblh34W04ErZkjcVeDbqakXc7W181jctDfjrBWe3X/kdogSC2F/yL4K1UVnMk2+UuydfJ\n",
       "0xc3lSdLNni4UDgc0omGw5mI7NsDm3OY6kZxD9eDQzpJaGzSXEnutxRf+jO6rqbKvqpH9UJQCHCZ\n",
       "0+ogYb5TUt8qdgA38LH/hlsluhTbPytPFOuwub0HBY+QlayQLgiopJC+bos/8kBJiFzSq6ZL0INW\n",
       "IlZNmP/swVN6OW0SrjrEQYfx0D0YqbwPGRRIpA8gTxiUgTJmmVPKP8aTB8dc0JOEfklr/tsBozOE\n",
       "85EY6uD4w9dneueLD/XQkPf6nB1OkCubuWjf1JzJaJlHb+cDbG2ZnijUa5g0QxEfC+vDQnidmnJB\n",
       "AIH8I9zDd+s9Kb+fI0tjZMoA8Ys2e1QTTpskFpK0VgzleMLMDLnLWxv+VV7QGqf08RICKJiIYFd7\n",
       "2sefZhE35FipRhgnG9Y6mT/T+NtVUP1nOZg4p5LXbsLKr052SvIMrH7o8dOcMh9Fi3Hrv9ocjN6f\n",
       "hQpCEDjYxt/nIbBhJ3soHm2NutyAD9DPVX8WTABKJOmgVX3o5HIzJbrk0x1S1tano2TiTDxODOXI\n",
       "plvEfSFgvKFDZ+dzoByHJuIz6+rfxkIsbUIRGSZUKJNqhv6YrMVUAI5W/xLXDG9XB7Gt29O1aPfs\n",
       "oqwjJr0e5MkdMvnutOVMJWBJH9kyl5zywz52GNSXpLvJhLyx0SIcidLQaAzGJ0ylcAi9L1ivOb0k\n",
       "mt7kvjqbPT5qtUua0OWPk4DD3/u21zXlt2IWoq1smgNM9GMtdMnKC4wblUV9FOvkNiDYq5TohJFN\n",
       "xh/8aE1oEr48tTOSdH/w5GEahjtFBf9mmybquy3xpu0M9qOilUhLaxy8odTY4nFsOh570V7IVrUB\n",
       "YbPpkLTSxgVIEN43RXt+EZ7IVOe6VkT7F1kVLjVc8q8wFv8Z3Ixc7cg17/Abv0c4PyhTUPbljJFP\n",
       "JHrJEq9ZxUtJrRTQh6Z8o3K531iJZ0lrIl/mHqQW3ydTBMjVnJm4+E2yGvqFKZh2TLbqnrMWASJJ\n",
       "D1uj927vx+tk0Hq6yoEJ+1BlqMU6xAyv/1IzesY8HVvayrU8BJjfQfacSEkW+oiXWInLY8R5/9Ne\n",
       "GD56A+fRDwjI2rOWsdDD57LF53aRDWpa0NP7//NHDNf4FJJ0qh/bX9CZdJ9X7zwG1bF3AAABzEGf\n",
       "KUURPDv/AAmEf16xVoa+HQMIAP6QtR1dN48Yk2DfrjAVQRGvJ5OzU9saPZq4Cf/J3smQ+6c9eBBg\n",
       "AmPdWOvlm3EaieRwCH+HeXAdtyTxQP2o6bcjuJoG3PQis/XzyCx4pV6BEFh67J1sronrd8KgjgKB\n",
       "lfcUxdpBSn793rvYGr8iIRcaRiTca1MMv+jK4m4thPv6pmJwsYcp3dB1rInKaLwQtkuXZzcG8GPW\n",
       "OdStXYFK/n0GDUSrK4R/m7zUQ8HDVkCpa6xBYtL8FYyyfFObkve1jVSMuc7YfDJE3/7SbimVBQSh\n",
       "DJJ37hBMukdtL5h6YV40cAZMqukSfw6JMjp3VGCDSX7XisyR7PQq7wT+nEVLs5xVvF0vwfEMoX0Y\n",
       "041rBV7KZpXh1M0h05vBqiPALnhV8HK9jtTMNgFuQYW+2AlI2zKFy2Ynf65DyJX9QFbOJOnoQ494\n",
       "+bUkPbxkt4h6Vh3JbygqI7iJwqVFgXLuE42CQp8suSHrtARRsz9tCSg0OaWl3nMrYe+FYGAeE4aG\n",
       "DWPDidzNr5QbnPR/jFmykG6Dig7ZPYzrgjfJKX9bMOB8JcgDXTpHn0bYV1AY1PzDGr3CIMr09q2w\n",
       "qYAAAAC3AZ9IdEN/AAZxCZoUgjTdEWobUb9Uk+AD1Xg5PHRKSooY2wfA4yyj+cKuFYfnSobuKIl3\n",
       "H7mEelqZK6NgGeVemyXBIql/yUR6V6tsj6KgtEpkmBwz+ohdBvJP/8lc9sI0d6RAMeEzF7wPaXJf\n",
       "F/zQMuwLU0ZY0WylaidUCMwehN4IH4Bf0sC546Aux98o6o8hEOtCNl3uI+gwLHIzkKvFFpHFe8a9\n",
       "6g6ONxNpiaTiuL3tO+OdAAOnAAABOgGfSmpDfwANgW5DZg9wku0lKgATt7uYwY3liy7AWzegQ352\n",
       "d3+E+LpNilc0uKqgyzHsTNMEWk943+kN21CghiLH+CQMa9T3RhJgkTpeoicYMKeI2Dymm+rIJkKe\n",
       "jONQPzbIECS7pZLshMWDOi8JjLE/v5gHPd2YlFuWMWVKm3TsJQkEYwmkL0vE4xlruAYFLc0WayAR\n",
       "weNMcHEnjjTBRf0664hRGi0iWn5sjxWV8phuRg8FMxRcntKKoeNrkQXo7fabGLyOLDLDQ07llk2j\n",
       "Vecve7kEitNDlF3vCclHA6gxqO/gNQbp+tjTF4vFcQkpK5O1+ib1dQN6CbOx4lXezO/wepET51Xa\n",
       "4/2fwBK2EbfsadavWGFYyP02GebSu7QRcsigZ6HwOP9i5a3LnfgL9XIn1+gMVj9HQAG9AAAEqEGb\n",
       "T0moQWiZTAgh//6qVQAFJwWUla8hgAWurCQkvr6dlYvtiQ4Tw0WQHmBupx3knZ+He6zUt9Dwf2+V\n",
       "+eZ6G8gGvGZX7ymTalvXMAHq7tvABy1+g27j5BEzQxDmP+tvt+/mDkGJvub+0WiKk262GEX217va\n",
       "PhC9v1aMtEWmPrUbU59/97YvN1jWqNix7m8iWLUkbZ2YqK3lfZ7dl3CTagX5+ny+srLuPIfB31o+\n",
       "V56+oXfZXZTfEdMjft+ux6URvsBzrUD7OlD7M11fWB3WgZ2TVKbAvWWiolBQdcXU3g1RSF1xpCtQ\n",
       "VhoISH6zRe6hhx7ZM8QTz81hv4xB3gQ6NYecgFTIkCaYvUrK/QQncvDGE/GCbLOhFW5G0fLzcJqZ\n",
       "rV5GJIGTaje2MWhwpDKtNsH2fDCRG2K+ptStHmb0mOs3o4NDVO2TkWjmdxF5m87DVhLsFLrY4CHv\n",
       "TXWUzghIL2HsG24iy5fBaJSjmNav+9bDka2yvwUhiiVmFmLHeEYwxwPAHc61+Q1cPsbiuWH+YXCw\n",
       "lxdmrARgeDnL1nx6wYjzxNw0D5d6LB0uoAkNJ08gixVN42GiOOtwWVoYDBbvMhGQb33PlA/3IkE+\n",
       "uVh6vC/PNCEImr5hCpj5zn/9Bi20gmW6rn6upgGtSq7cZ17qrVwML70CBacGQKyueDp4WGOVrRN4\n",
       "M8aZ3Zy2bOOL65c8x5iwpWQFojE2JiVKt6W3FN+AE/QnAmpFC84i1r6s/otI/NPqaXwyZVDI+RSP\n",
       "8hzrbAFy3keIcSgbzgFIWcEGd/NRPvWtoaHK8quT7sdrDI8RayV9J8AlweOKya3ueUUxi/dIfxwr\n",
       "/GdWBCygcwjOrNmaYP0LaL6Qe5Vu+UnklSxqetvQkW5QJG92HJnj0BnjPv8ZfrXhFOO33EIo7upe\n",
       "eRtYH3T6L5+JeWL4B+VM5DR16fU3+5hGBgxLDEqK9J+f7PWjNCaPy3kK1mRg7H1clZoAsZsMAhVZ\n",
       "9zPXtFKrnDtAHTnaIF+M+pe74/n5uMsZz+0xrer1vMag5A6Ly+ureI0pYWJol8v+dNfVp7IZ18/0\n",
       "Q3DIv3ClFrdM6zQPQUD3hLgdFrOay+WzdYk7XuZDSw4/idtBc7bgp2XTXudK9xG4lpaOFJa58nZc\n",
       "Z7dEx5gCBbaQbKKEZOphJtifxTUg/Da8TMDOve0amo1iAlvBOJB21Hp2lImnBDurOHikHUab9EhS\n",
       "3VT1/1MuzvZRtE8EixQ7sP/Rt59cBIOJDzLI9WaZ2w1GtGNViqNOBbUZUFkpv+2chch8SABLcSxm\n",
       "e/qK+/9Xspok9RM/BYJSsxnQGHjVFrCbhuWWfDNkM0b77fm/QIerXZ9G3APnxEsGiCzyBuDQAzhP\n",
       "hnNV/ZicA8tbFvBcV1YHPWkF9KWcVVgFULj3sVt3gHWx0d7OpjnSX0F1A9ROqc37LNtpvZA2U9i4\n",
       "nmhZnMQFbgdNhIHDt/hkb2+b2gxhwWw54Q24zbbt2cHpPh2jL2Z41iPJRuAqd8KtrwhIPMBUCFXW\n",
       "smb9Bk6LMeWe7xRcHrxAMztET6zLr8uNARc+3LTSWS6sS9xLd/O60Ye6+zf+sarX4yYAAAJyQZ9t\n",
       "RREsO/8ACgR+gol+oANjYy6yj3gGVmONRjemfdVhJRQ3O0pOfY98oC0RzjliyoNcw63sf/pwAcE8\n",
       "dfOkFlB5Gpzq7M1woWl+fDcaDdXnwe42ptpYt4jTD4Ub5fOJj+aBRPNa3DzoXfG31dSscQigna37\n",
       "tLd8O5zbroES9u9IdVCjQayK1WitxRT0whBxXP9cpO+D5mBCU52MjwBgPUzs1seSIuLRFtpZE87w\n",
       "b7WZA2jbaDYnPkEeahbaIoKq95hfk9EVoAU6OfrQ+i/Clfuq16KwzUSn9iDc7/iWOMYT6WAwg7FU\n",
       "1XqlQrbj8eDVFZo6XaHZsDxBZYTX36leG79oJepKRqjxA995uBuY3K1YR2NquarTg+sc54M7CFg6\n",
       "jVrXQ6pZrsEK6qSev4I8IJs0yx6PSgeFrvsX59xUN5623S0zK2gXpIUDZqSt4UD504oPM4eX1062\n",
       "mwEe3pmrd7Ix4jh1m1szslNRyPbcLtSrUZv5A3+3Tv/niq2SyZHZ4uXfQOQTW2Dco+38sQ0mM7M2\n",
       "b5dBFHziPTQkg0vme41aa3lwr3cWdCS3Mx3iFHcK5RBVf7qwdi9Z0VUhoJtc8i5y4hEhuYNiuQ7Z\n",
       "qf9GR4nCBbQh8LKwFzMQ1BoUfU4tx/z0JJcrj2Af4DariaVnsNdWFem/g8wWKca096sar6rsECMv\n",
       "X9QmBTahDDMhJdac5Dr7wma5yESHzra7lERhOHlq5syoGSn/6mL12DSXVn3TGDGIHvDVFGwrfZku\n",
       "PYqT2za1VcrBGQgMdG8SdILKbH4I+VnswShM6n43wpVjx+CqIZeh3fOQJJ36CPjWfIehkakAAAHU\n",
       "AZ+MdEN/AA4p4oUwHYAawAbVEu/bWQdAQeoWpdt3737Yf1cIHFx7TKfd/9thxfb/Nxz6lLZSTrx6\n",
       "sr0ceEVp4fnMYL/YlSxaXR6JbxqHDerVPvJTKjSrTQ5RcihGDBS+RI+5yqBIhaPpqqWAEBS+2h/y\n",
       "7uqW3GaKt6pOIO6Y4MyCcMWP6pDbXSVUqZcbTq1CurqmAul/tX/dgALwhfSomFR8GKtk/1mXmhLL\n",
       "QWDtZWkQIXfOxK87NEhv55hsY952ZKj6+hnIA4NGVvU483zMqNIG8MrWGZr94rTr5y9jk6fJWeCZ\n",
       "467FlxaHO3wrBfA5JuoyOdPx0KXrPW8BBW1ICO618DYdLCBVmli7gy+PqVjuDF2VNJrJ36SJOjyr\n",
       "6yRari78yMwv+50FqMtuljbpF16Vg89OMdPTAt/Rvv1eq/3R97t13YpBBIgvqonF0xAmBAeCt8eZ\n",
       "ykArJpjXnOJW5rpMMm5Iawl+Ve4ZulMG0OOXpo7NXGLEvfxQzkFfMf25yGl+mFDNoyWanIN6XWWD\n",
       "XdIIbdhz5iu2b/XmZNSKWriIQ/3hhqv6ccSI0yRYp8KH2/ENvMl531SFwa61KEcY6l3+PyvwzT51\n",
       "SUIXwECm6lwF4AWVAAABOwGfjmpDfwAOIp3TGgAIg65KK/9cGiPdYRxNqZK4wrnchRYmoSLD4hi1\n",
       "60GRCMeua1aGXH99hjIHsUL0tQ+n4SOvFxbO1OJ2ZC/Ai9cUXltQI2WtIpyXHDDBf7Q0HEDfUdmW\n",
       "WjGZbAi8nXblrq10EADupM7Ydurq0lzzbLU7jSOY++B3k/qj/d6ogXTRbwrGq3J/2nzctpqjgPdB\n",
       "XrjOpYSyjKvaX0kq8GVN/9rso1HaT4lWTlZ9fbz8oHvo0e79CVL4/AccyDEASfM7262oy8dKMOFR\n",
       "puthXJ7f+TRAn9nEkc7zTXy8OGYvyyJBB3Rti6XPN79eUQZZrBtVB7X0vy2DTMOmGbUpw1fMp0OX\n",
       "Joq/71OrlEkC9LhnzFM6VbP4HBfmPwLDGMayFpAmVvWzrUY+gq+ADhiFg1QB3QAAAyhBm5BJqEFs\n",
       "mUwII//+tSqAApcbLqxACUF2ELt82TKuCklVOD00mRpJRZv96DHPYa3cTG9OGkbwakMquND82KiP\n",
       "8pkto9pfaUbFJAWMZNGuR+zdKHqwmYH9ZyBPPwqn978GDsU3RsAP4QvKTcsH+oktipVLZqNwrGk/\n",
       "J8fSjDPOCbqEA5tBvXAmIVaFomsHD5fuiPE+aS4E9Uwt720H+SELlafWGTQ5nLvUQRZo928LPg8f\n",
       "HqEAIg7YvGFdzzP7X8PJIfUevJ5h8oZxeP2GEbTqYeS/LAiKwjU8RIbvXH7Uku/sk+AGq6qwgh2W\n",
       "rFBRyLfXXw0ogsyrmaxiN6onAcuIdFbHQKcja9ZFQbh4ZOBLYEJyKsoG/V9RctADzc8ujC8Wfuta\n",
       "Z2TOc6s+/Qcg70wr/hkh6cM3jDncO7g4hZj+PcQKhj9pbV+xrHdNfHuLTUX49lmqyPilXkKU2IyX\n",
       "miED8r8cEK9ODU2QVG+8NYbO3eRb8miu23v74Hml+tdbUCdJf3DVzcWPh35CxODGZnOTmd6r1dFT\n",
       "XucIVRGy8/61dy5T8BHifOVO9iUymy/TceWa7HVgN8SsOLSJZEQvA8Xpr5zhYKdwhgim4JMhZyRl\n",
       "gDdJWBFMBsixczyMKr+2Yatq32W9aX16TyOdb15EH6R6ds1U60KdqcknwhQdYaUJASEPkuGif0iM\n",
       "t6bWft1453NW7G8cMLYvQEhpeq79B4P/710N8nCS14DLImKlblBevuvvT36sx9zM4wEZuwNTSGYe\n",
       "gs5FtrdhN75VEus0N8DdWgOycJki/QAVaip6pGNHgybnqKGIoVbuoiSJ9AQWj4reRO7cSwr+d4LB\n",
       "4BIiMl2fUuRzOayTIv8/ondK5G9OBriYx8UVdINIflegwCWppjbEkie/hNd0ROeVacqO+CY7eUUK\n",
       "ltHfHa+W0vRDwYvmDlDENPz+nL6jUqX/fGXUyKxRlK8aSwiOfGNs+J6+SrzbYbq7E00l8BAelyDL\n",
       "N+tXemg6wzfaTDoOVeb92M7dLLRKjPEqiuv8FaYXsEnQmPIcx+58Nkchfy3aY7VXSsRj8k/UdVGx\n",
       "qFmAAAADzEGbtEnhClJlMCCH//6qVQAFJwsok1+8AA2ArnCUQ6DgncS5pRcbvENPq9ndvzw6tlA6\n",
       "3GEZEW5V//5VyqTVZov/TQPoKfLOHpGww34rbtAKNoq/l/9ZalcpTqzAw3lnh8/9YffeDFdcxGcO\n",
       "BE8Mf+2lhR4gdTRN84PRbTwpgf9oet/CfGi19aSke9WuMDYNVxeIwufQqFhdGUuZtTo1iKm+gUAA\n",
       "GofXmDTx66/GuTY6qjQIg2Mc+gid13oho8xHUdctQ4FmA7TWow4Zp0zer1jKfFzb3j1lItsKzXQc\n",
       "gkKXPqe1GeXfiKUz+zzFAoIgcIWXgKss34K/CFzLU3r3mo36F+RNktFbJN16D77rUdWAPy+kTyJh\n",
       "B6SvHcxcrUITrOkn32m3Mw3oUBfckC2veGkXE2EsbAyLt2A6caCmR+/5jnTnL5DgCrPU1Xk85noT\n",
       "rWspkDx6aMai3vQ9ty9zz+Otu1IAnk7H+u6w2ABZKw+Mw97GET3Jyl2bJu5qXc2pSPY567v2OoZQ\n",
       "QmWbJ+a/I/MPJ0hy/Vh/er0fIR2emy0/jK4pIFvbhLyMCb4JFT6B1vOTrQGIxG1oFO2bNV3ZYs/v\n",
       "P+bqks3M1J6DJvqPRYcU8ZQhW5jqNB+0YPprwJFR1KCEROpjjGpDjxOg3MMGiy/mtfP6EErqps7G\n",
       "yOrYI40x8yzXkfBTTDtomkSRelVIqmsLI/l1rsYA7FRV4Gi+LbnJMF1j8iMXndiQTcThIZy0hgvp\n",
       "yg+TpG7zboEiVkfRnP2rKj0dCxyNnbOS9J5WKWPcNqK1H9e5WOhQ9n36I3kVxOTDcuYaMCnyK9ZC\n",
       "SZ5J9BMQS/fOcqaJwE7NG9DriTjwjXhpznTMNNli88wKFi3bQs7Z0+vBBIKzxPPbk1OsKIiDhPI/\n",
       "RMZS5unpmYJncDpZLTG3RKPQH3ujjm213f2hn0eE0QkoXmVrdva/m2l8cMPuogNeAndq6VRPH0rD\n",
       "gsOwIO9iOUiBsf84fJTZnw2uaHRbTCXU0Bj4BGE/jJlUFfxQLsoIMqpatPjd93CiJ64FNlR6fgJF\n",
       "ptnbumggX6f7dWNxCv4IGTAy0677Hed0fj0JO6sosLHnyWuQ8W6YieXZXai5NmS7B6cTDczTJ7yr\n",
       "SFRel4aikhKvbSHLk/IM2sRtlN7+demIgJ+Op2GNKXupH+9/oPGgyUAAm1FOoWUK0KXuNo0ipQm5\n",
       "N4H9ILiM4xc4s4hKNj1kfXumCCh5pcxb8ehRym/5CTHXNScqC2MHK5kw45MRLXXevus4pksZdDjt\n",
       "UpUyWyBOYjGWhAAAAUlBn9JFNEw7/wAJ51sT2PfeJgAfzQpA4duv+HqlJ9StA8ij/8900wjWBPQb\n",
       "U62gdG0u95rPQdBcOgbojGi4QkY980vbRvez3CyCIDQCFwgAOwPYHG9kRoQsk8UJ2mpHnNtjdqaD\n",
       "ha3eL90Uco1JNDM4d4fe++Fc0hIHP30ulH74feMHOi/CXroKhukhwj7kJTVcG+X3UJ9lAS7NwMXL\n",
       "pF9A66NEfgCzGfbLCvl+RHV+zc1YFTRaEuBg6QsdVa18VMaGz6Ozkbf3TE7WDceO1C0Qlof1j80L\n",
       "difYm+fvTK5DhXKyUHD7o1WyJx+JdEOUiB6sDIQT8M9mT/qu2MrR7KI/zlzucQ+6jPEWaTgy/P8S\n",
       "F/7o3T9msias4DcvxMaQ34+le5lrvssDvBiIrE+QNqrORUUCJS8woLjmEa0JSy8dF0oAaOnYQRdN\n",
       "YQAAAQMBn/F0Q38ADflC0VLepcgBCmxUnqjP8U78TwZT0CMtY0hTDu75W9Nvhylb/VF3Dr0FduIu\n",
       "L5Yo7Lt20/wY4dbnLrdCn05XsgOikgnZdXIOKg8FHbqc7Y/8AMBqp/0LTx1yF2tqA9SfHibAWzud\n",
       "DX59o2IFFN/ebRB7fJhf06iLxtgK9haqssRDwi8M24k5AXp9/A1grMJdu8+TWjH+90mjiwBNZqL/\n",
       "ljv2ToOCo2BKbprPgBzcRI1DRQIDQqxSaW5wChKkitJg1bOMvP0j39Jnm2CjuY9+juXn+tT8Zckc\n",
       "p/TZPGZ9aAP9jnLL2J+tp9ZAYJsfvKDkaPXSspXVtACzB7oIAAAAvAGf82pDfwAN+ULLDISABAoi\n",
       "3UUDzZR4C2oYmLIe/61Pql57r3SK8l3GWdMPl68QpV7kJW26Qt9s4IRmC/wl6vOGawMrN0JxBADh\n",
       "4mCmKF+9qrf5CYdyne6nU3fB9gI5hlhi38PsEGeuPzT59nXOjHdqu0Bct4Zi1ItYaZVjx5tKbzBG\n",
       "zbXznAVRLvTOfmI/bXfrIF0d+E5r0I5vWmrARH5QYK6WCP7SnP06OZvGn08VqfrVqblWUCAHqknw\n",
       "AAAB2UGb9UmoQWiZTAgj//61KoACuFDqACJUjdoMXZveZAHXtf7er9ReWaZaRRbyD5oQ21hJfEft\n",
       "5SayCi+DtkUgqv+mS3c57HWhIqTGHxk0j5Z0LFoHnEGVcYpPqPgT95e/T3cjoEDHy++DUkcWu52H\n",
       "fT7VMXC3KkVOVvIc9LXRq02ZMtDfK5MbWVcipwQFIzXgXUyPGva0yEYeOdBRTi7Z5rpRZSH3a6/0\n",
       "aeRRMNNGZ0kdjjdU65hZfTp7aLHO0hNZqXzH9ZBTmqh/tQqBvAFFqHUDi3k6dODxki0Z9kDqBxJo\n",
       "I9lVeGCPba1yfFkCruP+DRsySGDMYJm7Z8NtN395rJb7CWe/ogcgbppuo4W1EXHz22SrZF+J7skM\n",
       "MNfsASn10EC/9UsfAIsMv21ojFX++ZE9qp2Dy/5vdljeesKUST5LOgdda4ivc3+wnbgroxrjjaRq\n",
       "THbEObkuTbOUDE35oAPj5/pl6MeB99MBdyQlpbUSKLH8PltkWYHOmtfKiNqovFnn6qWMmCh3gBma\n",
       "F0f9xCi8BRyMrOYLpDz868bJncnbXIYb7d/gy0ziFk+PoBemasyHKf20soRRhRnRxKiPfNMByw/J\n",
       "ioeJvacw8f35B/PcIon+HxjpfBgtAAADFEGaGUnhClJlMCCP//61KoACuf2JGAEP5FCldtXUHXfK\n",
       "BTgEsuLtaAt6sRtCtm5EOTW1QxCF/H3MxgB6bX+XnPGmi2+by90O2y+kGBJrWdvVlMyw8Bhrbfdr\n",
       "/zZxadS85jMc442uzWY7WRKirsPjS/vXdUoeZa2EWYt7RbCzgI/0jwvGGOu3zqdfxE3w0uTFZKON\n",
       "6s4sjPyGL3FlIpr4HFV8ssFK2rcSej60IDJnYV0bYNyUDH/+GYjp1hAk2RoB/dnXeh93FlvLEJod\n",
       "sVJkYUC1Jp6oM3fWMxjVyC7rZIf7Zp6iQ1fQN6H9c+aV+rzfT5EedxsDVijcybLjRNgI7cKlZkdA\n",
       "J9T4yWvpXOEgoYjD3SUp0m+RH7wx7lC1NrL98cciU9jBXE5cvuPboZMYyq8ZEim8HWfSyvMNk3lz\n",
       "3+YbAIl60XE0VqYOnZTfGZy+jRuH7fUtKroKXDMp8bMhkY51QqlA2DMZWfIIvsJ9xTAVlrH2JwZu\n",
       "ocv1W9GhN4TS3nM+v43SqZDPgk0F8nM2Qyq8RbuldrFv0wjGEk/s2aCHZ8zlM+/nuFu8Vpx5wAQ3\n",
       "KfFFuWDVgRiEe63tuiAXtgT30G17TnCm2VhWctcfwiEKCIe2UYA08Fo87urTZME1HG9zBvYP9NLY\n",
       "MtwwJcBqqo4NZMuXMRNdquLyWXQ3I4v7eHuUhBOa6qJm7U8i9G96vj4TAw5bPOsDwe/qzlJv4Df5\n",
       "vMo+lrLMMBHq7H8kGdDyVemU4OIBv2y7s1mlQ15c9Lsymfv/V8spwjycdDD6nfXEY3yvAcHHmu6s\n",
       "LHQd2u8lUaIY5HQ8wHfRq/opWI+go+cpUHh/7ihSvkH3S+pK7dXtQDKLqr6YJaFqu3RMXvwvv2ZO\n",
       "IC4VSg+wuhyOPKLej/IuMU1iIU4zelTasEgj1rUQicbay8KlfB+nsfRJmiL5LpZf8+TpqSCqEfTZ\n",
       "PQGzlgOjZTNr1xaYqW8hWgUUGvfpCTRb7XrQC3HveE0leihTqNpo3GlJig0loLcOkw2AF24/RLcI\n",
       "Wu56iy5aozd+ATlB2dDWAAAAz0GeN0U0TDv/AAqfmoAJ1VEXum4qgGQ/x+5bRR9e5YdAVwFvEnRk\n",
       "536Gw9bmitCsS5umuj9yWKzWTw5o70inO+u5VUY4wVE0bff2ogogRGEed9bjLlhQBUNnYM0oPRy3\n",
       "VaRVzkU/mGQfSjGKeXcXteQYE7zVLR3VUf/1ybgng5kgMJfhFvY9Uc1/jMriKjhEHorp6QmBaHL0\n",
       "y6JBw31j6VFbohZCJhTaDSDfg51HeZp34Php/pWl/fB9128yR30BDFwOX8qFVigE4jwAdkT5gQAA\n",
       "AE8BnlZ0Q38AD2KqgeS5fhWLS06Ng64AbBP8LXXcuNR22ARS3m4KOBEtlvkuQWM2ZhVAAQFHQXEa\n",
       "IGkxPRr5RrMMjeAQdW9Zv0DH+wAX1DFhAAAAOAGeWGpDfwAPYqqYntMtBQAhQqXEAwpYRdRxSgvs\n",
       "KeN7GzsHSzUk3zXtniAHzIeBXhpl5R6wAC2gAAABrEGaXUmoQWiZTAgj//61KoAFcKhgwAcbgHX6\n",
       "lRjUA1DuVrVu9dUkozSF58uN2W/UHTOLVOdpQ9iPo7+28uH01kfhhKqSrEJ3TOpUxz8ljOf0Vepq\n",
       "rBLqVQDbRBL6LxR2n2nL8sG1qUbRLnFqTGXyDoHh4LzcnFSMSWZZEivIybjggsPAYR3e2vf/QO7X\n",
       "EpTV0bemPP/5buUWA0LvezZKxkFQuXd8yEPwkAaDiehmYrDYVXb3oT0tYrV6SC3Ut45g/drlIQAP\n",
       "5E+6+WyX4C0jdpIW0y+xSmtgDFZT2A2yyh/WSHiNADm3SntzMspfqGBRUCEV0aoXyRLet4tkVsWX\n",
       "+wBpdEWdxBe73JQXqKurlS00N659LVuK10vehcZMjF8SRmNs9d8Hwx9RFJAzcBNw3rGioVHZGpBI\n",
       "a64scDx72d/Vb1qLv18dTRWLSdJYd+x9Q6TgBMPYNV3vwO+WwAwYC4SlPKmU/r8BsMso3l/S3wiK\n",
       "DhRJAgVYTNwcTxYY9jodRjA/ywkPKgM5a6WWBTMzKgwhSJ3e41XhEeDkZD2nq1POsy/d+4zv6bCM\n",
       "fSFhAAAAQkGee0URLDv/AAmEYHwmPceLsLilcFrACajXT6vveCgxtAuj+obQmVs5h39/P8+FeQvt\n",
       "ORABZ7xfwUXFwaoQV2ABZQAAAC0Bnpp0Q38AD2KqeF2GLwQbVdbqWRAXAWC72ucm5WOWHVyxvDsP\n",
       "7iiBwggAMCEAAAAuAZ6cakN/AA9iqjpl9jiCat0lwahAxoYQwy1K5EzD1co6LLm4cT0yEoNrAACP\n",
       "gQAAAL1BmoFJqEFsmUwIIf/+qlUACt+gkAAW9eGds2sPMk9iLl89J1arOhbiOUnk7VrspQ1JIbYg\n",
       "r7raYewJ0kZiKL9duGBTyZzN4VN2GyDJDb7LmhWriHLJIe60tzWwubKFjtT5FJI+GcsWYCNGDNTF\n",
       "qF8i8UttHzOHbYX31AIS/pMOB6MYX6u5K4TickQFxdPWHk8cbUVJDPLAfSalVvByOE9Z5cZWzhD3\n",
       "PEV3cYEed2IqKg5V6HSladEllX5I4UQAAAAoQZ6/RRUsO/8ACpmNP4YVifrzFJ0RWtwTGvyxqEF3\n",
       "1dO5bcoYq0ABqQAAABgBnt50Q38AA8unlNl7xgsDcCKLHHYALuEAAAAWAZ7AakN/AAPMURTra+0H\n",
       "34drwfgD7gAAAEdBmsVJqEFsmUwIf//+qZYAFBXHxs7QATo48PINI8SNy7pFSJ4CQZctNOCdhQHZ\n",
       "6Sb95VHpuCMc+ryX8IQULCRkTxNgaABqQQAAAB9BnuNFFSw7/wAEQpUbuK7sX/GD+M8bD9UA4cgu\n",
       "AAGpAAAAFgGfAnRDfwADy6eU2XXsT44aCgHQBZUAAAAWAZ8EakN/AAPMURTra+0H34drwfgD7wAA\n",
       "ABlBmwdJqEFsmUwUTDf//qeEAARVQe1gABBxAAAAHAGfJmpDfwAGIU15gDTrIrEEnr8OeJ2RdgAA\n",
       "XcEAAATXbW9vdgAAAGxtdmhkAAAAAAAAAAAAAAAAAAAD6AAAD6AAAQAAAQAAAAAAAAAAAAAAAAEA\n",
       "AAAAAAAAAAAAAAAAAAABAAAAAAAAAAAAAAAAAABAAAAAAAAAAAAAAAAAAAAAAAAAAAAAAAAAAAAA\n",
       "AAAAAgAABAF0cmFrAAAAXHRraGQAAAADAAAAAAAAAAAAAAABAAAAAAAAD6AAAAAAAAAAAAAAAAAA\n",
       "AAAAAAEAAAAAAAAAAAAAAAAAAAABAAAAAAAAAAAAAAAAAABAAAAAAfQAAAGQAAAAAAAkZWR0cwAA\n",
       "ABxlbHN0AAAAAAAAAAEAAA+gAAAIAAABAAAAAAN5bWRpYQAAACBtZGhkAAAAAAAAAAAAAAAAAAAo\n",
       "AAAAoABVxAAAAAAALWhkbHIAAAAAAAAAAHZpZGUAAAAAAAAAAAAAAABWaWRlb0hhbmRsZXIAAAAD\n",
       "JG1pbmYAAAAUdm1oZAAAAAEAAAAAAAAAAAAAACRkaW5mAAAAHGRyZWYAAAAAAAAAAQAAAAx1cmwg\n",
       "AAAAAQAAAuRzdGJsAAAAtHN0c2QAAAAAAAAAAQAAAKRhdmMxAAAAAAAAAAEAAAAAAAAAAAAAAAAA\n",
       "AAAAAfQBkABIAAAASAAAAAAAAAABAAAAAAAAAAAAAAAAAAAAAAAAAAAAAAAAAAAAAAAAAAAAGP//\n",
       "AAAAMmF2Y0MBZAAW/+EAGWdkABas2UCAM+fhAAADAAEAAAMAFA8WLZYBAAZo6+PLIsAAAAAcdXVp\n",
       "ZGtoQPJfJE/FujmlG88DI/MAAAAAAAAAGHN0dHMAAAAAAAAAAQAAACgAAAQAAAAAFHN0c3MAAAAA\n",
       "AAAAAQAAAAEAAAEYY3R0cwAAAAAAAAAhAAAACAAACAAAAAABAAAUAAAAAAEAAAgAAAAAAQAAAAAA\n",
       "AAABAAAEAAAAAAEAABQAAAAAAQAACAAAAAABAAAAAAAAAAEAAAQAAAAAAQAACAAAAAABAAAUAAAA\n",
       "AAEAAAgAAAAAAQAAAAAAAAABAAAEAAAAAAEAAAgAAAAAAQAAFAAAAAABAAAIAAAAAAEAAAAAAAAA\n",
       "AQAABAAAAAABAAAUAAAAAAEAAAgAAAAAAQAAAAAAAAABAAAEAAAAAAEAABQAAAAAAQAACAAAAAAB\n",
       "AAAAAAAAAAEAAAQAAAAAAQAAFAAAAAABAAAIAAAAAAEAAAAAAAAAAQAABAAAAAABAAAMAAAAAAEA\n",
       "AAQAAAAAHHN0c2MAAAAAAAAAAQAAAAEAAAAoAAAAAQAAALRzdHN6AAAAAAAAAAAAAAAoAAAU/wAA\n",
       "AjsAAAMVAAAECQAAArsAAAHTAAACDQAAAb4AAAT6AAAB0AAAALsAAAE+AAAErAAAAnYAAAHYAAAB\n",
       "PwAAAywAAAPQAAABTQAAAQcAAADAAAAB3QAAAxgAAADTAAAAUwAAADwAAAGwAAAARgAAADEAAAAy\n",
       "AAAAwQAAACwAAAAcAAAAGgAAAEsAAAAjAAAAGgAAABoAAAAdAAAAIAAAABRzdGNvAAAAAAAAAAEA\n",
       "AAAsAAAAYnVkdGEAAABabWV0YQAAAAAAAAAhaGRscgAAAAAAAAAAbWRpcmFwcGwAAAAAAAAAAAAA\n",
       "AAAtaWxzdAAAACWpdG9vAAAAHWRhdGEAAAABAAAAAExhdmY1Ny41Ni4xMDE=\n",
       "\">\n",
       "  Your browser does not support the video tag.\n",
       "</video>"
      ],
      "text/plain": [
       "<matplotlib.animation.FuncAnimation at 0x7f8d840ea110>"
      ]
     },
     "execution_count": 19,
     "metadata": {},
     "output_type": "execute_result"
    }
   ],
   "source": [
    "fig = plt.figure(dpi=100, figsize=(5,4))\n",
    "plt.scatter(x, y)\n",
    "line, = plt.plot(x, lin(a_guess, b_guess, x))\n",
    "plt.close()\n",
    "\n",
    "def animate(i):\n",
    "    line.set_ydata(lin(a_guess, b_guess, x))\n",
    "    for i in range(10): upd()\n",
    "    return line,\n",
    "\n",
    "ani = animation.FuncAnimation(fig, animate, np.arange(0, 40), interval=100)\n",
    "ani"
   ]
  }
 ],
 "metadata": {
  "kernelspec": {
   "display_name": "Python 2",
   "language": "python",
   "name": "python2"
  },
  "language_info": {
   "codemirror_mode": {
    "name": "ipython",
    "version": 2
   },
   "file_extension": ".py",
   "mimetype": "text/x-python",
   "name": "python",
   "nbconvert_exporter": "python",
   "pygments_lexer": "ipython2",
   "version": "2.7.13"
  }
 },
 "nbformat": 4,
 "nbformat_minor": 2
}
