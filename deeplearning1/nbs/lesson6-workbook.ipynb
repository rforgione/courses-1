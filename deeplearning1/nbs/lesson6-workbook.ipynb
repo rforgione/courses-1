{
 "cells": [
  {
   "cell_type": "code",
   "execution_count": 1,
   "metadata": {
    "ExecuteTime": {
     "end_time": "2017-11-10T05:18:02.570016Z",
     "start_time": "2017-11-10T05:17:57.946163Z"
    }
   },
   "outputs": [
    {
     "name": "stderr",
     "output_type": "stream",
     "text": [
      "WARNING (theano.sandbox.cuda): The cuda backend is deprecated and will be removed in the next release (v0.10).  Please switch to the gpuarray backend. You can get more information about how to switch at this URL:\n",
      " https://github.com/Theano/Theano/wiki/Converting-to-the-new-gpu-back-end%28gpuarray%29\n",
      "\n",
      "Using gpu device 0: Tesla K80 (CNMeM is enabled with initial size: 90.0% of memory, cuDNN 5103)\n",
      "WARNING (theano.sandbox.cuda): The cuda backend is deprecated and will be removed in the next release (v0.10).  Please switch to the gpuarray backend. You can get more information about how to switch at this URL:\n",
      " https://github.com/Theano/Theano/wiki/Converting-to-the-new-gpu-back-end%28gpuarray%29\n",
      "\n",
      "WARNING (theano.sandbox.cuda): Ignoring call to use(1), GPU number 0 is already in use.\n"
     ]
    }
   ],
   "source": [
    "from theano.sandbox import cuda\n",
    "cuda.use('gpu1')\n",
    "three_char = False\n",
    "eight_char = False\n",
    "sequence_rnn = False \n",
    "first_rnn = False\n",
    "stateful_model = False\n",
    "theano_rnn = True"
   ]
  },
  {
   "cell_type": "code",
   "execution_count": 2,
   "metadata": {
    "ExecuteTime": {
     "end_time": "2017-11-10T05:18:03.388321Z",
     "start_time": "2017-11-10T05:18:02.571714Z"
    }
   },
   "outputs": [
    {
     "name": "stderr",
     "output_type": "stream",
     "text": [
      "Using Theano backend.\n"
     ]
    }
   ],
   "source": [
    "%matplotlib inline\n",
    "import utils; reload(utils)\n",
    "from utils import *\n",
    "from __future__ import division, print_function"
   ]
  },
  {
   "cell_type": "code",
   "execution_count": 3,
   "metadata": {
    "ExecuteTime": {
     "end_time": "2017-11-10T05:18:03.395221Z",
     "start_time": "2017-11-10T05:18:03.390176Z"
    }
   },
   "outputs": [
    {
     "name": "stdout",
     "output_type": "stream",
     "text": [
      "Corpus length: 600901\n"
     ]
    }
   ],
   "source": [
    "path = get_file('nietzche.txt', 'https://s3.amazonaws.com/text-datasets/nietzsche.txt')\n",
    "text = open(path).read()\n",
    "print(\"Corpus length: %s\" % len(text))"
   ]
  },
  {
   "cell_type": "code",
   "execution_count": 4,
   "metadata": {
    "ExecuteTime": {
     "end_time": "2017-11-10T05:18:03.421871Z",
     "start_time": "2017-11-10T05:18:03.396828Z"
    },
    "collapsed": true
   },
   "outputs": [],
   "source": [
    "chars = sorted(list(set(text)))\n",
    "vocab_size = len(chars) + 1\n",
    "chars.insert(0, \"\\0\")"
   ]
  },
  {
   "cell_type": "code",
   "execution_count": 5,
   "metadata": {
    "ExecuteTime": {
     "end_time": "2017-11-10T05:18:03.427505Z",
     "start_time": "2017-11-10T05:18:03.423505Z"
    }
   },
   "outputs": [
    {
     "name": "stdout",
     "output_type": "stream",
     "text": [
      "Total chars:  86\n"
     ]
    }
   ],
   "source": [
    "print(\"Total chars: \", vocab_size)"
   ]
  },
  {
   "cell_type": "code",
   "execution_count": 6,
   "metadata": {
    "ExecuteTime": {
     "end_time": "2017-11-10T05:18:03.435220Z",
     "start_time": "2017-11-10T05:18:03.429045Z"
    }
   },
   "outputs": [
    {
     "data": {
      "text/plain": [
       "'\\n !\"\\'(),-.0123456789:;=?ABCDEFGHIJKLMNOPQRSTUVWXYZ[]_abcdefghijklmnopqrstuvwxyz'"
      ]
     },
     "execution_count": 6,
     "metadata": {},
     "output_type": "execute_result"
    }
   ],
   "source": [
    "''.join(chars[1:-6])"
   ]
  },
  {
   "cell_type": "code",
   "execution_count": 7,
   "metadata": {
    "ExecuteTime": {
     "end_time": "2017-11-10T05:18:03.440886Z",
     "start_time": "2017-11-10T05:18:03.437118Z"
    },
    "collapsed": true
   },
   "outputs": [],
   "source": [
    "char_indices = dict((c, i) for (i, c) in enumerate(chars))\n",
    "indices_char = dict((i, c) for (i, c) in enumerate(chars))"
   ]
  },
  {
   "cell_type": "code",
   "execution_count": 8,
   "metadata": {
    "ExecuteTime": {
     "end_time": "2017-11-10T05:18:03.496310Z",
     "start_time": "2017-11-10T05:18:03.442499Z"
    },
    "collapsed": true
   },
   "outputs": [],
   "source": [
    "idx = [char_indices[c] for c in text]"
   ]
  },
  {
   "cell_type": "code",
   "execution_count": 9,
   "metadata": {
    "ExecuteTime": {
     "end_time": "2017-11-10T05:18:03.503006Z",
     "start_time": "2017-11-10T05:18:03.497976Z"
    }
   },
   "outputs": [
    {
     "data": {
      "text/plain": [
       "[40, 42, 29, 30, 25, 27, 29, 1, 1, 1]"
      ]
     },
     "execution_count": 9,
     "metadata": {},
     "output_type": "execute_result"
    }
   ],
   "source": [
    "idx[:10]"
   ]
  },
  {
   "cell_type": "code",
   "execution_count": 10,
   "metadata": {
    "ExecuteTime": {
     "end_time": "2017-11-10T05:18:03.538392Z",
     "start_time": "2017-11-10T05:18:03.504648Z"
    }
   },
   "outputs": [
    {
     "data": {
      "text/plain": [
       "'PREFACE\\n\\n\\nSUPPOSING that Truth is a woman--what then? Is there not ground\\nfor suspecting that all ph'"
      ]
     },
     "execution_count": 10,
     "metadata": {},
     "output_type": "execute_result"
    }
   ],
   "source": [
    "''.join([chars[i] for i in idx[:100]])"
   ]
  },
  {
   "cell_type": "markdown",
   "metadata": {},
   "source": [
    "# 3-Char Model"
   ]
  },
  {
   "cell_type": "code",
   "execution_count": 11,
   "metadata": {
    "ExecuteTime": {
     "end_time": "2017-11-10T05:18:03.621388Z",
     "start_time": "2017-11-10T05:18:03.540063Z"
    },
    "collapsed": true
   },
   "outputs": [],
   "source": [
    "seq_length = 3\n",
    "char_0 = [idx[i] for i in range(0, len(idx)-1-seq_length, seq_length)]\n",
    "char_1 = [idx[i + 1] for i in range(0, len(idx)-1-seq_length, seq_length)]\n",
    "char_2 = [idx[i + 2] for i in range(0, len(idx)-1-seq_length, seq_length)]\n",
    "char_3 = [idx[i + 3] for i in range(0, len(idx)-1-seq_length, seq_length)]"
   ]
  },
  {
   "cell_type": "code",
   "execution_count": 12,
   "metadata": {
    "ExecuteTime": {
     "end_time": "2017-11-10T05:18:03.672260Z",
     "start_time": "2017-11-10T05:18:03.623072Z"
    },
    "collapsed": true
   },
   "outputs": [],
   "source": [
    "x0 = np.array(char_0[:-2])\n",
    "x1 = np.array(char_1[:-2])\n",
    "x2 = np.array(char_2[:-2])\n",
    "x3 = np.array(char_3[:-2])"
   ]
  },
  {
   "cell_type": "code",
   "execution_count": 13,
   "metadata": {
    "ExecuteTime": {
     "end_time": "2017-11-10T05:18:03.678518Z",
     "start_time": "2017-11-10T05:18:03.673872Z"
    },
    "collapsed": true
   },
   "outputs": [],
   "source": [
    "def embedding_input(name, n_in, n_out):\n",
    "    inp = Input(shape=(1,), dtype='int64', name=name)\n",
    "    emb = Embedding(n_in, n_out, input_length=1)(inp)\n",
    "    return inp, Flatten()(emb)"
   ]
  },
  {
   "cell_type": "code",
   "execution_count": 14,
   "metadata": {
    "ExecuteTime": {
     "end_time": "2017-11-10T05:18:03.683339Z",
     "start_time": "2017-11-10T05:18:03.679997Z"
    },
    "collapsed": true
   },
   "outputs": [],
   "source": [
    "n_fac = 42"
   ]
  },
  {
   "cell_type": "code",
   "execution_count": 15,
   "metadata": {
    "ExecuteTime": {
     "end_time": "2017-11-10T05:18:03.718228Z",
     "start_time": "2017-11-10T05:18:03.684876Z"
    },
    "collapsed": true
   },
   "outputs": [],
   "source": [
    "inp0, emb0 = embedding_input('c0_dat', vocab_size, n_fac)\n",
    "inp1, emb1 = embedding_input('c1_dat', vocab_size, n_fac)\n",
    "inp2, emb2 = embedding_input('c2_dat', vocab_size, n_fac)"
   ]
  },
  {
   "cell_type": "code",
   "execution_count": 16,
   "metadata": {
    "ExecuteTime": {
     "end_time": "2017-11-10T05:18:03.722946Z",
     "start_time": "2017-11-10T05:18:03.720117Z"
    },
    "collapsed": true
   },
   "outputs": [],
   "source": [
    "n_hidden = 256"
   ]
  },
  {
   "cell_type": "code",
   "execution_count": 17,
   "metadata": {
    "ExecuteTime": {
     "end_time": "2017-11-10T05:18:03.733582Z",
     "start_time": "2017-11-10T05:18:03.724592Z"
    },
    "collapsed": true
   },
   "outputs": [],
   "source": [
    "dense_in = Dense(n_hidden, activation='relu')\n",
    "dense_hidden = Dense(n_hidden, activation='tanh')\n",
    "dense_out = Dense(vocab_size, activation='softmax')"
   ]
  },
  {
   "cell_type": "code",
   "execution_count": 18,
   "metadata": {
    "ExecuteTime": {
     "end_time": "2017-11-10T05:18:03.764086Z",
     "start_time": "2017-11-10T05:18:03.735103Z"
    },
    "collapsed": true
   },
   "outputs": [],
   "source": [
    "# these embs are already linked to the inps from the embedding_input function\n",
    "hidden = dense_in(emb0)\n",
    "c2_dense = dense_in(emb1)\n",
    "hidden = merge([dense_hidden(hidden), c2_dense])\n",
    "c3_dense = dense_in(emb2)\n",
    "hidden = merge([dense_hidden(hidden), c3_dense])\n",
    "c4_out = dense_out(hidden)"
   ]
  },
  {
   "cell_type": "code",
   "execution_count": 19,
   "metadata": {
    "ExecuteTime": {
     "end_time": "2017-11-10T05:18:03.768900Z",
     "start_time": "2017-11-10T05:18:03.765664Z"
    },
    "collapsed": true
   },
   "outputs": [],
   "source": [
    "model = Model([inp0, inp1, inp2], c4_out)"
   ]
  },
  {
   "cell_type": "code",
   "execution_count": 20,
   "metadata": {
    "ExecuteTime": {
     "end_time": "2017-11-10T05:18:03.793552Z",
     "start_time": "2017-11-10T05:18:03.770666Z"
    },
    "collapsed": true
   },
   "outputs": [],
   "source": [
    "model.compile(loss='sparse_categorical_crossentropy', optimizer=Adam())\n",
    "# model.optimizer.lr = 0.000001\n",
    "# model.fit([x0, x1, x2], x3, batch_size=64, nb_epoch=4)"
   ]
  },
  {
   "cell_type": "code",
   "execution_count": 21,
   "metadata": {
    "ExecuteTime": {
     "end_time": "2017-11-10T05:18:03.798073Z",
     "start_time": "2017-11-10T05:18:03.794983Z"
    },
    "collapsed": true
   },
   "outputs": [],
   "source": [
    "if three_char:\n",
    "    model.fit([x0, x1, x2], x3, batch_size=64, nb_epoch=4)"
   ]
  },
  {
   "cell_type": "code",
   "execution_count": 22,
   "metadata": {
    "ExecuteTime": {
     "end_time": "2017-11-10T05:18:03.802905Z",
     "start_time": "2017-11-10T05:18:03.799779Z"
    },
    "collapsed": true
   },
   "outputs": [],
   "source": [
    "model.optimizer.lr = 0.01"
   ]
  },
  {
   "cell_type": "code",
   "execution_count": 23,
   "metadata": {
    "ExecuteTime": {
     "end_time": "2017-11-10T05:18:03.808157Z",
     "start_time": "2017-11-10T05:18:03.804702Z"
    },
    "collapsed": true
   },
   "outputs": [],
   "source": [
    "if three_char:\n",
    "    model.fit([x0, x1, x2], x3, batch_size=64, nb_epoch=4)"
   ]
  },
  {
   "cell_type": "code",
   "execution_count": 24,
   "metadata": {
    "ExecuteTime": {
     "end_time": "2017-11-10T05:18:03.813579Z",
     "start_time": "2017-11-10T05:18:03.810033Z"
    },
    "collapsed": true
   },
   "outputs": [],
   "source": [
    "if three_char:\n",
    "    model.fit([x0, x1, x2], x3, batch_size=64, nb_epoch=4)"
   ]
  },
  {
   "cell_type": "code",
   "execution_count": 25,
   "metadata": {
    "ExecuteTime": {
     "end_time": "2017-11-10T05:18:03.818381Z",
     "start_time": "2017-11-10T05:18:03.815272Z"
    },
    "collapsed": true
   },
   "outputs": [],
   "source": [
    "model.optimizer.lr = 0.000001"
   ]
  },
  {
   "cell_type": "code",
   "execution_count": 26,
   "metadata": {
    "ExecuteTime": {
     "end_time": "2017-11-10T05:18:03.823605Z",
     "start_time": "2017-11-10T05:18:03.820003Z"
    },
    "collapsed": true
   },
   "outputs": [],
   "source": [
    "if three_char:\n",
    "    model.fit([x0, x1, x2], x3, batch_size=64, nb_epoch=4)"
   ]
  },
  {
   "cell_type": "code",
   "execution_count": 27,
   "metadata": {
    "ExecuteTime": {
     "end_time": "2017-11-10T05:18:03.828881Z",
     "start_time": "2017-11-10T05:18:03.825450Z"
    },
    "collapsed": true
   },
   "outputs": [],
   "source": [
    "if three_char:\n",
    "    model.fit([x0, x1, x2], x3, batch_size=64, nb_epoch=4)"
   ]
  },
  {
   "cell_type": "code",
   "execution_count": 28,
   "metadata": {
    "ExecuteTime": {
     "end_time": "2017-11-10T05:18:03.848486Z",
     "start_time": "2017-11-10T05:18:03.830478Z"
    },
    "collapsed": true
   },
   "outputs": [],
   "source": [
    "if three_char:\n",
    "    model.fit([x0, x1, x2], x3, batch_size=64, nb_epoch=4)"
   ]
  },
  {
   "cell_type": "code",
   "execution_count": 29,
   "metadata": {
    "ExecuteTime": {
     "end_time": "2017-11-10T05:18:03.868101Z",
     "start_time": "2017-11-10T05:18:03.850390Z"
    },
    "collapsed": true
   },
   "outputs": [],
   "source": [
    "if three_char:\n",
    "    model.fit([x0, x1, x2], x3, batch_size=64, nb_epoch=4)"
   ]
  },
  {
   "cell_type": "code",
   "execution_count": 30,
   "metadata": {
    "ExecuteTime": {
     "end_time": "2017-11-10T05:18:03.875140Z",
     "start_time": "2017-11-10T05:18:03.869880Z"
    },
    "collapsed": true
   },
   "outputs": [],
   "source": [
    "def get_next(inp):\n",
    "    idxs = [char_indices[c] for c in inp]\n",
    "    arrs = [np.array(i)[np.newaxis] for i in idxs]\n",
    "    p = model.predict(arrs)\n",
    "    i = np.argmax(p)\n",
    "    return chars[i]"
   ]
  },
  {
   "cell_type": "code",
   "execution_count": 31,
   "metadata": {
    "ExecuteTime": {
     "end_time": "2017-11-10T05:18:03.880040Z",
     "start_time": "2017-11-10T05:18:03.876930Z"
    },
    "collapsed": true
   },
   "outputs": [],
   "source": [
    "if three_char:\n",
    "    get_next('the')"
   ]
  },
  {
   "cell_type": "code",
   "execution_count": 32,
   "metadata": {
    "ExecuteTime": {
     "end_time": "2017-11-10T05:18:03.884937Z",
     "start_time": "2017-11-10T05:18:03.881719Z"
    },
    "collapsed": true
   },
   "outputs": [],
   "source": [
    "if three_char:\n",
    "    get_next('thi')"
   ]
  },
  {
   "cell_type": "code",
   "execution_count": 33,
   "metadata": {
    "ExecuteTime": {
     "end_time": "2017-11-10T05:18:03.890081Z",
     "start_time": "2017-11-10T05:18:03.886848Z"
    },
    "collapsed": true
   },
   "outputs": [],
   "source": [
    "if three_char:\n",
    "    get_next('hel')"
   ]
  },
  {
   "cell_type": "code",
   "execution_count": 34,
   "metadata": {
    "ExecuteTime": {
     "end_time": "2017-11-10T05:18:03.894990Z",
     "start_time": "2017-11-10T05:18:03.891914Z"
    },
    "collapsed": true
   },
   "outputs": [],
   "source": [
    "if three_char:\n",
    "    get_next('Som')"
   ]
  },
  {
   "cell_type": "code",
   "execution_count": 35,
   "metadata": {
    "ExecuteTime": {
     "end_time": "2017-11-10T05:18:03.900008Z",
     "start_time": "2017-11-10T05:18:03.896877Z"
    },
    "collapsed": true
   },
   "outputs": [],
   "source": [
    "if three_char:\n",
    "    get_next('Wha')"
   ]
  },
  {
   "cell_type": "code",
   "execution_count": 36,
   "metadata": {
    "ExecuteTime": {
     "end_time": "2017-11-10T05:18:03.904837Z",
     "start_time": "2017-11-10T05:18:03.901812Z"
    },
    "collapsed": true
   },
   "outputs": [],
   "source": [
    "if three_char:\n",
    "    get_next('is ')"
   ]
  },
  {
   "cell_type": "code",
   "execution_count": 37,
   "metadata": {
    "ExecuteTime": {
     "end_time": "2017-11-10T05:18:03.910101Z",
     "start_time": "2017-11-10T05:18:03.906774Z"
    },
    "collapsed": true
   },
   "outputs": [],
   "source": [
    "if three_char:\n",
    "    get_next('s t')"
   ]
  },
  {
   "cell_type": "markdown",
   "metadata": {},
   "source": [
    "# Our First RNN"
   ]
  },
  {
   "cell_type": "code",
   "execution_count": 38,
   "metadata": {
    "ExecuteTime": {
     "end_time": "2017-11-10T05:18:03.914949Z",
     "start_time": "2017-11-10T05:18:03.911876Z"
    },
    "collapsed": true
   },
   "outputs": [],
   "source": [
    "cs = 8"
   ]
  },
  {
   "cell_type": "code",
   "execution_count": 39,
   "metadata": {
    "ExecuteTime": {
     "end_time": "2017-11-10T05:18:03.977879Z",
     "start_time": "2017-11-10T05:18:03.916749Z"
    },
    "collapsed": true
   },
   "outputs": [],
   "source": [
    "c_in_dat = [[idx[i+n] for i in xrange(0, len(idx)-1-cs, cs)] for n in range(cs)]"
   ]
  },
  {
   "cell_type": "code",
   "execution_count": 40,
   "metadata": {
    "ExecuteTime": {
     "end_time": "2017-11-10T05:18:03.983839Z",
     "start_time": "2017-11-10T05:18:03.979345Z"
    }
   },
   "outputs": [
    {
     "data": {
      "text/plain": [
       "75112"
      ]
     },
     "execution_count": 40,
     "metadata": {},
     "output_type": "execute_result"
    }
   ],
   "source": [
    "len(c_in_dat[0])"
   ]
  },
  {
   "cell_type": "code",
   "execution_count": 41,
   "metadata": {
    "ExecuteTime": {
     "end_time": "2017-11-10T05:18:03.990309Z",
     "start_time": "2017-11-10T05:18:03.985503Z"
    }
   },
   "outputs": [
    {
     "data": {
      "text/plain": [
       "(8, 75112)"
      ]
     },
     "execution_count": 41,
     "metadata": {},
     "output_type": "execute_result"
    }
   ],
   "source": [
    "len(c_in_dat), len(c_in_dat[0])"
   ]
  },
  {
   "cell_type": "code",
   "execution_count": 42,
   "metadata": {
    "ExecuteTime": {
     "end_time": "2017-11-10T05:18:04.006915Z",
     "start_time": "2017-11-10T05:18:03.992352Z"
    },
    "collapsed": true
   },
   "outputs": [],
   "source": [
    "c_out_dat = [idx[i+cs] for i in xrange(0, len(idx)-1-cs, cs)]"
   ]
  },
  {
   "cell_type": "code",
   "execution_count": 43,
   "metadata": {
    "ExecuteTime": {
     "end_time": "2017-11-10T05:18:05.029230Z",
     "start_time": "2017-11-10T05:18:04.008406Z"
    },
    "collapsed": true
   },
   "outputs": [],
   "source": [
    "xs = [np.stack(c[:-2]) for c in c_in_dat]"
   ]
  },
  {
   "cell_type": "code",
   "execution_count": 44,
   "metadata": {
    "ExecuteTime": {
     "end_time": "2017-11-10T05:18:05.037589Z",
     "start_time": "2017-11-10T05:18:05.033096Z"
    }
   },
   "outputs": [
    {
     "data": {
      "text/plain": [
       "(8, 75110)"
      ]
     },
     "execution_count": 44,
     "metadata": {},
     "output_type": "execute_result"
    }
   ],
   "source": [
    "len(xs), len(xs[0])"
   ]
  },
  {
   "cell_type": "code",
   "execution_count": 45,
   "metadata": {
    "ExecuteTime": {
     "end_time": "2017-11-10T05:18:05.195450Z",
     "start_time": "2017-11-10T05:18:05.039916Z"
    },
    "collapsed": true
   },
   "outputs": [],
   "source": [
    "y = np.stack(c_out_dat[:-2])"
   ]
  },
  {
   "cell_type": "code",
   "execution_count": 46,
   "metadata": {
    "ExecuteTime": {
     "end_time": "2017-11-10T05:18:05.204964Z",
     "start_time": "2017-11-10T05:18:05.197372Z"
    }
   },
   "outputs": [
    {
     "data": {
      "text/plain": [
       "[array([40,  1, 33,  2, 72, 67, 73,  2]),\n",
       " array([42,  1, 38, 44,  2,  9, 61, 73]),\n",
       " array([29, 43, 31, 71, 54,  9, 58, 61]),\n",
       " array([30, 45,  2, 74,  2, 76, 67, 58]),\n",
       " array([25, 40, 73, 73, 76, 61, 24, 71]),\n",
       " array([27, 40, 61, 61, 68, 54,  2, 58]),\n",
       " array([29, 39, 54,  2, 66, 73, 33,  2]),\n",
       " array([ 1, 43, 73, 62, 54,  2, 72, 67])]"
      ]
     },
     "execution_count": 46,
     "metadata": {},
     "output_type": "execute_result"
    }
   ],
   "source": [
    "[xs[n][:cs] for n in range(cs)]"
   ]
  },
  {
   "cell_type": "code",
   "execution_count": 47,
   "metadata": {
    "ExecuteTime": {
     "end_time": "2017-11-10T05:18:05.214547Z",
     "start_time": "2017-11-10T05:18:05.207256Z"
    }
   },
   "outputs": [
    {
     "data": {
      "text/plain": [
       "[array([40,  1, 33, ..., 72, 71, 61]),\n",
       " array([42,  1, 38, ..., 73, 65, 58]),\n",
       " array([29, 43, 31, ..., 62, 57,  2]),\n",
       " array([30, 45,  2, ..., 54,  2, 62]),\n",
       " array([25, 40, 73, ..., 67, 54, 67]),\n",
       " array([27, 40, 61, ...,  2, 72, 57]),\n",
       " array([29, 39, 54, ..., 76,  2, 62]),\n",
       " array([ 1, 43, 73, ..., 68, 73, 56])]"
      ]
     },
     "execution_count": 47,
     "metadata": {},
     "output_type": "execute_result"
    }
   ],
   "source": [
    "xs"
   ]
  },
  {
   "cell_type": "code",
   "execution_count": 48,
   "metadata": {
    "ExecuteTime": {
     "end_time": "2017-11-10T05:18:05.230548Z",
     "start_time": "2017-11-10T05:18:05.216932Z"
    }
   },
   "outputs": [
    {
     "data": {
      "text/plain": [
       "array([ 1, 33,  2, 72, 67, 73,  2, 68])"
      ]
     },
     "execution_count": 48,
     "metadata": {},
     "output_type": "execute_result"
    }
   ],
   "source": [
    "y[:cs]"
   ]
  },
  {
   "cell_type": "code",
   "execution_count": 49,
   "metadata": {
    "ExecuteTime": {
     "end_time": "2017-11-10T05:18:05.235898Z",
     "start_time": "2017-11-10T05:18:05.232678Z"
    },
    "collapsed": true
   },
   "outputs": [],
   "source": [
    "n_fac = 42"
   ]
  },
  {
   "cell_type": "code",
   "execution_count": 50,
   "metadata": {
    "ExecuteTime": {
     "end_time": "2017-11-10T05:18:05.243969Z",
     "start_time": "2017-11-10T05:18:05.238073Z"
    },
    "collapsed": true
   },
   "outputs": [],
   "source": [
    "def embedding_input(name, n_in, n_out):\n",
    "    inp = Input(shape=(1,), dtype='int64', name=name+'_in')\n",
    "    emb = Embedding(n_in, n_out, input_length=1, name=name+'_emb')(inp)\n",
    "    return inp, Flatten()(emb)"
   ]
  },
  {
   "cell_type": "code",
   "execution_count": 51,
   "metadata": {
    "ExecuteTime": {
     "end_time": "2017-11-10T05:18:05.251681Z",
     "start_time": "2017-11-10T05:18:05.246103Z"
    }
   },
   "outputs": [
    {
     "data": {
      "text/plain": [
       "(8, 86, 42)"
      ]
     },
     "execution_count": 51,
     "metadata": {},
     "output_type": "execute_result"
    }
   ],
   "source": [
    "cs, vocab_size, n_fac"
   ]
  },
  {
   "cell_type": "code",
   "execution_count": 52,
   "metadata": {
    "ExecuteTime": {
     "end_time": "2017-11-10T05:18:05.310015Z",
     "start_time": "2017-11-10T05:18:05.253617Z"
    },
    "collapsed": true
   },
   "outputs": [],
   "source": [
    "c_ins = [embedding_input('c'+str(n), vocab_size, n_fac) for n in range(cs)]"
   ]
  },
  {
   "cell_type": "code",
   "execution_count": 53,
   "metadata": {
    "ExecuteTime": {
     "end_time": "2017-11-10T05:18:05.314493Z",
     "start_time": "2017-11-10T05:18:05.311596Z"
    },
    "collapsed": true
   },
   "outputs": [],
   "source": [
    "n_hidden = 256"
   ]
  },
  {
   "cell_type": "code",
   "execution_count": 54,
   "metadata": {
    "ExecuteTime": {
     "end_time": "2017-11-10T05:18:05.320330Z",
     "start_time": "2017-11-10T05:18:05.316036Z"
    },
    "collapsed": true
   },
   "outputs": [],
   "source": [
    "dense_in = Dense(n_hidden, activation='relu')\n",
    "dense_hidden = Dense(n_hidden, activation='relu', init='identity')\n",
    "dense_out = Dense(vocab_size, activation='softmax')"
   ]
  },
  {
   "cell_type": "code",
   "execution_count": 55,
   "metadata": {
    "ExecuteTime": {
     "end_time": "2017-11-10T05:18:05.327288Z",
     "start_time": "2017-11-10T05:18:05.321959Z"
    },
    "collapsed": true
   },
   "outputs": [],
   "source": [
    "hidden = dense_in(c_ins[0][1])"
   ]
  },
  {
   "cell_type": "code",
   "execution_count": 56,
   "metadata": {
    "ExecuteTime": {
     "end_time": "2017-11-10T05:18:05.365979Z",
     "start_time": "2017-11-10T05:18:05.328816Z"
    },
    "collapsed": true
   },
   "outputs": [],
   "source": [
    "for i in range(1, cs):\n",
    "    c_dense = dense_in(c_ins[i][1])\n",
    "    hidden = dense_hidden(hidden)\n",
    "    hidden = merge([c_dense, hidden])"
   ]
  },
  {
   "cell_type": "code",
   "execution_count": 57,
   "metadata": {
    "ExecuteTime": {
     "end_time": "2017-11-10T05:18:05.371564Z",
     "start_time": "2017-11-10T05:18:05.367603Z"
    },
    "collapsed": true
   },
   "outputs": [],
   "source": [
    "c_out = dense_out(hidden)"
   ]
  },
  {
   "cell_type": "code",
   "execution_count": 58,
   "metadata": {
    "ExecuteTime": {
     "end_time": "2017-11-10T05:18:05.387154Z",
     "start_time": "2017-11-10T05:18:05.373276Z"
    },
    "collapsed": true
   },
   "outputs": [],
   "source": [
    "model = Model([c[0] for c in c_ins], c_out)\n",
    "model.compile(loss='sparse_categorical_crossentropy', optimizer=Adam())"
   ]
  },
  {
   "cell_type": "code",
   "execution_count": 59,
   "metadata": {
    "ExecuteTime": {
     "end_time": "2017-11-10T05:18:05.391275Z",
     "start_time": "2017-11-10T05:18:05.388524Z"
    },
    "collapsed": true
   },
   "outputs": [],
   "source": [
    "# model.fit(xs, y, batch_size=64, nb_epoch=12)"
   ]
  },
  {
   "cell_type": "code",
   "execution_count": 60,
   "metadata": {
    "ExecuteTime": {
     "end_time": "2017-11-10T05:18:05.395973Z",
     "start_time": "2017-11-10T05:18:05.393139Z"
    },
    "collapsed": true
   },
   "outputs": [],
   "source": [
    "# model.fit(xs, y, batch_size=64, nb_epoch=12)"
   ]
  },
  {
   "cell_type": "code",
   "execution_count": 61,
   "metadata": {
    "ExecuteTime": {
     "end_time": "2017-11-10T05:18:05.402336Z",
     "start_time": "2017-11-10T05:18:05.397813Z"
    },
    "collapsed": true
   },
   "outputs": [],
   "source": [
    "def get_next(inp):\n",
    "    idxs = [np.array(char_indices[c])[np.newaxis] for c in inp]\n",
    "    p = model.predict(idxs)\n",
    "    return chars[np.argmax(p)]"
   ]
  },
  {
   "cell_type": "code",
   "execution_count": 62,
   "metadata": {
    "ExecuteTime": {
     "end_time": "2017-11-10T05:18:05.407143Z",
     "start_time": "2017-11-10T05:18:05.404056Z"
    },
    "collapsed": true
   },
   "outputs": [],
   "source": [
    "if eight_char:\n",
    "    get_next('for thos')"
   ]
  },
  {
   "cell_type": "code",
   "execution_count": 63,
   "metadata": {
    "ExecuteTime": {
     "end_time": "2017-11-10T05:18:05.426002Z",
     "start_time": "2017-11-10T05:18:05.408816Z"
    },
    "collapsed": true
   },
   "outputs": [],
   "source": [
    "if eight_char:\n",
    "    get_next('part of ')"
   ]
  },
  {
   "cell_type": "code",
   "execution_count": 64,
   "metadata": {
    "ExecuteTime": {
     "end_time": "2017-11-10T05:18:05.430618Z",
     "start_time": "2017-11-10T05:18:05.427365Z"
    },
    "collapsed": true
   },
   "outputs": [],
   "source": [
    "if eight_char:\n",
    "    get_next('queens a')"
   ]
  },
  {
   "cell_type": "markdown",
   "metadata": {
    "collapsed": true
   },
   "source": [
    "# Our first RNN"
   ]
  },
  {
   "cell_type": "code",
   "execution_count": 65,
   "metadata": {
    "ExecuteTime": {
     "end_time": "2017-11-10T05:18:05.496827Z",
     "start_time": "2017-11-10T05:18:05.432235Z"
    },
    "collapsed": true
   },
   "outputs": [],
   "source": [
    "c_out_dat = [[idx[i+n] for i in xrange(1, len(idx)-cs, cs)] for n in range(cs)]"
   ]
  },
  {
   "cell_type": "code",
   "execution_count": 66,
   "metadata": {
    "ExecuteTime": {
     "end_time": "2017-11-10T05:18:05.504404Z",
     "start_time": "2017-11-10T05:18:05.498751Z"
    }
   },
   "outputs": [
    {
     "data": {
      "text/plain": [
       "(8, 75112)"
      ]
     },
     "execution_count": 66,
     "metadata": {},
     "output_type": "execute_result"
    }
   ],
   "source": [
    "len(c_out_dat), len(c_out_dat[0])"
   ]
  },
  {
   "cell_type": "code",
   "execution_count": 67,
   "metadata": {
    "ExecuteTime": {
     "end_time": "2017-11-10T05:18:05.513080Z",
     "start_time": "2017-11-10T05:18:05.506958Z"
    }
   },
   "outputs": [
    {
     "data": {
      "text/plain": [
       "['P', 'R', 'E', 'F', 'A', 'C', 'E', '\\n']"
      ]
     },
     "execution_count": 67,
     "metadata": {},
     "output_type": "execute_result"
    }
   ],
   "source": [
    "[indices_char[i[0]] for i in c_in_dat]"
   ]
  },
  {
   "cell_type": "code",
   "execution_count": 68,
   "metadata": {
    "ExecuteTime": {
     "end_time": "2017-11-10T05:18:05.521365Z",
     "start_time": "2017-11-10T05:18:05.515414Z"
    }
   },
   "outputs": [
    {
     "data": {
      "text/plain": [
       "['R', 'E', 'F', 'A', 'C', 'E', '\\n', '\\n']"
      ]
     },
     "execution_count": 68,
     "metadata": {},
     "output_type": "execute_result"
    }
   ],
   "source": [
    "[indices_char[i[0]] for i in c_out_dat]"
   ]
  },
  {
   "cell_type": "code",
   "execution_count": 69,
   "metadata": {
    "ExecuteTime": {
     "end_time": "2017-11-10T05:18:05.540065Z",
     "start_time": "2017-11-10T05:18:05.523501Z"
    }
   },
   "outputs": [
    {
     "data": {
      "text/plain": [
       "['\\n', '\\n', 'S', 'U', 'P', 'P', 'O', 'S']"
      ]
     },
     "execution_count": 69,
     "metadata": {},
     "output_type": "execute_result"
    }
   ],
   "source": [
    "[indices_char[i[1]] for i in c_in_dat]"
   ]
  },
  {
   "cell_type": "code",
   "execution_count": 70,
   "metadata": {
    "ExecuteTime": {
     "end_time": "2017-11-10T05:18:05.546823Z",
     "start_time": "2017-11-10T05:18:05.541815Z"
    }
   },
   "outputs": [
    {
     "data": {
      "text/plain": [
       "['\\n', 'S', 'U', 'P', 'P', 'O', 'S', 'I']"
      ]
     },
     "execution_count": 70,
     "metadata": {},
     "output_type": "execute_result"
    }
   ],
   "source": [
    "[indices_char[i[1]] for i in c_out_dat]"
   ]
  },
  {
   "cell_type": "code",
   "execution_count": 71,
   "metadata": {
    "ExecuteTime": {
     "end_time": "2017-11-10T05:18:06.582033Z",
     "start_time": "2017-11-10T05:18:05.548828Z"
    },
    "collapsed": true
   },
   "outputs": [],
   "source": [
    "ys = [np.stack(arr[:-2]) for arr in c_out_dat]"
   ]
  },
  {
   "cell_type": "code",
   "execution_count": 72,
   "metadata": {
    "ExecuteTime": {
     "end_time": "2017-11-10T05:18:06.591190Z",
     "start_time": "2017-11-10T05:18:06.583748Z"
    }
   },
   "outputs": [
    {
     "data": {
      "text/plain": [
       "[array([42,  1, 38, ..., 73, 65, 58]),\n",
       " array([29, 43, 31, ..., 62, 57,  2]),\n",
       " array([30, 45,  2, ..., 54,  2, 62]),\n",
       " array([25, 40, 73, ..., 67, 54, 67]),\n",
       " array([27, 40, 61, ...,  2, 72, 57]),\n",
       " array([29, 39, 54, ..., 76,  2, 62]),\n",
       " array([ 1, 43, 73, ..., 68, 73, 56]),\n",
       " array([ 1, 33,  2, ..., 71, 61, 54])]"
      ]
     },
     "execution_count": 72,
     "metadata": {},
     "output_type": "execute_result"
    }
   ],
   "source": [
    "ys"
   ]
  },
  {
   "cell_type": "code",
   "execution_count": 73,
   "metadata": {
    "ExecuteTime": {
     "end_time": "2017-11-10T05:18:06.601989Z",
     "start_time": "2017-11-10T05:18:06.593299Z"
    }
   },
   "outputs": [
    {
     "data": {
      "text/plain": [
       "[array([40,  1, 33,  2, 72, 67, 73,  2]),\n",
       " array([42,  1, 38, 44,  2,  9, 61, 73]),\n",
       " array([29, 43, 31, 71, 54,  9, 58, 61]),\n",
       " array([30, 45,  2, 74,  2, 76, 67, 58]),\n",
       " array([25, 40, 73, 73, 76, 61, 24, 71]),\n",
       " array([27, 40, 61, 61, 68, 54,  2, 58]),\n",
       " array([29, 39, 54,  2, 66, 73, 33,  2]),\n",
       " array([ 1, 43, 73, 62, 54,  2, 72, 67])]"
      ]
     },
     "execution_count": 73,
     "metadata": {},
     "output_type": "execute_result"
    }
   ],
   "source": [
    "[xs[n][:cs] for n in range(cs)]"
   ]
  },
  {
   "cell_type": "code",
   "execution_count": 74,
   "metadata": {
    "ExecuteTime": {
     "end_time": "2017-11-10T05:18:06.611882Z",
     "start_time": "2017-11-10T05:18:06.604319Z"
    }
   },
   "outputs": [
    {
     "data": {
      "text/plain": [
       "[array([42,  1, 38, 44,  2,  9, 61, 73]),\n",
       " array([29, 43, 31, 71, 54,  9, 58, 61]),\n",
       " array([30, 45,  2, 74,  2, 76, 67, 58]),\n",
       " array([25, 40, 73, 73, 76, 61, 24, 71]),\n",
       " array([27, 40, 61, 61, 68, 54,  2, 58]),\n",
       " array([29, 39, 54,  2, 66, 73, 33,  2]),\n",
       " array([ 1, 43, 73, 62, 54,  2, 72, 67]),\n",
       " array([ 1, 33,  2, 72, 67, 73,  2, 68])]"
      ]
     },
     "execution_count": 74,
     "metadata": {},
     "output_type": "execute_result"
    }
   ],
   "source": [
    "[ys[n][:cs] for n in range(cs)]"
   ]
  },
  {
   "cell_type": "code",
   "execution_count": 75,
   "metadata": {
    "ExecuteTime": {
     "end_time": "2017-11-10T05:18:06.619965Z",
     "start_time": "2017-11-10T05:18:06.614511Z"
    },
    "collapsed": true
   },
   "outputs": [],
   "source": [
    "dense_in = Dense(n_hidden, activation='relu')\n",
    "dense_hidden = Dense(n_hidden, activation='relu', init='identity')\n",
    "dense_out = Dense(vocab_size, activation='softmax')"
   ]
  },
  {
   "cell_type": "code",
   "execution_count": 76,
   "metadata": {
    "ExecuteTime": {
     "end_time": "2017-11-10T05:18:06.633474Z",
     "start_time": "2017-11-10T05:18:06.622106Z"
    },
    "collapsed": true
   },
   "outputs": [],
   "source": [
    "inp1 = Input(shape=(n_fac,), name = 'zeros')\n",
    "hidden = dense_in(inp1)"
   ]
  },
  {
   "cell_type": "code",
   "execution_count": 77,
   "metadata": {
    "ExecuteTime": {
     "end_time": "2017-11-10T05:18:06.795365Z",
     "start_time": "2017-11-10T05:18:06.635216Z"
    },
    "collapsed": true
   },
   "outputs": [],
   "source": [
    "outs = []\n",
    "\n",
    "for i in range(cs):\n",
    "    c_dense = dense_in(c_ins[i][1])\n",
    "    hidden = merge([c_dense, dense_hidden(hidden)], mode='sum')\n",
    "    outs.append(dense_out(hidden)) "
   ]
  },
  {
   "cell_type": "code",
   "execution_count": 78,
   "metadata": {
    "ExecuteTime": {
     "end_time": "2017-11-10T05:18:06.802494Z",
     "start_time": "2017-11-10T05:18:06.797275Z"
    }
   },
   "outputs": [
    {
     "data": {
      "text/plain": [
       "8"
      ]
     },
     "execution_count": 78,
     "metadata": {},
     "output_type": "execute_result"
    }
   ],
   "source": [
    "len(outs)"
   ]
  },
  {
   "cell_type": "code",
   "execution_count": 79,
   "metadata": {
    "ExecuteTime": {
     "end_time": "2017-11-10T05:18:06.812896Z",
     "start_time": "2017-11-10T05:18:06.804623Z"
    },
    "collapsed": true
   },
   "outputs": [],
   "source": [
    "model = Model(input=[inp1] + [c[0] for c in c_ins], output=outs)"
   ]
  },
  {
   "cell_type": "code",
   "execution_count": 80,
   "metadata": {
    "ExecuteTime": {
     "end_time": "2017-11-10T05:18:06.899294Z",
     "start_time": "2017-11-10T05:18:06.814910Z"
    },
    "collapsed": true
   },
   "outputs": [],
   "source": [
    "model.compile(loss='sparse_categorical_crossentropy', optimizer=Adam())"
   ]
  },
  {
   "cell_type": "code",
   "execution_count": 81,
   "metadata": {
    "ExecuteTime": {
     "end_time": "2017-11-10T05:18:06.913164Z",
     "start_time": "2017-11-10T05:18:06.901003Z"
    },
    "collapsed": true
   },
   "outputs": [],
   "source": [
    "zeros = np.tile(np.zeros(n_fac), (len(xs[0]),1))"
   ]
  },
  {
   "cell_type": "code",
   "execution_count": 82,
   "metadata": {
    "ExecuteTime": {
     "end_time": "2017-11-10T05:18:06.923280Z",
     "start_time": "2017-11-10T05:18:06.915072Z"
    }
   },
   "outputs": [
    {
     "data": {
      "text/plain": [
       "array([[ 0.,  0.,  0., ...,  0.,  0.,  0.],\n",
       "       [ 0.,  0.,  0., ...,  0.,  0.,  0.],\n",
       "       [ 0.,  0.,  0., ...,  0.,  0.,  0.],\n",
       "       ..., \n",
       "       [ 0.,  0.,  0., ...,  0.,  0.,  0.],\n",
       "       [ 0.,  0.,  0., ...,  0.,  0.,  0.],\n",
       "       [ 0.,  0.,  0., ...,  0.,  0.,  0.]])"
      ]
     },
     "execution_count": 82,
     "metadata": {},
     "output_type": "execute_result"
    }
   ],
   "source": [
    "zeros"
   ]
  },
  {
   "cell_type": "code",
   "execution_count": 83,
   "metadata": {
    "ExecuteTime": {
     "end_time": "2017-11-10T05:18:06.938481Z",
     "start_time": "2017-11-10T05:18:06.925265Z"
    },
    "collapsed": true
   },
   "outputs": [],
   "source": [
    "if first_rnn:\n",
    "    model.fit([zeros]+xs, ys, batch_size=64, nb_epoch=12)"
   ]
  },
  {
   "cell_type": "code",
   "execution_count": 84,
   "metadata": {
    "ExecuteTime": {
     "end_time": "2017-11-10T05:18:06.947047Z",
     "start_time": "2017-11-10T05:18:06.939931Z"
    }
   },
   "outputs": [
    {
     "data": {
      "text/plain": [
       "[array([[ 0.,  0.,  0., ...,  0.,  0.,  0.],\n",
       "        [ 0.,  0.,  0., ...,  0.,  0.,  0.],\n",
       "        [ 0.,  0.,  0., ...,  0.,  0.,  0.],\n",
       "        ..., \n",
       "        [ 0.,  0.,  0., ...,  0.,  0.,  0.],\n",
       "        [ 0.,  0.,  0., ...,  0.,  0.,  0.],\n",
       "        [ 0.,  0.,  0., ...,  0.,  0.,  0.]]),\n",
       " array([40,  1, 33, ..., 72, 71, 61]),\n",
       " array([42,  1, 38, ..., 73, 65, 58]),\n",
       " array([29, 43, 31, ..., 62, 57,  2]),\n",
       " array([30, 45,  2, ..., 54,  2, 62]),\n",
       " array([25, 40, 73, ..., 67, 54, 67]),\n",
       " array([27, 40, 61, ...,  2, 72, 57]),\n",
       " array([29, 39, 54, ..., 76,  2, 62]),\n",
       " array([ 1, 43, 73, ..., 68, 73, 56])]"
      ]
     },
     "execution_count": 84,
     "metadata": {},
     "output_type": "execute_result"
    }
   ],
   "source": [
    "[zeros] + xs"
   ]
  },
  {
   "cell_type": "code",
   "execution_count": 85,
   "metadata": {
    "ExecuteTime": {
     "end_time": "2017-11-10T05:18:06.953111Z",
     "start_time": "2017-11-10T05:18:06.948960Z"
    }
   },
   "outputs": [
    {
     "data": {
      "text/plain": [
       "(75110, 42)"
      ]
     },
     "execution_count": 85,
     "metadata": {},
     "output_type": "execute_result"
    }
   ],
   "source": [
    "zeros.shape"
   ]
  },
  {
   "cell_type": "code",
   "execution_count": 86,
   "metadata": {
    "ExecuteTime": {
     "end_time": "2017-11-10T05:18:06.959706Z",
     "start_time": "2017-11-10T05:18:06.955206Z"
    }
   },
   "outputs": [
    {
     "data": {
      "text/plain": [
       "(8, 75110)"
      ]
     },
     "execution_count": 86,
     "metadata": {},
     "output_type": "execute_result"
    }
   ],
   "source": [
    "len(xs), len(xs[0])"
   ]
  },
  {
   "cell_type": "code",
   "execution_count": 87,
   "metadata": {
    "ExecuteTime": {
     "end_time": "2017-11-10T05:18:06.966182Z",
     "start_time": "2017-11-10T05:18:06.961448Z"
    }
   },
   "outputs": [
    {
     "data": {
      "text/plain": [
       "array([40,  1, 33, ..., 72, 71, 61])"
      ]
     },
     "execution_count": 87,
     "metadata": {},
     "output_type": "execute_result"
    }
   ],
   "source": [
    "xs[0]"
   ]
  },
  {
   "cell_type": "code",
   "execution_count": 88,
   "metadata": {
    "ExecuteTime": {
     "end_time": "2017-11-10T05:18:06.973574Z",
     "start_time": "2017-11-10T05:18:06.968283Z"
    }
   },
   "outputs": [
    {
     "data": {
      "text/plain": [
       "array([ 0.,  0.,  0.,  0.,  0.,  0.,  0.,  0.,  0.,  0.,  0.,  0.,  0.,  0.,  0.,  0.,  0.,  0.,\n",
       "        0.,  0.,  0.,  0.,  0.,  0.,  0.,  0.,  0.,  0.,  0.,  0.,  0.,  0.,  0.,  0.,  0.,  0.,\n",
       "        0.,  0.,  0.,  0.,  0.,  0.])"
      ]
     },
     "execution_count": 88,
     "metadata": {},
     "output_type": "execute_result"
    }
   ],
   "source": [
    "zeros[0]"
   ]
  },
  {
   "cell_type": "code",
   "execution_count": 89,
   "metadata": {
    "ExecuteTime": {
     "end_time": "2017-11-10T05:18:06.981345Z",
     "start_time": "2017-11-10T05:18:06.975400Z"
    }
   },
   "outputs": [
    {
     "data": {
      "text/plain": [
       "[array([40,  1, 33, ..., 72, 71, 61]),\n",
       " array([42,  1, 38, ..., 73, 65, 58]),\n",
       " array([29, 43, 31, ..., 62, 57,  2]),\n",
       " array([30, 45,  2, ..., 54,  2, 62]),\n",
       " array([25, 40, 73, ..., 67, 54, 67]),\n",
       " array([27, 40, 61, ...,  2, 72, 57]),\n",
       " array([29, 39, 54, ..., 76,  2, 62]),\n",
       " array([ 1, 43, 73, ..., 68, 73, 56])]"
      ]
     },
     "execution_count": 89,
     "metadata": {},
     "output_type": "execute_result"
    }
   ],
   "source": [
    "xs"
   ]
  },
  {
   "cell_type": "code",
   "execution_count": 90,
   "metadata": {
    "ExecuteTime": {
     "end_time": "2017-11-10T05:18:06.989533Z",
     "start_time": "2017-11-10T05:18:06.983250Z"
    },
    "collapsed": true
   },
   "outputs": [],
   "source": [
    "# def get_nexts(inp):\n",
    "#     # get character indices for input\n",
    "#     idxs = [char_indices[c] for c in inp]\n",
    "#     # turn each index into a 1-d array\n",
    "#     arrs = [np.array([i]) for i in idxs]\n",
    "#     # predict these arrays, outputting a softmax\n",
    "#     p = model.predict([np.zeros(n_fac)[np.newaxis,:]] + arrs)\n",
    "#     # return the character that maximizes the softmax probability\n",
    "#     return [chars[np.argmax(o)] for o in p]\n",
    "def get_nexts(inp):\n",
    "    idxs = [char_indices[c] for c in inp]\n",
    "    arrs = [np.array([i]) for i in idxs]\n",
    "    p = model.predict([np.reshape(np.zeros(n_fac), newshape=(-1, n_fac))] + arrs)\n",
    "    return [chars[np.argmax(o)] for o in p]"
   ]
  },
  {
   "cell_type": "code",
   "execution_count": 91,
   "metadata": {
    "ExecuteTime": {
     "end_time": "2017-11-10T05:18:07.007582Z",
     "start_time": "2017-11-10T05:18:06.990965Z"
    }
   },
   "outputs": [
    {
     "data": {
      "text/plain": [
       "(1, 42)"
      ]
     },
     "execution_count": 91,
     "metadata": {},
     "output_type": "execute_result"
    }
   ],
   "source": [
    "np.reshape(np.zeros(n_fac), newshape=(-1, n_fac)).shape"
   ]
  },
  {
   "cell_type": "code",
   "execution_count": 92,
   "metadata": {
    "ExecuteTime": {
     "end_time": "2017-11-10T05:18:07.012178Z",
     "start_time": "2017-11-10T05:18:07.009092Z"
    },
    "collapsed": true
   },
   "outputs": [],
   "source": [
    "if first_rnn:\n",
    "    get_nexts(' this is')"
   ]
  },
  {
   "cell_type": "code",
   "execution_count": 93,
   "metadata": {
    "ExecuteTime": {
     "end_time": "2017-11-10T05:18:07.017119Z",
     "start_time": "2017-11-10T05:18:07.013868Z"
    },
    "collapsed": true
   },
   "outputs": [],
   "source": [
    "if first_rnn:\n",
    "    get_nexts(' part of')"
   ]
  },
  {
   "cell_type": "markdown",
   "metadata": {},
   "source": [
    "# Our First Keras RNN"
   ]
  },
  {
   "cell_type": "code",
   "execution_count": 94,
   "metadata": {
    "ExecuteTime": {
     "end_time": "2017-11-10T05:18:07.022045Z",
     "start_time": "2017-11-10T05:18:07.018782Z"
    },
    "collapsed": true
   },
   "outputs": [],
   "source": [
    "n_hidden, n_fac, cs, vocab_size = (256, 42, 8, 86)"
   ]
  },
  {
   "cell_type": "code",
   "execution_count": 95,
   "metadata": {
    "ExecuteTime": {
     "end_time": "2017-11-10T05:18:07.054554Z",
     "start_time": "2017-11-10T05:18:07.023743Z"
    },
    "collapsed": true
   },
   "outputs": [],
   "source": [
    "model = Sequential([\n",
    "    Embedding(vocab_size, n_fac, input_length=cs),\n",
    "    SimpleRNN(n_hidden, activation='relu', inner_init='identity'),\n",
    "    Dense(vocab_size, activation='softmax')\n",
    "])"
   ]
  },
  {
   "cell_type": "code",
   "execution_count": 96,
   "metadata": {
    "ExecuteTime": {
     "end_time": "2017-11-10T05:18:07.103505Z",
     "start_time": "2017-11-10T05:18:07.055889Z"
    },
    "collapsed": true
   },
   "outputs": [],
   "source": [
    "c_ins = [embedding_input(name='c_' + str(i), n_in=vocab_size, n_out=n_fac) for i in range(cs)]"
   ]
  },
  {
   "cell_type": "code",
   "execution_count": 97,
   "metadata": {
    "ExecuteTime": {
     "end_time": "2017-11-10T05:18:07.108474Z",
     "start_time": "2017-11-10T05:18:07.105005Z"
    },
    "collapsed": true
   },
   "outputs": [],
   "source": [
    "dense_in = Dense(n_hidden, activation='relu')\n",
    "dense_hidden = Dense(n_hidden, activation='relu', init='identity')\n",
    "dense_out = Dense(vocab_size, activation='softmax')"
   ]
  },
  {
   "cell_type": "code",
   "execution_count": 98,
   "metadata": {
    "ExecuteTime": {
     "end_time": "2017-11-10T05:18:07.117333Z",
     "start_time": "2017-11-10T05:18:07.110092Z"
    }
   },
   "outputs": [
    {
     "data": {
      "text/plain": [
       "600901"
      ]
     },
     "execution_count": 98,
     "metadata": {},
     "output_type": "execute_result"
    }
   ],
   "source": [
    "len(idx)"
   ]
  },
  {
   "cell_type": "code",
   "execution_count": 99,
   "metadata": {
    "ExecuteTime": {
     "end_time": "2017-11-10T05:18:07.124453Z",
     "start_time": "2017-11-10T05:18:07.118851Z"
    },
    "collapsed": true
   },
   "outputs": [],
   "source": [
    "inp1 = Input(shape=(n_fac,), name='zeros')\n",
    "hidden = dense_in(inp1)"
   ]
  },
  {
   "cell_type": "code",
   "execution_count": 100,
   "metadata": {
    "ExecuteTime": {
     "end_time": "2017-11-10T05:18:07.130177Z",
     "start_time": "2017-11-10T05:18:07.126181Z"
    }
   },
   "outputs": [
    {
     "data": {
      "text/plain": [
       "256"
      ]
     },
     "execution_count": 100,
     "metadata": {},
     "output_type": "execute_result"
    }
   ],
   "source": [
    "n_hidden"
   ]
  },
  {
   "cell_type": "code",
   "execution_count": 101,
   "metadata": {
    "ExecuteTime": {
     "end_time": "2017-11-10T05:18:07.168074Z",
     "start_time": "2017-11-10T05:18:07.132234Z"
    },
    "collapsed": true
   },
   "outputs": [],
   "source": [
    "# outs = []\n",
    "# for i in range(cs):\n",
    "#     hidden = merge([dense_in(c_ins[i][1]), dense_hidden(hidden)], mode='sum')\n",
    "#     outs.append(dense_out(hidden)) \n",
    "\n",
    "outs = []\n",
    "\n",
    "for i in range(cs):\n",
    "    c_dense = dense_in(c_ins[i][1])\n",
    "    hidden = dense_hidden(hidden)\n",
    "    hidden = merge([c_dense, hidden], mode='sum')\n",
    "    # every layer now has an output\n",
    "    outs.append(dense_out(hidden))"
   ]
  },
  {
   "cell_type": "code",
   "execution_count": 102,
   "metadata": {
    "ExecuteTime": {
     "end_time": "2017-11-10T05:18:07.178127Z",
     "start_time": "2017-11-10T05:18:07.169874Z"
    },
    "collapsed": true
   },
   "outputs": [],
   "source": [
    "mdl = Model([inp1] + [c[0] for c in c_ins], outs)"
   ]
  },
  {
   "cell_type": "code",
   "execution_count": 103,
   "metadata": {
    "ExecuteTime": {
     "end_time": "2017-11-10T05:18:07.185280Z",
     "start_time": "2017-11-10T05:18:07.180126Z"
    }
   },
   "outputs": [
    {
     "data": {
      "text/plain": [
       "8"
      ]
     },
     "execution_count": 103,
     "metadata": {},
     "output_type": "execute_result"
    }
   ],
   "source": [
    "len(c_ins)"
   ]
  },
  {
   "cell_type": "code",
   "execution_count": 104,
   "metadata": {
    "ExecuteTime": {
     "end_time": "2017-11-10T05:18:07.200160Z",
     "start_time": "2017-11-10T05:18:07.187551Z"
    },
    "collapsed": true
   },
   "outputs": [],
   "source": [
    "zs = np.tile(np.zeros(n_fac), (len(xs[0]), 1))"
   ]
  },
  {
   "cell_type": "code",
   "execution_count": 105,
   "metadata": {
    "ExecuteTime": {
     "end_time": "2017-11-10T05:18:07.207001Z",
     "start_time": "2017-11-10T05:18:07.202317Z"
    },
    "collapsed": true
   },
   "outputs": [],
   "source": [
    "x0 = [np.array([0])] * len(xs[0])"
   ]
  },
  {
   "cell_type": "code",
   "execution_count": 106,
   "metadata": {
    "ExecuteTime": {
     "end_time": "2017-11-10T05:18:07.214794Z",
     "start_time": "2017-11-10T05:18:07.209236Z"
    }
   },
   "outputs": [
    {
     "data": {
      "text/plain": [
       "(75110, 42)"
      ]
     },
     "execution_count": 106,
     "metadata": {},
     "output_type": "execute_result"
    }
   ],
   "source": [
    "zs.shape"
   ]
  },
  {
   "cell_type": "code",
   "execution_count": 107,
   "metadata": {
    "ExecuteTime": {
     "end_time": "2017-11-10T05:18:07.298102Z",
     "start_time": "2017-11-10T05:18:07.216922Z"
    },
    "collapsed": true
   },
   "outputs": [],
   "source": [
    "mdl.compile(loss='sparse_categorical_crossentropy', optimizer=Adam())\n",
    "if first_rnn:\n",
    "    mdl.fit([zs]+xs, y, batch_size=64, nb_epoch=12)"
   ]
  },
  {
   "cell_type": "markdown",
   "metadata": {},
   "source": [
    "# Sequence Model w/ Keras"
   ]
  },
  {
   "cell_type": "code",
   "execution_count": 108,
   "metadata": {
    "ExecuteTime": {
     "end_time": "2017-11-10T05:18:07.305557Z",
     "start_time": "2017-11-10T05:18:07.299822Z"
    }
   },
   "outputs": [
    {
     "data": {
      "text/plain": [
       "(256, 42, 8, 86)"
      ]
     },
     "execution_count": 108,
     "metadata": {},
     "output_type": "execute_result"
    }
   ],
   "source": [
    "n_hidden, n_fac, cs, vocab_size"
   ]
  },
  {
   "cell_type": "code",
   "execution_count": 109,
   "metadata": {
    "ExecuteTime": {
     "end_time": "2017-11-10T05:18:07.341255Z",
     "start_time": "2017-11-10T05:18:07.307722Z"
    },
    "collapsed": true
   },
   "outputs": [],
   "source": [
    "model = Sequential([\n",
    "    Embedding(vocab_size, n_fac, input_length=cs),\n",
    "    SimpleRNN(n_hidden, return_sequences=True, activation='relu', inner_init='identity'),\n",
    "    TimeDistributed(Dense(vocab_size, activation='softmax'))\n",
    "])"
   ]
  },
  {
   "cell_type": "code",
   "execution_count": 110,
   "metadata": {
    "ExecuteTime": {
     "end_time": "2017-11-10T05:18:07.718794Z",
     "start_time": "2017-11-10T05:18:07.343179Z"
    }
   },
   "outputs": [
    {
     "name": "stdout",
     "output_type": "stream",
     "text": [
      "____________________________________________________________________________________________________\n",
      "Layer (type)                     Output Shape          Param #     Connected to                     \n",
      "====================================================================================================\n",
      "embedding_5 (Embedding)          (None, 8, 42)         3612        embedding_input_2[0][0]          \n",
      "____________________________________________________________________________________________________\n",
      "simplernn_2 (SimpleRNN)          (None, 8, 256)        76544       embedding_5[0][0]                \n",
      "____________________________________________________________________________________________________\n",
      "timedistributed_1 (TimeDistribut (None, 8, 86)         22102       simplernn_2[0][0]                \n",
      "====================================================================================================\n",
      "Total params: 102,258\n",
      "Trainable params: 102,258\n",
      "Non-trainable params: 0\n",
      "____________________________________________________________________________________________________\n"
     ]
    }
   ],
   "source": [
    "model.summary()"
   ]
  },
  {
   "cell_type": "code",
   "execution_count": 111,
   "metadata": {
    "ExecuteTime": {
     "end_time": "2017-11-10T05:18:07.736128Z",
     "start_time": "2017-11-10T05:18:07.720815Z"
    },
    "collapsed": true
   },
   "outputs": [],
   "source": [
    "model.compile(loss='sparse_categorical_crossentropy', optimizer=Adam())"
   ]
  },
  {
   "cell_type": "code",
   "execution_count": 112,
   "metadata": {
    "ExecuteTime": {
     "end_time": "2017-11-10T05:18:07.744604Z",
     "start_time": "2017-11-10T05:18:07.738006Z"
    },
    "collapsed": true
   },
   "outputs": [],
   "source": [
    "x_rnn = np.stack(xs, axis=1)"
   ]
  },
  {
   "cell_type": "code",
   "execution_count": 113,
   "metadata": {
    "ExecuteTime": {
     "end_time": "2017-11-10T05:18:07.752639Z",
     "start_time": "2017-11-10T05:18:07.746221Z"
    }
   },
   "outputs": [
    {
     "data": {
      "text/plain": [
       "[array([40,  1, 33, ..., 72, 71, 61]),\n",
       " array([42,  1, 38, ..., 73, 65, 58]),\n",
       " array([29, 43, 31, ..., 62, 57,  2]),\n",
       " array([30, 45,  2, ..., 54,  2, 62]),\n",
       " array([25, 40, 73, ..., 67, 54, 67]),\n",
       " array([27, 40, 61, ...,  2, 72, 57]),\n",
       " array([29, 39, 54, ..., 76,  2, 62]),\n",
       " array([ 1, 43, 73, ..., 68, 73, 56])]"
      ]
     },
     "execution_count": 113,
     "metadata": {},
     "output_type": "execute_result"
    }
   ],
   "source": [
    "xs"
   ]
  },
  {
   "cell_type": "code",
   "execution_count": 114,
   "metadata": {
    "ExecuteTime": {
     "end_time": "2017-11-10T05:18:07.759061Z",
     "start_time": "2017-11-10T05:18:07.754296Z"
    }
   },
   "outputs": [
    {
     "data": {
      "text/plain": [
       "array([[40, 42, 29, ..., 27, 29,  1],\n",
       "       [ 1,  1, 43, ..., 40, 39, 43],\n",
       "       [33, 38, 31, ..., 61, 54, 73],\n",
       "       ..., \n",
       "       [72, 73, 62, ...,  2, 76, 68],\n",
       "       [71, 65, 57, ..., 72,  2, 73],\n",
       "       [61, 58,  2, ..., 57, 62, 56]])"
      ]
     },
     "execution_count": 114,
     "metadata": {},
     "output_type": "execute_result"
    }
   ],
   "source": [
    "x_rnn"
   ]
  },
  {
   "cell_type": "code",
   "execution_count": 115,
   "metadata": {
    "ExecuteTime": {
     "end_time": "2017-11-10T05:18:07.768169Z",
     "start_time": "2017-11-10T05:18:07.761172Z"
    },
    "collapsed": true
   },
   "outputs": [],
   "source": [
    "y_rnn = np.expand_dims(np.stack(ys, axis=1), -1)"
   ]
  },
  {
   "cell_type": "code",
   "execution_count": 116,
   "metadata": {
    "ExecuteTime": {
     "end_time": "2017-11-10T05:18:07.774145Z",
     "start_time": "2017-11-10T05:18:07.769654Z"
    }
   },
   "outputs": [
    {
     "data": {
      "text/plain": [
       "(75110, 8, 1)"
      ]
     },
     "execution_count": 116,
     "metadata": {},
     "output_type": "execute_result"
    }
   ],
   "source": [
    "y_rnn.shape"
   ]
  },
  {
   "cell_type": "code",
   "execution_count": 117,
   "metadata": {
    "ExecuteTime": {
     "end_time": "2017-11-10T05:18:07.790267Z",
     "start_time": "2017-11-10T05:18:07.775920Z"
    },
    "collapsed": true
   },
   "outputs": [],
   "source": [
    "if sequence_rnn:\n",
    "    model.fit(x_rnn, y_rnn, batch_size=64, nb_epoch=8)"
   ]
  },
  {
   "cell_type": "code",
   "execution_count": 118,
   "metadata": {
    "ExecuteTime": {
     "end_time": "2017-11-10T05:18:07.795264Z",
     "start_time": "2017-11-10T05:18:07.791754Z"
    },
    "collapsed": true
   },
   "outputs": [],
   "source": [
    "if sequence_rnn:\n",
    "    model.fit(x_rnn, y_rnn, batch_size=64, nb_epoch=8)"
   ]
  },
  {
   "cell_type": "code",
   "execution_count": 119,
   "metadata": {
    "ExecuteTime": {
     "end_time": "2017-11-10T05:18:07.802300Z",
     "start_time": "2017-11-10T05:18:07.797075Z"
    },
    "collapsed": true
   },
   "outputs": [],
   "source": [
    "def get_next(inp):\n",
    "    idx = np.array([char_indices[i] for i in inp])\n",
    "    arr = idx[np.newaxis, :]\n",
    "    pred = model.predict(arr)[0]\n",
    "    return [indices_char[np.argmax(o)] for o in pred]"
   ]
  },
  {
   "cell_type": "code",
   "execution_count": 120,
   "metadata": {
    "ExecuteTime": {
     "end_time": "2017-11-10T05:18:07.807437Z",
     "start_time": "2017-11-10T05:18:07.804123Z"
    },
    "collapsed": true
   },
   "outputs": [],
   "source": [
    "if sequence_rnn:\n",
    "    get_next('The thin')"
   ]
  },
  {
   "cell_type": "code",
   "execution_count": 121,
   "metadata": {
    "ExecuteTime": {
     "end_time": "2017-11-10T05:18:07.812445Z",
     "start_time": "2017-11-10T05:18:07.809245Z"
    },
    "collapsed": true
   },
   "outputs": [],
   "source": [
    "if sequence_rnn:\n",
    "    get_next(' this is')"
   ]
  },
  {
   "cell_type": "code",
   "execution_count": 122,
   "metadata": {
    "ExecuteTime": {
     "end_time": "2017-11-10T05:18:07.842155Z",
     "start_time": "2017-11-10T05:18:07.814246Z"
    },
    "collapsed": true
   },
   "outputs": [],
   "source": [
    "model = Sequential([\n",
    "   SimpleRNN(n_hidden, return_sequences=True, input_shape=(cs, vocab_size), \n",
    "            activation='relu', inner_init='identity'),\n",
    "   TimeDistributed(Dense(vocab_size, activation='softmax'))\n",
    "])"
   ]
  },
  {
   "cell_type": "code",
   "execution_count": 123,
   "metadata": {
    "ExecuteTime": {
     "end_time": "2017-11-10T05:18:08.173471Z",
     "start_time": "2017-11-10T05:18:07.843824Z"
    },
    "collapsed": true
   },
   "outputs": [],
   "source": [
    "oh_xs = np.stack([to_categorical(i, vocab_size) for i in xs], 1)"
   ]
  },
  {
   "cell_type": "code",
   "execution_count": 124,
   "metadata": {
    "ExecuteTime": {
     "end_time": "2017-11-10T05:18:08.501751Z",
     "start_time": "2017-11-10T05:18:08.175076Z"
    },
    "collapsed": true
   },
   "outputs": [],
   "source": [
    "oh_ys = np.stack([to_categorical(i, vocab_size) for i in ys], 1)"
   ]
  },
  {
   "cell_type": "code",
   "execution_count": 125,
   "metadata": {
    "ExecuteTime": {
     "end_time": "2017-11-10T05:18:08.508146Z",
     "start_time": "2017-11-10T05:18:08.503537Z"
    }
   },
   "outputs": [
    {
     "data": {
      "text/plain": [
       "(75110, 8, 86)"
      ]
     },
     "execution_count": 125,
     "metadata": {},
     "output_type": "execute_result"
    }
   ],
   "source": [
    "oh_xs.shape"
   ]
  },
  {
   "cell_type": "code",
   "execution_count": 126,
   "metadata": {
    "ExecuteTime": {
     "end_time": "2017-11-10T05:18:08.528996Z",
     "start_time": "2017-11-10T05:18:08.509869Z"
    }
   },
   "outputs": [
    {
     "data": {
      "text/plain": [
       "(75110, 8, 86)"
      ]
     },
     "execution_count": 126,
     "metadata": {},
     "output_type": "execute_result"
    }
   ],
   "source": [
    "oh_ys.shape"
   ]
  },
  {
   "cell_type": "code",
   "execution_count": 127,
   "metadata": {
    "ExecuteTime": {
     "end_time": "2017-11-10T05:18:08.543253Z",
     "start_time": "2017-11-10T05:18:08.530902Z"
    },
    "collapsed": true
   },
   "outputs": [],
   "source": [
    "model.compile(loss='categorical_crossentropy', optimizer=Adam())"
   ]
  },
  {
   "cell_type": "code",
   "execution_count": 128,
   "metadata": {
    "ExecuteTime": {
     "end_time": "2017-11-10T05:18:08.548594Z",
     "start_time": "2017-11-10T05:18:08.545198Z"
    },
    "collapsed": true
   },
   "outputs": [],
   "source": [
    "if sequence_rnn:\n",
    "    model.fit(oh_xs, oh_ys, batch_size=64)"
   ]
  },
  {
   "cell_type": "markdown",
   "metadata": {},
   "source": [
    "# Stateful Model with Keras"
   ]
  },
  {
   "cell_type": "code",
   "execution_count": 129,
   "metadata": {
    "ExecuteTime": {
     "end_time": "2017-11-10T05:18:08.553627Z",
     "start_time": "2017-11-10T05:18:08.550434Z"
    },
    "collapsed": true
   },
   "outputs": [],
   "source": [
    "bs = 64"
   ]
  },
  {
   "cell_type": "code",
   "execution_count": 130,
   "metadata": {
    "ExecuteTime": {
     "end_time": "2017-11-10T05:18:08.644629Z",
     "start_time": "2017-11-10T05:18:08.555128Z"
    },
    "collapsed": true
   },
   "outputs": [],
   "source": [
    "model = Sequential([\n",
    "    Embedding(vocab_size, n_fac, input_length=cs, batch_input_shape=(bs, 8)),\n",
    "    BatchNormalization(),\n",
    "    LSTM(n_hidden, return_sequences=True, stateful=True),\n",
    "    TimeDistributed(Dense(vocab_size, activation='softmax'))\n",
    "])"
   ]
  },
  {
   "cell_type": "code",
   "execution_count": 131,
   "metadata": {
    "ExecuteTime": {
     "end_time": "2017-11-10T05:18:08.650790Z",
     "start_time": "2017-11-10T05:18:08.646256Z"
    }
   },
   "outputs": [
    {
     "data": {
      "text/plain": [
       "(75110, 8)"
      ]
     },
     "execution_count": 131,
     "metadata": {},
     "output_type": "execute_result"
    }
   ],
   "source": [
    "x_rnn.shape"
   ]
  },
  {
   "cell_type": "code",
   "execution_count": 132,
   "metadata": {
    "ExecuteTime": {
     "end_time": "2017-11-10T05:18:08.656824Z",
     "start_time": "2017-11-10T05:18:08.652520Z"
    }
   },
   "outputs": [
    {
     "data": {
      "text/plain": [
       "(75110, 8, 1)"
      ]
     },
     "execution_count": 132,
     "metadata": {},
     "output_type": "execute_result"
    }
   ],
   "source": [
    "y_rnn.shape"
   ]
  },
  {
   "cell_type": "code",
   "execution_count": 133,
   "metadata": {
    "ExecuteTime": {
     "end_time": "2017-11-10T05:18:08.661768Z",
     "start_time": "2017-11-10T05:18:08.658731Z"
    },
    "collapsed": true
   },
   "outputs": [],
   "source": [
    "mx = len(x_rnn)//bs * bs"
   ]
  },
  {
   "cell_type": "code",
   "execution_count": 134,
   "metadata": {
    "ExecuteTime": {
     "end_time": "2017-11-10T05:18:08.676960Z",
     "start_time": "2017-11-10T05:18:08.663554Z"
    },
    "collapsed": true
   },
   "outputs": [],
   "source": [
    "model.compile(optimizer=Adam(), loss='sparse_categorical_crossentropy')"
   ]
  },
  {
   "cell_type": "code",
   "execution_count": 135,
   "metadata": {
    "ExecuteTime": {
     "end_time": "2017-11-10T05:18:08.683517Z",
     "start_time": "2017-11-10T05:18:08.678673Z"
    }
   },
   "outputs": [
    {
     "data": {
      "text/plain": [
       "array([[40, 42, 29, ..., 27, 29,  1],\n",
       "       [ 1,  1, 43, ..., 40, 39, 43],\n",
       "       [33, 38, 31, ..., 61, 54, 73],\n",
       "       ..., \n",
       "       [72, 73, 62, ...,  2, 76, 68],\n",
       "       [71, 65, 57, ..., 72,  2, 73],\n",
       "       [61, 58,  2, ..., 57, 62, 56]])"
      ]
     },
     "execution_count": 135,
     "metadata": {},
     "output_type": "execute_result"
    }
   ],
   "source": [
    "x_rnn"
   ]
  },
  {
   "cell_type": "code",
   "execution_count": 136,
   "metadata": {
    "ExecuteTime": {
     "end_time": "2017-11-10T05:18:08.689951Z",
     "start_time": "2017-11-10T05:18:08.685440Z"
    }
   },
   "outputs": [],
   "source": [
    "if stateful_model:\n",
    "    model.fit(x_rnn[:mx], y_rnn[:mx], batch_size=bs, nb_epoch=4, shuffle=False)"
   ]
  },
  {
   "cell_type": "code",
   "execution_count": 137,
   "metadata": {
    "ExecuteTime": {
     "end_time": "2017-11-10T05:18:08.695333Z",
     "start_time": "2017-11-10T05:18:08.691635Z"
    }
   },
   "outputs": [],
   "source": [
    "if stateful_model:\n",
    "    model.fit(x_rnn[:mx], y_rnn[:mx], batch_size=bs, nb_epoch=4, shuffle=False)"
   ]
  },
  {
   "cell_type": "code",
   "execution_count": 138,
   "metadata": {
    "ExecuteTime": {
     "end_time": "2017-11-10T05:18:08.700788Z",
     "start_time": "2017-11-10T05:18:08.697089Z"
    }
   },
   "outputs": [],
   "source": [
    "if stateful_model:\n",
    "    model.fit(x_rnn[:mx], y_rnn[:mx], batch_size=bs, nb_epoch=4, shuffle=False)"
   ]
  },
  {
   "cell_type": "code",
   "execution_count": 139,
   "metadata": {
    "ExecuteTime": {
     "end_time": "2017-11-10T05:18:08.707323Z",
     "start_time": "2017-11-10T05:18:08.702413Z"
    }
   },
   "outputs": [
    {
     "data": {
      "text/plain": [
       "(75072, 8)"
      ]
     },
     "execution_count": 139,
     "metadata": {},
     "output_type": "execute_result"
    }
   ],
   "source": [
    "x_rnn[:mx].shape"
   ]
  },
  {
   "cell_type": "code",
   "execution_count": 140,
   "metadata": {
    "ExecuteTime": {
     "end_time": "2017-11-10T05:18:08.713528Z",
     "start_time": "2017-11-10T05:18:08.709347Z"
    }
   },
   "outputs": [
    {
     "data": {
      "text/plain": [
       "64"
      ]
     },
     "execution_count": 140,
     "metadata": {},
     "output_type": "execute_result"
    }
   ],
   "source": [
    "bs"
   ]
  },
  {
   "cell_type": "code",
   "execution_count": 141,
   "metadata": {
    "ExecuteTime": {
     "end_time": "2017-11-10T05:18:08.720093Z",
     "start_time": "2017-11-10T05:18:08.715628Z"
    }
   },
   "outputs": [
    {
     "data": {
      "text/plain": [
       "(75110, 8)"
      ]
     },
     "execution_count": 141,
     "metadata": {},
     "output_type": "execute_result"
    }
   ],
   "source": [
    "x_rnn.shape"
   ]
  },
  {
   "cell_type": "code",
   "execution_count": 142,
   "metadata": {
    "ExecuteTime": {
     "end_time": "2017-11-10T05:18:09.600847Z",
     "start_time": "2017-11-10T05:18:08.722194Z"
    }
   },
   "outputs": [
    {
     "name": "stdout",
     "output_type": "stream",
     "text": [
      "____________________________________________________________________________________________________\n",
      "Layer (type)                     Output Shape          Param #     Connected to                     \n",
      "====================================================================================================\n",
      "embedding_6 (Embedding)          (64, 8, 42)           3612        embedding_input_3[0][0]          \n",
      "____________________________________________________________________________________________________\n",
      "batchnormalization_1 (BatchNorma (64, 8, 42)           168         embedding_6[0][0]                \n",
      "____________________________________________________________________________________________________\n",
      "lstm_1 (LSTM)                    (64, 8, 256)          306176      batchnormalization_1[0][0]       \n",
      "____________________________________________________________________________________________________\n",
      "timedistributed_3 (TimeDistribut (64, 8, 86)           22102       lstm_1[0][0]                     \n",
      "====================================================================================================\n",
      "Total params: 332,058\n",
      "Trainable params: 331,974\n",
      "Non-trainable params: 84\n",
      "____________________________________________________________________________________________________\n"
     ]
    }
   ],
   "source": [
    "model.summary()"
   ]
  },
  {
   "cell_type": "code",
   "execution_count": 143,
   "metadata": {
    "ExecuteTime": {
     "end_time": "2017-11-10T05:18:09.607322Z",
     "start_time": "2017-11-10T05:18:09.602584Z"
    }
   },
   "outputs": [
    {
     "data": {
      "text/plain": [
       "8"
      ]
     },
     "execution_count": 143,
     "metadata": {},
     "output_type": "execute_result"
    }
   ],
   "source": [
    "x_rnn.shape[1]"
   ]
  },
  {
   "cell_type": "code",
   "execution_count": 144,
   "metadata": {
    "ExecuteTime": {
     "end_time": "2017-11-10T05:18:10.340295Z",
     "start_time": "2017-11-10T05:18:09.609715Z"
    }
   },
   "outputs": [
    {
     "name": "stdout",
     "output_type": "stream",
     "text": [
      "____________________________________________________________________________________________________\n",
      "Layer (type)                     Output Shape          Param #     Connected to                     \n",
      "====================================================================================================\n",
      "embedding_6 (Embedding)          (64, 8, 42)           3612        embedding_input_3[0][0]          \n",
      "____________________________________________________________________________________________________\n",
      "batchnormalization_1 (BatchNorma (64, 8, 42)           168         embedding_6[0][0]                \n",
      "____________________________________________________________________________________________________\n",
      "lstm_1 (LSTM)                    (64, 8, 256)          306176      batchnormalization_1[0][0]       \n",
      "____________________________________________________________________________________________________\n",
      "timedistributed_3 (TimeDistribut (64, 8, 86)           22102       lstm_1[0][0]                     \n",
      "====================================================================================================\n",
      "Total params: 332,058\n",
      "Trainable params: 331,974\n",
      "Non-trainable params: 84\n",
      "____________________________________________________________________________________________________\n"
     ]
    }
   ],
   "source": [
    "model.summary()"
   ]
  },
  {
   "cell_type": "code",
   "execution_count": 145,
   "metadata": {
    "ExecuteTime": {
     "end_time": "2017-11-10T05:18:10.353412Z",
     "start_time": "2017-11-10T05:18:10.341988Z"
    },
    "collapsed": true
   },
   "outputs": [],
   "source": [
    "def print_example():\n",
    "    seed_string=\"ethics i\"\n",
    "    batch_size=64\n",
    "    next_chars = []\n",
    "    for i in range(320):\n",
    "        x=np.array([char_indices[c] for c in seed_string[-8:]])[np.newaxis, :]\n",
    "        remaining_rows = batch_size - x.shape[0]\n",
    "        newx = np.vstack((x, np.tile(x, (remaining_rows, 1))))\n",
    "        preds = model.predict(newx, batch_size=batch_size, verbose=0)[0][-1]\n",
    "        preds = preds/np.sum(preds)\n",
    "        next_char = choice(chars, p=preds)\n",
    "        next_chars.append(next_char)\n",
    "        seed_string = seed_string + next_char\n",
    "    print(''.join(next_chars))"
   ]
  },
  {
   "cell_type": "code",
   "execution_count": 146,
   "metadata": {
    "ExecuteTime": {
     "end_time": "2017-11-10T05:18:13.030773Z",
     "start_time": "2017-11-10T05:18:10.355029Z"
    }
   },
   "outputs": [
    {
     "name": "stdout",
     "output_type": "stream",
     "text": [
      "04?;8fmnCa1jVT3e:=FL.gIn7,oBTdHoU![pI-CG:S�KY: ))Tw�M�YwF\"q:E�)b\"�a3swknz[!t!?V8(jfbH)'WRhyx[2]kg5PF��4nzm�x�4XNmHcwmGL�0])=8uf;P1jita�Elt'1x(soUludzYdFcj,;siVlgv9A:3''w_hn5;kn?hVosVLF1i(YG\n",
      " Tya4WcNE�U�oI�'Iz0q?[Dwx1=ePFjW\"k9RrB;yD1'oW5D1MKL4:�X)V3]u62,�zoWqN\"r_vVt7g'K7?\"!mqNjzx,47r0ycI]0Z�Ngt!yH:\"h�myT?l3z,r2aH(MP,�\n"
     ]
    }
   ],
   "source": [
    "print_example()"
   ]
  },
  {
   "cell_type": "markdown",
   "metadata": {},
   "source": [
    "# Theano RNN"
   ]
  },
  {
   "cell_type": "code",
   "execution_count": 147,
   "metadata": {
    "ExecuteTime": {
     "end_time": "2017-11-10T05:18:13.035627Z",
     "start_time": "2017-11-10T05:18:13.032428Z"
    },
    "collapsed": true
   },
   "outputs": [],
   "source": [
    "n_input = vocab_size\n",
    "n_output = vocab_size"
   ]
  },
  {
   "cell_type": "code",
   "execution_count": 148,
   "metadata": {
    "ExecuteTime": {
     "end_time": "2017-11-10T05:18:13.042376Z",
     "start_time": "2017-11-10T05:18:13.037153Z"
    },
    "collapsed": true
   },
   "outputs": [],
   "source": [
    "def init_wgts(rows, cols): \n",
    "    scale = math.sqrt(2/rows)\n",
    "    return shared(normal(scale=scale, size=(rows, cols)).astype(np.float32))\n",
    "def init_bias(rows): \n",
    "    return shared(np.zeros(rows, dtype=np.float32))"
   ]
  },
  {
   "cell_type": "code",
   "execution_count": 149,
   "metadata": {
    "ExecuteTime": {
     "end_time": "2017-11-10T05:18:13.050467Z",
     "start_time": "2017-11-10T05:18:13.044903Z"
    },
    "collapsed": true
   },
   "outputs": [],
   "source": [
    "def wgts_and_bias(n_in, n_out): \n",
    "    return init_wgts(n_in, n_out), init_bias(n_out)\n",
    "def id_and_bias(n): \n",
    "    return shared(np.eye(n, dtype=np.float32)), init_bias(n)"
   ]
  },
  {
   "cell_type": "code",
   "execution_count": 150,
   "metadata": {
    "ExecuteTime": {
     "end_time": "2017-11-10T05:18:13.059217Z",
     "start_time": "2017-11-10T05:18:13.052829Z"
    },
    "collapsed": true
   },
   "outputs": [],
   "source": [
    "t_inp = T.matrix('inp')\n",
    "t_outp = T.matrix('outp')\n",
    "t_h0 = T.vector('h0')\n",
    "lr = T.scalar('lr')\n",
    "\n",
    "all_args = [t_h0, t_inp, t_outp, lr]"
   ]
  },
  {
   "cell_type": "code",
   "execution_count": 151,
   "metadata": {
    "ExecuteTime": {
     "end_time": "2017-11-10T05:18:13.081329Z",
     "start_time": "2017-11-10T05:18:13.061125Z"
    }
   },
   "outputs": [],
   "source": [
    "W_h = id_and_bias(n_hidden)\n",
    "W_x = wgts_and_bias(n_input, n_hidden)\n",
    "W_y = wgts_and_bias(n_hidden, n_output)\n",
    "w_all = list(chain.from_iterable([W_h, W_x, W_y]))"
   ]
  },
  {
   "cell_type": "code",
   "execution_count": 152,
   "metadata": {
    "ExecuteTime": {
     "end_time": "2017-11-10T05:18:13.088862Z",
     "start_time": "2017-11-10T05:18:13.083100Z"
    },
    "collapsed": true
   },
   "outputs": [],
   "source": [
    "def step(x, h, W_h, b_h, W_x, b_x, W_y, b_y):\n",
    "    # Calculate the hidden activations\n",
    "    h = nnet.relu(T.dot(x, W_x) + b_x + T.dot(h, W_h) + b_h)\n",
    "    # Calculate the output activations\n",
    "    y = nnet.softmax(T.dot(h, W_y) + b_y)\n",
    "    # Return both (the 'Flatten()' is to work around a theano bug)\n",
    "    return h, T.flatten(y, 1)"
   ]
  },
  {
   "cell_type": "code",
   "execution_count": 153,
   "metadata": {
    "ExecuteTime": {
     "end_time": "2017-11-10T05:18:13.124128Z",
     "start_time": "2017-11-10T05:18:13.091136Z"
    }
   },
   "outputs": [],
   "source": [
    "[v_h, v_y], _ = theano.scan(step, sequences=t_inp, \n",
    "                            outputs_info=[t_h0, None], non_sequences=w_all)"
   ]
  },
  {
   "cell_type": "code",
   "execution_count": 154,
   "metadata": {
    "ExecuteTime": {
     "end_time": "2017-11-10T05:18:13.209490Z",
     "start_time": "2017-11-10T05:18:13.125998Z"
    }
   },
   "outputs": [],
   "source": [
    "error = nnet.categorical_crossentropy(v_y, t_outp).sum()\n",
    "g_all = T.grad(error, w_all)"
   ]
  },
  {
   "cell_type": "code",
   "execution_count": 155,
   "metadata": {
    "ExecuteTime": {
     "end_time": "2017-11-10T05:18:13.219534Z",
     "start_time": "2017-11-10T05:18:13.211101Z"
    },
    "collapsed": true
   },
   "outputs": [],
   "source": [
    "def upd_dict(wgts, grads, lr): \n",
    "    return OrderedDict({w: w-g*lr for (w,g) in zip(wgts,grads)})\n",
    "\n",
    "upd = upd_dict(w_all, g_all, lr)"
   ]
  },
  {
   "cell_type": "code",
   "execution_count": 156,
   "metadata": {
    "ExecuteTime": {
     "end_time": "2017-11-10T05:18:19.394264Z",
     "start_time": "2017-11-10T05:18:13.221206Z"
    }
   },
   "outputs": [],
   "source": [
    "fn = theano.function(all_args, error, updates=upd, allow_input_downcast=True)"
   ]
  },
  {
   "cell_type": "code",
   "execution_count": 157,
   "metadata": {
    "ExecuteTime": {
     "end_time": "2017-11-10T05:18:20.047389Z",
     "start_time": "2017-11-10T05:18:19.395919Z"
    }
   },
   "outputs": [],
   "source": [
    "oh_ys = [to_categorical(o, vocab_size) for o in ys]\n",
    "oh_y_rnn=np.stack(oh_ys, axis=1)\n",
    "\n",
    "oh_xs = [to_categorical(o, vocab_size) for o in xs]\n",
    "oh_x_rnn=np.stack(oh_xs, axis=1)"
   ]
  },
  {
   "cell_type": "code",
   "execution_count": 158,
   "metadata": {
    "ExecuteTime": {
     "end_time": "2017-11-10T05:18:20.054981Z",
     "start_time": "2017-11-10T05:18:20.048996Z"
    }
   },
   "outputs": [
    {
     "data": {
      "text/plain": [
       "((75110, 8, 86), (75110, 8, 86))"
      ]
     },
     "execution_count": 158,
     "metadata": {},
     "output_type": "execute_result"
    }
   ],
   "source": [
    "X = oh_x_rnn\n",
    "Y = oh_y_rnn\n",
    "X.shape, Y.shape"
   ]
  },
  {
   "cell_type": "code",
   "execution_count": 159,
   "metadata": {
    "ExecuteTime": {
     "end_time": "2017-11-10T05:22:26.081217Z",
     "start_time": "2017-11-10T05:18:20.057524Z"
    }
   },
   "outputs": [
    {
     "name": "stdout",
     "output_type": "stream",
     "text": [
      "Error:25.083\n",
      "Error:21.407\n",
      "Error:20.868\n",
      "Error:19.858\n",
      "Error:18.819\n",
      "Error:19.220\n",
      "Error:19.058\n",
      "Error:18.493\n",
      "Error:17.940\n",
      "Error:18.256\n",
      "Error:17.443\n",
      "Error:17.652\n",
      "Error:18.372\n",
      "Error:17.286\n",
      "Error:16.790\n",
      "Error:17.717\n",
      "Error:17.347\n",
      "Error:17.177\n",
      "Error:16.798\n",
      "Error:16.648\n",
      "Error:16.502\n",
      "Error:16.433\n",
      "Error:16.666\n",
      "Error:16.176\n",
      "Error:16.757\n",
      "Error:16.601\n",
      "Error:16.077\n",
      "Error:16.195\n",
      "Error:16.216\n",
      "Error:16.410\n",
      "Error:16.655\n",
      "Error:16.349\n",
      "Error:16.676\n",
      "Error:16.320\n",
      "Error:15.956\n",
      "Error:16.728\n",
      "Error:15.991\n",
      "Error:16.366\n",
      "Error:16.057\n",
      "Error:16.264\n",
      "Error:15.368\n",
      "Error:15.713\n",
      "Error:15.689\n",
      "Error:15.922\n",
      "Error:15.918\n",
      "Error:15.900\n",
      "Error:15.555\n",
      "Error:16.095\n",
      "Error:15.929\n",
      "Error:16.028\n",
      "Error:15.249\n",
      "Error:15.613\n",
      "Error:14.916\n",
      "Error:14.876\n",
      "Error:15.647\n",
      "Error:15.344\n",
      "Error:14.679\n",
      "Error:15.460\n",
      "Error:15.080\n",
      "Error:14.985\n",
      "Error:14.974\n",
      "Error:15.393\n",
      "Error:15.296\n",
      "Error:15.049\n",
      "Error:14.717\n",
      "Error:14.782\n",
      "Error:14.230\n",
      "Error:14.751\n",
      "Error:15.175\n",
      "Error:14.745\n",
      "Error:15.053\n",
      "Error:14.670\n",
      "Error:14.443\n",
      "Error:14.560\n",
      "Error:14.426\n"
     ]
    }
   ],
   "source": [
    "err = 0.0; l_rate = 0.01\n",
    "for i in range(len(X)):\n",
    "    err += fn(np.zeros(n_hidden), X[i], Y[i], l_rate)\n",
    "    if i % 1000 == 999:\n",
    "        print(\"Error:{:,.3f}\".format(err/1000))\n",
    "        err = 0.0"
   ]
  },
  {
   "cell_type": "code",
   "execution_count": 161,
   "metadata": {
    "ExecuteTime": {
     "end_time": "2017-11-10T05:25:54.876390Z",
     "start_time": "2017-11-10T05:25:53.150043Z"
    },
    "collapsed": true
   },
   "outputs": [],
   "source": [
    "f_y = theano.function([t_h0, t_inp], v_y, allow_input_downcast=True)"
   ]
  },
  {
   "cell_type": "code",
   "execution_count": 162,
   "metadata": {
    "ExecuteTime": {
     "end_time": "2017-11-10T05:27:00.448996Z",
     "start_time": "2017-11-10T05:27:00.443981Z"
    },
    "collapsed": true
   },
   "outputs": [],
   "source": [
    "pred = np.argmax(f_y(np.zeros(n_hidden), X[6]), axis=1)"
   ]
  },
  {
   "cell_type": "code",
   "execution_count": 163,
   "metadata": {
    "ExecuteTime": {
     "end_time": "2017-11-10T05:27:18.806935Z",
     "start_time": "2017-11-10T05:27:18.803854Z"
    },
    "collapsed": true
   },
   "outputs": [],
   "source": [
    "act = np.argmax(X[6], axis=1)"
   ]
  },
  {
   "cell_type": "code",
   "execution_count": 164,
   "metadata": {
    "ExecuteTime": {
     "end_time": "2017-11-10T05:27:49.823150Z",
     "start_time": "2017-11-10T05:27:49.817836Z"
    }
   },
   "outputs": [
    {
     "data": {
      "text/plain": [
       "['t', 'h', 'e', 'n', '?', ' ', 'I', 's']"
      ]
     },
     "execution_count": 164,
     "metadata": {},
     "output_type": "execute_result"
    }
   ],
   "source": [
    "[indices_char[o] for o in act]"
   ]
  },
  {
   "cell_type": "code",
   "execution_count": 165,
   "metadata": {
    "ExecuteTime": {
     "end_time": "2017-11-10T05:28:04.323110Z",
     "start_time": "2017-11-10T05:28:04.317777Z"
    }
   },
   "outputs": [
    {
     "data": {
      "text/plain": [
       "['h', 'e', ' ', ' ', ' ', 'T', 't', ' ']"
      ]
     },
     "execution_count": 165,
     "metadata": {},
     "output_type": "execute_result"
    }
   ],
   "source": [
    "[indices_char[o] for o in pred]"
   ]
  },
  {
   "cell_type": "code",
   "execution_count": null,
   "metadata": {
    "collapsed": true
   },
   "outputs": [],
   "source": []
  }
 ],
 "metadata": {
  "kernelspec": {
   "display_name": "Python 2",
   "language": "python",
   "name": "python2"
  },
  "language_info": {
   "codemirror_mode": {
    "name": "ipython",
    "version": 2
   },
   "file_extension": ".py",
   "mimetype": "text/x-python",
   "name": "python",
   "nbconvert_exporter": "python",
   "pygments_lexer": "ipython2",
   "version": "2.7.13"
  }
 },
 "nbformat": 4,
 "nbformat_minor": 2
}
