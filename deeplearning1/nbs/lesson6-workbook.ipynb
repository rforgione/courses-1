{
 "cells": [
  {
   "cell_type": "code",
   "execution_count": 1,
   "metadata": {
    "ExecuteTime": {
     "end_time": "2017-11-08T05:00:59.531933Z",
     "start_time": "2017-11-08T05:00:54.719396Z"
    }
   },
   "outputs": [
    {
     "name": "stderr",
     "output_type": "stream",
     "text": [
      "WARNING (theano.sandbox.cuda): The cuda backend is deprecated and will be removed in the next release (v0.10).  Please switch to the gpuarray backend. You can get more information about how to switch at this URL:\n",
      " https://github.com/Theano/Theano/wiki/Converting-to-the-new-gpu-back-end%28gpuarray%29\n",
      "\n",
      "Using gpu device 0: Tesla K80 (CNMeM is enabled with initial size: 90.0% of memory, cuDNN 5103)\n",
      "WARNING (theano.sandbox.cuda): The cuda backend is deprecated and will be removed in the next release (v0.10).  Please switch to the gpuarray backend. You can get more information about how to switch at this URL:\n",
      " https://github.com/Theano/Theano/wiki/Converting-to-the-new-gpu-back-end%28gpuarray%29\n",
      "\n",
      "WARNING (theano.sandbox.cuda): Ignoring call to use(1), GPU number 0 is already in use.\n"
     ]
    }
   ],
   "source": [
    "from theano.sandbox import cuda\n",
    "cuda.use('gpu1')\n",
    "three_char = False\n",
    "eight_char = False\n",
    "sequence_rnn = False \n",
    "first_rnn = False\n",
    "stateful_model = True"
   ]
  },
  {
   "cell_type": "code",
   "execution_count": 2,
   "metadata": {
    "ExecuteTime": {
     "end_time": "2017-11-08T05:01:00.379764Z",
     "start_time": "2017-11-08T05:00:59.533731Z"
    }
   },
   "outputs": [
    {
     "name": "stderr",
     "output_type": "stream",
     "text": [
      "Using Theano backend.\n"
     ]
    }
   ],
   "source": [
    "%matplotlib inline\n",
    "import utils; reload(utils)\n",
    "from utils import *\n",
    "from __future__ import division, print_function"
   ]
  },
  {
   "cell_type": "code",
   "execution_count": 3,
   "metadata": {
    "ExecuteTime": {
     "end_time": "2017-11-08T05:01:00.387585Z",
     "start_time": "2017-11-08T05:01:00.382045Z"
    }
   },
   "outputs": [
    {
     "name": "stdout",
     "output_type": "stream",
     "text": [
      "Corpus length: 600901\n"
     ]
    }
   ],
   "source": [
    "path = get_file('nietzche.txt', 'https://s3.amazonaws.com/text-datasets/nietzsche.txt')\n",
    "text = open(path).read()\n",
    "print(\"Corpus length: %s\" % len(text))"
   ]
  },
  {
   "cell_type": "code",
   "execution_count": 4,
   "metadata": {
    "ExecuteTime": {
     "end_time": "2017-11-08T05:01:00.403265Z",
     "start_time": "2017-11-08T05:01:00.389238Z"
    },
    "collapsed": true
   },
   "outputs": [],
   "source": [
    "chars = sorted(list(set(text)))\n",
    "vocab_size = len(chars) + 1\n",
    "chars.insert(0, \"\\0\")"
   ]
  },
  {
   "cell_type": "code",
   "execution_count": 5,
   "metadata": {
    "ExecuteTime": {
     "end_time": "2017-11-08T05:01:00.409334Z",
     "start_time": "2017-11-08T05:01:00.405146Z"
    }
   },
   "outputs": [
    {
     "name": "stdout",
     "output_type": "stream",
     "text": [
      "Total chars:  86\n"
     ]
    }
   ],
   "source": [
    "print(\"Total chars: \", vocab_size)"
   ]
  },
  {
   "cell_type": "code",
   "execution_count": 6,
   "metadata": {
    "ExecuteTime": {
     "end_time": "2017-11-08T05:01:00.417290Z",
     "start_time": "2017-11-08T05:01:00.410925Z"
    }
   },
   "outputs": [
    {
     "data": {
      "text/plain": [
       "'\\n !\"\\'(),-.0123456789:;=?ABCDEFGHIJKLMNOPQRSTUVWXYZ[]_abcdefghijklmnopqrstuvwxyz'"
      ]
     },
     "execution_count": 6,
     "metadata": {},
     "output_type": "execute_result"
    }
   ],
   "source": [
    "''.join(chars[1:-6])"
   ]
  },
  {
   "cell_type": "code",
   "execution_count": 7,
   "metadata": {
    "ExecuteTime": {
     "end_time": "2017-11-08T05:01:00.423046Z",
     "start_time": "2017-11-08T05:01:00.418857Z"
    },
    "collapsed": true
   },
   "outputs": [],
   "source": [
    "char_indices = dict((c, i) for (i, c) in enumerate(chars))\n",
    "indices_char = dict((i, c) for (i, c) in enumerate(chars))"
   ]
  },
  {
   "cell_type": "code",
   "execution_count": 8,
   "metadata": {
    "ExecuteTime": {
     "end_time": "2017-11-08T05:01:00.508522Z",
     "start_time": "2017-11-08T05:01:00.424657Z"
    },
    "collapsed": true
   },
   "outputs": [],
   "source": [
    "idx = [char_indices[c] for c in text]"
   ]
  },
  {
   "cell_type": "code",
   "execution_count": 9,
   "metadata": {
    "ExecuteTime": {
     "end_time": "2017-11-08T05:01:00.515513Z",
     "start_time": "2017-11-08T05:01:00.510249Z"
    }
   },
   "outputs": [
    {
     "data": {
      "text/plain": [
       "[40, 42, 29, 30, 25, 27, 29, 1, 1, 1]"
      ]
     },
     "execution_count": 9,
     "metadata": {},
     "output_type": "execute_result"
    }
   ],
   "source": [
    "idx[:10]"
   ]
  },
  {
   "cell_type": "code",
   "execution_count": 10,
   "metadata": {
    "ExecuteTime": {
     "end_time": "2017-11-08T05:01:00.524127Z",
     "start_time": "2017-11-08T05:01:00.517215Z"
    }
   },
   "outputs": [
    {
     "data": {
      "text/plain": [
       "'PREFACE\\n\\n\\nSUPPOSING that Truth is a woman--what then? Is there not ground\\nfor suspecting that all ph'"
      ]
     },
     "execution_count": 10,
     "metadata": {},
     "output_type": "execute_result"
    }
   ],
   "source": [
    "''.join([chars[i] for i in idx[:100]])"
   ]
  },
  {
   "cell_type": "markdown",
   "metadata": {},
   "source": [
    "# 3-Char Model"
   ]
  },
  {
   "cell_type": "code",
   "execution_count": 11,
   "metadata": {
    "ExecuteTime": {
     "end_time": "2017-11-08T05:01:00.614189Z",
     "start_time": "2017-11-08T05:01:00.526009Z"
    },
    "collapsed": true
   },
   "outputs": [],
   "source": [
    "seq_length = 3\n",
    "char_0 = [idx[i] for i in range(0, len(idx)-1-seq_length, seq_length)]\n",
    "char_1 = [idx[i + 1] for i in range(0, len(idx)-1-seq_length, seq_length)]\n",
    "char_2 = [idx[i + 2] for i in range(0, len(idx)-1-seq_length, seq_length)]\n",
    "char_3 = [idx[i + 3] for i in range(0, len(idx)-1-seq_length, seq_length)]"
   ]
  },
  {
   "cell_type": "code",
   "execution_count": 12,
   "metadata": {
    "ExecuteTime": {
     "end_time": "2017-11-08T05:01:00.665116Z",
     "start_time": "2017-11-08T05:01:00.615992Z"
    },
    "collapsed": true
   },
   "outputs": [],
   "source": [
    "x0 = np.array(char_0[:-2])\n",
    "x1 = np.array(char_1[:-2])\n",
    "x2 = np.array(char_2[:-2])\n",
    "x3 = np.array(char_3[:-2])"
   ]
  },
  {
   "cell_type": "code",
   "execution_count": 13,
   "metadata": {
    "ExecuteTime": {
     "end_time": "2017-11-08T05:01:00.683472Z",
     "start_time": "2017-11-08T05:01:00.666808Z"
    },
    "collapsed": true
   },
   "outputs": [],
   "source": [
    "def embedding_input(name, n_in, n_out):\n",
    "    inp = Input(shape=(1,), dtype='int64', name=name)\n",
    "    emb = Embedding(n_in, n_out, input_length=1)(inp)\n",
    "    return inp, Flatten()(emb)"
   ]
  },
  {
   "cell_type": "code",
   "execution_count": 14,
   "metadata": {
    "ExecuteTime": {
     "end_time": "2017-11-08T05:01:00.688026Z",
     "start_time": "2017-11-08T05:01:00.685042Z"
    },
    "collapsed": true
   },
   "outputs": [],
   "source": [
    "n_fac = 42"
   ]
  },
  {
   "cell_type": "code",
   "execution_count": 15,
   "metadata": {
    "ExecuteTime": {
     "end_time": "2017-11-08T05:01:00.720738Z",
     "start_time": "2017-11-08T05:01:00.689624Z"
    },
    "collapsed": true
   },
   "outputs": [],
   "source": [
    "inp0, emb0 = embedding_input('c0_dat', vocab_size, n_fac)\n",
    "inp1, emb1 = embedding_input('c1_dat', vocab_size, n_fac)\n",
    "inp2, emb2 = embedding_input('c2_dat', vocab_size, n_fac)"
   ]
  },
  {
   "cell_type": "code",
   "execution_count": 16,
   "metadata": {
    "ExecuteTime": {
     "end_time": "2017-11-08T05:01:00.725725Z",
     "start_time": "2017-11-08T05:01:00.722648Z"
    },
    "collapsed": true
   },
   "outputs": [],
   "source": [
    "n_hidden = 256"
   ]
  },
  {
   "cell_type": "code",
   "execution_count": 17,
   "metadata": {
    "ExecuteTime": {
     "end_time": "2017-11-08T05:01:00.731895Z",
     "start_time": "2017-11-08T05:01:00.727461Z"
    }
   },
   "outputs": [],
   "source": [
    "dense_in = Dense(n_hidden, activation='relu')\n",
    "dense_hidden = Dense(n_hidden, activation='tanh')\n",
    "dense_out = Dense(vocab_size, activation='softmax')"
   ]
  },
  {
   "cell_type": "code",
   "execution_count": 18,
   "metadata": {
    "ExecuteTime": {
     "end_time": "2017-11-08T05:01:00.756476Z",
     "start_time": "2017-11-08T05:01:00.733430Z"
    },
    "collapsed": true
   },
   "outputs": [],
   "source": [
    "# these embs are already linked to the inps from the embedding_input function\n",
    "hidden = dense_in(emb0)\n",
    "c2_dense = dense_in(emb1)\n",
    "hidden = merge([dense_hidden(hidden), c2_dense])\n",
    "c3_dense = dense_in(emb2)\n",
    "hidden = merge([dense_hidden(hidden), c3_dense])\n",
    "c4_out = dense_out(hidden)"
   ]
  },
  {
   "cell_type": "code",
   "execution_count": 19,
   "metadata": {
    "ExecuteTime": {
     "end_time": "2017-11-08T05:01:00.761507Z",
     "start_time": "2017-11-08T05:01:00.758072Z"
    },
    "collapsed": true
   },
   "outputs": [],
   "source": [
    "model = Model([inp0, inp1, inp2], c4_out)"
   ]
  },
  {
   "cell_type": "code",
   "execution_count": 20,
   "metadata": {
    "ExecuteTime": {
     "end_time": "2017-11-08T05:01:00.800850Z",
     "start_time": "2017-11-08T05:01:00.763456Z"
    },
    "collapsed": true
   },
   "outputs": [],
   "source": [
    "model.compile(loss='sparse_categorical_crossentropy', optimizer=Adam())\n",
    "# model.optimizer.lr = 0.000001\n",
    "# model.fit([x0, x1, x2], x3, batch_size=64, nb_epoch=4)"
   ]
  },
  {
   "cell_type": "code",
   "execution_count": 21,
   "metadata": {
    "ExecuteTime": {
     "end_time": "2017-11-08T05:01:00.806827Z",
     "start_time": "2017-11-08T05:01:00.802658Z"
    }
   },
   "outputs": [],
   "source": [
    "if three_char:\n",
    "    model.fit([x0, x1, x2], x3, batch_size=64, nb_epoch=4)"
   ]
  },
  {
   "cell_type": "code",
   "execution_count": 22,
   "metadata": {
    "ExecuteTime": {
     "end_time": "2017-11-08T05:01:00.812883Z",
     "start_time": "2017-11-08T05:01:00.809074Z"
    },
    "collapsed": true
   },
   "outputs": [],
   "source": [
    "model.optimizer.lr = 0.01"
   ]
  },
  {
   "cell_type": "code",
   "execution_count": 23,
   "metadata": {
    "ExecuteTime": {
     "end_time": "2017-11-08T05:01:00.819587Z",
     "start_time": "2017-11-08T05:01:00.815398Z"
    },
    "collapsed": true
   },
   "outputs": [],
   "source": [
    "if three_char:\n",
    "    model.fit([x0, x1, x2], x3, batch_size=64, nb_epoch=4)"
   ]
  },
  {
   "cell_type": "code",
   "execution_count": 24,
   "metadata": {
    "ExecuteTime": {
     "end_time": "2017-11-08T05:01:00.826157Z",
     "start_time": "2017-11-08T05:01:00.821932Z"
    },
    "collapsed": true
   },
   "outputs": [],
   "source": [
    "if three_char:\n",
    "    model.fit([x0, x1, x2], x3, batch_size=64, nb_epoch=4)"
   ]
  },
  {
   "cell_type": "code",
   "execution_count": 25,
   "metadata": {
    "ExecuteTime": {
     "end_time": "2017-11-08T05:01:00.831171Z",
     "start_time": "2017-11-08T05:01:00.828328Z"
    },
    "collapsed": true
   },
   "outputs": [],
   "source": [
    "model.optimizer.lr = 0.000001"
   ]
  },
  {
   "cell_type": "code",
   "execution_count": 26,
   "metadata": {
    "ExecuteTime": {
     "end_time": "2017-11-08T05:01:00.836378Z",
     "start_time": "2017-11-08T05:01:00.832780Z"
    },
    "collapsed": true
   },
   "outputs": [],
   "source": [
    "if three_char:\n",
    "    model.fit([x0, x1, x2], x3, batch_size=64, nb_epoch=4)"
   ]
  },
  {
   "cell_type": "code",
   "execution_count": 27,
   "metadata": {
    "ExecuteTime": {
     "end_time": "2017-11-08T05:01:00.841602Z",
     "start_time": "2017-11-08T05:01:00.838080Z"
    },
    "collapsed": true
   },
   "outputs": [],
   "source": [
    "if three_char:\n",
    "    model.fit([x0, x1, x2], x3, batch_size=64, nb_epoch=4)"
   ]
  },
  {
   "cell_type": "code",
   "execution_count": 28,
   "metadata": {
    "ExecuteTime": {
     "end_time": "2017-11-08T05:01:00.846731Z",
     "start_time": "2017-11-08T05:01:00.843478Z"
    },
    "collapsed": true
   },
   "outputs": [],
   "source": [
    "if three_char:\n",
    "    model.fit([x0, x1, x2], x3, batch_size=64, nb_epoch=4)"
   ]
  },
  {
   "cell_type": "code",
   "execution_count": 29,
   "metadata": {
    "ExecuteTime": {
     "end_time": "2017-11-08T05:01:00.852225Z",
     "start_time": "2017-11-08T05:01:00.848665Z"
    }
   },
   "outputs": [],
   "source": [
    "if three_char:\n",
    "    model.fit([x0, x1, x2], x3, batch_size=64, nb_epoch=4)"
   ]
  },
  {
   "cell_type": "code",
   "execution_count": 30,
   "metadata": {
    "ExecuteTime": {
     "end_time": "2017-11-08T05:01:00.859120Z",
     "start_time": "2017-11-08T05:01:00.854202Z"
    },
    "collapsed": true
   },
   "outputs": [],
   "source": [
    "def get_next(inp):\n",
    "    idxs = [char_indices[c] for c in inp]\n",
    "    arrs = [np.array(i)[np.newaxis] for i in idxs]\n",
    "    p = model.predict(arrs)\n",
    "    i = np.argmax(p)\n",
    "    return chars[i]"
   ]
  },
  {
   "cell_type": "code",
   "execution_count": 31,
   "metadata": {
    "ExecuteTime": {
     "end_time": "2017-11-08T05:01:00.864442Z",
     "start_time": "2017-11-08T05:01:00.861013Z"
    }
   },
   "outputs": [],
   "source": [
    "if three_char:\n",
    "    get_next('the')"
   ]
  },
  {
   "cell_type": "code",
   "execution_count": 32,
   "metadata": {
    "ExecuteTime": {
     "end_time": "2017-11-08T05:01:00.869648Z",
     "start_time": "2017-11-08T05:01:00.866245Z"
    }
   },
   "outputs": [],
   "source": [
    "if three_char:\n",
    "    get_next('thi')"
   ]
  },
  {
   "cell_type": "code",
   "execution_count": 33,
   "metadata": {
    "ExecuteTime": {
     "end_time": "2017-11-08T05:01:00.874515Z",
     "start_time": "2017-11-08T05:01:00.871444Z"
    }
   },
   "outputs": [],
   "source": [
    "if three_char:\n",
    "    get_next('hel')"
   ]
  },
  {
   "cell_type": "code",
   "execution_count": 34,
   "metadata": {
    "ExecuteTime": {
     "end_time": "2017-11-08T05:01:00.903613Z",
     "start_time": "2017-11-08T05:01:00.876213Z"
    }
   },
   "outputs": [],
   "source": [
    "if three_char:\n",
    "    get_next('Som')"
   ]
  },
  {
   "cell_type": "code",
   "execution_count": 35,
   "metadata": {
    "ExecuteTime": {
     "end_time": "2017-11-08T05:01:00.908482Z",
     "start_time": "2017-11-08T05:01:00.905059Z"
    }
   },
   "outputs": [],
   "source": [
    "if three_char:\n",
    "    get_next('Wha')"
   ]
  },
  {
   "cell_type": "code",
   "execution_count": 36,
   "metadata": {
    "ExecuteTime": {
     "end_time": "2017-11-08T05:01:00.913559Z",
     "start_time": "2017-11-08T05:01:00.910280Z"
    }
   },
   "outputs": [],
   "source": [
    "if three_char:\n",
    "    get_next('is ')"
   ]
  },
  {
   "cell_type": "code",
   "execution_count": 37,
   "metadata": {
    "ExecuteTime": {
     "end_time": "2017-11-08T05:01:00.918646Z",
     "start_time": "2017-11-08T05:01:00.915363Z"
    }
   },
   "outputs": [],
   "source": [
    "if three_char:\n",
    "    get_next('s t')"
   ]
  },
  {
   "cell_type": "markdown",
   "metadata": {},
   "source": [
    "# Our First RNN"
   ]
  },
  {
   "cell_type": "code",
   "execution_count": 38,
   "metadata": {
    "ExecuteTime": {
     "end_time": "2017-11-08T05:01:00.923465Z",
     "start_time": "2017-11-08T05:01:00.920449Z"
    },
    "collapsed": true
   },
   "outputs": [],
   "source": [
    "cs = 8"
   ]
  },
  {
   "cell_type": "code",
   "execution_count": 39,
   "metadata": {
    "ExecuteTime": {
     "end_time": "2017-11-08T05:01:00.987664Z",
     "start_time": "2017-11-08T05:01:00.925152Z"
    },
    "collapsed": true
   },
   "outputs": [],
   "source": [
    "c_in_dat = [[idx[i+n] for i in xrange(0, len(idx)-1-cs, cs)] for n in range(cs)]"
   ]
  },
  {
   "cell_type": "code",
   "execution_count": 40,
   "metadata": {
    "ExecuteTime": {
     "end_time": "2017-11-08T05:01:00.993972Z",
     "start_time": "2017-11-08T05:01:00.989266Z"
    }
   },
   "outputs": [
    {
     "data": {
      "text/plain": [
       "75112"
      ]
     },
     "execution_count": 40,
     "metadata": {},
     "output_type": "execute_result"
    }
   ],
   "source": [
    "len(c_in_dat[0])"
   ]
  },
  {
   "cell_type": "code",
   "execution_count": 41,
   "metadata": {
    "ExecuteTime": {
     "end_time": "2017-11-08T05:01:01.019527Z",
     "start_time": "2017-11-08T05:01:00.995583Z"
    }
   },
   "outputs": [
    {
     "data": {
      "text/plain": [
       "(8, 75112)"
      ]
     },
     "execution_count": 41,
     "metadata": {},
     "output_type": "execute_result"
    }
   ],
   "source": [
    "len(c_in_dat), len(c_in_dat[0])"
   ]
  },
  {
   "cell_type": "code",
   "execution_count": 42,
   "metadata": {
    "ExecuteTime": {
     "end_time": "2017-11-08T05:01:01.035400Z",
     "start_time": "2017-11-08T05:01:01.021758Z"
    },
    "collapsed": true
   },
   "outputs": [],
   "source": [
    "c_out_dat = [idx[i+cs] for i in xrange(0, len(idx)-1-cs, cs)]"
   ]
  },
  {
   "cell_type": "code",
   "execution_count": 43,
   "metadata": {
    "ExecuteTime": {
     "end_time": "2017-11-08T05:01:02.068502Z",
     "start_time": "2017-11-08T05:01:01.037357Z"
    },
    "collapsed": true
   },
   "outputs": [],
   "source": [
    "xs = [np.stack(c[:-2]) for c in c_in_dat]"
   ]
  },
  {
   "cell_type": "code",
   "execution_count": 44,
   "metadata": {
    "ExecuteTime": {
     "end_time": "2017-11-08T05:01:02.075013Z",
     "start_time": "2017-11-08T05:01:02.070082Z"
    }
   },
   "outputs": [
    {
     "data": {
      "text/plain": [
       "(8, 75110)"
      ]
     },
     "execution_count": 44,
     "metadata": {},
     "output_type": "execute_result"
    }
   ],
   "source": [
    "len(xs), len(xs[0])"
   ]
  },
  {
   "cell_type": "code",
   "execution_count": 45,
   "metadata": {
    "ExecuteTime": {
     "end_time": "2017-11-08T05:01:02.224488Z",
     "start_time": "2017-11-08T05:01:02.076860Z"
    },
    "collapsed": true
   },
   "outputs": [],
   "source": [
    "y = np.stack(c_out_dat[:-2])"
   ]
  },
  {
   "cell_type": "code",
   "execution_count": 46,
   "metadata": {
    "ExecuteTime": {
     "end_time": "2017-11-08T05:01:02.232373Z",
     "start_time": "2017-11-08T05:01:02.226021Z"
    }
   },
   "outputs": [
    {
     "data": {
      "text/plain": [
       "[array([40,  1, 33,  2, 72, 67, 73,  2]),\n",
       " array([42,  1, 38, 44,  2,  9, 61, 73]),\n",
       " array([29, 43, 31, 71, 54,  9, 58, 61]),\n",
       " array([30, 45,  2, 74,  2, 76, 67, 58]),\n",
       " array([25, 40, 73, 73, 76, 61, 24, 71]),\n",
       " array([27, 40, 61, 61, 68, 54,  2, 58]),\n",
       " array([29, 39, 54,  2, 66, 73, 33,  2]),\n",
       " array([ 1, 43, 73, 62, 54,  2, 72, 67])]"
      ]
     },
     "execution_count": 46,
     "metadata": {},
     "output_type": "execute_result"
    }
   ],
   "source": [
    "[xs[n][:cs] for n in range(cs)]"
   ]
  },
  {
   "cell_type": "code",
   "execution_count": 47,
   "metadata": {
    "ExecuteTime": {
     "end_time": "2017-11-08T05:01:02.240032Z",
     "start_time": "2017-11-08T05:01:02.234369Z"
    }
   },
   "outputs": [
    {
     "data": {
      "text/plain": [
       "[array([40,  1, 33, ..., 72, 71, 61]),\n",
       " array([42,  1, 38, ..., 73, 65, 58]),\n",
       " array([29, 43, 31, ..., 62, 57,  2]),\n",
       " array([30, 45,  2, ..., 54,  2, 62]),\n",
       " array([25, 40, 73, ..., 67, 54, 67]),\n",
       " array([27, 40, 61, ...,  2, 72, 57]),\n",
       " array([29, 39, 54, ..., 76,  2, 62]),\n",
       " array([ 1, 43, 73, ..., 68, 73, 56])]"
      ]
     },
     "execution_count": 47,
     "metadata": {},
     "output_type": "execute_result"
    }
   ],
   "source": [
    "xs"
   ]
  },
  {
   "cell_type": "code",
   "execution_count": 48,
   "metadata": {
    "ExecuteTime": {
     "end_time": "2017-11-08T05:01:02.246507Z",
     "start_time": "2017-11-08T05:01:02.241888Z"
    }
   },
   "outputs": [
    {
     "data": {
      "text/plain": [
       "array([ 1, 33,  2, 72, 67, 73,  2, 68])"
      ]
     },
     "execution_count": 48,
     "metadata": {},
     "output_type": "execute_result"
    }
   ],
   "source": [
    "y[:cs]"
   ]
  },
  {
   "cell_type": "code",
   "execution_count": 49,
   "metadata": {
    "ExecuteTime": {
     "end_time": "2017-11-08T05:01:02.289241Z",
     "start_time": "2017-11-08T05:01:02.248236Z"
    },
    "collapsed": true
   },
   "outputs": [],
   "source": [
    "n_fac = 42"
   ]
  },
  {
   "cell_type": "code",
   "execution_count": 50,
   "metadata": {
    "ExecuteTime": {
     "end_time": "2017-11-08T05:01:02.295494Z",
     "start_time": "2017-11-08T05:01:02.290836Z"
    },
    "collapsed": true
   },
   "outputs": [],
   "source": [
    "def embedding_input(name, n_in, n_out):\n",
    "    inp = Input(shape=(1,), dtype='int64', name=name+'_in')\n",
    "    emb = Embedding(n_in, n_out, input_length=1, name=name+'_emb')(inp)\n",
    "    return inp, Flatten()(emb)"
   ]
  },
  {
   "cell_type": "code",
   "execution_count": 51,
   "metadata": {
    "ExecuteTime": {
     "end_time": "2017-11-08T05:01:02.302039Z",
     "start_time": "2017-11-08T05:01:02.297244Z"
    }
   },
   "outputs": [
    {
     "data": {
      "text/plain": [
       "(8, 86, 42)"
      ]
     },
     "execution_count": 51,
     "metadata": {},
     "output_type": "execute_result"
    }
   ],
   "source": [
    "cs, vocab_size, n_fac"
   ]
  },
  {
   "cell_type": "code",
   "execution_count": 52,
   "metadata": {
    "ExecuteTime": {
     "end_time": "2017-11-08T05:01:02.365225Z",
     "start_time": "2017-11-08T05:01:02.303918Z"
    },
    "collapsed": true
   },
   "outputs": [],
   "source": [
    "c_ins = [embedding_input('c'+str(n), vocab_size, n_fac) for n in range(cs)]"
   ]
  },
  {
   "cell_type": "code",
   "execution_count": 53,
   "metadata": {
    "ExecuteTime": {
     "end_time": "2017-11-08T05:01:02.369752Z",
     "start_time": "2017-11-08T05:01:02.366807Z"
    },
    "collapsed": true
   },
   "outputs": [],
   "source": [
    "n_hidden = 256"
   ]
  },
  {
   "cell_type": "code",
   "execution_count": 54,
   "metadata": {
    "ExecuteTime": {
     "end_time": "2017-11-08T05:01:02.384525Z",
     "start_time": "2017-11-08T05:01:02.371443Z"
    },
    "collapsed": true
   },
   "outputs": [],
   "source": [
    "dense_in = Dense(n_hidden, activation='relu')\n",
    "dense_hidden = Dense(n_hidden, activation='relu', init='identity')\n",
    "dense_out = Dense(vocab_size, activation='softmax')"
   ]
  },
  {
   "cell_type": "code",
   "execution_count": 55,
   "metadata": {
    "ExecuteTime": {
     "end_time": "2017-11-08T05:01:02.391093Z",
     "start_time": "2017-11-08T05:01:02.385962Z"
    },
    "collapsed": true
   },
   "outputs": [],
   "source": [
    "hidden = dense_in(c_ins[0][1])"
   ]
  },
  {
   "cell_type": "code",
   "execution_count": 56,
   "metadata": {
    "ExecuteTime": {
     "end_time": "2017-11-08T05:01:02.432367Z",
     "start_time": "2017-11-08T05:01:02.393044Z"
    },
    "collapsed": true
   },
   "outputs": [],
   "source": [
    "for i in range(1, cs):\n",
    "    c_dense = dense_in(c_ins[i][1])\n",
    "    hidden = dense_hidden(hidden)\n",
    "    hidden = merge([c_dense, hidden])"
   ]
  },
  {
   "cell_type": "code",
   "execution_count": 57,
   "metadata": {
    "ExecuteTime": {
     "end_time": "2017-11-08T05:01:02.437936Z",
     "start_time": "2017-11-08T05:01:02.433696Z"
    },
    "collapsed": true
   },
   "outputs": [],
   "source": [
    "c_out = dense_out(hidden)"
   ]
  },
  {
   "cell_type": "code",
   "execution_count": 58,
   "metadata": {
    "ExecuteTime": {
     "end_time": "2017-11-08T05:01:02.460745Z",
     "start_time": "2017-11-08T05:01:02.439799Z"
    },
    "collapsed": true
   },
   "outputs": [],
   "source": [
    "model = Model([c[0] for c in c_ins], c_out)\n",
    "model.compile(loss='sparse_categorical_crossentropy', optimizer=Adam())"
   ]
  },
  {
   "cell_type": "code",
   "execution_count": 59,
   "metadata": {
    "ExecuteTime": {
     "end_time": "2017-11-08T05:01:02.464774Z",
     "start_time": "2017-11-08T05:01:02.462135Z"
    },
    "collapsed": true
   },
   "outputs": [],
   "source": [
    "# model.fit(xs, y, batch_size=64, nb_epoch=12)"
   ]
  },
  {
   "cell_type": "code",
   "execution_count": 60,
   "metadata": {
    "ExecuteTime": {
     "end_time": "2017-11-08T05:01:02.494405Z",
     "start_time": "2017-11-08T05:01:02.466591Z"
    },
    "collapsed": true
   },
   "outputs": [],
   "source": [
    "# model.fit(xs, y, batch_size=64, nb_epoch=12)"
   ]
  },
  {
   "cell_type": "code",
   "execution_count": 61,
   "metadata": {
    "ExecuteTime": {
     "end_time": "2017-11-08T05:01:02.500464Z",
     "start_time": "2017-11-08T05:01:02.495859Z"
    },
    "collapsed": true
   },
   "outputs": [],
   "source": [
    "def get_next(inp):\n",
    "    idxs = [np.array(char_indices[c])[np.newaxis] for c in inp]\n",
    "    p = model.predict(idxs)\n",
    "    return chars[np.argmax(p)]"
   ]
  },
  {
   "cell_type": "code",
   "execution_count": 62,
   "metadata": {
    "ExecuteTime": {
     "end_time": "2017-11-08T05:01:02.505345Z",
     "start_time": "2017-11-08T05:01:02.502011Z"
    }
   },
   "outputs": [],
   "source": [
    "if eight_char:\n",
    "    get_next('for thos')"
   ]
  },
  {
   "cell_type": "code",
   "execution_count": 63,
   "metadata": {
    "ExecuteTime": {
     "end_time": "2017-11-08T05:01:02.510426Z",
     "start_time": "2017-11-08T05:01:02.507093Z"
    }
   },
   "outputs": [],
   "source": [
    "if eight_char:\n",
    "    get_next('part of ')"
   ]
  },
  {
   "cell_type": "code",
   "execution_count": 64,
   "metadata": {
    "ExecuteTime": {
     "end_time": "2017-11-08T05:01:02.515450Z",
     "start_time": "2017-11-08T05:01:02.512242Z"
    }
   },
   "outputs": [],
   "source": [
    "if eight_char:\n",
    "    get_next('queens a')"
   ]
  },
  {
   "cell_type": "markdown",
   "metadata": {
    "collapsed": true
   },
   "source": [
    "# Our first RNN"
   ]
  },
  {
   "cell_type": "code",
   "execution_count": 65,
   "metadata": {
    "ExecuteTime": {
     "end_time": "2017-11-08T05:01:02.579090Z",
     "start_time": "2017-11-08T05:01:02.517156Z"
    },
    "collapsed": true
   },
   "outputs": [],
   "source": [
    "c_out_dat = [[idx[i+n] for i in xrange(1, len(idx)-cs, cs)] for n in range(cs)]"
   ]
  },
  {
   "cell_type": "code",
   "execution_count": 66,
   "metadata": {
    "ExecuteTime": {
     "end_time": "2017-11-08T05:01:02.585424Z",
     "start_time": "2017-11-08T05:01:02.580742Z"
    }
   },
   "outputs": [
    {
     "data": {
      "text/plain": [
       "(8, 75112)"
      ]
     },
     "execution_count": 66,
     "metadata": {},
     "output_type": "execute_result"
    }
   ],
   "source": [
    "len(c_out_dat), len(c_out_dat[0])"
   ]
  },
  {
   "cell_type": "code",
   "execution_count": 67,
   "metadata": {
    "ExecuteTime": {
     "end_time": "2017-11-08T05:01:02.612148Z",
     "start_time": "2017-11-08T05:01:02.587194Z"
    }
   },
   "outputs": [
    {
     "data": {
      "text/plain": [
       "['P', 'R', 'E', 'F', 'A', 'C', 'E', '\\n']"
      ]
     },
     "execution_count": 67,
     "metadata": {},
     "output_type": "execute_result"
    }
   ],
   "source": [
    "[indices_char[i[0]] for i in c_in_dat]"
   ]
  },
  {
   "cell_type": "code",
   "execution_count": 68,
   "metadata": {
    "ExecuteTime": {
     "end_time": "2017-11-08T05:01:02.622353Z",
     "start_time": "2017-11-08T05:01:02.613986Z"
    }
   },
   "outputs": [
    {
     "data": {
      "text/plain": [
       "['R', 'E', 'F', 'A', 'C', 'E', '\\n', '\\n']"
      ]
     },
     "execution_count": 68,
     "metadata": {},
     "output_type": "execute_result"
    }
   ],
   "source": [
    "[indices_char[i[0]] for i in c_out_dat]"
   ]
  },
  {
   "cell_type": "code",
   "execution_count": 69,
   "metadata": {
    "ExecuteTime": {
     "end_time": "2017-11-08T05:01:02.629053Z",
     "start_time": "2017-11-08T05:01:02.624008Z"
    }
   },
   "outputs": [
    {
     "data": {
      "text/plain": [
       "['\\n', '\\n', 'S', 'U', 'P', 'P', 'O', 'S']"
      ]
     },
     "execution_count": 69,
     "metadata": {},
     "output_type": "execute_result"
    }
   ],
   "source": [
    "[indices_char[i[1]] for i in c_in_dat]"
   ]
  },
  {
   "cell_type": "code",
   "execution_count": 70,
   "metadata": {
    "ExecuteTime": {
     "end_time": "2017-11-08T05:01:02.636302Z",
     "start_time": "2017-11-08T05:01:02.631155Z"
    }
   },
   "outputs": [
    {
     "data": {
      "text/plain": [
       "['\\n', 'S', 'U', 'P', 'P', 'O', 'S', 'I']"
      ]
     },
     "execution_count": 70,
     "metadata": {},
     "output_type": "execute_result"
    }
   ],
   "source": [
    "[indices_char[i[1]] for i in c_out_dat]"
   ]
  },
  {
   "cell_type": "code",
   "execution_count": 71,
   "metadata": {
    "ExecuteTime": {
     "end_time": "2017-11-08T05:01:03.635994Z",
     "start_time": "2017-11-08T05:01:02.638239Z"
    }
   },
   "outputs": [],
   "source": [
    "ys = [np.stack(arr[:-2]) for arr in c_out_dat]"
   ]
  },
  {
   "cell_type": "code",
   "execution_count": 72,
   "metadata": {
    "ExecuteTime": {
     "end_time": "2017-11-08T05:01:03.643355Z",
     "start_time": "2017-11-08T05:01:03.637845Z"
    }
   },
   "outputs": [
    {
     "data": {
      "text/plain": [
       "[array([42,  1, 38, ..., 73, 65, 58]),\n",
       " array([29, 43, 31, ..., 62, 57,  2]),\n",
       " array([30, 45,  2, ..., 54,  2, 62]),\n",
       " array([25, 40, 73, ..., 67, 54, 67]),\n",
       " array([27, 40, 61, ...,  2, 72, 57]),\n",
       " array([29, 39, 54, ..., 76,  2, 62]),\n",
       " array([ 1, 43, 73, ..., 68, 73, 56]),\n",
       " array([ 1, 33,  2, ..., 71, 61, 54])]"
      ]
     },
     "execution_count": 72,
     "metadata": {},
     "output_type": "execute_result"
    }
   ],
   "source": [
    "ys"
   ]
  },
  {
   "cell_type": "code",
   "execution_count": 73,
   "metadata": {
    "ExecuteTime": {
     "end_time": "2017-11-08T05:01:03.650910Z",
     "start_time": "2017-11-08T05:01:03.645036Z"
    }
   },
   "outputs": [
    {
     "data": {
      "text/plain": [
       "[array([40,  1, 33,  2, 72, 67, 73,  2]),\n",
       " array([42,  1, 38, 44,  2,  9, 61, 73]),\n",
       " array([29, 43, 31, 71, 54,  9, 58, 61]),\n",
       " array([30, 45,  2, 74,  2, 76, 67, 58]),\n",
       " array([25, 40, 73, 73, 76, 61, 24, 71]),\n",
       " array([27, 40, 61, 61, 68, 54,  2, 58]),\n",
       " array([29, 39, 54,  2, 66, 73, 33,  2]),\n",
       " array([ 1, 43, 73, 62, 54,  2, 72, 67])]"
      ]
     },
     "execution_count": 73,
     "metadata": {},
     "output_type": "execute_result"
    }
   ],
   "source": [
    "[xs[n][:cs] for n in range(cs)]"
   ]
  },
  {
   "cell_type": "code",
   "execution_count": 74,
   "metadata": {
    "ExecuteTime": {
     "end_time": "2017-11-08T05:01:03.658336Z",
     "start_time": "2017-11-08T05:01:03.652929Z"
    }
   },
   "outputs": [
    {
     "data": {
      "text/plain": [
       "[array([42,  1, 38, 44,  2,  9, 61, 73]),\n",
       " array([29, 43, 31, 71, 54,  9, 58, 61]),\n",
       " array([30, 45,  2, 74,  2, 76, 67, 58]),\n",
       " array([25, 40, 73, 73, 76, 61, 24, 71]),\n",
       " array([27, 40, 61, 61, 68, 54,  2, 58]),\n",
       " array([29, 39, 54,  2, 66, 73, 33,  2]),\n",
       " array([ 1, 43, 73, 62, 54,  2, 72, 67]),\n",
       " array([ 1, 33,  2, 72, 67, 73,  2, 68])]"
      ]
     },
     "execution_count": 74,
     "metadata": {},
     "output_type": "execute_result"
    }
   ],
   "source": [
    "[ys[n][:cs] for n in range(cs)]"
   ]
  },
  {
   "cell_type": "code",
   "execution_count": 75,
   "metadata": {
    "ExecuteTime": {
     "end_time": "2017-11-08T05:01:03.663961Z",
     "start_time": "2017-11-08T05:01:03.660056Z"
    },
    "collapsed": true
   },
   "outputs": [],
   "source": [
    "dense_in = Dense(n_hidden, activation='relu')\n",
    "dense_hidden = Dense(n_hidden, activation='relu', init='identity')\n",
    "dense_out = Dense(vocab_size, activation='softmax')"
   ]
  },
  {
   "cell_type": "code",
   "execution_count": 76,
   "metadata": {
    "ExecuteTime": {
     "end_time": "2017-11-08T05:01:03.671584Z",
     "start_time": "2017-11-08T05:01:03.665710Z"
    },
    "collapsed": true
   },
   "outputs": [],
   "source": [
    "inp1 = Input(shape=(n_fac,), name = 'zeros')\n",
    "hidden = dense_in(inp1)"
   ]
  },
  {
   "cell_type": "code",
   "execution_count": 77,
   "metadata": {
    "ExecuteTime": {
     "end_time": "2017-11-08T05:01:03.710500Z",
     "start_time": "2017-11-08T05:01:03.672963Z"
    },
    "collapsed": true
   },
   "outputs": [],
   "source": [
    "outs = []\n",
    "\n",
    "for i in range(cs):\n",
    "    c_dense = dense_in(c_ins[i][1])\n",
    "    hidden = merge([c_dense, dense_hidden(hidden)], mode='sum')\n",
    "    outs.append(dense_out(hidden)) "
   ]
  },
  {
   "cell_type": "code",
   "execution_count": 78,
   "metadata": {
    "ExecuteTime": {
     "end_time": "2017-11-08T05:01:03.716493Z",
     "start_time": "2017-11-08T05:01:03.712009Z"
    }
   },
   "outputs": [
    {
     "data": {
      "text/plain": [
       "8"
      ]
     },
     "execution_count": 78,
     "metadata": {},
     "output_type": "execute_result"
    }
   ],
   "source": [
    "len(outs)"
   ]
  },
  {
   "cell_type": "code",
   "execution_count": 79,
   "metadata": {
    "ExecuteTime": {
     "end_time": "2017-11-08T05:01:03.731708Z",
     "start_time": "2017-11-08T05:01:03.717998Z"
    },
    "collapsed": true
   },
   "outputs": [],
   "source": [
    "model = Model(input=[inp1] + [c[0] for c in c_ins], output=outs)"
   ]
  },
  {
   "cell_type": "code",
   "execution_count": 80,
   "metadata": {
    "ExecuteTime": {
     "end_time": "2017-11-08T05:01:03.830581Z",
     "start_time": "2017-11-08T05:01:03.733210Z"
    },
    "collapsed": true
   },
   "outputs": [],
   "source": [
    "model.compile(loss='sparse_categorical_crossentropy', optimizer=Adam())"
   ]
  },
  {
   "cell_type": "code",
   "execution_count": 81,
   "metadata": {
    "ExecuteTime": {
     "end_time": "2017-11-08T05:01:03.844144Z",
     "start_time": "2017-11-08T05:01:03.832110Z"
    },
    "collapsed": true
   },
   "outputs": [],
   "source": [
    "zeros = np.tile(np.zeros(n_fac), (len(xs[0]),1))"
   ]
  },
  {
   "cell_type": "code",
   "execution_count": 82,
   "metadata": {
    "ExecuteTime": {
     "end_time": "2017-11-08T05:01:03.865330Z",
     "start_time": "2017-11-08T05:01:03.845806Z"
    }
   },
   "outputs": [
    {
     "data": {
      "text/plain": [
       "array([[ 0.,  0.,  0., ...,  0.,  0.,  0.],\n",
       "       [ 0.,  0.,  0., ...,  0.,  0.,  0.],\n",
       "       [ 0.,  0.,  0., ...,  0.,  0.,  0.],\n",
       "       ..., \n",
       "       [ 0.,  0.,  0., ...,  0.,  0.,  0.],\n",
       "       [ 0.,  0.,  0., ...,  0.,  0.,  0.],\n",
       "       [ 0.,  0.,  0., ...,  0.,  0.,  0.]])"
      ]
     },
     "execution_count": 82,
     "metadata": {},
     "output_type": "execute_result"
    }
   ],
   "source": [
    "zeros"
   ]
  },
  {
   "cell_type": "code",
   "execution_count": 83,
   "metadata": {
    "ExecuteTime": {
     "end_time": "2017-11-08T05:01:03.870665Z",
     "start_time": "2017-11-08T05:01:03.867457Z"
    }
   },
   "outputs": [],
   "source": [
    "if first_rnn:\n",
    "    model.fit([zeros]+xs, ys, batch_size=64, nb_epoch=12)"
   ]
  },
  {
   "cell_type": "code",
   "execution_count": 84,
   "metadata": {
    "ExecuteTime": {
     "end_time": "2017-11-08T05:01:03.879223Z",
     "start_time": "2017-11-08T05:01:03.872271Z"
    }
   },
   "outputs": [
    {
     "data": {
      "text/plain": [
       "[array([[ 0.,  0.,  0., ...,  0.,  0.,  0.],\n",
       "        [ 0.,  0.,  0., ...,  0.,  0.,  0.],\n",
       "        [ 0.,  0.,  0., ...,  0.,  0.,  0.],\n",
       "        ..., \n",
       "        [ 0.,  0.,  0., ...,  0.,  0.,  0.],\n",
       "        [ 0.,  0.,  0., ...,  0.,  0.,  0.],\n",
       "        [ 0.,  0.,  0., ...,  0.,  0.,  0.]]),\n",
       " array([40,  1, 33, ..., 72, 71, 61]),\n",
       " array([42,  1, 38, ..., 73, 65, 58]),\n",
       " array([29, 43, 31, ..., 62, 57,  2]),\n",
       " array([30, 45,  2, ..., 54,  2, 62]),\n",
       " array([25, 40, 73, ..., 67, 54, 67]),\n",
       " array([27, 40, 61, ...,  2, 72, 57]),\n",
       " array([29, 39, 54, ..., 76,  2, 62]),\n",
       " array([ 1, 43, 73, ..., 68, 73, 56])]"
      ]
     },
     "execution_count": 84,
     "metadata": {},
     "output_type": "execute_result"
    }
   ],
   "source": [
    "[zeros] + xs"
   ]
  },
  {
   "cell_type": "code",
   "execution_count": 85,
   "metadata": {
    "ExecuteTime": {
     "end_time": "2017-11-08T05:01:03.885323Z",
     "start_time": "2017-11-08T05:01:03.880962Z"
    }
   },
   "outputs": [
    {
     "data": {
      "text/plain": [
       "(75110, 42)"
      ]
     },
     "execution_count": 85,
     "metadata": {},
     "output_type": "execute_result"
    }
   ],
   "source": [
    "zeros.shape"
   ]
  },
  {
   "cell_type": "code",
   "execution_count": 86,
   "metadata": {
    "ExecuteTime": {
     "end_time": "2017-11-08T05:01:03.891635Z",
     "start_time": "2017-11-08T05:01:03.886984Z"
    }
   },
   "outputs": [
    {
     "data": {
      "text/plain": [
       "(8, 75110)"
      ]
     },
     "execution_count": 86,
     "metadata": {},
     "output_type": "execute_result"
    }
   ],
   "source": [
    "len(xs), len(xs[0])"
   ]
  },
  {
   "cell_type": "code",
   "execution_count": 87,
   "metadata": {
    "ExecuteTime": {
     "end_time": "2017-11-08T05:01:03.897902Z",
     "start_time": "2017-11-08T05:01:03.893230Z"
    }
   },
   "outputs": [
    {
     "data": {
      "text/plain": [
       "array([40,  1, 33, ..., 72, 71, 61])"
      ]
     },
     "execution_count": 87,
     "metadata": {},
     "output_type": "execute_result"
    }
   ],
   "source": [
    "xs[0]"
   ]
  },
  {
   "cell_type": "code",
   "execution_count": 88,
   "metadata": {
    "ExecuteTime": {
     "end_time": "2017-11-08T05:01:03.905416Z",
     "start_time": "2017-11-08T05:01:03.899589Z"
    }
   },
   "outputs": [
    {
     "data": {
      "text/plain": [
       "array([ 0.,  0.,  0.,  0.,  0.,  0.,  0.,  0.,  0.,  0.,  0.,  0.,  0.,  0.,  0.,  0.,  0.,  0.,\n",
       "        0.,  0.,  0.,  0.,  0.,  0.,  0.,  0.,  0.,  0.,  0.,  0.,  0.,  0.,  0.,  0.,  0.,  0.,\n",
       "        0.,  0.,  0.,  0.,  0.,  0.])"
      ]
     },
     "execution_count": 88,
     "metadata": {},
     "output_type": "execute_result"
    }
   ],
   "source": [
    "zeros[0]"
   ]
  },
  {
   "cell_type": "code",
   "execution_count": 89,
   "metadata": {
    "ExecuteTime": {
     "end_time": "2017-11-08T05:01:03.912702Z",
     "start_time": "2017-11-08T05:01:03.907133Z"
    }
   },
   "outputs": [
    {
     "data": {
      "text/plain": [
       "[array([40,  1, 33, ..., 72, 71, 61]),\n",
       " array([42,  1, 38, ..., 73, 65, 58]),\n",
       " array([29, 43, 31, ..., 62, 57,  2]),\n",
       " array([30, 45,  2, ..., 54,  2, 62]),\n",
       " array([25, 40, 73, ..., 67, 54, 67]),\n",
       " array([27, 40, 61, ...,  2, 72, 57]),\n",
       " array([29, 39, 54, ..., 76,  2, 62]),\n",
       " array([ 1, 43, 73, ..., 68, 73, 56])]"
      ]
     },
     "execution_count": 89,
     "metadata": {},
     "output_type": "execute_result"
    }
   ],
   "source": [
    "xs"
   ]
  },
  {
   "cell_type": "code",
   "execution_count": 90,
   "metadata": {
    "ExecuteTime": {
     "end_time": "2017-11-08T05:01:03.921519Z",
     "start_time": "2017-11-08T05:01:03.914746Z"
    },
    "collapsed": true
   },
   "outputs": [],
   "source": [
    "# def get_nexts(inp):\n",
    "#     # get character indices for input\n",
    "#     idxs = [char_indices[c] for c in inp]\n",
    "#     # turn each index into a 1-d array\n",
    "#     arrs = [np.array([i]) for i in idxs]\n",
    "#     # predict these arrays, outputting a softmax\n",
    "#     p = model.predict([np.zeros(n_fac)[np.newaxis,:]] + arrs)\n",
    "#     # return the character that maximizes the softmax probability\n",
    "#     return [chars[np.argmax(o)] for o in p]\n",
    "def get_nexts(inp):\n",
    "    idxs = [char_indices[c] for c in inp]\n",
    "    arrs = [np.array([i]) for i in idxs]\n",
    "    p = model.predict([np.reshape(np.zeros(n_fac), newshape=(-1, n_fac))] + arrs)\n",
    "    return [chars[np.argmax(o)] for o in p]"
   ]
  },
  {
   "cell_type": "code",
   "execution_count": 91,
   "metadata": {
    "ExecuteTime": {
     "end_time": "2017-11-08T05:01:03.928534Z",
     "start_time": "2017-11-08T05:01:03.923128Z"
    }
   },
   "outputs": [
    {
     "data": {
      "text/plain": [
       "(1, 42)"
      ]
     },
     "execution_count": 91,
     "metadata": {},
     "output_type": "execute_result"
    }
   ],
   "source": [
    "np.reshape(np.zeros(n_fac), newshape=(-1, n_fac)).shape"
   ]
  },
  {
   "cell_type": "code",
   "execution_count": 92,
   "metadata": {
    "ExecuteTime": {
     "end_time": "2017-11-08T05:01:03.933437Z",
     "start_time": "2017-11-08T05:01:03.930394Z"
    }
   },
   "outputs": [],
   "source": [
    "if first_rnn:\n",
    "    get_nexts(' this is')"
   ]
  },
  {
   "cell_type": "code",
   "execution_count": 93,
   "metadata": {
    "ExecuteTime": {
     "end_time": "2017-11-08T05:01:03.952309Z",
     "start_time": "2017-11-08T05:01:03.934996Z"
    }
   },
   "outputs": [],
   "source": [
    "if first_rnn:\n",
    "    get_nexts(' part of')"
   ]
  },
  {
   "cell_type": "markdown",
   "metadata": {},
   "source": [
    "# Our First Keras RNN"
   ]
  },
  {
   "cell_type": "code",
   "execution_count": 94,
   "metadata": {
    "ExecuteTime": {
     "end_time": "2017-11-08T05:01:03.957221Z",
     "start_time": "2017-11-08T05:01:03.953848Z"
    }
   },
   "outputs": [],
   "source": [
    "n_hidden, n_fac, cs, vocab_size = (256, 42, 8, 86)"
   ]
  },
  {
   "cell_type": "code",
   "execution_count": 95,
   "metadata": {
    "ExecuteTime": {
     "end_time": "2017-11-08T05:01:04.005676Z",
     "start_time": "2017-11-08T05:01:03.958752Z"
    },
    "collapsed": true
   },
   "outputs": [],
   "source": [
    "model = Sequential([\n",
    "    Embedding(vocab_size, n_fac, input_length=cs),\n",
    "    SimpleRNN(n_hidden, activation='relu', inner_init='identity'),\n",
    "    Dense(vocab_size, activation='softmax')\n",
    "])"
   ]
  },
  {
   "cell_type": "code",
   "execution_count": 96,
   "metadata": {
    "ExecuteTime": {
     "end_time": "2017-11-08T05:01:04.193072Z",
     "start_time": "2017-11-08T05:01:04.007259Z"
    },
    "collapsed": true
   },
   "outputs": [],
   "source": [
    "c_ins = [embedding_input(name='c_' + str(i), n_in=vocab_size, n_out=n_fac) for i in range(cs)]"
   ]
  },
  {
   "cell_type": "code",
   "execution_count": 97,
   "metadata": {
    "ExecuteTime": {
     "end_time": "2017-11-08T05:01:04.199076Z",
     "start_time": "2017-11-08T05:01:04.194788Z"
    },
    "collapsed": true
   },
   "outputs": [],
   "source": [
    "dense_in = Dense(n_hidden, activation='relu')\n",
    "dense_hidden = Dense(n_hidden, activation='relu', init='identity')\n",
    "dense_out = Dense(vocab_size, activation='softmax')"
   ]
  },
  {
   "cell_type": "code",
   "execution_count": 98,
   "metadata": {
    "ExecuteTime": {
     "end_time": "2017-11-08T05:01:04.213510Z",
     "start_time": "2017-11-08T05:01:04.200673Z"
    }
   },
   "outputs": [
    {
     "data": {
      "text/plain": [
       "600901"
      ]
     },
     "execution_count": 98,
     "metadata": {},
     "output_type": "execute_result"
    }
   ],
   "source": [
    "len(idx)"
   ]
  },
  {
   "cell_type": "code",
   "execution_count": 99,
   "metadata": {
    "ExecuteTime": {
     "end_time": "2017-11-08T05:01:04.220423Z",
     "start_time": "2017-11-08T05:01:04.215028Z"
    },
    "collapsed": true
   },
   "outputs": [],
   "source": [
    "inp1 = Input(shape=(n_fac,), name='zeros')\n",
    "hidden = dense_in(inp1)"
   ]
  },
  {
   "cell_type": "code",
   "execution_count": 100,
   "metadata": {
    "ExecuteTime": {
     "end_time": "2017-11-08T05:01:04.226473Z",
     "start_time": "2017-11-08T05:01:04.222305Z"
    }
   },
   "outputs": [
    {
     "data": {
      "text/plain": [
       "256"
      ]
     },
     "execution_count": 100,
     "metadata": {},
     "output_type": "execute_result"
    }
   ],
   "source": [
    "n_hidden"
   ]
  },
  {
   "cell_type": "code",
   "execution_count": 101,
   "metadata": {
    "ExecuteTime": {
     "end_time": "2017-11-08T05:01:04.264297Z",
     "start_time": "2017-11-08T05:01:04.228464Z"
    },
    "collapsed": true
   },
   "outputs": [],
   "source": [
    "# outs = []\n",
    "# for i in range(cs):\n",
    "#     hidden = merge([dense_in(c_ins[i][1]), dense_hidden(hidden)], mode='sum')\n",
    "#     outs.append(dense_out(hidden)) \n",
    "\n",
    "outs = []\n",
    "\n",
    "for i in range(cs):\n",
    "    c_dense = dense_in(c_ins[i][1])\n",
    "    hidden = dense_hidden(hidden)\n",
    "    hidden = merge([c_dense, hidden], mode='sum')\n",
    "    # every layer now has an output\n",
    "    outs.append(dense_out(hidden))"
   ]
  },
  {
   "cell_type": "code",
   "execution_count": 102,
   "metadata": {
    "ExecuteTime": {
     "end_time": "2017-11-08T05:01:04.274571Z",
     "start_time": "2017-11-08T05:01:04.266385Z"
    },
    "collapsed": true
   },
   "outputs": [],
   "source": [
    "mdl = Model([inp1] + [c[0] for c in c_ins], outs)"
   ]
  },
  {
   "cell_type": "code",
   "execution_count": 103,
   "metadata": {
    "ExecuteTime": {
     "end_time": "2017-11-08T05:01:04.289276Z",
     "start_time": "2017-11-08T05:01:04.276238Z"
    }
   },
   "outputs": [
    {
     "data": {
      "text/plain": [
       "8"
      ]
     },
     "execution_count": 103,
     "metadata": {},
     "output_type": "execute_result"
    }
   ],
   "source": [
    "len(c_ins)"
   ]
  },
  {
   "cell_type": "code",
   "execution_count": 104,
   "metadata": {
    "ExecuteTime": {
     "end_time": "2017-11-08T05:01:04.304814Z",
     "start_time": "2017-11-08T05:01:04.291604Z"
    },
    "collapsed": true
   },
   "outputs": [],
   "source": [
    "zs = np.tile(np.zeros(n_fac), (len(xs[0]), 1))"
   ]
  },
  {
   "cell_type": "code",
   "execution_count": 105,
   "metadata": {
    "ExecuteTime": {
     "end_time": "2017-11-08T05:01:04.317934Z",
     "start_time": "2017-11-08T05:01:04.307089Z"
    },
    "collapsed": true
   },
   "outputs": [],
   "source": [
    "x0 = [np.array([0])] * len(xs[0])"
   ]
  },
  {
   "cell_type": "code",
   "execution_count": 106,
   "metadata": {
    "ExecuteTime": {
     "end_time": "2017-11-08T05:01:04.323887Z",
     "start_time": "2017-11-08T05:01:04.319541Z"
    }
   },
   "outputs": [
    {
     "data": {
      "text/plain": [
       "(75110, 42)"
      ]
     },
     "execution_count": 106,
     "metadata": {},
     "output_type": "execute_result"
    }
   ],
   "source": [
    "zs.shape"
   ]
  },
  {
   "cell_type": "code",
   "execution_count": 107,
   "metadata": {
    "ExecuteTime": {
     "end_time": "2017-11-08T05:01:04.404070Z",
     "start_time": "2017-11-08T05:01:04.325727Z"
    }
   },
   "outputs": [],
   "source": [
    "mdl.compile(loss='sparse_categorical_crossentropy', optimizer=Adam())\n",
    "if first_rnn:\n",
    "    mdl.fit([zs]+xs, y, batch_size=64, nb_epoch=12)"
   ]
  },
  {
   "cell_type": "markdown",
   "metadata": {},
   "source": [
    "# Sequence Model w/ Keras"
   ]
  },
  {
   "cell_type": "code",
   "execution_count": 108,
   "metadata": {
    "ExecuteTime": {
     "end_time": "2017-11-08T05:01:04.411154Z",
     "start_time": "2017-11-08T05:01:04.405824Z"
    }
   },
   "outputs": [
    {
     "data": {
      "text/plain": [
       "(256, 42, 8, 86)"
      ]
     },
     "execution_count": 108,
     "metadata": {},
     "output_type": "execute_result"
    }
   ],
   "source": [
    "n_hidden, n_fac, cs, vocab_size"
   ]
  },
  {
   "cell_type": "code",
   "execution_count": 109,
   "metadata": {
    "ExecuteTime": {
     "end_time": "2017-11-08T05:01:04.445752Z",
     "start_time": "2017-11-08T05:01:04.413492Z"
    },
    "collapsed": true
   },
   "outputs": [],
   "source": [
    "model = Sequential([\n",
    "    Embedding(vocab_size, n_fac, input_length=cs),\n",
    "    SimpleRNN(n_hidden, return_sequences=True, activation='relu', inner_init='identity'),\n",
    "    TimeDistributed(Dense(vocab_size, activation='softmax'))\n",
    "])"
   ]
  },
  {
   "cell_type": "code",
   "execution_count": 110,
   "metadata": {
    "ExecuteTime": {
     "end_time": "2017-11-08T05:01:04.807522Z",
     "start_time": "2017-11-08T05:01:04.447579Z"
    }
   },
   "outputs": [
    {
     "name": "stdout",
     "output_type": "stream",
     "text": [
      "____________________________________________________________________________________________________\n",
      "Layer (type)                     Output Shape          Param #     Connected to                     \n",
      "====================================================================================================\n",
      "embedding_5 (Embedding)          (None, 8, 42)         3612        embedding_input_2[0][0]          \n",
      "____________________________________________________________________________________________________\n",
      "simplernn_2 (SimpleRNN)          (None, 8, 256)        76544       embedding_5[0][0]                \n",
      "____________________________________________________________________________________________________\n",
      "timedistributed_1 (TimeDistribut (None, 8, 86)         22102       simplernn_2[0][0]                \n",
      "====================================================================================================\n",
      "Total params: 102,258\n",
      "Trainable params: 102,258\n",
      "Non-trainable params: 0\n",
      "____________________________________________________________________________________________________\n"
     ]
    }
   ],
   "source": [
    "model.summary()"
   ]
  },
  {
   "cell_type": "code",
   "execution_count": 111,
   "metadata": {
    "ExecuteTime": {
     "end_time": "2017-11-08T05:01:04.824435Z",
     "start_time": "2017-11-08T05:01:04.809343Z"
    },
    "collapsed": true
   },
   "outputs": [],
   "source": [
    "model.compile(loss='sparse_categorical_crossentropy', optimizer=Adam())"
   ]
  },
  {
   "cell_type": "code",
   "execution_count": 112,
   "metadata": {
    "ExecuteTime": {
     "end_time": "2017-11-08T05:01:04.833117Z",
     "start_time": "2017-11-08T05:01:04.826000Z"
    },
    "collapsed": true
   },
   "outputs": [],
   "source": [
    "x_rnn = np.stack(xs, axis=1)"
   ]
  },
  {
   "cell_type": "code",
   "execution_count": 113,
   "metadata": {
    "ExecuteTime": {
     "end_time": "2017-11-08T05:01:04.840784Z",
     "start_time": "2017-11-08T05:01:04.834532Z"
    }
   },
   "outputs": [
    {
     "data": {
      "text/plain": [
       "[array([40,  1, 33, ..., 72, 71, 61]),\n",
       " array([42,  1, 38, ..., 73, 65, 58]),\n",
       " array([29, 43, 31, ..., 62, 57,  2]),\n",
       " array([30, 45,  2, ..., 54,  2, 62]),\n",
       " array([25, 40, 73, ..., 67, 54, 67]),\n",
       " array([27, 40, 61, ...,  2, 72, 57]),\n",
       " array([29, 39, 54, ..., 76,  2, 62]),\n",
       " array([ 1, 43, 73, ..., 68, 73, 56])]"
      ]
     },
     "execution_count": 113,
     "metadata": {},
     "output_type": "execute_result"
    }
   ],
   "source": [
    "xs"
   ]
  },
  {
   "cell_type": "code",
   "execution_count": 114,
   "metadata": {
    "ExecuteTime": {
     "end_time": "2017-11-08T05:01:04.851438Z",
     "start_time": "2017-11-08T05:01:04.842935Z"
    }
   },
   "outputs": [
    {
     "data": {
      "text/plain": [
       "array([[40, 42, 29, ..., 27, 29,  1],\n",
       "       [ 1,  1, 43, ..., 40, 39, 43],\n",
       "       [33, 38, 31, ..., 61, 54, 73],\n",
       "       ..., \n",
       "       [72, 73, 62, ...,  2, 76, 68],\n",
       "       [71, 65, 57, ..., 72,  2, 73],\n",
       "       [61, 58,  2, ..., 57, 62, 56]])"
      ]
     },
     "execution_count": 114,
     "metadata": {},
     "output_type": "execute_result"
    }
   ],
   "source": [
    "x_rnn"
   ]
  },
  {
   "cell_type": "code",
   "execution_count": 115,
   "metadata": {
    "ExecuteTime": {
     "end_time": "2017-11-08T05:01:04.860799Z",
     "start_time": "2017-11-08T05:01:04.853621Z"
    },
    "collapsed": true
   },
   "outputs": [],
   "source": [
    "y_rnn = np.expand_dims(np.stack(ys, axis=1), -1)"
   ]
  },
  {
   "cell_type": "code",
   "execution_count": 116,
   "metadata": {
    "ExecuteTime": {
     "end_time": "2017-11-08T05:01:04.866482Z",
     "start_time": "2017-11-08T05:01:04.862312Z"
    }
   },
   "outputs": [
    {
     "data": {
      "text/plain": [
       "(75110, 8, 1)"
      ]
     },
     "execution_count": 116,
     "metadata": {},
     "output_type": "execute_result"
    }
   ],
   "source": [
    "y_rnn.shape"
   ]
  },
  {
   "cell_type": "code",
   "execution_count": 117,
   "metadata": {
    "ExecuteTime": {
     "end_time": "2017-11-08T05:01:04.890420Z",
     "start_time": "2017-11-08T05:01:04.867975Z"
    }
   },
   "outputs": [],
   "source": [
    "if sequence_rnn:\n",
    "    model.fit(x_rnn, y_rnn, batch_size=64, nb_epoch=8)"
   ]
  },
  {
   "cell_type": "code",
   "execution_count": 118,
   "metadata": {
    "ExecuteTime": {
     "end_time": "2017-11-08T05:01:04.895654Z",
     "start_time": "2017-11-08T05:01:04.891979Z"
    }
   },
   "outputs": [],
   "source": [
    "if sequence_rnn:\n",
    "    model.fit(x_rnn, y_rnn, batch_size=64, nb_epoch=8)"
   ]
  },
  {
   "cell_type": "code",
   "execution_count": 119,
   "metadata": {
    "ExecuteTime": {
     "end_time": "2017-11-08T05:01:04.902061Z",
     "start_time": "2017-11-08T05:01:04.897376Z"
    },
    "collapsed": true
   },
   "outputs": [],
   "source": [
    "def get_next(inp):\n",
    "    idx = np.array([char_indices[i] for i in inp])\n",
    "    arr = idx[np.newaxis, :]\n",
    "    pred = model.predict(arr)[0]\n",
    "    return [indices_char[np.argmax(o)] for o in pred]"
   ]
  },
  {
   "cell_type": "code",
   "execution_count": 120,
   "metadata": {
    "ExecuteTime": {
     "end_time": "2017-11-08T05:01:04.907022Z",
     "start_time": "2017-11-08T05:01:04.903794Z"
    }
   },
   "outputs": [],
   "source": [
    "if sequence_rnn:\n",
    "    get_next('The thin')"
   ]
  },
  {
   "cell_type": "code",
   "execution_count": 121,
   "metadata": {
    "ExecuteTime": {
     "end_time": "2017-11-08T05:01:04.911977Z",
     "start_time": "2017-11-08T05:01:04.908727Z"
    }
   },
   "outputs": [],
   "source": [
    "if sequence_rnn:\n",
    "    get_next(' this is')"
   ]
  },
  {
   "cell_type": "code",
   "execution_count": 122,
   "metadata": {
    "ExecuteTime": {
     "end_time": "2017-11-08T05:01:04.942219Z",
     "start_time": "2017-11-08T05:01:04.913798Z"
    },
    "collapsed": true
   },
   "outputs": [],
   "source": [
    "model = Sequential([\n",
    "   SimpleRNN(n_hidden, return_sequences=True, input_shape=(cs, vocab_size), \n",
    "            activation='relu', inner_init='identity'),\n",
    "   TimeDistributed(Dense(vocab_size, activation='softmax'))\n",
    "])"
   ]
  },
  {
   "cell_type": "code",
   "execution_count": 123,
   "metadata": {
    "ExecuteTime": {
     "end_time": "2017-11-08T05:01:05.359347Z",
     "start_time": "2017-11-08T05:01:04.943665Z"
    },
    "collapsed": true
   },
   "outputs": [],
   "source": [
    "oh_xs = np.stack([to_categorical(i, vocab_size) for i in xs], 1)"
   ]
  },
  {
   "cell_type": "code",
   "execution_count": 124,
   "metadata": {
    "ExecuteTime": {
     "end_time": "2017-11-08T05:01:05.775431Z",
     "start_time": "2017-11-08T05:01:05.361045Z"
    }
   },
   "outputs": [],
   "source": [
    "oh_ys = np.stack([to_categorical(i, vocab_size) for i in ys], 1)"
   ]
  },
  {
   "cell_type": "code",
   "execution_count": 125,
   "metadata": {
    "ExecuteTime": {
     "end_time": "2017-11-08T05:01:05.781999Z",
     "start_time": "2017-11-08T05:01:05.777086Z"
    }
   },
   "outputs": [
    {
     "data": {
      "text/plain": [
       "(75110, 8, 86)"
      ]
     },
     "execution_count": 125,
     "metadata": {},
     "output_type": "execute_result"
    }
   ],
   "source": [
    "oh_xs.shape"
   ]
  },
  {
   "cell_type": "code",
   "execution_count": 126,
   "metadata": {
    "ExecuteTime": {
     "end_time": "2017-11-08T05:01:05.798098Z",
     "start_time": "2017-11-08T05:01:05.783948Z"
    }
   },
   "outputs": [
    {
     "data": {
      "text/plain": [
       "(75110, 8, 86)"
      ]
     },
     "execution_count": 126,
     "metadata": {},
     "output_type": "execute_result"
    }
   ],
   "source": [
    "oh_ys.shape"
   ]
  },
  {
   "cell_type": "code",
   "execution_count": 127,
   "metadata": {
    "ExecuteTime": {
     "end_time": "2017-11-08T05:01:05.810810Z",
     "start_time": "2017-11-08T05:01:05.800108Z"
    },
    "collapsed": true
   },
   "outputs": [],
   "source": [
    "model.compile(loss='categorical_crossentropy', optimizer=Adam())"
   ]
  },
  {
   "cell_type": "code",
   "execution_count": 128,
   "metadata": {
    "ExecuteTime": {
     "end_time": "2017-11-08T05:01:05.815962Z",
     "start_time": "2017-11-08T05:01:05.812724Z"
    }
   },
   "outputs": [],
   "source": [
    "if sequence_rnn:\n",
    "    model.fit(oh_xs, oh_ys, batch_size=64)"
   ]
  },
  {
   "cell_type": "markdown",
   "metadata": {},
   "source": [
    "# Stateful Model with Keras"
   ]
  },
  {
   "cell_type": "code",
   "execution_count": 129,
   "metadata": {
    "ExecuteTime": {
     "end_time": "2017-11-08T05:01:05.820944Z",
     "start_time": "2017-11-08T05:01:05.817997Z"
    },
    "collapsed": true
   },
   "outputs": [],
   "source": [
    "bs = 64"
   ]
  },
  {
   "cell_type": "code",
   "execution_count": 168,
   "metadata": {
    "ExecuteTime": {
     "end_time": "2017-11-08T05:16:30.252595Z",
     "start_time": "2017-11-08T05:16:30.165594Z"
    }
   },
   "outputs": [],
   "source": [
    "model = Sequential([\n",
    "    Embedding(vocab_size, n_fac, input_length=cs, batch_input_shape=(bs, 8)),\n",
    "    BatchNormalization(),\n",
    "    LSTM(n_hidden, return_sequences=True, stateful=True),\n",
    "    TimeDistributed(Dense(vocab_size, activation='softmax'))\n",
    "])"
   ]
  },
  {
   "cell_type": "code",
   "execution_count": 169,
   "metadata": {
    "ExecuteTime": {
     "end_time": "2017-11-08T05:16:36.876793Z",
     "start_time": "2017-11-08T05:16:36.872218Z"
    }
   },
   "outputs": [
    {
     "data": {
      "text/plain": [
       "(75110, 8)"
      ]
     },
     "execution_count": 169,
     "metadata": {},
     "output_type": "execute_result"
    }
   ],
   "source": [
    "x_rnn.shape"
   ]
  },
  {
   "cell_type": "code",
   "execution_count": 170,
   "metadata": {
    "ExecuteTime": {
     "end_time": "2017-11-08T05:16:38.237344Z",
     "start_time": "2017-11-08T05:16:38.232490Z"
    }
   },
   "outputs": [
    {
     "data": {
      "text/plain": [
       "(75110, 8, 1)"
      ]
     },
     "execution_count": 170,
     "metadata": {},
     "output_type": "execute_result"
    }
   ],
   "source": [
    "y_rnn.shape"
   ]
  },
  {
   "cell_type": "code",
   "execution_count": 133,
   "metadata": {
    "ExecuteTime": {
     "end_time": "2017-11-08T05:01:05.929453Z",
     "start_time": "2017-11-08T05:01:05.926534Z"
    },
    "collapsed": true
   },
   "outputs": [],
   "source": [
    "mx = len(x_rnn)//bs * bs"
   ]
  },
  {
   "cell_type": "code",
   "execution_count": 189,
   "metadata": {
    "ExecuteTime": {
     "end_time": "2017-11-08T05:25:31.620633Z",
     "start_time": "2017-11-08T05:25:31.603873Z"
    },
    "collapsed": true
   },
   "outputs": [],
   "source": [
    "model.compile(optimizer=Adam(), loss='sparse_categorical_crossentropy')"
   ]
  },
  {
   "cell_type": "code",
   "execution_count": 135,
   "metadata": {
    "ExecuteTime": {
     "end_time": "2017-11-08T05:01:05.958346Z",
     "start_time": "2017-11-08T05:01:05.953393Z"
    }
   },
   "outputs": [
    {
     "data": {
      "text/plain": [
       "array([[40, 42, 29, ..., 27, 29,  1],\n",
       "       [ 1,  1, 43, ..., 40, 39, 43],\n",
       "       [33, 38, 31, ..., 61, 54, 73],\n",
       "       ..., \n",
       "       [72, 73, 62, ...,  2, 76, 68],\n",
       "       [71, 65, 57, ..., 72,  2, 73],\n",
       "       [61, 58,  2, ..., 57, 62, 56]])"
      ]
     },
     "execution_count": 135,
     "metadata": {},
     "output_type": "execute_result"
    }
   ],
   "source": [
    "x_rnn"
   ]
  },
  {
   "cell_type": "code",
   "execution_count": 190,
   "metadata": {
    "ExecuteTime": {
     "end_time": "2017-11-08T05:26:50.530149Z",
     "start_time": "2017-11-08T05:25:34.981467Z"
    }
   },
   "outputs": [
    {
     "name": "stdout",
     "output_type": "stream",
     "text": [
      "Epoch 1/4\n",
      "75072/75072 [==============================] - 15s - loss: 2.2222    \n",
      "Epoch 2/4\n",
      "75072/75072 [==============================] - 15s - loss: 1.9697    \n",
      "Epoch 3/4\n",
      "75072/75072 [==============================] - 15s - loss: 1.8941    \n",
      "Epoch 4/4\n",
      "75072/75072 [==============================] - 15s - loss: 1.8495    \n"
     ]
    }
   ],
   "source": [
    "if stateful_model:\n",
    "    model.fit(x_rnn[:mx], y_rnn[:mx], batch_size=bs, nb_epoch=4, shuffle=False)"
   ]
  },
  {
   "cell_type": "code",
   "execution_count": 191,
   "metadata": {
    "ExecuteTime": {
     "end_time": "2017-11-08T05:27:53.269620Z",
     "start_time": "2017-11-08T05:26:50.531992Z"
    }
   },
   "outputs": [
    {
     "name": "stdout",
     "output_type": "stream",
     "text": [
      "Epoch 1/4\n",
      "75072/75072 [==============================] - 15s - loss: 1.8172    \n",
      "Epoch 2/4\n",
      "75072/75072 [==============================] - 15s - loss: 1.7914    \n",
      "Epoch 3/4\n",
      "75072/75072 [==============================] - 15s - loss: 1.7697    \n",
      "Epoch 4/4\n",
      "75072/75072 [==============================] - 15s - loss: 1.7509    \n"
     ]
    }
   ],
   "source": [
    "if stateful_model:\n",
    "    model.fit(x_rnn[:mx], y_rnn[:mx], batch_size=bs, nb_epoch=4, shuffle=False)"
   ]
  },
  {
   "cell_type": "code",
   "execution_count": 193,
   "metadata": {
    "ExecuteTime": {
     "end_time": "2017-11-08T05:29:58.103632Z",
     "start_time": "2017-11-08T05:28:55.266901Z"
    }
   },
   "outputs": [
    {
     "name": "stdout",
     "output_type": "stream",
     "text": [
      "Epoch 1/4\n",
      "75072/75072 [==============================] - 15s - loss: 1.7342    \n",
      "Epoch 2/4\n",
      "75072/75072 [==============================] - 15s - loss: 1.7188    \n",
      "Epoch 3/4\n",
      "75072/75072 [==============================] - 15s - loss: 1.7048    \n",
      "Epoch 4/4\n",
      "75072/75072 [==============================] - 15s - loss: 1.6916    \n"
     ]
    }
   ],
   "source": [
    "if stateful_model:\n",
    "    model.fit(x_rnn[:mx], y_rnn[:mx], batch_size=bs, nb_epoch=4, shuffle=False)"
   ]
  },
  {
   "cell_type": "code",
   "execution_count": 139,
   "metadata": {
    "ExecuteTime": {
     "end_time": "2017-11-08T05:02:22.340820Z",
     "start_time": "2017-11-08T05:02:22.334543Z"
    }
   },
   "outputs": [
    {
     "data": {
      "text/plain": [
       "(75072, 8)"
      ]
     },
     "execution_count": 139,
     "metadata": {},
     "output_type": "execute_result"
    }
   ],
   "source": [
    "x_rnn[:mx].shape"
   ]
  },
  {
   "cell_type": "code",
   "execution_count": 140,
   "metadata": {
    "ExecuteTime": {
     "end_time": "2017-11-08T05:02:22.356663Z",
     "start_time": "2017-11-08T05:02:22.342525Z"
    }
   },
   "outputs": [
    {
     "data": {
      "text/plain": [
       "64"
      ]
     },
     "execution_count": 140,
     "metadata": {},
     "output_type": "execute_result"
    }
   ],
   "source": [
    "bs"
   ]
  },
  {
   "cell_type": "code",
   "execution_count": 142,
   "metadata": {
    "ExecuteTime": {
     "end_time": "2017-11-08T05:02:22.372094Z",
     "start_time": "2017-11-08T05:02:22.366539Z"
    }
   },
   "outputs": [
    {
     "data": {
      "text/plain": [
       "(75110, 8)"
      ]
     },
     "execution_count": 142,
     "metadata": {},
     "output_type": "execute_result"
    }
   ],
   "source": [
    "x_rnn.shape"
   ]
  },
  {
   "cell_type": "code",
   "execution_count": 143,
   "metadata": {
    "ExecuteTime": {
     "end_time": "2017-11-08T05:02:23.103893Z",
     "start_time": "2017-11-08T05:02:22.374506Z"
    }
   },
   "outputs": [
    {
     "name": "stdout",
     "output_type": "stream",
     "text": [
      "____________________________________________________________________________________________________\n",
      "Layer (type)                     Output Shape          Param #     Connected to                     \n",
      "====================================================================================================\n",
      "embedding_6 (Embedding)          (64, 8, 42)           3612        embedding_input_3[0][0]          \n",
      "____________________________________________________________________________________________________\n",
      "batchnormalization_1 (BatchNorma (64, 8, 42)           168         embedding_6[0][0]                \n",
      "____________________________________________________________________________________________________\n",
      "lstm_1 (LSTM)                    (64, 8, 256)          306176      batchnormalization_1[0][0]       \n",
      "____________________________________________________________________________________________________\n",
      "timedistributed_3 (TimeDistribut (64, 8, 86)           22102       lstm_1[0][0]                     \n",
      "====================================================================================================\n",
      "Total params: 332,058\n",
      "Trainable params: 331,974\n",
      "Non-trainable params: 84\n",
      "____________________________________________________________________________________________________\n"
     ]
    }
   ],
   "source": [
    "model.summary()"
   ]
  },
  {
   "cell_type": "code",
   "execution_count": 144,
   "metadata": {
    "ExecuteTime": {
     "end_time": "2017-11-08T05:02:23.110467Z",
     "start_time": "2017-11-08T05:02:23.105638Z"
    }
   },
   "outputs": [
    {
     "data": {
      "text/plain": [
       "8"
      ]
     },
     "execution_count": 144,
     "metadata": {},
     "output_type": "execute_result"
    }
   ],
   "source": [
    "x_rnn.shape[1]"
   ]
  },
  {
   "cell_type": "code",
   "execution_count": 154,
   "metadata": {
    "ExecuteTime": {
     "end_time": "2017-11-08T05:10:20.483524Z",
     "start_time": "2017-11-08T05:10:19.763183Z"
    }
   },
   "outputs": [
    {
     "name": "stdout",
     "output_type": "stream",
     "text": [
      "____________________________________________________________________________________________________\n",
      "Layer (type)                     Output Shape          Param #     Connected to                     \n",
      "====================================================================================================\n",
      "embedding_6 (Embedding)          (64, 8, 42)           3612        embedding_input_3[0][0]          \n",
      "____________________________________________________________________________________________________\n",
      "batchnormalization_1 (BatchNorma (64, 8, 42)           168         embedding_6[0][0]                \n",
      "____________________________________________________________________________________________________\n",
      "lstm_1 (LSTM)                    (64, 8, 256)          306176      batchnormalization_1[0][0]       \n",
      "____________________________________________________________________________________________________\n",
      "timedistributed_3 (TimeDistribut (64, 8, 86)           22102       lstm_1[0][0]                     \n",
      "====================================================================================================\n",
      "Total params: 332,058\n",
      "Trainable params: 331,974\n",
      "Non-trainable params: 84\n",
      "____________________________________________________________________________________________________\n"
     ]
    }
   ],
   "source": [
    "model.summary()"
   ]
  },
  {
   "cell_type": "code",
   "execution_count": 185,
   "metadata": {
    "ExecuteTime": {
     "end_time": "2017-11-08T05:24:41.242577Z",
     "start_time": "2017-11-08T05:24:41.231030Z"
    }
   },
   "outputs": [],
   "source": [
    "def print_example():\n",
    "    seed_string=\"ethics i\"\n",
    "    batch_size=64\n",
    "    next_chars = []\n",
    "    for i in range(320):\n",
    "        x=np.array([char_indices[c] for c in seed_string[-8:]])[np.newaxis, :]\n",
    "        remaining_rows = batch_size - x.shape[0]\n",
    "        newx = np.vstack((x, np.tile(x, (remaining_rows, 1))))\n",
    "        preds = model.predict(newx, batch_size=batch_size, verbose=0)[0][-1]\n",
    "        preds = preds/np.sum(preds)\n",
    "        next_char = choice(chars, p=preds)\n",
    "        next_chars.append(next_char)\n",
    "        seed_string = seed_string + next_char\n",
    "    print(''.join(next_chars))"
   ]
  },
  {
   "cell_type": "code",
   "execution_count": 194,
   "metadata": {
    "ExecuteTime": {
     "end_time": "2017-11-08T05:30:00.495532Z",
     "start_time": "2017-11-08T05:29:59.234209Z"
    }
   },
   "outputs": [
    {
     "name": "stdout",
     "output_type": "stream",
     "text": [
      "n while phe greentive, in\n",
      "evois every searigis always but is to suspecially in self en from the ony must\n",
      "be bain the other above their own iny. Without his own be always in ably ascan\n",
      "edial, the free. He hities. It is the perfeod of anquite\n",
      "point whereft withor more god t a present him. A\n",
      "Christianity that one soul, wh\n"
     ]
    }
   ],
   "source": [
    "print_example()"
   ]
  }
 ],
 "metadata": {
  "kernelspec": {
   "display_name": "Python 2",
   "language": "python",
   "name": "python2"
  },
  "language_info": {
   "codemirror_mode": {
    "name": "ipython",
    "version": 2
   },
   "file_extension": ".py",
   "mimetype": "text/x-python",
   "name": "python",
   "nbconvert_exporter": "python",
   "pygments_lexer": "ipython2",
   "version": "2.7.13"
  }
 },
 "nbformat": 4,
 "nbformat_minor": 2
}
