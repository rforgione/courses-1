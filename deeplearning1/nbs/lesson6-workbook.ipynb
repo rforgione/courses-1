{
 "cells": [
  {
   "cell_type": "code",
   "execution_count": 1,
   "metadata": {
    "ExecuteTime": {
     "end_time": "2017-10-03T04:11:39.279109Z",
     "start_time": "2017-10-03T04:11:34.538116Z"
    }
   },
   "outputs": [
    {
     "name": "stderr",
     "output_type": "stream",
     "text": [
      "WARNING (theano.sandbox.cuda): The cuda backend is deprecated and will be removed in the next release (v0.10).  Please switch to the gpuarray backend. You can get more information about how to switch at this URL:\n",
      " https://github.com/Theano/Theano/wiki/Converting-to-the-new-gpu-back-end%28gpuarray%29\n",
      "\n",
      "Using gpu device 0: Tesla K80 (CNMeM is enabled with initial size: 90.0% of memory, cuDNN 5103)\n",
      "WARNING (theano.sandbox.cuda): The cuda backend is deprecated and will be removed in the next release (v0.10).  Please switch to the gpuarray backend. You can get more information about how to switch at this URL:\n",
      " https://github.com/Theano/Theano/wiki/Converting-to-the-new-gpu-back-end%28gpuarray%29\n",
      "\n",
      "WARNING (theano.sandbox.cuda): Ignoring call to use(1), GPU number 0 is already in use.\n"
     ]
    }
   ],
   "source": [
    "from theano.sandbox import cuda\n",
    "cuda.use('gpu1')"
   ]
  },
  {
   "cell_type": "code",
   "execution_count": 2,
   "metadata": {
    "ExecuteTime": {
     "end_time": "2017-10-03T04:12:22.322383Z",
     "start_time": "2017-10-03T04:12:21.417891Z"
    }
   },
   "outputs": [
    {
     "name": "stderr",
     "output_type": "stream",
     "text": [
      "Using Theano backend.\n"
     ]
    }
   ],
   "source": [
    "%matplotlib inline\n",
    "import utils; reload(utils)\n",
    "from utils import *\n",
    "from __future__ import division, print_function"
   ]
  },
  {
   "cell_type": "code",
   "execution_count": 3,
   "metadata": {
    "ExecuteTime": {
     "end_time": "2017-10-03T04:14:27.340285Z",
     "start_time": "2017-10-03T04:14:25.848927Z"
    }
   },
   "outputs": [
    {
     "name": "stdout",
     "output_type": "stream",
     "text": [
      "Downloading data from https://s3.amazonaws.com/text-datasets/nietzsche.txt\n",
      "Corpus length: 600901\n"
     ]
    }
   ],
   "source": [
    "path = get_file('nietzche.txt', 'https://s3.amazonaws.com/text-datasets/nietzsche.txt')\n",
    "text = open(path).read()\n",
    "print(\"Corpus length: %s\" % len(text))"
   ]
  },
  {
   "cell_type": "code",
   "execution_count": 5,
   "metadata": {
    "ExecuteTime": {
     "end_time": "2017-10-03T04:15:50.222666Z",
     "start_time": "2017-10-03T04:15:50.208100Z"
    }
   },
   "outputs": [],
   "source": [
    "chars = sorted(list(set(text)))\n",
    "vocab_size = len(chars) + 1\n",
    "chars.insert(0, \"\\0\")"
   ]
  },
  {
   "cell_type": "code",
   "execution_count": 6,
   "metadata": {
    "ExecuteTime": {
     "end_time": "2017-10-03T04:16:17.244927Z",
     "start_time": "2017-10-03T04:16:17.240664Z"
    }
   },
   "outputs": [
    {
     "name": "stdout",
     "output_type": "stream",
     "text": [
      "Total chars:  86\n"
     ]
    }
   ],
   "source": [
    "print(\"Total chars: \", vocab_size)"
   ]
  },
  {
   "cell_type": "code",
   "execution_count": 12,
   "metadata": {
    "ExecuteTime": {
     "end_time": "2017-10-03T04:18:00.336110Z",
     "start_time": "2017-10-03T04:18:00.330781Z"
    }
   },
   "outputs": [
    {
     "data": {
      "text/plain": [
       "'\\n !\"\\'(),-.0123456789:;=?ABCDEFGHIJKLMNOPQRSTUVWXYZ[]_abcdefghijklmnopqrstuvwxyz'"
      ]
     },
     "execution_count": 12,
     "metadata": {},
     "output_type": "execute_result"
    }
   ],
   "source": [
    "''.join(chars[1:-6])"
   ]
  },
  {
   "cell_type": "code",
   "execution_count": 14,
   "metadata": {
    "ExecuteTime": {
     "end_time": "2017-10-03T04:20:36.075391Z",
     "start_time": "2017-10-03T04:20:36.071092Z"
    },
    "collapsed": true
   },
   "outputs": [],
   "source": [
    "char_indices = dict((c, i) for (i, c) in enumerate(chars))\n",
    "indices_char = dict((i, c) for (i, c) in enumerate(chars))"
   ]
  },
  {
   "cell_type": "code",
   "execution_count": 16,
   "metadata": {
    "ExecuteTime": {
     "end_time": "2017-10-03T04:21:20.523263Z",
     "start_time": "2017-10-03T04:21:20.468753Z"
    },
    "collapsed": true
   },
   "outputs": [],
   "source": [
    "idx = [char_indices[c] for c in text]"
   ]
  },
  {
   "cell_type": "code",
   "execution_count": 17,
   "metadata": {
    "ExecuteTime": {
     "end_time": "2017-10-03T04:21:25.099896Z",
     "start_time": "2017-10-03T04:21:25.092621Z"
    }
   },
   "outputs": [
    {
     "data": {
      "text/plain": [
       "[40, 42, 29, 30, 25, 27, 29, 1, 1, 1]"
      ]
     },
     "execution_count": 17,
     "metadata": {},
     "output_type": "execute_result"
    }
   ],
   "source": [
    "idx[:10]"
   ]
  },
  {
   "cell_type": "code",
   "execution_count": 20,
   "metadata": {
    "ExecuteTime": {
     "end_time": "2017-10-03T04:22:55.655320Z",
     "start_time": "2017-10-03T04:22:55.650313Z"
    }
   },
   "outputs": [
    {
     "data": {
      "text/plain": [
       "'PREFACE\\n\\n\\nSUPPOSING that Truth is a woman--what then? Is there not ground\\nfor suspecting that all ph'"
      ]
     },
     "execution_count": 20,
     "metadata": {},
     "output_type": "execute_result"
    }
   ],
   "source": [
    "''.join([chars[i] for i in idx[:100]])"
   ]
  },
  {
   "cell_type": "markdown",
   "metadata": {},
   "source": [
    "# 3-Char Model"
   ]
  },
  {
   "cell_type": "code",
   "execution_count": 29,
   "metadata": {
    "ExecuteTime": {
     "end_time": "2017-10-03T04:39:41.488891Z",
     "start_time": "2017-10-03T04:39:41.407616Z"
    }
   },
   "outputs": [],
   "source": [
    "seq_length = 3\n",
    "char_0 = [idx[i] for i in range(0, len(idx)-1-seq_length, seq_length)]\n",
    "char_1 = [idx[i + 1] for i in range(0, len(idx)-1-seq_length, seq_length)]\n",
    "char_2 = [idx[i + 2] for i in range(0, len(idx)-1-seq_length, seq_length)]\n",
    "char_3 = [idx[i + 3] for i in range(0, len(idx)-1-seq_length, seq_length)]"
   ]
  },
  {
   "cell_type": "code",
   "execution_count": 36,
   "metadata": {
    "ExecuteTime": {
     "end_time": "2017-10-03T04:42:08.776418Z",
     "start_time": "2017-10-03T04:42:08.770777Z"
    }
   },
   "outputs": [
    {
     "data": {
      "text/plain": [
       "array([[40, 42, 29, 30],\n",
       "       [30, 25, 27, 29],\n",
       "       [29,  1,  1,  1],\n",
       "       [ 1, 43, 45, 40],\n",
       "       [40, 40, 39, 43],\n",
       "       [43, 33, 38, 31],\n",
       "       [31,  2, 73, 61],\n",
       "       [61, 54, 73,  2],\n",
       "       [ 2, 44, 71, 74],\n",
       "       [74, 73, 61,  2]])"
      ]
     },
     "execution_count": 36,
     "metadata": {},
     "output_type": "execute_result"
    }
   ],
   "source": [
    "np.array([[char_0[i], char_1[i], char_2[i], char_3[i]] for i in range(10)])"
   ]
  },
  {
   "cell_type": "code",
   "execution_count": 35,
   "metadata": {
    "ExecuteTime": {
     "end_time": "2017-10-03T04:41:34.992224Z",
     "start_time": "2017-10-03T04:41:34.964224Z"
    }
   },
   "outputs": [
    {
     "data": {
      "text/plain": [
       "[['P', 'R', 'E', 'F'],\n",
       " ['F', 'A', 'C', 'E'],\n",
       " ['E', '\\n', '\\n', '\\n'],\n",
       " ['\\n', 'S', 'U', 'P'],\n",
       " ['P', 'P', 'O', 'S'],\n",
       " ['S', 'I', 'N', 'G'],\n",
       " ['G', ' ', 't', 'h'],\n",
       " ['h', 'a', 't', ' '],\n",
       " [' ', 'T', 'r', 'u'],\n",
       " ['u', 't', 'h', ' '],\n",
       " [' ', 'i', 's', ' '],\n",
       " [' ', 'a', ' ', 'w'],\n",
       " ['w', 'o', 'm', 'a'],\n",
       " ['a', 'n', '-', '-'],\n",
       " ['-', 'w', 'h', 'a'],\n",
       " ['a', 't', ' ', 't'],\n",
       " ['t', 'h', 'e', 'n'],\n",
       " ['n', '?', ' ', 'I'],\n",
       " ['I', 's', ' ', 't'],\n",
       " ['t', 'h', 'e', 'r'],\n",
       " ['r', 'e', ' ', 'n'],\n",
       " ['n', 'o', 't', ' '],\n",
       " [' ', 'g', 'r', 'o'],\n",
       " ['o', 'u', 'n', 'd'],\n",
       " ['d', '\\n', 'f', 'o'],\n",
       " ['o', 'r', ' ', 's'],\n",
       " ['s', 'u', 's', 'p'],\n",
       " ['p', 'e', 'c', 't'],\n",
       " ['t', 'i', 'n', 'g'],\n",
       " ['g', ' ', 't', 'h'],\n",
       " ['h', 'a', 't', ' '],\n",
       " [' ', 'a', 'l', 'l'],\n",
       " ['l', ' ', 'p', 'h'],\n",
       " ['h', 'i', 'l', 'o'],\n",
       " ['o', 's', 'o', 'p'],\n",
       " ['p', 'h', 'e', 'r'],\n",
       " ['r', 's', ',', ' '],\n",
       " [' ', 'i', 'n', ' '],\n",
       " [' ', 's', 'o', ' '],\n",
       " [' ', 'f', 'a', 'r'],\n",
       " ['r', ' ', 'a', 's'],\n",
       " ['s', ' ', 't', 'h'],\n",
       " ['h', 'e', 'y', ' '],\n",
       " [' ', 'h', 'a', 'v'],\n",
       " ['v', 'e', ' ', 'b'],\n",
       " ['b', 'e', 'e', 'n'],\n",
       " ['n', '\\n', 'd', 'o'],\n",
       " ['o', 'g', 'm', 'a'],\n",
       " ['a', 't', 'i', 's'],\n",
       " ['s', 't', 's', ','],\n",
       " [',', ' ', 'h', 'a'],\n",
       " ['a', 'v', 'e', ' '],\n",
       " [' ', 'f', 'a', 'i'],\n",
       " ['i', 'l', 'e', 'd'],\n",
       " ['d', ' ', 't', 'o'],\n",
       " ['o', ' ', 'u', 'n'],\n",
       " ['n', 'd', 'e', 'r'],\n",
       " ['r', 's', 't', 'a'],\n",
       " ['a', 'n', 'd', ' '],\n",
       " [' ', 'w', 'o', 'm'],\n",
       " ['m', 'e', 'n', '-'],\n",
       " ['-', '-', 't', 'h'],\n",
       " ['h', 'a', 't', ' '],\n",
       " [' ', 't', 'h', 'e'],\n",
       " ['e', ' ', 't', 'e'],\n",
       " ['e', 'r', 'r', 'i'],\n",
       " ['i', 'b', 'l', 'e'],\n",
       " ['e', '\\n', 's', 'e'],\n",
       " ['e', 'r', 'i', 'o'],\n",
       " ['o', 'u', 's', 'n'],\n",
       " ['n', 'e', 's', 's'],\n",
       " ['s', ' ', 'a', 'n'],\n",
       " ['n', 'd', ' ', 'c'],\n",
       " ['c', 'l', 'u', 'm'],\n",
       " ['m', 's', 'y', ' '],\n",
       " [' ', 'i', 'm', 'p'],\n",
       " ['p', 'o', 'r', 't'],\n",
       " ['t', 'u', 'n', 'i'],\n",
       " ['i', 't', 'y', ' '],\n",
       " [' ', 'w', 'i', 't'],\n",
       " ['t', 'h', ' ', 'w'],\n",
       " ['w', 'h', 'i', 'c'],\n",
       " ['c', 'h', ' ', 't'],\n",
       " ['t', 'h', 'e', 'y'],\n",
       " ['y', ' ', 'h', 'a'],\n",
       " ['a', 'v', 'e', ' '],\n",
       " [' ', 'u', 's', 'u'],\n",
       " ['u', 'a', 'l', 'l'],\n",
       " ['l', 'y', ' ', 'p'],\n",
       " ['p', 'a', 'i', 'd'],\n",
       " ['d', '\\n', 't', 'h'],\n",
       " ['h', 'e', 'i', 'r'],\n",
       " ['r', ' ', 'a', 'd'],\n",
       " ['d', 'd', 'r', 'e'],\n",
       " ['e', 's', 's', 'e'],\n",
       " ['e', 's', ' ', 't'],\n",
       " ['t', 'o', ' ', 'T'],\n",
       " ['T', 'r', 'u', 't'],\n",
       " ['t', 'h', ',', ' '],\n",
       " [' ', 'h', 'a', 'v']]"
      ]
     },
     "execution_count": 35,
     "metadata": {},
     "output_type": "execute_result"
    }
   ],
   "source": [
    "[[indices_char[char_0[i]], indices_char[char_1[i]], indices_char[char_2[i]], \n",
    "  indices_char[char_3[i]]] for i in range(100)]"
   ]
  },
  {
   "cell_type": "code",
   "execution_count": null,
   "metadata": {
    "collapsed": true
   },
   "outputs": [],
   "source": []
  }
 ],
 "metadata": {
  "kernelspec": {
   "display_name": "Python 2",
   "language": "python",
   "name": "python2"
  },
  "language_info": {
   "codemirror_mode": {
    "name": "ipython",
    "version": 2
   },
   "file_extension": ".py",
   "mimetype": "text/x-python",
   "name": "python",
   "nbconvert_exporter": "python",
   "pygments_lexer": "ipython2",
   "version": "2.7.13"
  }
 },
 "nbformat": 4,
 "nbformat_minor": 2
}
