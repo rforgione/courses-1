{
 "cells": [
  {
   "cell_type": "code",
   "execution_count": 1,
   "metadata": {
    "ExecuteTime": {
     "end_time": "2017-10-26T05:09:16.879693Z",
     "start_time": "2017-10-26T05:09:12.326874Z"
    }
   },
   "outputs": [
    {
     "name": "stderr",
     "output_type": "stream",
     "text": [
      "WARNING (theano.sandbox.cuda): The cuda backend is deprecated and will be removed in the next release (v0.10).  Please switch to the gpuarray backend. You can get more information about how to switch at this URL:\n",
      " https://github.com/Theano/Theano/wiki/Converting-to-the-new-gpu-back-end%28gpuarray%29\n",
      "\n",
      "Using gpu device 0: Tesla K80 (CNMeM is enabled with initial size: 90.0% of memory, cuDNN 5103)\n",
      "WARNING (theano.sandbox.cuda): The cuda backend is deprecated and will be removed in the next release (v0.10).  Please switch to the gpuarray backend. You can get more information about how to switch at this URL:\n",
      " https://github.com/Theano/Theano/wiki/Converting-to-the-new-gpu-back-end%28gpuarray%29\n",
      "\n",
      "WARNING (theano.sandbox.cuda): Ignoring call to use(1), GPU number 0 is already in use.\n"
     ]
    }
   ],
   "source": [
    "from theano.sandbox import cuda\n",
    "cuda.use('gpu1')"
   ]
  },
  {
   "cell_type": "code",
   "execution_count": 2,
   "metadata": {
    "ExecuteTime": {
     "end_time": "2017-10-26T05:09:17.738704Z",
     "start_time": "2017-10-26T05:09:16.881797Z"
    }
   },
   "outputs": [
    {
     "name": "stderr",
     "output_type": "stream",
     "text": [
      "Using Theano backend.\n"
     ]
    }
   ],
   "source": [
    "%matplotlib inline\n",
    "import utils; reload(utils)\n",
    "from utils import *\n",
    "from __future__ import division, print_function"
   ]
  },
  {
   "cell_type": "code",
   "execution_count": 3,
   "metadata": {
    "ExecuteTime": {
     "end_time": "2017-10-26T05:09:17.745964Z",
     "start_time": "2017-10-26T05:09:17.740459Z"
    }
   },
   "outputs": [
    {
     "name": "stdout",
     "output_type": "stream",
     "text": [
      "Corpus length: 600901\n"
     ]
    }
   ],
   "source": [
    "path = get_file('nietzche.txt', 'https://s3.amazonaws.com/text-datasets/nietzsche.txt')\n",
    "text = open(path).read()\n",
    "print(\"Corpus length: %s\" % len(text))"
   ]
  },
  {
   "cell_type": "code",
   "execution_count": 4,
   "metadata": {
    "ExecuteTime": {
     "end_time": "2017-10-26T05:09:17.761592Z",
     "start_time": "2017-10-26T05:09:17.747534Z"
    },
    "collapsed": true
   },
   "outputs": [],
   "source": [
    "chars = sorted(list(set(text)))\n",
    "vocab_size = len(chars) + 1\n",
    "chars.insert(0, \"\\0\")"
   ]
  },
  {
   "cell_type": "code",
   "execution_count": 5,
   "metadata": {
    "ExecuteTime": {
     "end_time": "2017-10-26T05:09:17.787954Z",
     "start_time": "2017-10-26T05:09:17.763041Z"
    }
   },
   "outputs": [
    {
     "name": "stdout",
     "output_type": "stream",
     "text": [
      "Total chars:  86\n"
     ]
    }
   ],
   "source": [
    "print(\"Total chars: \", vocab_size)"
   ]
  },
  {
   "cell_type": "code",
   "execution_count": 6,
   "metadata": {
    "ExecuteTime": {
     "end_time": "2017-10-26T05:09:17.797891Z",
     "start_time": "2017-10-26T05:09:17.790044Z"
    }
   },
   "outputs": [
    {
     "data": {
      "text/plain": [
       "'\\n !\"\\'(),-.0123456789:;=?ABCDEFGHIJKLMNOPQRSTUVWXYZ[]_abcdefghijklmnopqrstuvwxyz'"
      ]
     },
     "execution_count": 6,
     "metadata": {},
     "output_type": "execute_result"
    }
   ],
   "source": [
    "''.join(chars[1:-6])"
   ]
  },
  {
   "cell_type": "code",
   "execution_count": 7,
   "metadata": {
    "ExecuteTime": {
     "end_time": "2017-10-26T05:09:17.805639Z",
     "start_time": "2017-10-26T05:09:17.800504Z"
    },
    "collapsed": true
   },
   "outputs": [],
   "source": [
    "char_indices = dict((c, i) for (i, c) in enumerate(chars))\n",
    "indices_char = dict((i, c) for (i, c) in enumerate(chars))"
   ]
  },
  {
   "cell_type": "code",
   "execution_count": 8,
   "metadata": {
    "ExecuteTime": {
     "end_time": "2017-10-26T05:09:17.865890Z",
     "start_time": "2017-10-26T05:09:17.808074Z"
    },
    "collapsed": true
   },
   "outputs": [],
   "source": [
    "idx = [char_indices[c] for c in text]"
   ]
  },
  {
   "cell_type": "code",
   "execution_count": 9,
   "metadata": {
    "ExecuteTime": {
     "end_time": "2017-10-26T05:09:17.873183Z",
     "start_time": "2017-10-26T05:09:17.867655Z"
    }
   },
   "outputs": [
    {
     "data": {
      "text/plain": [
       "[40, 42, 29, 30, 25, 27, 29, 1, 1, 1]"
      ]
     },
     "execution_count": 9,
     "metadata": {},
     "output_type": "execute_result"
    }
   ],
   "source": [
    "idx[:10]"
   ]
  },
  {
   "cell_type": "code",
   "execution_count": 10,
   "metadata": {
    "ExecuteTime": {
     "end_time": "2017-10-26T05:09:17.901152Z",
     "start_time": "2017-10-26T05:09:17.874800Z"
    }
   },
   "outputs": [
    {
     "data": {
      "text/plain": [
       "'PREFACE\\n\\n\\nSUPPOSING that Truth is a woman--what then? Is there not ground\\nfor suspecting that all ph'"
      ]
     },
     "execution_count": 10,
     "metadata": {},
     "output_type": "execute_result"
    }
   ],
   "source": [
    "''.join([chars[i] for i in idx[:100]])"
   ]
  },
  {
   "cell_type": "markdown",
   "metadata": {},
   "source": [
    "# 3-Char Model"
   ]
  },
  {
   "cell_type": "code",
   "execution_count": 11,
   "metadata": {
    "ExecuteTime": {
     "end_time": "2017-10-26T05:09:17.990643Z",
     "start_time": "2017-10-26T05:09:17.903157Z"
    },
    "collapsed": true
   },
   "outputs": [],
   "source": [
    "seq_length = 3\n",
    "char_0 = [idx[i] for i in range(0, len(idx)-1-seq_length, seq_length)]\n",
    "char_1 = [idx[i + 1] for i in range(0, len(idx)-1-seq_length, seq_length)]\n",
    "char_2 = [idx[i + 2] for i in range(0, len(idx)-1-seq_length, seq_length)]\n",
    "char_3 = [idx[i + 3] for i in range(0, len(idx)-1-seq_length, seq_length)]"
   ]
  },
  {
   "cell_type": "code",
   "execution_count": 12,
   "metadata": {
    "ExecuteTime": {
     "end_time": "2017-10-26T05:09:18.041847Z",
     "start_time": "2017-10-26T05:09:17.992372Z"
    },
    "collapsed": true
   },
   "outputs": [],
   "source": [
    "x0 = np.array(char_0[:-2])\n",
    "x1 = np.array(char_1[:-2])\n",
    "x2 = np.array(char_2[:-2])\n",
    "x3 = np.array(char_3[:-2])"
   ]
  },
  {
   "cell_type": "code",
   "execution_count": 13,
   "metadata": {
    "ExecuteTime": {
     "end_time": "2017-10-26T05:09:18.048262Z",
     "start_time": "2017-10-26T05:09:18.043440Z"
    },
    "collapsed": true
   },
   "outputs": [],
   "source": [
    "def embedding_input(name, n_in, n_out):\n",
    "    inp = Input(shape=(1,), dtype='int64', name=name)\n",
    "    emb = Embedding(n_in, n_out, input_length=1)(inp)\n",
    "    return inp, Flatten()(emb)"
   ]
  },
  {
   "cell_type": "code",
   "execution_count": 14,
   "metadata": {
    "ExecuteTime": {
     "end_time": "2017-10-26T05:09:18.052886Z",
     "start_time": "2017-10-26T05:09:18.049922Z"
    },
    "collapsed": true
   },
   "outputs": [],
   "source": [
    "n_fac = 42"
   ]
  },
  {
   "cell_type": "code",
   "execution_count": 15,
   "metadata": {
    "ExecuteTime": {
     "end_time": "2017-10-26T05:09:18.086718Z",
     "start_time": "2017-10-26T05:09:18.054578Z"
    },
    "collapsed": true
   },
   "outputs": [],
   "source": [
    "inp0, emb0 = embedding_input('c0_dat', vocab_size, n_fac)\n",
    "inp1, emb1 = embedding_input('c1_dat', vocab_size, n_fac)\n",
    "inp2, emb2 = embedding_input('c2_dat', vocab_size, n_fac)"
   ]
  },
  {
   "cell_type": "code",
   "execution_count": 16,
   "metadata": {
    "ExecuteTime": {
     "end_time": "2017-10-26T05:09:18.090942Z",
     "start_time": "2017-10-26T05:09:18.088137Z"
    },
    "collapsed": true
   },
   "outputs": [],
   "source": [
    "n_hidden = 256"
   ]
  },
  {
   "cell_type": "code",
   "execution_count": 17,
   "metadata": {
    "ExecuteTime": {
     "end_time": "2017-10-26T05:09:18.111737Z",
     "start_time": "2017-10-26T05:09:18.092681Z"
    },
    "collapsed": true
   },
   "outputs": [],
   "source": [
    "dense_in = Dense(n_hidden, activation='relu')\n",
    "dense_hidden = Dense(n_hidden, activation='tanh')\n",
    "dense_out = Dense(vocab_size, activation='softmax')"
   ]
  },
  {
   "cell_type": "code",
   "execution_count": 18,
   "metadata": {
    "ExecuteTime": {
     "end_time": "2017-10-26T05:09:18.134941Z",
     "start_time": "2017-10-26T05:09:18.113075Z"
    },
    "collapsed": true
   },
   "outputs": [],
   "source": [
    "# these embs are already linked to the inps from the embedding_input function\n",
    "hidden = dense_in(emb0)\n",
    "c2_dense = dense_in(emb1)\n",
    "hidden = merge([dense_hidden(hidden), c2_dense])\n",
    "c3_dense = dense_in(emb2)\n",
    "hidden = merge([dense_hidden(hidden), c3_dense])\n",
    "c4_out = dense_out(hidden)"
   ]
  },
  {
   "cell_type": "code",
   "execution_count": 19,
   "metadata": {
    "ExecuteTime": {
     "end_time": "2017-10-26T05:09:18.139785Z",
     "start_time": "2017-10-26T05:09:18.136403Z"
    },
    "collapsed": true
   },
   "outputs": [],
   "source": [
    "model = Model([inp0, inp1, inp2], c4_out)"
   ]
  },
  {
   "cell_type": "code",
   "execution_count": 20,
   "metadata": {
    "ExecuteTime": {
     "end_time": "2017-10-26T05:09:18.155417Z",
     "start_time": "2017-10-26T05:09:18.141475Z"
    }
   },
   "outputs": [],
   "source": [
    "model.compile(loss='sparse_categorical_crossentropy', optimizer=Adam())\n",
    "# model.optimizer.lr = 0.000001\n",
    "# model.fit([x0, x1, x2], x3, batch_size=64, nb_epoch=4)"
   ]
  },
  {
   "cell_type": "code",
   "execution_count": 21,
   "metadata": {
    "ExecuteTime": {
     "end_time": "2017-10-26T05:09:18.159405Z",
     "start_time": "2017-10-26T05:09:18.156802Z"
    }
   },
   "outputs": [],
   "source": [
    "# model.fit([x0, x1, x2], x3, batch_size=64, nb_epoch=4)"
   ]
  },
  {
   "cell_type": "code",
   "execution_count": 22,
   "metadata": {
    "ExecuteTime": {
     "end_time": "2017-10-26T05:09:18.164488Z",
     "start_time": "2017-10-26T05:09:18.161233Z"
    },
    "collapsed": true
   },
   "outputs": [],
   "source": [
    "model.optimizer.lr = 0.01"
   ]
  },
  {
   "cell_type": "code",
   "execution_count": 23,
   "metadata": {
    "ExecuteTime": {
     "end_time": "2017-10-26T05:09:18.169166Z",
     "start_time": "2017-10-26T05:09:18.166234Z"
    }
   },
   "outputs": [],
   "source": [
    "# model.fit([x0, x1, x2], x3, batch_size=64, nb_epoch=4)"
   ]
  },
  {
   "cell_type": "code",
   "execution_count": 24,
   "metadata": {
    "ExecuteTime": {
     "end_time": "2017-10-26T05:09:18.173980Z",
     "start_time": "2017-10-26T05:09:18.171047Z"
    }
   },
   "outputs": [],
   "source": [
    "# model.fit([x0, x1, x2], x3, batch_size=64, nb_epoch=4)"
   ]
  },
  {
   "cell_type": "code",
   "execution_count": 25,
   "metadata": {
    "ExecuteTime": {
     "end_time": "2017-10-26T05:09:18.179523Z",
     "start_time": "2017-10-26T05:09:18.175724Z"
    },
    "collapsed": true
   },
   "outputs": [],
   "source": [
    "model.optimizer.lr = 0.000001"
   ]
  },
  {
   "cell_type": "code",
   "execution_count": 26,
   "metadata": {
    "ExecuteTime": {
     "end_time": "2017-10-26T05:09:18.184193Z",
     "start_time": "2017-10-26T05:09:18.181266Z"
    }
   },
   "outputs": [],
   "source": [
    "# model.fit([x0, x1, x2], x3, batch_size=64, nb_epoch=4)"
   ]
  },
  {
   "cell_type": "code",
   "execution_count": 27,
   "metadata": {
    "ExecuteTime": {
     "end_time": "2017-10-26T05:09:18.188752Z",
     "start_time": "2017-10-26T05:09:18.185957Z"
    },
    "collapsed": true
   },
   "outputs": [],
   "source": [
    "# model.fit([x0, x1, x2], x3, batch_size=64, nb_epoch=4)"
   ]
  },
  {
   "cell_type": "code",
   "execution_count": 28,
   "metadata": {
    "ExecuteTime": {
     "end_time": "2017-10-26T05:09:18.193550Z",
     "start_time": "2017-10-26T05:09:18.190539Z"
    },
    "collapsed": true
   },
   "outputs": [],
   "source": [
    "# model.fit([x0, x1, x2], x3, batch_size=64, nb_epoch=4)"
   ]
  },
  {
   "cell_type": "code",
   "execution_count": 29,
   "metadata": {
    "ExecuteTime": {
     "end_time": "2017-10-26T05:09:18.198226Z",
     "start_time": "2017-10-26T05:09:18.195338Z"
    },
    "collapsed": true
   },
   "outputs": [],
   "source": [
    "# model.fit([x0, x1, x2], x3, batch_size=64, nb_epoch=4)"
   ]
  },
  {
   "cell_type": "code",
   "execution_count": 30,
   "metadata": {
    "ExecuteTime": {
     "end_time": "2017-10-26T05:09:18.205174Z",
     "start_time": "2017-10-26T05:09:18.200013Z"
    },
    "collapsed": true
   },
   "outputs": [],
   "source": [
    "def get_next(inp):\n",
    "    idxs = [char_indices[c] for c in inp]\n",
    "    arrs = [np.array(i)[np.newaxis] for i in idxs]\n",
    "    p = model.predict(arrs)\n",
    "    i = np.argmax(p)\n",
    "    return chars[i]"
   ]
  },
  {
   "cell_type": "code",
   "execution_count": 31,
   "metadata": {
    "ExecuteTime": {
     "end_time": "2017-10-26T05:09:18.665166Z",
     "start_time": "2017-10-26T05:09:18.206850Z"
    }
   },
   "outputs": [
    {
     "data": {
      "text/plain": [
       "'\\x86'"
      ]
     },
     "execution_count": 31,
     "metadata": {},
     "output_type": "execute_result"
    }
   ],
   "source": [
    "get_next('the')"
   ]
  },
  {
   "cell_type": "code",
   "execution_count": 32,
   "metadata": {
    "ExecuteTime": {
     "end_time": "2017-10-26T05:09:18.672274Z",
     "start_time": "2017-10-26T05:09:18.667265Z"
    }
   },
   "outputs": [
    {
     "data": {
      "text/plain": [
       "'u'"
      ]
     },
     "execution_count": 32,
     "metadata": {},
     "output_type": "execute_result"
    }
   ],
   "source": [
    "get_next('thi')"
   ]
  },
  {
   "cell_type": "code",
   "execution_count": 33,
   "metadata": {
    "ExecuteTime": {
     "end_time": "2017-10-26T05:09:18.693439Z",
     "start_time": "2017-10-26T05:09:18.673986Z"
    }
   },
   "outputs": [
    {
     "data": {
      "text/plain": [
       "'6'"
      ]
     },
     "execution_count": 33,
     "metadata": {},
     "output_type": "execute_result"
    }
   ],
   "source": [
    "get_next('hel')"
   ]
  },
  {
   "cell_type": "code",
   "execution_count": 34,
   "metadata": {
    "ExecuteTime": {
     "end_time": "2017-10-26T05:09:18.700105Z",
     "start_time": "2017-10-26T05:09:18.695351Z"
    }
   },
   "outputs": [
    {
     "data": {
      "text/plain": [
       "'S'"
      ]
     },
     "execution_count": 34,
     "metadata": {},
     "output_type": "execute_result"
    }
   ],
   "source": [
    "get_next('Som')"
   ]
  },
  {
   "cell_type": "code",
   "execution_count": 35,
   "metadata": {
    "ExecuteTime": {
     "end_time": "2017-10-26T05:09:18.706480Z",
     "start_time": "2017-10-26T05:09:18.701813Z"
    }
   },
   "outputs": [
    {
     "data": {
      "text/plain": [
       "'u'"
      ]
     },
     "execution_count": 35,
     "metadata": {},
     "output_type": "execute_result"
    }
   ],
   "source": [
    "get_next('Wha')"
   ]
  },
  {
   "cell_type": "code",
   "execution_count": 36,
   "metadata": {
    "ExecuteTime": {
     "end_time": "2017-10-26T05:09:18.712782Z",
     "start_time": "2017-10-26T05:09:18.708116Z"
    }
   },
   "outputs": [
    {
     "data": {
      "text/plain": [
       "'\\n'"
      ]
     },
     "execution_count": 36,
     "metadata": {},
     "output_type": "execute_result"
    }
   ],
   "source": [
    "get_next('is ')"
   ]
  },
  {
   "cell_type": "code",
   "execution_count": 37,
   "metadata": {
    "ExecuteTime": {
     "end_time": "2017-10-26T05:09:18.719373Z",
     "start_time": "2017-10-26T05:09:18.714544Z"
    }
   },
   "outputs": [
    {
     "data": {
      "text/plain": [
       "';'"
      ]
     },
     "execution_count": 37,
     "metadata": {},
     "output_type": "execute_result"
    }
   ],
   "source": [
    "get_next('s t')"
   ]
  },
  {
   "cell_type": "markdown",
   "metadata": {},
   "source": [
    "# Our First RNN"
   ]
  },
  {
   "cell_type": "code",
   "execution_count": 38,
   "metadata": {
    "ExecuteTime": {
     "end_time": "2017-10-26T05:09:18.723839Z",
     "start_time": "2017-10-26T05:09:18.721013Z"
    },
    "collapsed": true
   },
   "outputs": [],
   "source": [
    "cs = 8"
   ]
  },
  {
   "cell_type": "code",
   "execution_count": 39,
   "metadata": {
    "ExecuteTime": {
     "end_time": "2017-10-26T05:09:18.787087Z",
     "start_time": "2017-10-26T05:09:18.725403Z"
    },
    "collapsed": true
   },
   "outputs": [],
   "source": [
    "c_in_dat = [[idx[i+n] for i in xrange(0, len(idx)-1-cs, cs)] for n in range(cs)]"
   ]
  },
  {
   "cell_type": "code",
   "execution_count": 40,
   "metadata": {
    "ExecuteTime": {
     "end_time": "2017-10-26T05:09:18.793065Z",
     "start_time": "2017-10-26T05:09:18.788726Z"
    }
   },
   "outputs": [
    {
     "data": {
      "text/plain": [
       "75112"
      ]
     },
     "execution_count": 40,
     "metadata": {},
     "output_type": "execute_result"
    }
   ],
   "source": [
    "len(c_in_dat[0])"
   ]
  },
  {
   "cell_type": "code",
   "execution_count": 41,
   "metadata": {
    "ExecuteTime": {
     "end_time": "2017-10-26T05:09:18.805991Z",
     "start_time": "2017-10-26T05:09:18.794601Z"
    }
   },
   "outputs": [
    {
     "data": {
      "text/plain": [
       "(8, 75112)"
      ]
     },
     "execution_count": 41,
     "metadata": {},
     "output_type": "execute_result"
    }
   ],
   "source": [
    "len(c_in_dat), len(c_in_dat[0])"
   ]
  },
  {
   "cell_type": "code",
   "execution_count": 42,
   "metadata": {
    "ExecuteTime": {
     "end_time": "2017-10-26T05:09:18.818741Z",
     "start_time": "2017-10-26T05:09:18.807877Z"
    },
    "collapsed": true
   },
   "outputs": [],
   "source": [
    "c_out_dat = [idx[i+cs] for i in xrange(0, len(idx)-1-cs, cs)]"
   ]
  },
  {
   "cell_type": "code",
   "execution_count": 43,
   "metadata": {
    "ExecuteTime": {
     "end_time": "2017-10-26T05:09:19.874119Z",
     "start_time": "2017-10-26T05:09:18.820686Z"
    },
    "collapsed": true
   },
   "outputs": [],
   "source": [
    "xs = [np.stack(c[:-2]) for c in c_in_dat]"
   ]
  },
  {
   "cell_type": "code",
   "execution_count": 44,
   "metadata": {
    "ExecuteTime": {
     "end_time": "2017-10-26T05:09:19.882514Z",
     "start_time": "2017-10-26T05:09:19.876366Z"
    }
   },
   "outputs": [
    {
     "data": {
      "text/plain": [
       "(8, 75110)"
      ]
     },
     "execution_count": 44,
     "metadata": {},
     "output_type": "execute_result"
    }
   ],
   "source": [
    "len(xs), len(xs[0])"
   ]
  },
  {
   "cell_type": "code",
   "execution_count": 45,
   "metadata": {
    "ExecuteTime": {
     "end_time": "2017-10-26T05:09:20.030939Z",
     "start_time": "2017-10-26T05:09:19.884819Z"
    },
    "collapsed": true
   },
   "outputs": [],
   "source": [
    "y = np.stack(c_out_dat[:-2])"
   ]
  },
  {
   "cell_type": "code",
   "execution_count": 46,
   "metadata": {
    "ExecuteTime": {
     "end_time": "2017-10-26T05:09:20.040981Z",
     "start_time": "2017-10-26T05:09:20.032731Z"
    }
   },
   "outputs": [
    {
     "data": {
      "text/plain": [
       "[array([40,  1, 33,  2, 72, 67, 73,  2]),\n",
       " array([42,  1, 38, 44,  2,  9, 61, 73]),\n",
       " array([29, 43, 31, 71, 54,  9, 58, 61]),\n",
       " array([30, 45,  2, 74,  2, 76, 67, 58]),\n",
       " array([25, 40, 73, 73, 76, 61, 24, 71]),\n",
       " array([27, 40, 61, 61, 68, 54,  2, 58]),\n",
       " array([29, 39, 54,  2, 66, 73, 33,  2]),\n",
       " array([ 1, 43, 73, 62, 54,  2, 72, 67])]"
      ]
     },
     "execution_count": 46,
     "metadata": {},
     "output_type": "execute_result"
    }
   ],
   "source": [
    "[xs[n][:cs] for n in range(cs)]"
   ]
  },
  {
   "cell_type": "code",
   "execution_count": 47,
   "metadata": {
    "ExecuteTime": {
     "end_time": "2017-10-26T05:09:20.052958Z",
     "start_time": "2017-10-26T05:09:20.043109Z"
    }
   },
   "outputs": [
    {
     "data": {
      "text/plain": [
       "[array([40,  1, 33, ..., 72, 71, 61]),\n",
       " array([42,  1, 38, ..., 73, 65, 58]),\n",
       " array([29, 43, 31, ..., 62, 57,  2]),\n",
       " array([30, 45,  2, ..., 54,  2, 62]),\n",
       " array([25, 40, 73, ..., 67, 54, 67]),\n",
       " array([27, 40, 61, ...,  2, 72, 57]),\n",
       " array([29, 39, 54, ..., 76,  2, 62]),\n",
       " array([ 1, 43, 73, ..., 68, 73, 56])]"
      ]
     },
     "execution_count": 47,
     "metadata": {},
     "output_type": "execute_result"
    }
   ],
   "source": [
    "xs"
   ]
  },
  {
   "cell_type": "code",
   "execution_count": 48,
   "metadata": {
    "ExecuteTime": {
     "end_time": "2017-10-26T05:09:20.062106Z",
     "start_time": "2017-10-26T05:09:20.054797Z"
    }
   },
   "outputs": [
    {
     "data": {
      "text/plain": [
       "array([ 1, 33,  2, 72, 67, 73,  2, 68])"
      ]
     },
     "execution_count": 48,
     "metadata": {},
     "output_type": "execute_result"
    }
   ],
   "source": [
    "y[:cs]"
   ]
  },
  {
   "cell_type": "code",
   "execution_count": 49,
   "metadata": {
    "ExecuteTime": {
     "end_time": "2017-10-26T05:09:20.067753Z",
     "start_time": "2017-10-26T05:09:20.064400Z"
    },
    "collapsed": true
   },
   "outputs": [],
   "source": [
    "n_fac = 42"
   ]
  },
  {
   "cell_type": "code",
   "execution_count": 50,
   "metadata": {
    "ExecuteTime": {
     "end_time": "2017-10-26T05:09:20.076237Z",
     "start_time": "2017-10-26T05:09:20.070266Z"
    },
    "collapsed": true
   },
   "outputs": [],
   "source": [
    "def embedding_input(name, n_in, n_out):\n",
    "    inp = Input(shape=(1,), dtype='int64', name=name+'_in')\n",
    "    emb = Embedding(n_in, n_out, input_length=1, name=name+'_emb')(inp)\n",
    "    return inp, Flatten()(emb)"
   ]
  },
  {
   "cell_type": "code",
   "execution_count": 51,
   "metadata": {
    "ExecuteTime": {
     "end_time": "2017-10-26T05:09:20.083863Z",
     "start_time": "2017-10-26T05:09:20.078424Z"
    }
   },
   "outputs": [
    {
     "data": {
      "text/plain": [
       "(8, 86, 42)"
      ]
     },
     "execution_count": 51,
     "metadata": {},
     "output_type": "execute_result"
    }
   ],
   "source": [
    "cs, vocab_size, n_fac"
   ]
  },
  {
   "cell_type": "code",
   "execution_count": 52,
   "metadata": {
    "ExecuteTime": {
     "end_time": "2017-10-26T05:09:20.142620Z",
     "start_time": "2017-10-26T05:09:20.086257Z"
    },
    "collapsed": true
   },
   "outputs": [],
   "source": [
    "c_ins = [embedding_input('c'+str(n), vocab_size, n_fac) for n in range(cs)]"
   ]
  },
  {
   "cell_type": "code",
   "execution_count": 53,
   "metadata": {
    "ExecuteTime": {
     "end_time": "2017-10-26T05:09:20.147845Z",
     "start_time": "2017-10-26T05:09:20.144436Z"
    },
    "collapsed": true
   },
   "outputs": [],
   "source": [
    "n_hidden = 256"
   ]
  },
  {
   "cell_type": "code",
   "execution_count": 54,
   "metadata": {
    "ExecuteTime": {
     "end_time": "2017-10-26T05:09:20.164719Z",
     "start_time": "2017-10-26T05:09:20.150029Z"
    },
    "collapsed": true
   },
   "outputs": [],
   "source": [
    "dense_in = Dense(n_hidden, activation='relu')\n",
    "dense_hidden = Dense(n_hidden, activation='relu', init='identity')\n",
    "dense_out = Dense(vocab_size, activation='softmax')"
   ]
  },
  {
   "cell_type": "code",
   "execution_count": 55,
   "metadata": {
    "ExecuteTime": {
     "end_time": "2017-10-26T05:09:20.178058Z",
     "start_time": "2017-10-26T05:09:20.166422Z"
    },
    "collapsed": true
   },
   "outputs": [],
   "source": [
    "hidden = dense_in(c_ins[0][1])"
   ]
  },
  {
   "cell_type": "code",
   "execution_count": 56,
   "metadata": {
    "ExecuteTime": {
     "end_time": "2017-10-26T05:09:20.208648Z",
     "start_time": "2017-10-26T05:09:20.179845Z"
    },
    "collapsed": true
   },
   "outputs": [],
   "source": [
    "for i in range(1, cs):\n",
    "    c_dense = dense_in(c_ins[i][1])\n",
    "    hidden = dense_hidden(hidden)\n",
    "    hidden = merge([c_dense, hidden])"
   ]
  },
  {
   "cell_type": "code",
   "execution_count": 57,
   "metadata": {
    "ExecuteTime": {
     "end_time": "2017-10-26T05:09:20.215994Z",
     "start_time": "2017-10-26T05:09:20.210610Z"
    },
    "collapsed": true
   },
   "outputs": [],
   "source": [
    "c_out = dense_out(hidden)"
   ]
  },
  {
   "cell_type": "code",
   "execution_count": 58,
   "metadata": {
    "ExecuteTime": {
     "end_time": "2017-10-26T05:09:20.234965Z",
     "start_time": "2017-10-26T05:09:20.218295Z"
    },
    "collapsed": true
   },
   "outputs": [],
   "source": [
    "model = Model([c[0] for c in c_ins], c_out)\n",
    "model.compile(loss='sparse_categorical_crossentropy', optimizer=Adam())"
   ]
  },
  {
   "cell_type": "code",
   "execution_count": 59,
   "metadata": {
    "ExecuteTime": {
     "end_time": "2017-10-26T05:09:20.240165Z",
     "start_time": "2017-10-26T05:09:20.236886Z"
    }
   },
   "outputs": [],
   "source": [
    "# model.fit(xs, y, batch_size=64, nb_epoch=12)"
   ]
  },
  {
   "cell_type": "code",
   "execution_count": 60,
   "metadata": {
    "ExecuteTime": {
     "end_time": "2017-10-26T05:09:20.245728Z",
     "start_time": "2017-10-26T05:09:20.242345Z"
    }
   },
   "outputs": [],
   "source": [
    "# model.fit(xs, y, batch_size=64, nb_epoch=12)"
   ]
  },
  {
   "cell_type": "code",
   "execution_count": 61,
   "metadata": {
    "ExecuteTime": {
     "end_time": "2017-10-26T05:09:20.253820Z",
     "start_time": "2017-10-26T05:09:20.247913Z"
    },
    "collapsed": true
   },
   "outputs": [],
   "source": [
    "def get_next(inp):\n",
    "    idxs = [np.array(char_indices[c])[np.newaxis] for c in inp]\n",
    "    p = model.predict(idxs)\n",
    "    return chars[np.argmax(p)]"
   ]
  },
  {
   "cell_type": "code",
   "execution_count": 62,
   "metadata": {
    "ExecuteTime": {
     "end_time": "2017-10-26T05:09:21.386508Z",
     "start_time": "2017-10-26T05:09:20.255959Z"
    }
   },
   "outputs": [
    {
     "data": {
      "text/plain": [
       "'('"
      ]
     },
     "execution_count": 62,
     "metadata": {},
     "output_type": "execute_result"
    }
   ],
   "source": [
    "get_next('for thos')"
   ]
  },
  {
   "cell_type": "code",
   "execution_count": 63,
   "metadata": {
    "ExecuteTime": {
     "end_time": "2017-10-26T05:09:21.394117Z",
     "start_time": "2017-10-26T05:09:21.388414Z"
    }
   },
   "outputs": [
    {
     "data": {
      "text/plain": [
       "'('"
      ]
     },
     "execution_count": 63,
     "metadata": {},
     "output_type": "execute_result"
    }
   ],
   "source": [
    "get_next('part of ')"
   ]
  },
  {
   "cell_type": "code",
   "execution_count": 64,
   "metadata": {
    "ExecuteTime": {
     "end_time": "2017-10-26T05:09:21.410953Z",
     "start_time": "2017-10-26T05:09:21.395634Z"
    }
   },
   "outputs": [
    {
     "data": {
      "text/plain": [
       "'('"
      ]
     },
     "execution_count": 64,
     "metadata": {},
     "output_type": "execute_result"
    }
   ],
   "source": [
    "get_next('queens a')"
   ]
  },
  {
   "cell_type": "markdown",
   "metadata": {
    "collapsed": true
   },
   "source": [
    "# Our first RNN"
   ]
  },
  {
   "cell_type": "code",
   "execution_count": 65,
   "metadata": {
    "ExecuteTime": {
     "end_time": "2017-10-26T05:09:21.473427Z",
     "start_time": "2017-10-26T05:09:21.413033Z"
    },
    "collapsed": true
   },
   "outputs": [],
   "source": [
    "c_out_dat = [[idx[i+n] for i in xrange(1, len(idx)-cs, cs)] for n in range(cs)]"
   ]
  },
  {
   "cell_type": "code",
   "execution_count": 66,
   "metadata": {
    "ExecuteTime": {
     "end_time": "2017-10-26T05:09:21.479075Z",
     "start_time": "2017-10-26T05:09:21.474889Z"
    }
   },
   "outputs": [
    {
     "data": {
      "text/plain": [
       "(8, 75112)"
      ]
     },
     "execution_count": 66,
     "metadata": {},
     "output_type": "execute_result"
    }
   ],
   "source": [
    "len(c_out_dat), len(c_out_dat[0])"
   ]
  },
  {
   "cell_type": "code",
   "execution_count": 67,
   "metadata": {
    "ExecuteTime": {
     "end_time": "2017-10-26T05:09:21.485774Z",
     "start_time": "2017-10-26T05:09:21.480798Z"
    }
   },
   "outputs": [
    {
     "data": {
      "text/plain": [
       "['P', 'R', 'E', 'F', 'A', 'C', 'E', '\\n']"
      ]
     },
     "execution_count": 67,
     "metadata": {},
     "output_type": "execute_result"
    }
   ],
   "source": [
    "[indices_char[i[0]] for i in c_in_dat]"
   ]
  },
  {
   "cell_type": "code",
   "execution_count": 68,
   "metadata": {
    "ExecuteTime": {
     "end_time": "2017-10-26T05:09:21.492783Z",
     "start_time": "2017-10-26T05:09:21.488059Z"
    }
   },
   "outputs": [
    {
     "data": {
      "text/plain": [
       "['R', 'E', 'F', 'A', 'C', 'E', '\\n', '\\n']"
      ]
     },
     "execution_count": 68,
     "metadata": {},
     "output_type": "execute_result"
    }
   ],
   "source": [
    "[indices_char[i[0]] for i in c_out_dat]"
   ]
  },
  {
   "cell_type": "code",
   "execution_count": 69,
   "metadata": {
    "ExecuteTime": {
     "end_time": "2017-10-26T05:09:21.520337Z",
     "start_time": "2017-10-26T05:09:21.494559Z"
    }
   },
   "outputs": [
    {
     "data": {
      "text/plain": [
       "['\\n', '\\n', 'S', 'U', 'P', 'P', 'O', 'S']"
      ]
     },
     "execution_count": 69,
     "metadata": {},
     "output_type": "execute_result"
    }
   ],
   "source": [
    "[indices_char[i[1]] for i in c_in_dat]"
   ]
  },
  {
   "cell_type": "code",
   "execution_count": 70,
   "metadata": {
    "ExecuteTime": {
     "end_time": "2017-10-26T05:09:21.528768Z",
     "start_time": "2017-10-26T05:09:21.522649Z"
    }
   },
   "outputs": [
    {
     "data": {
      "text/plain": [
       "['\\n', 'S', 'U', 'P', 'P', 'O', 'S', 'I']"
      ]
     },
     "execution_count": 70,
     "metadata": {},
     "output_type": "execute_result"
    }
   ],
   "source": [
    "[indices_char[i[1]] for i in c_out_dat]"
   ]
  },
  {
   "cell_type": "code",
   "execution_count": 71,
   "metadata": {
    "ExecuteTime": {
     "end_time": "2017-10-26T05:09:22.595088Z",
     "start_time": "2017-10-26T05:09:21.531188Z"
    },
    "collapsed": true
   },
   "outputs": [],
   "source": [
    "ys = [np.stack(arr[:-2]) for arr in c_out_dat]"
   ]
  },
  {
   "cell_type": "code",
   "execution_count": 72,
   "metadata": {
    "ExecuteTime": {
     "end_time": "2017-10-26T05:09:22.604655Z",
     "start_time": "2017-10-26T05:09:22.597409Z"
    }
   },
   "outputs": [
    {
     "data": {
      "text/plain": [
       "[array([42,  1, 38, ..., 73, 65, 58]),\n",
       " array([29, 43, 31, ..., 62, 57,  2]),\n",
       " array([30, 45,  2, ..., 54,  2, 62]),\n",
       " array([25, 40, 73, ..., 67, 54, 67]),\n",
       " array([27, 40, 61, ...,  2, 72, 57]),\n",
       " array([29, 39, 54, ..., 76,  2, 62]),\n",
       " array([ 1, 43, 73, ..., 68, 73, 56]),\n",
       " array([ 1, 33,  2, ..., 71, 61, 54])]"
      ]
     },
     "execution_count": 72,
     "metadata": {},
     "output_type": "execute_result"
    }
   ],
   "source": [
    "ys"
   ]
  },
  {
   "cell_type": "code",
   "execution_count": 73,
   "metadata": {
    "ExecuteTime": {
     "end_time": "2017-10-26T05:09:22.614836Z",
     "start_time": "2017-10-26T05:09:22.606829Z"
    }
   },
   "outputs": [
    {
     "data": {
      "text/plain": [
       "[array([40,  1, 33,  2, 72, 67, 73,  2]),\n",
       " array([42,  1, 38, 44,  2,  9, 61, 73]),\n",
       " array([29, 43, 31, 71, 54,  9, 58, 61]),\n",
       " array([30, 45,  2, 74,  2, 76, 67, 58]),\n",
       " array([25, 40, 73, 73, 76, 61, 24, 71]),\n",
       " array([27, 40, 61, 61, 68, 54,  2, 58]),\n",
       " array([29, 39, 54,  2, 66, 73, 33,  2]),\n",
       " array([ 1, 43, 73, 62, 54,  2, 72, 67])]"
      ]
     },
     "execution_count": 73,
     "metadata": {},
     "output_type": "execute_result"
    }
   ],
   "source": [
    "[xs[n][:cs] for n in range(cs)]"
   ]
  },
  {
   "cell_type": "code",
   "execution_count": 74,
   "metadata": {
    "ExecuteTime": {
     "end_time": "2017-10-26T05:09:22.625084Z",
     "start_time": "2017-10-26T05:09:22.617180Z"
    }
   },
   "outputs": [
    {
     "data": {
      "text/plain": [
       "[array([42,  1, 38, 44,  2,  9, 61, 73]),\n",
       " array([29, 43, 31, 71, 54,  9, 58, 61]),\n",
       " array([30, 45,  2, 74,  2, 76, 67, 58]),\n",
       " array([25, 40, 73, 73, 76, 61, 24, 71]),\n",
       " array([27, 40, 61, 61, 68, 54,  2, 58]),\n",
       " array([29, 39, 54,  2, 66, 73, 33,  2]),\n",
       " array([ 1, 43, 73, 62, 54,  2, 72, 67]),\n",
       " array([ 1, 33,  2, 72, 67, 73,  2, 68])]"
      ]
     },
     "execution_count": 74,
     "metadata": {},
     "output_type": "execute_result"
    }
   ],
   "source": [
    "[ys[n][:cs] for n in range(cs)]"
   ]
  },
  {
   "cell_type": "code",
   "execution_count": 75,
   "metadata": {
    "ExecuteTime": {
     "end_time": "2017-10-26T05:09:22.636379Z",
     "start_time": "2017-10-26T05:09:22.627247Z"
    },
    "collapsed": true
   },
   "outputs": [],
   "source": [
    "dense_in = Dense(n_hidden, activation='relu')\n",
    "dense_hidden = Dense(n_hidden, activation='relu', init='identity')\n",
    "dense_out = Dense(vocab_size, activation='softmax')"
   ]
  },
  {
   "cell_type": "code",
   "execution_count": 76,
   "metadata": {
    "ExecuteTime": {
     "end_time": "2017-10-26T05:09:22.673901Z",
     "start_time": "2017-10-26T05:09:22.638097Z"
    },
    "collapsed": true
   },
   "outputs": [],
   "source": [
    "inp1 = Input(shape=(n_fac,), name = 'zeros')\n",
    "hidden = dense_in(inp1)"
   ]
  },
  {
   "cell_type": "code",
   "execution_count": 77,
   "metadata": {
    "ExecuteTime": {
     "end_time": "2017-10-26T05:09:22.720362Z",
     "start_time": "2017-10-26T05:09:22.675805Z"
    },
    "collapsed": true
   },
   "outputs": [],
   "source": [
    "outs = []\n",
    "\n",
    "for i in range(cs):\n",
    "    c_dense = dense_in(c_ins[i][1])\n",
    "    hidden = merge([c_dense, dense_hidden(hidden)], mode='sum')\n",
    "    outs.append(dense_out(hidden)) "
   ]
  },
  {
   "cell_type": "code",
   "execution_count": 78,
   "metadata": {
    "ExecuteTime": {
     "end_time": "2017-10-26T05:09:22.727479Z",
     "start_time": "2017-10-26T05:09:22.722208Z"
    }
   },
   "outputs": [
    {
     "data": {
      "text/plain": [
       "8"
      ]
     },
     "execution_count": 78,
     "metadata": {},
     "output_type": "execute_result"
    }
   ],
   "source": [
    "len(outs)"
   ]
  },
  {
   "cell_type": "code",
   "execution_count": 79,
   "metadata": {
    "ExecuteTime": {
     "end_time": "2017-10-26T05:09:22.738194Z",
     "start_time": "2017-10-26T05:09:22.729859Z"
    },
    "collapsed": true
   },
   "outputs": [],
   "source": [
    "model = Model(input=[inp1] + [c[0] for c in c_ins], output=outs)"
   ]
  },
  {
   "cell_type": "code",
   "execution_count": 80,
   "metadata": {
    "ExecuteTime": {
     "end_time": "2017-10-26T05:09:22.820950Z",
     "start_time": "2017-10-26T05:09:22.740365Z"
    },
    "collapsed": true
   },
   "outputs": [],
   "source": [
    "model.compile(loss='sparse_categorical_crossentropy', optimizer=Adam())"
   ]
  },
  {
   "cell_type": "code",
   "execution_count": 81,
   "metadata": {
    "ExecuteTime": {
     "end_time": "2017-10-26T05:09:22.837912Z",
     "start_time": "2017-10-26T05:09:22.822749Z"
    },
    "collapsed": true
   },
   "outputs": [],
   "source": [
    "zeros = np.tile(np.zeros(n_fac), (len(xs[0]),1))"
   ]
  },
  {
   "cell_type": "code",
   "execution_count": 82,
   "metadata": {
    "ExecuteTime": {
     "end_time": "2017-10-26T05:09:22.845558Z",
     "start_time": "2017-10-26T05:09:22.839655Z"
    }
   },
   "outputs": [
    {
     "data": {
      "text/plain": [
       "array([[ 0.,  0.,  0., ...,  0.,  0.,  0.],\n",
       "       [ 0.,  0.,  0., ...,  0.,  0.,  0.],\n",
       "       [ 0.,  0.,  0., ...,  0.,  0.,  0.],\n",
       "       ..., \n",
       "       [ 0.,  0.,  0., ...,  0.,  0.,  0.],\n",
       "       [ 0.,  0.,  0., ...,  0.,  0.,  0.],\n",
       "       [ 0.,  0.,  0., ...,  0.,  0.,  0.]])"
      ]
     },
     "execution_count": 82,
     "metadata": {},
     "output_type": "execute_result"
    }
   ],
   "source": [
    "zeros"
   ]
  },
  {
   "cell_type": "code",
   "execution_count": 83,
   "metadata": {
    "ExecuteTime": {
     "end_time": "2017-10-26T05:11:44.840374Z",
     "start_time": "2017-10-26T05:09:22.847181Z"
    }
   },
   "outputs": [
    {
     "name": "stdout",
     "output_type": "stream",
     "text": [
      "Epoch 1/12\n",
      "75110/75110 [==============================] - 10s - loss: 20.1353 - dense_9_loss_1: 2.6985 - dense_9_loss_2: 2.5644 - dense_9_loss_3: 2.5171 - dense_9_loss_4: 2.4795 - dense_9_loss_5: 2.4763 - dense_9_loss_6: 2.4619 - dense_9_loss_7: 2.4734 - dense_9_loss_8: 2.4643    \n",
      "Epoch 2/12\n",
      "75110/75110 [==============================] - 10s - loss: 17.8798 - dense_9_loss_1: 2.5137 - dense_9_loss_2: 2.3520 - dense_9_loss_3: 2.2379 - dense_9_loss_4: 2.1745 - dense_9_loss_5: 2.1612 - dense_9_loss_6: 2.1443 - dense_9_loss_7: 2.1584 - dense_9_loss_8: 2.1377    \n",
      "Epoch 3/12\n",
      "75110/75110 [==============================] - 10s - loss: 17.3053 - dense_9_loss_1: 2.4970 - dense_9_loss_2: 2.3304 - dense_9_loss_3: 2.1813 - dense_9_loss_4: 2.0929 - dense_9_loss_5: 2.0644 - dense_9_loss_6: 2.0446 - dense_9_loss_7: 2.0565 - dense_9_loss_8: 2.0381    \n",
      "Epoch 4/12\n",
      "75110/75110 [==============================] - 10s - loss: 16.9486 - dense_9_loss_1: 2.4907 - dense_9_loss_2: 2.3236 - dense_9_loss_3: 2.1505 - dense_9_loss_4: 2.0405 - dense_9_loss_5: 2.0037 - dense_9_loss_6: 1.9792 - dense_9_loss_7: 1.9890 - dense_9_loss_8: 1.9713    \n",
      "Epoch 5/12\n",
      "75110/75110 [==============================] - 10s - loss: 16.6963 - dense_9_loss_1: 2.4867 - dense_9_loss_2: 2.3172 - dense_9_loss_3: 2.1320 - dense_9_loss_4: 2.0057 - dense_9_loss_5: 1.9612 - dense_9_loss_6: 1.9293 - dense_9_loss_7: 1.9416 - dense_9_loss_8: 1.9225    \n",
      "Epoch 6/12\n",
      "75110/75110 [==============================] - 11s - loss: 16.5187 - dense_9_loss_1: 2.4844 - dense_9_loss_2: 2.3156 - dense_9_loss_3: 2.1191 - dense_9_loss_4: 1.9818 - dense_9_loss_5: 1.9304 - dense_9_loss_6: 1.8939 - dense_9_loss_7: 1.9074 - dense_9_loss_8: 1.8862    \n",
      "Epoch 7/12\n",
      "75110/75110 [==============================] - 11s - loss: 16.3767 - dense_9_loss_1: 2.4829 - dense_9_loss_2: 2.3124 - dense_9_loss_3: 2.1111 - dense_9_loss_4: 1.9620 - dense_9_loss_5: 1.9066 - dense_9_loss_6: 1.8662 - dense_9_loss_7: 1.8790 - dense_9_loss_8: 1.8565    \n",
      "Epoch 8/12\n",
      "75110/75110 [==============================] - 11s - loss: 16.2675 - dense_9_loss_1: 2.4817 - dense_9_loss_2: 2.3098 - dense_9_loss_3: 2.1032 - dense_9_loss_4: 1.9490 - dense_9_loss_5: 1.8897 - dense_9_loss_6: 1.8450 - dense_9_loss_7: 1.8551 - dense_9_loss_8: 1.8340    \n",
      "Epoch 9/12\n",
      "75110/75110 [==============================] - 11s - loss: 16.1772 - dense_9_loss_1: 2.4803 - dense_9_loss_2: 2.3082 - dense_9_loss_3: 2.0976 - dense_9_loss_4: 1.9371 - dense_9_loss_5: 1.8725 - dense_9_loss_6: 1.8279 - dense_9_loss_7: 1.8372 - dense_9_loss_8: 1.8164    \n",
      "Epoch 10/12\n",
      "75110/75110 [==============================] - 11s - loss: 16.1032 - dense_9_loss_1: 2.4794 - dense_9_loss_2: 2.3066 - dense_9_loss_3: 2.0928 - dense_9_loss_4: 1.9273 - dense_9_loss_5: 1.8603 - dense_9_loss_6: 1.8133 - dense_9_loss_7: 1.8231 - dense_9_loss_8: 1.8004    \n",
      "Epoch 11/12\n",
      "75110/75110 [==============================] - 10s - loss: 16.0371 - dense_9_loss_1: 2.4779 - dense_9_loss_2: 2.3056 - dense_9_loss_3: 2.0881 - dense_9_loss_4: 1.9184 - dense_9_loss_5: 1.8503 - dense_9_loss_6: 1.8016 - dense_9_loss_7: 1.8097 - dense_9_loss_8: 1.7854    \n",
      "Epoch 12/12\n",
      "75110/75110 [==============================] - 10s - loss: 15.9833 - dense_9_loss_1: 2.4781 - dense_9_loss_2: 2.3043 - dense_9_loss_3: 2.0856 - dense_9_loss_4: 1.9146 - dense_9_loss_5: 1.8395 - dense_9_loss_6: 1.7893 - dense_9_loss_7: 1.7997 - dense_9_loss_8: 1.7724    \n"
     ]
    },
    {
     "data": {
      "text/plain": [
       "<keras.callbacks.History at 0x7f09286ebf90>"
      ]
     },
     "execution_count": 83,
     "metadata": {},
     "output_type": "execute_result"
    }
   ],
   "source": [
    "model.fit([zeros]+xs, ys, batch_size=64, nb_epoch=12)"
   ]
  },
  {
   "cell_type": "code",
   "execution_count": 85,
   "metadata": {
    "ExecuteTime": {
     "end_time": "2017-10-26T05:12:17.261424Z",
     "start_time": "2017-10-26T05:12:17.252935Z"
    }
   },
   "outputs": [
    {
     "data": {
      "text/plain": [
       "[array([[ 0.,  0.,  0., ...,  0.,  0.,  0.],\n",
       "        [ 0.,  0.,  0., ...,  0.,  0.,  0.],\n",
       "        [ 0.,  0.,  0., ...,  0.,  0.,  0.],\n",
       "        ..., \n",
       "        [ 0.,  0.,  0., ...,  0.,  0.,  0.],\n",
       "        [ 0.,  0.,  0., ...,  0.,  0.,  0.],\n",
       "        [ 0.,  0.,  0., ...,  0.,  0.,  0.]]),\n",
       " array([40,  1, 33, ..., 72, 71, 61]),\n",
       " array([42,  1, 38, ..., 73, 65, 58]),\n",
       " array([29, 43, 31, ..., 62, 57,  2]),\n",
       " array([30, 45,  2, ..., 54,  2, 62]),\n",
       " array([25, 40, 73, ..., 67, 54, 67]),\n",
       " array([27, 40, 61, ...,  2, 72, 57]),\n",
       " array([29, 39, 54, ..., 76,  2, 62]),\n",
       " array([ 1, 43, 73, ..., 68, 73, 56])]"
      ]
     },
     "execution_count": 85,
     "metadata": {},
     "output_type": "execute_result"
    }
   ],
   "source": [
    "[zeros] + xs"
   ]
  },
  {
   "cell_type": "code",
   "execution_count": 86,
   "metadata": {
    "ExecuteTime": {
     "end_time": "2017-10-26T05:12:20.174338Z",
     "start_time": "2017-10-26T05:12:20.168930Z"
    }
   },
   "outputs": [
    {
     "data": {
      "text/plain": [
       "(75110, 42)"
      ]
     },
     "execution_count": 86,
     "metadata": {},
     "output_type": "execute_result"
    }
   ],
   "source": [
    "zeros.shape"
   ]
  },
  {
   "cell_type": "code",
   "execution_count": 87,
   "metadata": {
    "ExecuteTime": {
     "end_time": "2017-10-26T05:12:22.047834Z",
     "start_time": "2017-10-26T05:12:22.043043Z"
    }
   },
   "outputs": [
    {
     "data": {
      "text/plain": [
       "(8, 75110)"
      ]
     },
     "execution_count": 87,
     "metadata": {},
     "output_type": "execute_result"
    }
   ],
   "source": [
    "len(xs), len(xs[0])"
   ]
  },
  {
   "cell_type": "code",
   "execution_count": 88,
   "metadata": {
    "ExecuteTime": {
     "end_time": "2017-10-26T05:12:23.187464Z",
     "start_time": "2017-10-26T05:12:23.182550Z"
    }
   },
   "outputs": [
    {
     "data": {
      "text/plain": [
       "array([40,  1, 33, ..., 72, 71, 61])"
      ]
     },
     "execution_count": 88,
     "metadata": {},
     "output_type": "execute_result"
    }
   ],
   "source": [
    "xs[0]"
   ]
  },
  {
   "cell_type": "code",
   "execution_count": 89,
   "metadata": {
    "ExecuteTime": {
     "end_time": "2017-10-26T05:12:25.069223Z",
     "start_time": "2017-10-26T05:12:25.063095Z"
    }
   },
   "outputs": [
    {
     "data": {
      "text/plain": [
       "array([ 0.,  0.,  0.,  0.,  0.,  0.,  0.,  0.,  0.,  0.,  0.,  0.,  0.,  0.,  0.,  0.,  0.,  0.,\n",
       "        0.,  0.,  0.,  0.,  0.,  0.,  0.,  0.,  0.,  0.,  0.,  0.,  0.,  0.,  0.,  0.,  0.,  0.,\n",
       "        0.,  0.,  0.,  0.,  0.,  0.])"
      ]
     },
     "execution_count": 89,
     "metadata": {},
     "output_type": "execute_result"
    }
   ],
   "source": [
    "zeros[0]"
   ]
  },
  {
   "cell_type": "code",
   "execution_count": 90,
   "metadata": {
    "ExecuteTime": {
     "end_time": "2017-10-26T05:12:26.037872Z",
     "start_time": "2017-10-26T05:12:26.030885Z"
    }
   },
   "outputs": [
    {
     "data": {
      "text/plain": [
       "[array([40,  1, 33, ..., 72, 71, 61]),\n",
       " array([42,  1, 38, ..., 73, 65, 58]),\n",
       " array([29, 43, 31, ..., 62, 57,  2]),\n",
       " array([30, 45,  2, ..., 54,  2, 62]),\n",
       " array([25, 40, 73, ..., 67, 54, 67]),\n",
       " array([27, 40, 61, ...,  2, 72, 57]),\n",
       " array([29, 39, 54, ..., 76,  2, 62]),\n",
       " array([ 1, 43, 73, ..., 68, 73, 56])]"
      ]
     },
     "execution_count": 90,
     "metadata": {},
     "output_type": "execute_result"
    }
   ],
   "source": [
    "xs"
   ]
  },
  {
   "cell_type": "code",
   "execution_count": 116,
   "metadata": {
    "ExecuteTime": {
     "end_time": "2017-10-26T05:18:41.586530Z",
     "start_time": "2017-10-26T05:18:41.576365Z"
    }
   },
   "outputs": [],
   "source": [
    "# def get_nexts(inp):\n",
    "#     # get character indices for input\n",
    "#     idxs = [char_indices[c] for c in inp]\n",
    "#     # turn each index into a 1-d array\n",
    "#     arrs = [np.array([i]) for i in idxs]\n",
    "#     # predict these arrays, outputting a softmax\n",
    "#     p = model.predict([np.zeros(n_fac)[np.newaxis,:]] + arrs)\n",
    "#     # return the character that maximizes the softmax probability\n",
    "#     return [chars[np.argmax(o)] for o in p]\n",
    "def get_nexts(inp):\n",
    "    idxs = [char_indices[c] for c in inp]\n",
    "    arrs = [np.array([i]) for i in idxs]\n",
    "    p = model.predict([np.reshape(np.zeros(n_fac), newshape=(-1, n_fac))] + arrs)\n",
    "    return [chars[np.argmax(o)] for o in p]"
   ]
  },
  {
   "cell_type": "code",
   "execution_count": 115,
   "metadata": {
    "ExecuteTime": {
     "end_time": "2017-10-26T05:18:37.769715Z",
     "start_time": "2017-10-26T05:18:37.764359Z"
    }
   },
   "outputs": [
    {
     "data": {
      "text/plain": [
       "(1, 42)"
      ]
     },
     "execution_count": 115,
     "metadata": {},
     "output_type": "execute_result"
    }
   ],
   "source": [
    "np.reshape(np.zeros(n_fac), newshape=(-1, n_fac)).shape"
   ]
  },
  {
   "cell_type": "code",
   "execution_count": 117,
   "metadata": {
    "ExecuteTime": {
     "end_time": "2017-10-26T05:18:43.230988Z",
     "start_time": "2017-10-26T05:18:43.224245Z"
    }
   },
   "outputs": [
    {
     "data": {
      "text/plain": [
       "['t', 'h', 'e', 't', ' ', 'c', 'n', ' ']"
      ]
     },
     "execution_count": 117,
     "metadata": {},
     "output_type": "execute_result"
    }
   ],
   "source": [
    "get_nexts(' this is')"
   ]
  },
  {
   "cell_type": "code",
   "execution_count": 109,
   "metadata": {
    "ExecuteTime": {
     "end_time": "2017-10-26T05:16:59.002416Z",
     "start_time": "2017-10-26T05:16:58.995457Z"
    }
   },
   "outputs": [
    {
     "data": {
      "text/plain": [
       "['t', 'o', 'r', 't', ' ', 'o', 'f', ' ']"
      ]
     },
     "execution_count": 109,
     "metadata": {},
     "output_type": "execute_result"
    }
   ],
   "source": [
    "get_nexts(' part of')"
   ]
  },
  {
   "cell_type": "code",
   "execution_count": null,
   "metadata": {
    "collapsed": true
   },
   "outputs": [],
   "source": []
  },
  {
   "cell_type": "markdown",
   "metadata": {},
   "source": [
    "# Returning Sequences"
   ]
  },
  {
   "cell_type": "code",
   "execution_count": null,
   "metadata": {
    "ExecuteTime": {
     "end_time": "2017-10-26T05:11:44.933911Z",
     "start_time": "2017-10-26T05:09:28.253Z"
    },
    "collapsed": true
   },
   "outputs": [],
   "source": [
    "c_out_dat = [[idx[i+n] for i in xrange(1, len(idx)-cs, cs)] for n in range(cs)]"
   ]
  },
  {
   "cell_type": "code",
   "execution_count": null,
   "metadata": {
    "collapsed": true
   },
   "outputs": [],
   "source": []
  },
  {
   "cell_type": "markdown",
   "metadata": {
    "heading_collapsed": true
   },
   "source": [
    "# Our First Keras RNN"
   ]
  },
  {
   "cell_type": "code",
   "execution_count": null,
   "metadata": {
    "ExecuteTime": {
     "end_time": "2017-10-26T05:11:44.935255Z",
     "start_time": "2017-10-26T05:09:28.266Z"
    },
    "collapsed": true,
    "hidden": true
   },
   "outputs": [],
   "source": [
    "n_hidden, n_fac, cs, vocab_size = (256, 42, 8, 86)"
   ]
  },
  {
   "cell_type": "code",
   "execution_count": null,
   "metadata": {
    "ExecuteTime": {
     "end_time": "2017-10-26T05:11:44.936866Z",
     "start_time": "2017-10-26T05:09:28.272Z"
    },
    "collapsed": true,
    "hidden": true
   },
   "outputs": [],
   "source": [
    "model = Sequential([\n",
    "    Embedding(vocab_size, n_fac, input_length=cs),\n",
    "    SimpleRNN(n_hidden, activation='relu', inner_init='identity'),\n",
    "    Dense(vocab_size, activation='softmax')\n",
    "])"
   ]
  },
  {
   "cell_type": "code",
   "execution_count": null,
   "metadata": {
    "ExecuteTime": {
     "end_time": "2017-10-26T05:11:44.938078Z",
     "start_time": "2017-10-26T05:09:28.279Z"
    },
    "hidden": true
   },
   "outputs": [],
   "source": [
    "c_ins = [embedding_input(name='c_' + str(i), n_in=vocab_size, n_out=n_fac) for i in range(cs)]"
   ]
  },
  {
   "cell_type": "code",
   "execution_count": null,
   "metadata": {
    "ExecuteTime": {
     "end_time": "2017-10-26T05:11:44.939444Z",
     "start_time": "2017-10-26T05:09:28.287Z"
    },
    "collapsed": true,
    "hidden": true
   },
   "outputs": [],
   "source": [
    "dense_in = Dense(n_hidden, activation='relu')\n",
    "dense_hidden = Dense(n_hidden, activation='relu', init='identity')\n",
    "dense_out = Dense(vocab_size, activation='softmax')"
   ]
  },
  {
   "cell_type": "code",
   "execution_count": null,
   "metadata": {
    "ExecuteTime": {
     "end_time": "2017-10-26T05:11:44.940632Z",
     "start_time": "2017-10-26T05:09:28.294Z"
    },
    "hidden": true
   },
   "outputs": [],
   "source": [
    "len(idx)"
   ]
  },
  {
   "cell_type": "code",
   "execution_count": null,
   "metadata": {
    "ExecuteTime": {
     "end_time": "2017-10-26T05:11:44.942056Z",
     "start_time": "2017-10-26T05:09:28.305Z"
    },
    "hidden": true
   },
   "outputs": [],
   "source": [
    "inp1 = Input(shape=(n_fac,), name='zeros')\n",
    "hidden = dense_in(inp1)"
   ]
  },
  {
   "cell_type": "code",
   "execution_count": null,
   "metadata": {
    "ExecuteTime": {
     "end_time": "2017-10-26T05:11:44.943288Z",
     "start_time": "2017-10-26T05:09:28.313Z"
    },
    "hidden": true
   },
   "outputs": [],
   "source": [
    "n_hidden"
   ]
  },
  {
   "cell_type": "code",
   "execution_count": null,
   "metadata": {
    "collapsed": true,
    "hidden": true
   },
   "outputs": [],
   "source": []
  },
  {
   "cell_type": "code",
   "execution_count": null,
   "metadata": {
    "ExecuteTime": {
     "end_time": "2017-10-26T05:11:44.944483Z",
     "start_time": "2017-10-26T05:09:28.334Z"
    },
    "hidden": true
   },
   "outputs": [],
   "source": [
    "# outs = []\n",
    "# for i in range(cs):\n",
    "#     hidden = merge([dense_in(c_ins[i][1]), dense_hidden(hidden)], mode='sum')\n",
    "#     outs.append(dense_out(hidden)) \n",
    "\n",
    "outs = []\n",
    "\n",
    "for i in range(cs):\n",
    "    c_dense = dense_in(c_ins[i][1])\n",
    "    hidden = dense_hidden(hidden)\n",
    "    hidden = merge([c_dense, hidden], mode='sum')\n",
    "    # every layer now has an output\n",
    "    outs.append(dense_out(hidden))"
   ]
  },
  {
   "cell_type": "code",
   "execution_count": null,
   "metadata": {
    "ExecuteTime": {
     "end_time": "2017-10-26T05:11:44.945666Z",
     "start_time": "2017-10-26T05:09:28.344Z"
    },
    "collapsed": true,
    "hidden": true
   },
   "outputs": [],
   "source": [
    "mdl = Model([inp1] + [c[0] for c in c_ins], outs)"
   ]
  },
  {
   "cell_type": "code",
   "execution_count": null,
   "metadata": {
    "ExecuteTime": {
     "end_time": "2017-10-26T05:11:44.946878Z",
     "start_time": "2017-10-26T05:09:28.352Z"
    },
    "hidden": true
   },
   "outputs": [],
   "source": [
    "len(c_ins)"
   ]
  },
  {
   "cell_type": "code",
   "execution_count": null,
   "metadata": {
    "ExecuteTime": {
     "end_time": "2017-10-26T05:11:44.948298Z",
     "start_time": "2017-10-26T05:09:28.362Z"
    },
    "collapsed": true,
    "hidden": true
   },
   "outputs": [],
   "source": [
    "zs = np.tile(np.zeros(n_fac), (len(xs[0]), 1))"
   ]
  },
  {
   "cell_type": "code",
   "execution_count": null,
   "metadata": {
    "ExecuteTime": {
     "end_time": "2017-10-26T05:11:44.949748Z",
     "start_time": "2017-10-26T05:09:28.371Z"
    },
    "collapsed": true,
    "hidden": true
   },
   "outputs": [],
   "source": [
    "x0 = [np.array([0])] * len(xs[0])"
   ]
  },
  {
   "cell_type": "code",
   "execution_count": null,
   "metadata": {
    "ExecuteTime": {
     "end_time": "2017-10-26T05:11:44.951132Z",
     "start_time": "2017-10-26T05:09:28.386Z"
    },
    "hidden": true
   },
   "outputs": [],
   "source": [
    "zs.shape"
   ]
  },
  {
   "cell_type": "code",
   "execution_count": null,
   "metadata": {
    "ExecuteTime": {
     "end_time": "2017-10-26T05:11:44.952333Z",
     "start_time": "2017-10-26T05:09:28.397Z"
    },
    "hidden": true
   },
   "outputs": [],
   "source": [
    "mdl.compile(loss='sparse_categorical_crossentropy', optimizer=Adam())\n",
    "mdl.fit([zs]+xs, y, batch_size=64, nb_epoch=12)"
   ]
  }
 ],
 "metadata": {
  "kernelspec": {
   "display_name": "Python 2",
   "language": "python",
   "name": "python2"
  },
  "language_info": {
   "codemirror_mode": {
    "name": "ipython",
    "version": 2
   },
   "file_extension": ".py",
   "mimetype": "text/x-python",
   "name": "python",
   "nbconvert_exporter": "python",
   "pygments_lexer": "ipython2",
   "version": "2.7.13"
  }
 },
 "nbformat": 4,
 "nbformat_minor": 2
}
