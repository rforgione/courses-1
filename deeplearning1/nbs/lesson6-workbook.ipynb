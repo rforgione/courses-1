{
 "cells": [
  {
   "cell_type": "code",
   "execution_count": 2,
   "metadata": {
    "ExecuteTime": {
     "end_time": "2017-10-30T00:31:22.214463Z",
     "start_time": "2017-10-30T00:31:14.743869Z"
    }
   },
   "outputs": [
    {
     "name": "stderr",
     "output_type": "stream",
     "text": [
      "WARNING (theano.sandbox.cuda): The cuda backend is deprecated and will be removed in the next release (v0.10).  Please switch to the gpuarray backend. You can get more information about how to switch at this URL:\n",
      " https://github.com/Theano/Theano/wiki/Converting-to-the-new-gpu-back-end%28gpuarray%29\n",
      "\n",
      "Using gpu device 0: Tesla K80 (CNMeM is enabled with initial size: 90.0% of memory, cuDNN 5103)\n",
      "WARNING (theano.sandbox.cuda): The cuda backend is deprecated and will be removed in the next release (v0.10).  Please switch to the gpuarray backend. You can get more information about how to switch at this URL:\n",
      " https://github.com/Theano/Theano/wiki/Converting-to-the-new-gpu-back-end%28gpuarray%29\n",
      "\n",
      "WARNING (theano.sandbox.cuda): Ignoring call to use(1), GPU number 0 is already in use.\n"
     ]
    }
   ],
   "source": [
    "from theano.sandbox import cuda\n",
    "cuda.use('gpu1')"
   ]
  },
  {
   "cell_type": "code",
   "execution_count": 3,
   "metadata": {
    "ExecuteTime": {
     "end_time": "2017-10-30T00:31:25.985275Z",
     "start_time": "2017-10-30T00:31:23.982181Z"
    }
   },
   "outputs": [
    {
     "name": "stderr",
     "output_type": "stream",
     "text": [
      "Using Theano backend.\n"
     ]
    }
   ],
   "source": [
    "%matplotlib inline\n",
    "import utils; reload(utils)\n",
    "from utils import *\n",
    "from __future__ import division, print_function"
   ]
  },
  {
   "cell_type": "code",
   "execution_count": 4,
   "metadata": {
    "ExecuteTime": {
     "end_time": "2017-10-30T00:31:28.332461Z",
     "start_time": "2017-10-30T00:31:28.318048Z"
    }
   },
   "outputs": [
    {
     "name": "stdout",
     "output_type": "stream",
     "text": [
      "Corpus length: 600901\n"
     ]
    }
   ],
   "source": [
    "path = get_file('nietzche.txt', 'https://s3.amazonaws.com/text-datasets/nietzsche.txt')\n",
    "text = open(path).read()\n",
    "print(\"Corpus length: %s\" % len(text))"
   ]
  },
  {
   "cell_type": "code",
   "execution_count": 5,
   "metadata": {
    "ExecuteTime": {
     "end_time": "2017-10-30T00:31:29.572620Z",
     "start_time": "2017-10-30T00:31:29.558243Z"
    },
    "collapsed": true
   },
   "outputs": [],
   "source": [
    "chars = sorted(list(set(text)))\n",
    "vocab_size = len(chars) + 1\n",
    "chars.insert(0, \"\\0\")"
   ]
  },
  {
   "cell_type": "code",
   "execution_count": 6,
   "metadata": {
    "ExecuteTime": {
     "end_time": "2017-10-30T00:31:30.360021Z",
     "start_time": "2017-10-30T00:31:30.355735Z"
    }
   },
   "outputs": [
    {
     "name": "stdout",
     "output_type": "stream",
     "text": [
      "Total chars:  86\n"
     ]
    }
   ],
   "source": [
    "print(\"Total chars: \", vocab_size)"
   ]
  },
  {
   "cell_type": "code",
   "execution_count": 7,
   "metadata": {
    "ExecuteTime": {
     "end_time": "2017-10-30T00:31:32.101297Z",
     "start_time": "2017-10-30T00:31:32.094380Z"
    }
   },
   "outputs": [
    {
     "data": {
      "text/plain": [
       "'\\n !\"\\'(),-.0123456789:;=?ABCDEFGHIJKLMNOPQRSTUVWXYZ[]_abcdefghijklmnopqrstuvwxyz'"
      ]
     },
     "execution_count": 7,
     "metadata": {},
     "output_type": "execute_result"
    }
   ],
   "source": [
    "''.join(chars[1:-6])"
   ]
  },
  {
   "cell_type": "code",
   "execution_count": 8,
   "metadata": {
    "ExecuteTime": {
     "end_time": "2017-10-30T00:31:32.520223Z",
     "start_time": "2017-10-30T00:31:32.516236Z"
    },
    "collapsed": true
   },
   "outputs": [],
   "source": [
    "char_indices = dict((c, i) for (i, c) in enumerate(chars))\n",
    "indices_char = dict((i, c) for (i, c) in enumerate(chars))"
   ]
  },
  {
   "cell_type": "code",
   "execution_count": 9,
   "metadata": {
    "ExecuteTime": {
     "end_time": "2017-10-30T00:31:33.052139Z",
     "start_time": "2017-10-30T00:31:32.995788Z"
    },
    "collapsed": true
   },
   "outputs": [],
   "source": [
    "idx = [char_indices[c] for c in text]"
   ]
  },
  {
   "cell_type": "code",
   "execution_count": 10,
   "metadata": {
    "ExecuteTime": {
     "end_time": "2017-10-30T00:31:33.441397Z",
     "start_time": "2017-10-30T00:31:33.436028Z"
    }
   },
   "outputs": [
    {
     "data": {
      "text/plain": [
       "[40, 42, 29, 30, 25, 27, 29, 1, 1, 1]"
      ]
     },
     "execution_count": 10,
     "metadata": {},
     "output_type": "execute_result"
    }
   ],
   "source": [
    "idx[:10]"
   ]
  },
  {
   "cell_type": "code",
   "execution_count": 11,
   "metadata": {
    "ExecuteTime": {
     "end_time": "2017-10-30T00:31:35.303751Z",
     "start_time": "2017-10-30T00:31:35.297818Z"
    }
   },
   "outputs": [
    {
     "data": {
      "text/plain": [
       "'PREFACE\\n\\n\\nSUPPOSING that Truth is a woman--what then? Is there not ground\\nfor suspecting that all ph'"
      ]
     },
     "execution_count": 11,
     "metadata": {},
     "output_type": "execute_result"
    }
   ],
   "source": [
    "''.join([chars[i] for i in idx[:100]])"
   ]
  },
  {
   "cell_type": "markdown",
   "metadata": {},
   "source": [
    "# 3-Char Model"
   ]
  },
  {
   "cell_type": "code",
   "execution_count": 12,
   "metadata": {
    "ExecuteTime": {
     "end_time": "2017-10-30T00:31:36.527883Z",
     "start_time": "2017-10-30T00:31:36.442655Z"
    },
    "collapsed": true
   },
   "outputs": [],
   "source": [
    "seq_length = 3\n",
    "char_0 = [idx[i] for i in range(0, len(idx)-1-seq_length, seq_length)]\n",
    "char_1 = [idx[i + 1] for i in range(0, len(idx)-1-seq_length, seq_length)]\n",
    "char_2 = [idx[i + 2] for i in range(0, len(idx)-1-seq_length, seq_length)]\n",
    "char_3 = [idx[i + 3] for i in range(0, len(idx)-1-seq_length, seq_length)]"
   ]
  },
  {
   "cell_type": "code",
   "execution_count": 13,
   "metadata": {
    "ExecuteTime": {
     "end_time": "2017-10-30T00:31:36.922257Z",
     "start_time": "2017-10-30T00:31:36.872176Z"
    },
    "collapsed": true
   },
   "outputs": [],
   "source": [
    "x0 = np.array(char_0[:-2])\n",
    "x1 = np.array(char_1[:-2])\n",
    "x2 = np.array(char_2[:-2])\n",
    "x3 = np.array(char_3[:-2])"
   ]
  },
  {
   "cell_type": "code",
   "execution_count": 14,
   "metadata": {
    "ExecuteTime": {
     "end_time": "2017-10-30T00:31:37.442385Z",
     "start_time": "2017-10-30T00:31:37.437872Z"
    },
    "collapsed": true
   },
   "outputs": [],
   "source": [
    "def embedding_input(name, n_in, n_out):\n",
    "    inp = Input(shape=(1,), dtype='int64', name=name)\n",
    "    emb = Embedding(n_in, n_out, input_length=1)(inp)\n",
    "    return inp, Flatten()(emb)"
   ]
  },
  {
   "cell_type": "code",
   "execution_count": 15,
   "metadata": {
    "ExecuteTime": {
     "end_time": "2017-10-30T00:31:39.252871Z",
     "start_time": "2017-10-30T00:31:39.249860Z"
    },
    "collapsed": true
   },
   "outputs": [],
   "source": [
    "n_fac = 42"
   ]
  },
  {
   "cell_type": "code",
   "execution_count": 16,
   "metadata": {
    "ExecuteTime": {
     "end_time": "2017-10-30T00:31:40.672639Z",
     "start_time": "2017-10-30T00:31:40.628197Z"
    },
    "collapsed": true
   },
   "outputs": [],
   "source": [
    "inp0, emb0 = embedding_input('c0_dat', vocab_size, n_fac)\n",
    "inp1, emb1 = embedding_input('c1_dat', vocab_size, n_fac)\n",
    "inp2, emb2 = embedding_input('c2_dat', vocab_size, n_fac)"
   ]
  },
  {
   "cell_type": "code",
   "execution_count": 17,
   "metadata": {
    "ExecuteTime": {
     "end_time": "2017-10-30T00:31:40.989369Z",
     "start_time": "2017-10-30T00:31:40.986152Z"
    },
    "collapsed": true
   },
   "outputs": [],
   "source": [
    "n_hidden = 256"
   ]
  },
  {
   "cell_type": "code",
   "execution_count": 18,
   "metadata": {
    "ExecuteTime": {
     "end_time": "2017-10-30T00:31:41.322865Z",
     "start_time": "2017-10-30T00:31:41.318377Z"
    },
    "collapsed": true
   },
   "outputs": [],
   "source": [
    "dense_in = Dense(n_hidden, activation='relu')\n",
    "dense_hidden = Dense(n_hidden, activation='tanh')\n",
    "dense_out = Dense(vocab_size, activation='softmax')"
   ]
  },
  {
   "cell_type": "code",
   "execution_count": 19,
   "metadata": {
    "ExecuteTime": {
     "end_time": "2017-10-30T00:31:41.837830Z",
     "start_time": "2017-10-30T00:31:41.822112Z"
    },
    "collapsed": true
   },
   "outputs": [],
   "source": [
    "# these embs are already linked to the inps from the embedding_input function\n",
    "hidden = dense_in(emb0)\n",
    "c2_dense = dense_in(emb1)\n",
    "hidden = merge([dense_hidden(hidden), c2_dense])\n",
    "c3_dense = dense_in(emb2)\n",
    "hidden = merge([dense_hidden(hidden), c3_dense])\n",
    "c4_out = dense_out(hidden)"
   ]
  },
  {
   "cell_type": "code",
   "execution_count": 20,
   "metadata": {
    "ExecuteTime": {
     "end_time": "2017-10-30T00:31:43.279088Z",
     "start_time": "2017-10-30T00:31:43.274975Z"
    },
    "collapsed": true
   },
   "outputs": [],
   "source": [
    "model = Model([inp0, inp1, inp2], c4_out)"
   ]
  },
  {
   "cell_type": "code",
   "execution_count": 21,
   "metadata": {
    "ExecuteTime": {
     "end_time": "2017-10-30T00:31:43.989093Z",
     "start_time": "2017-10-30T00:31:43.970533Z"
    },
    "collapsed": true
   },
   "outputs": [],
   "source": [
    "model.compile(loss='sparse_categorical_crossentropy', optimizer=Adam())\n",
    "# model.optimizer.lr = 0.000001\n",
    "# model.fit([x0, x1, x2], x3, batch_size=64, nb_epoch=4)"
   ]
  },
  {
   "cell_type": "code",
   "execution_count": 22,
   "metadata": {
    "ExecuteTime": {
     "end_time": "2017-10-30T00:31:45.276031Z",
     "start_time": "2017-10-30T00:31:45.272966Z"
    },
    "collapsed": true
   },
   "outputs": [],
   "source": [
    "# model.fit([x0, x1, x2], x3, batch_size=64, nb_epoch=4)"
   ]
  },
  {
   "cell_type": "code",
   "execution_count": 23,
   "metadata": {
    "ExecuteTime": {
     "end_time": "2017-10-30T00:31:45.545634Z",
     "start_time": "2017-10-30T00:31:45.542552Z"
    },
    "collapsed": true
   },
   "outputs": [],
   "source": [
    "model.optimizer.lr = 0.01"
   ]
  },
  {
   "cell_type": "code",
   "execution_count": 24,
   "metadata": {
    "ExecuteTime": {
     "end_time": "2017-10-30T00:31:45.760860Z",
     "start_time": "2017-10-30T00:31:45.758051Z"
    },
    "collapsed": true
   },
   "outputs": [],
   "source": [
    "# model.fit([x0, x1, x2], x3, batch_size=64, nb_epoch=4)"
   ]
  },
  {
   "cell_type": "code",
   "execution_count": 25,
   "metadata": {
    "ExecuteTime": {
     "end_time": "2017-10-30T00:31:46.013142Z",
     "start_time": "2017-10-30T00:31:46.010057Z"
    },
    "collapsed": true
   },
   "outputs": [],
   "source": [
    "# model.fit([x0, x1, x2], x3, batch_size=64, nb_epoch=4)"
   ]
  },
  {
   "cell_type": "code",
   "execution_count": 26,
   "metadata": {
    "ExecuteTime": {
     "end_time": "2017-10-30T00:31:48.281598Z",
     "start_time": "2017-10-30T00:31:48.278507Z"
    },
    "collapsed": true
   },
   "outputs": [],
   "source": [
    "model.optimizer.lr = 0.000001"
   ]
  },
  {
   "cell_type": "code",
   "execution_count": 27,
   "metadata": {
    "ExecuteTime": {
     "end_time": "2017-10-30T00:31:48.467428Z",
     "start_time": "2017-10-30T00:31:48.464603Z"
    },
    "collapsed": true
   },
   "outputs": [],
   "source": [
    "# model.fit([x0, x1, x2], x3, batch_size=64, nb_epoch=4)"
   ]
  },
  {
   "cell_type": "code",
   "execution_count": 28,
   "metadata": {
    "ExecuteTime": {
     "end_time": "2017-10-30T00:31:48.651802Z",
     "start_time": "2017-10-30T00:31:48.648530Z"
    },
    "collapsed": true
   },
   "outputs": [],
   "source": [
    "# model.fit([x0, x1, x2], x3, batch_size=64, nb_epoch=4)"
   ]
  },
  {
   "cell_type": "code",
   "execution_count": 29,
   "metadata": {
    "ExecuteTime": {
     "end_time": "2017-10-30T00:31:48.828120Z",
     "start_time": "2017-10-30T00:31:48.822354Z"
    },
    "collapsed": true
   },
   "outputs": [],
   "source": [
    "# model.fit([x0, x1, x2], x3, batch_size=64, nb_epoch=4)"
   ]
  },
  {
   "cell_type": "code",
   "execution_count": 30,
   "metadata": {
    "ExecuteTime": {
     "end_time": "2017-10-30T00:31:49.007516Z",
     "start_time": "2017-10-30T00:31:49.004607Z"
    },
    "collapsed": true
   },
   "outputs": [],
   "source": [
    "# model.fit([x0, x1, x2], x3, batch_size=64, nb_epoch=4)"
   ]
  },
  {
   "cell_type": "code",
   "execution_count": 31,
   "metadata": {
    "ExecuteTime": {
     "end_time": "2017-10-30T00:31:49.191147Z",
     "start_time": "2017-10-30T00:31:49.184814Z"
    },
    "collapsed": true
   },
   "outputs": [],
   "source": [
    "def get_next(inp):\n",
    "    idxs = [char_indices[c] for c in inp]\n",
    "    arrs = [np.array(i)[np.newaxis] for i in idxs]\n",
    "    p = model.predict(arrs)\n",
    "    i = np.argmax(p)\n",
    "    return chars[i]"
   ]
  },
  {
   "cell_type": "code",
   "execution_count": 32,
   "metadata": {
    "ExecuteTime": {
     "end_time": "2017-10-30T00:31:50.476408Z",
     "start_time": "2017-10-30T00:31:49.956534Z"
    }
   },
   "outputs": [
    {
     "data": {
      "text/plain": [
       "'R'"
      ]
     },
     "execution_count": 32,
     "metadata": {},
     "output_type": "execute_result"
    }
   ],
   "source": [
    "get_next('the')"
   ]
  },
  {
   "cell_type": "code",
   "execution_count": 33,
   "metadata": {
    "ExecuteTime": {
     "end_time": "2017-10-30T00:31:51.474709Z",
     "start_time": "2017-10-30T00:31:51.466335Z"
    }
   },
   "outputs": [
    {
     "data": {
      "text/plain": [
       "'L'"
      ]
     },
     "execution_count": 33,
     "metadata": {},
     "output_type": "execute_result"
    }
   ],
   "source": [
    "get_next('thi')"
   ]
  },
  {
   "cell_type": "code",
   "execution_count": 34,
   "metadata": {
    "ExecuteTime": {
     "end_time": "2017-10-30T00:31:51.906380Z",
     "start_time": "2017-10-30T00:31:51.898784Z"
    }
   },
   "outputs": [
    {
     "data": {
      "text/plain": [
       "'!'"
      ]
     },
     "execution_count": 34,
     "metadata": {},
     "output_type": "execute_result"
    }
   ],
   "source": [
    "get_next('hel')"
   ]
  },
  {
   "cell_type": "code",
   "execution_count": 35,
   "metadata": {
    "ExecuteTime": {
     "end_time": "2017-10-30T00:31:52.396407Z",
     "start_time": "2017-10-30T00:31:52.390904Z"
    }
   },
   "outputs": [
    {
     "data": {
      "text/plain": [
       "'\\x86'"
      ]
     },
     "execution_count": 35,
     "metadata": {},
     "output_type": "execute_result"
    }
   ],
   "source": [
    "get_next('Som')"
   ]
  },
  {
   "cell_type": "code",
   "execution_count": 36,
   "metadata": {
    "ExecuteTime": {
     "end_time": "2017-10-30T00:31:54.412711Z",
     "start_time": "2017-10-30T00:31:54.406816Z"
    }
   },
   "outputs": [
    {
     "data": {
      "text/plain": [
       "'!'"
      ]
     },
     "execution_count": 36,
     "metadata": {},
     "output_type": "execute_result"
    }
   ],
   "source": [
    "get_next('Wha')"
   ]
  },
  {
   "cell_type": "code",
   "execution_count": 37,
   "metadata": {
    "ExecuteTime": {
     "end_time": "2017-10-30T00:31:56.207256Z",
     "start_time": "2017-10-30T00:31:56.200853Z"
    }
   },
   "outputs": [
    {
     "data": {
      "text/plain": [
       "'Q'"
      ]
     },
     "execution_count": 37,
     "metadata": {},
     "output_type": "execute_result"
    }
   ],
   "source": [
    "get_next('is ')"
   ]
  },
  {
   "cell_type": "code",
   "execution_count": 38,
   "metadata": {
    "ExecuteTime": {
     "end_time": "2017-10-30T00:31:57.040729Z",
     "start_time": "2017-10-30T00:31:57.034881Z"
    }
   },
   "outputs": [
    {
     "data": {
      "text/plain": [
       "'Z'"
      ]
     },
     "execution_count": 38,
     "metadata": {},
     "output_type": "execute_result"
    }
   ],
   "source": [
    "get_next('s t')"
   ]
  },
  {
   "cell_type": "markdown",
   "metadata": {},
   "source": [
    "# Our First RNN"
   ]
  },
  {
   "cell_type": "code",
   "execution_count": 39,
   "metadata": {
    "ExecuteTime": {
     "end_time": "2017-10-30T00:31:59.114394Z",
     "start_time": "2017-10-30T00:31:59.111325Z"
    },
    "collapsed": true
   },
   "outputs": [],
   "source": [
    "cs = 8"
   ]
  },
  {
   "cell_type": "code",
   "execution_count": 40,
   "metadata": {
    "ExecuteTime": {
     "end_time": "2017-10-30T00:31:59.442672Z",
     "start_time": "2017-10-30T00:31:59.379175Z"
    },
    "collapsed": true
   },
   "outputs": [],
   "source": [
    "c_in_dat = [[idx[i+n] for i in xrange(0, len(idx)-1-cs, cs)] for n in range(cs)]"
   ]
  },
  {
   "cell_type": "code",
   "execution_count": 41,
   "metadata": {
    "ExecuteTime": {
     "end_time": "2017-10-30T00:31:59.672678Z",
     "start_time": "2017-10-30T00:31:59.668225Z"
    }
   },
   "outputs": [
    {
     "data": {
      "text/plain": [
       "75112"
      ]
     },
     "execution_count": 41,
     "metadata": {},
     "output_type": "execute_result"
    }
   ],
   "source": [
    "len(c_in_dat[0])"
   ]
  },
  {
   "cell_type": "code",
   "execution_count": 42,
   "metadata": {
    "ExecuteTime": {
     "end_time": "2017-10-30T00:31:59.907296Z",
     "start_time": "2017-10-30T00:31:59.902469Z"
    }
   },
   "outputs": [
    {
     "data": {
      "text/plain": [
       "(8, 75112)"
      ]
     },
     "execution_count": 42,
     "metadata": {},
     "output_type": "execute_result"
    }
   ],
   "source": [
    "len(c_in_dat), len(c_in_dat[0])"
   ]
  },
  {
   "cell_type": "code",
   "execution_count": 43,
   "metadata": {
    "ExecuteTime": {
     "end_time": "2017-10-30T00:32:00.537711Z",
     "start_time": "2017-10-30T00:32:00.524496Z"
    },
    "collapsed": true
   },
   "outputs": [],
   "source": [
    "c_out_dat = [idx[i+cs] for i in xrange(0, len(idx)-1-cs, cs)]"
   ]
  },
  {
   "cell_type": "code",
   "execution_count": 44,
   "metadata": {
    "ExecuteTime": {
     "end_time": "2017-10-30T00:32:02.857118Z",
     "start_time": "2017-10-30T00:32:01.782594Z"
    },
    "collapsed": true
   },
   "outputs": [],
   "source": [
    "xs = [np.stack(c[:-2]) for c in c_in_dat]"
   ]
  },
  {
   "cell_type": "code",
   "execution_count": 45,
   "metadata": {
    "ExecuteTime": {
     "end_time": "2017-10-30T00:32:02.864329Z",
     "start_time": "2017-10-30T00:32:02.858841Z"
    }
   },
   "outputs": [
    {
     "data": {
      "text/plain": [
       "(8, 75110)"
      ]
     },
     "execution_count": 45,
     "metadata": {},
     "output_type": "execute_result"
    }
   ],
   "source": [
    "len(xs), len(xs[0])"
   ]
  },
  {
   "cell_type": "code",
   "execution_count": 46,
   "metadata": {
    "ExecuteTime": {
     "end_time": "2017-10-30T00:32:03.034884Z",
     "start_time": "2017-10-30T00:32:02.866622Z"
    },
    "collapsed": true
   },
   "outputs": [],
   "source": [
    "y = np.stack(c_out_dat[:-2])"
   ]
  },
  {
   "cell_type": "code",
   "execution_count": 47,
   "metadata": {
    "ExecuteTime": {
     "end_time": "2017-10-30T00:32:03.045389Z",
     "start_time": "2017-10-30T00:32:03.036901Z"
    }
   },
   "outputs": [
    {
     "data": {
      "text/plain": [
       "[array([40,  1, 33,  2, 72, 67, 73,  2]),\n",
       " array([42,  1, 38, 44,  2,  9, 61, 73]),\n",
       " array([29, 43, 31, 71, 54,  9, 58, 61]),\n",
       " array([30, 45,  2, 74,  2, 76, 67, 58]),\n",
       " array([25, 40, 73, 73, 76, 61, 24, 71]),\n",
       " array([27, 40, 61, 61, 68, 54,  2, 58]),\n",
       " array([29, 39, 54,  2, 66, 73, 33,  2]),\n",
       " array([ 1, 43, 73, 62, 54,  2, 72, 67])]"
      ]
     },
     "execution_count": 47,
     "metadata": {},
     "output_type": "execute_result"
    }
   ],
   "source": [
    "[xs[n][:cs] for n in range(cs)]"
   ]
  },
  {
   "cell_type": "code",
   "execution_count": 48,
   "metadata": {
    "ExecuteTime": {
     "end_time": "2017-10-30T00:32:03.055140Z",
     "start_time": "2017-10-30T00:32:03.047712Z"
    }
   },
   "outputs": [
    {
     "data": {
      "text/plain": [
       "[array([40,  1, 33, ..., 72, 71, 61]),\n",
       " array([42,  1, 38, ..., 73, 65, 58]),\n",
       " array([29, 43, 31, ..., 62, 57,  2]),\n",
       " array([30, 45,  2, ..., 54,  2, 62]),\n",
       " array([25, 40, 73, ..., 67, 54, 67]),\n",
       " array([27, 40, 61, ...,  2, 72, 57]),\n",
       " array([29, 39, 54, ..., 76,  2, 62]),\n",
       " array([ 1, 43, 73, ..., 68, 73, 56])]"
      ]
     },
     "execution_count": 48,
     "metadata": {},
     "output_type": "execute_result"
    }
   ],
   "source": [
    "xs"
   ]
  },
  {
   "cell_type": "code",
   "execution_count": 49,
   "metadata": {
    "ExecuteTime": {
     "end_time": "2017-10-30T00:32:03.062765Z",
     "start_time": "2017-10-30T00:32:03.057336Z"
    }
   },
   "outputs": [
    {
     "data": {
      "text/plain": [
       "array([ 1, 33,  2, 72, 67, 73,  2, 68])"
      ]
     },
     "execution_count": 49,
     "metadata": {},
     "output_type": "execute_result"
    }
   ],
   "source": [
    "y[:cs]"
   ]
  },
  {
   "cell_type": "code",
   "execution_count": 50,
   "metadata": {
    "ExecuteTime": {
     "end_time": "2017-10-30T00:32:03.261847Z",
     "start_time": "2017-10-30T00:32:03.258709Z"
    },
    "collapsed": true
   },
   "outputs": [],
   "source": [
    "n_fac = 42"
   ]
  },
  {
   "cell_type": "code",
   "execution_count": 51,
   "metadata": {
    "ExecuteTime": {
     "end_time": "2017-10-30T00:32:03.822426Z",
     "start_time": "2017-10-30T00:32:03.817346Z"
    },
    "collapsed": true
   },
   "outputs": [],
   "source": [
    "def embedding_input(name, n_in, n_out):\n",
    "    inp = Input(shape=(1,), dtype='int64', name=name+'_in')\n",
    "    emb = Embedding(n_in, n_out, input_length=1, name=name+'_emb')(inp)\n",
    "    return inp, Flatten()(emb)"
   ]
  },
  {
   "cell_type": "code",
   "execution_count": 52,
   "metadata": {
    "ExecuteTime": {
     "end_time": "2017-10-30T00:32:04.796433Z",
     "start_time": "2017-10-30T00:32:04.790959Z"
    }
   },
   "outputs": [
    {
     "data": {
      "text/plain": [
       "(8, 86, 42)"
      ]
     },
     "execution_count": 52,
     "metadata": {},
     "output_type": "execute_result"
    }
   ],
   "source": [
    "cs, vocab_size, n_fac"
   ]
  },
  {
   "cell_type": "code",
   "execution_count": 53,
   "metadata": {
    "ExecuteTime": {
     "end_time": "2017-10-30T00:32:05.485114Z",
     "start_time": "2017-10-30T00:32:05.430544Z"
    },
    "collapsed": true
   },
   "outputs": [],
   "source": [
    "c_ins = [embedding_input('c'+str(n), vocab_size, n_fac) for n in range(cs)]"
   ]
  },
  {
   "cell_type": "code",
   "execution_count": 54,
   "metadata": {
    "ExecuteTime": {
     "end_time": "2017-10-30T00:32:06.081474Z",
     "start_time": "2017-10-30T00:32:06.078419Z"
    },
    "collapsed": true
   },
   "outputs": [],
   "source": [
    "n_hidden = 256"
   ]
  },
  {
   "cell_type": "code",
   "execution_count": 55,
   "metadata": {
    "ExecuteTime": {
     "end_time": "2017-10-30T00:32:06.413130Z",
     "start_time": "2017-10-30T00:32:06.408503Z"
    },
    "collapsed": true
   },
   "outputs": [],
   "source": [
    "dense_in = Dense(n_hidden, activation='relu')\n",
    "dense_hidden = Dense(n_hidden, activation='relu', init='identity')\n",
    "dense_out = Dense(vocab_size, activation='softmax')"
   ]
  },
  {
   "cell_type": "code",
   "execution_count": 56,
   "metadata": {
    "ExecuteTime": {
     "end_time": "2017-10-30T00:32:06.905270Z",
     "start_time": "2017-10-30T00:32:06.892605Z"
    },
    "collapsed": true
   },
   "outputs": [],
   "source": [
    "hidden = dense_in(c_ins[0][1])"
   ]
  },
  {
   "cell_type": "code",
   "execution_count": 57,
   "metadata": {
    "ExecuteTime": {
     "end_time": "2017-10-30T00:32:07.352686Z",
     "start_time": "2017-10-30T00:32:07.326468Z"
    },
    "collapsed": true
   },
   "outputs": [],
   "source": [
    "for i in range(1, cs):\n",
    "    c_dense = dense_in(c_ins[i][1])\n",
    "    hidden = dense_hidden(hidden)\n",
    "    hidden = merge([c_dense, hidden])"
   ]
  },
  {
   "cell_type": "code",
   "execution_count": 58,
   "metadata": {
    "ExecuteTime": {
     "end_time": "2017-10-30T00:32:07.871304Z",
     "start_time": "2017-10-30T00:32:07.866528Z"
    },
    "collapsed": true
   },
   "outputs": [],
   "source": [
    "c_out = dense_out(hidden)"
   ]
  },
  {
   "cell_type": "code",
   "execution_count": 59,
   "metadata": {
    "ExecuteTime": {
     "end_time": "2017-10-30T00:32:08.581305Z",
     "start_time": "2017-10-30T00:32:08.564476Z"
    },
    "collapsed": true
   },
   "outputs": [],
   "source": [
    "model = Model([c[0] for c in c_ins], c_out)\n",
    "model.compile(loss='sparse_categorical_crossentropy', optimizer=Adam())"
   ]
  },
  {
   "cell_type": "code",
   "execution_count": 60,
   "metadata": {
    "ExecuteTime": {
     "end_time": "2017-10-30T00:32:10.399437Z",
     "start_time": "2017-10-30T00:32:10.396429Z"
    },
    "collapsed": true
   },
   "outputs": [],
   "source": [
    "# model.fit(xs, y, batch_size=64, nb_epoch=12)"
   ]
  },
  {
   "cell_type": "code",
   "execution_count": 61,
   "metadata": {
    "ExecuteTime": {
     "end_time": "2017-10-30T00:32:10.909881Z",
     "start_time": "2017-10-30T00:32:10.906566Z"
    },
    "collapsed": true
   },
   "outputs": [],
   "source": [
    "# model.fit(xs, y, batch_size=64, nb_epoch=12)"
   ]
  },
  {
   "cell_type": "code",
   "execution_count": 62,
   "metadata": {
    "ExecuteTime": {
     "end_time": "2017-10-30T00:32:11.286751Z",
     "start_time": "2017-10-30T00:32:11.282287Z"
    },
    "collapsed": true
   },
   "outputs": [],
   "source": [
    "def get_next(inp):\n",
    "    idxs = [np.array(char_indices[c])[np.newaxis] for c in inp]\n",
    "    p = model.predict(idxs)\n",
    "    return chars[np.argmax(p)]"
   ]
  },
  {
   "cell_type": "code",
   "execution_count": 63,
   "metadata": {
    "ExecuteTime": {
     "end_time": "2017-10-30T00:32:13.080948Z",
     "start_time": "2017-10-30T00:32:11.986326Z"
    }
   },
   "outputs": [
    {
     "data": {
      "text/plain": [
       "'c'"
      ]
     },
     "execution_count": 63,
     "metadata": {},
     "output_type": "execute_result"
    }
   ],
   "source": [
    "get_next('for thos')"
   ]
  },
  {
   "cell_type": "code",
   "execution_count": 64,
   "metadata": {
    "ExecuteTime": {
     "end_time": "2017-10-30T00:32:13.088472Z",
     "start_time": "2017-10-30T00:32:13.082808Z"
    }
   },
   "outputs": [
    {
     "data": {
      "text/plain": [
       "'N'"
      ]
     },
     "execution_count": 64,
     "metadata": {},
     "output_type": "execute_result"
    }
   ],
   "source": [
    "get_next('part of ')"
   ]
  },
  {
   "cell_type": "code",
   "execution_count": 65,
   "metadata": {
    "ExecuteTime": {
     "end_time": "2017-10-30T00:32:17.686854Z",
     "start_time": "2017-10-30T00:32:17.680705Z"
    }
   },
   "outputs": [
    {
     "data": {
      "text/plain": [
       "'c'"
      ]
     },
     "execution_count": 65,
     "metadata": {},
     "output_type": "execute_result"
    }
   ],
   "source": [
    "get_next('queens a')"
   ]
  },
  {
   "cell_type": "markdown",
   "metadata": {
    "collapsed": true
   },
   "source": [
    "# Our first RNN"
   ]
  },
  {
   "cell_type": "code",
   "execution_count": 66,
   "metadata": {
    "ExecuteTime": {
     "end_time": "2017-10-30T00:32:30.325362Z",
     "start_time": "2017-10-30T00:32:30.260746Z"
    },
    "collapsed": true
   },
   "outputs": [],
   "source": [
    "c_out_dat = [[idx[i+n] for i in xrange(1, len(idx)-cs, cs)] for n in range(cs)]"
   ]
  },
  {
   "cell_type": "code",
   "execution_count": 67,
   "metadata": {
    "ExecuteTime": {
     "end_time": "2017-10-30T00:32:31.138196Z",
     "start_time": "2017-10-30T00:32:31.133204Z"
    }
   },
   "outputs": [
    {
     "data": {
      "text/plain": [
       "(8, 75112)"
      ]
     },
     "execution_count": 67,
     "metadata": {},
     "output_type": "execute_result"
    }
   ],
   "source": [
    "len(c_out_dat), len(c_out_dat[0])"
   ]
  },
  {
   "cell_type": "code",
   "execution_count": 68,
   "metadata": {
    "ExecuteTime": {
     "end_time": "2017-10-30T00:32:31.889880Z",
     "start_time": "2017-10-30T00:32:31.884363Z"
    }
   },
   "outputs": [
    {
     "data": {
      "text/plain": [
       "['P', 'R', 'E', 'F', 'A', 'C', 'E', '\\n']"
      ]
     },
     "execution_count": 68,
     "metadata": {},
     "output_type": "execute_result"
    }
   ],
   "source": [
    "[indices_char[i[0]] for i in c_in_dat]"
   ]
  },
  {
   "cell_type": "code",
   "execution_count": 69,
   "metadata": {
    "ExecuteTime": {
     "end_time": "2017-10-30T00:32:32.597992Z",
     "start_time": "2017-10-30T00:32:32.592086Z"
    }
   },
   "outputs": [
    {
     "data": {
      "text/plain": [
       "['R', 'E', 'F', 'A', 'C', 'E', '\\n', '\\n']"
      ]
     },
     "execution_count": 69,
     "metadata": {},
     "output_type": "execute_result"
    }
   ],
   "source": [
    "[indices_char[i[0]] for i in c_out_dat]"
   ]
  },
  {
   "cell_type": "code",
   "execution_count": 70,
   "metadata": {
    "ExecuteTime": {
     "end_time": "2017-10-30T00:32:33.424908Z",
     "start_time": "2017-10-30T00:32:33.419182Z"
    }
   },
   "outputs": [
    {
     "data": {
      "text/plain": [
       "['\\n', '\\n', 'S', 'U', 'P', 'P', 'O', 'S']"
      ]
     },
     "execution_count": 70,
     "metadata": {},
     "output_type": "execute_result"
    }
   ],
   "source": [
    "[indices_char[i[1]] for i in c_in_dat]"
   ]
  },
  {
   "cell_type": "code",
   "execution_count": 71,
   "metadata": {
    "ExecuteTime": {
     "end_time": "2017-10-30T00:32:36.447088Z",
     "start_time": "2017-10-30T00:32:36.440940Z"
    }
   },
   "outputs": [
    {
     "data": {
      "text/plain": [
       "['\\n', 'S', 'U', 'P', 'P', 'O', 'S', 'I']"
      ]
     },
     "execution_count": 71,
     "metadata": {},
     "output_type": "execute_result"
    }
   ],
   "source": [
    "[indices_char[i[1]] for i in c_out_dat]"
   ]
  },
  {
   "cell_type": "code",
   "execution_count": 72,
   "metadata": {
    "ExecuteTime": {
     "end_time": "2017-10-30T00:32:38.286199Z",
     "start_time": "2017-10-30T00:32:37.211363Z"
    },
    "collapsed": true
   },
   "outputs": [],
   "source": [
    "ys = [np.stack(arr[:-2]) for arr in c_out_dat]"
   ]
  },
  {
   "cell_type": "code",
   "execution_count": 73,
   "metadata": {
    "ExecuteTime": {
     "end_time": "2017-10-30T00:32:38.691739Z",
     "start_time": "2017-10-30T00:32:38.685194Z"
    }
   },
   "outputs": [
    {
     "data": {
      "text/plain": [
       "[array([42,  1, 38, ..., 73, 65, 58]),\n",
       " array([29, 43, 31, ..., 62, 57,  2]),\n",
       " array([30, 45,  2, ..., 54,  2, 62]),\n",
       " array([25, 40, 73, ..., 67, 54, 67]),\n",
       " array([27, 40, 61, ...,  2, 72, 57]),\n",
       " array([29, 39, 54, ..., 76,  2, 62]),\n",
       " array([ 1, 43, 73, ..., 68, 73, 56]),\n",
       " array([ 1, 33,  2, ..., 71, 61, 54])]"
      ]
     },
     "execution_count": 73,
     "metadata": {},
     "output_type": "execute_result"
    }
   ],
   "source": [
    "ys"
   ]
  },
  {
   "cell_type": "code",
   "execution_count": 74,
   "metadata": {
    "ExecuteTime": {
     "end_time": "2017-10-30T00:32:39.230295Z",
     "start_time": "2017-10-30T00:32:39.222958Z"
    }
   },
   "outputs": [
    {
     "data": {
      "text/plain": [
       "[array([40,  1, 33,  2, 72, 67, 73,  2]),\n",
       " array([42,  1, 38, 44,  2,  9, 61, 73]),\n",
       " array([29, 43, 31, 71, 54,  9, 58, 61]),\n",
       " array([30, 45,  2, 74,  2, 76, 67, 58]),\n",
       " array([25, 40, 73, 73, 76, 61, 24, 71]),\n",
       " array([27, 40, 61, 61, 68, 54,  2, 58]),\n",
       " array([29, 39, 54,  2, 66, 73, 33,  2]),\n",
       " array([ 1, 43, 73, 62, 54,  2, 72, 67])]"
      ]
     },
     "execution_count": 74,
     "metadata": {},
     "output_type": "execute_result"
    }
   ],
   "source": [
    "[xs[n][:cs] for n in range(cs)]"
   ]
  },
  {
   "cell_type": "code",
   "execution_count": 75,
   "metadata": {
    "ExecuteTime": {
     "end_time": "2017-10-30T00:32:39.730482Z",
     "start_time": "2017-10-30T00:32:39.723003Z"
    }
   },
   "outputs": [
    {
     "data": {
      "text/plain": [
       "[array([42,  1, 38, 44,  2,  9, 61, 73]),\n",
       " array([29, 43, 31, 71, 54,  9, 58, 61]),\n",
       " array([30, 45,  2, 74,  2, 76, 67, 58]),\n",
       " array([25, 40, 73, 73, 76, 61, 24, 71]),\n",
       " array([27, 40, 61, 61, 68, 54,  2, 58]),\n",
       " array([29, 39, 54,  2, 66, 73, 33,  2]),\n",
       " array([ 1, 43, 73, 62, 54,  2, 72, 67]),\n",
       " array([ 1, 33,  2, 72, 67, 73,  2, 68])]"
      ]
     },
     "execution_count": 75,
     "metadata": {},
     "output_type": "execute_result"
    }
   ],
   "source": [
    "[ys[n][:cs] for n in range(cs)]"
   ]
  },
  {
   "cell_type": "code",
   "execution_count": 76,
   "metadata": {
    "ExecuteTime": {
     "end_time": "2017-10-30T00:32:40.103082Z",
     "start_time": "2017-10-30T00:32:40.099025Z"
    },
    "collapsed": true
   },
   "outputs": [],
   "source": [
    "dense_in = Dense(n_hidden, activation='relu')\n",
    "dense_hidden = Dense(n_hidden, activation='relu', init='identity')\n",
    "dense_out = Dense(vocab_size, activation='softmax')"
   ]
  },
  {
   "cell_type": "code",
   "execution_count": 77,
   "metadata": {
    "ExecuteTime": {
     "end_time": "2017-10-30T00:32:40.571065Z",
     "start_time": "2017-10-30T00:32:40.565197Z"
    },
    "collapsed": true
   },
   "outputs": [],
   "source": [
    "inp1 = Input(shape=(n_fac,), name = 'zeros')\n",
    "hidden = dense_in(inp1)"
   ]
  },
  {
   "cell_type": "code",
   "execution_count": 78,
   "metadata": {
    "ExecuteTime": {
     "end_time": "2017-10-30T00:32:40.988729Z",
     "start_time": "2017-10-30T00:32:40.947178Z"
    },
    "collapsed": true
   },
   "outputs": [],
   "source": [
    "outs = []\n",
    "\n",
    "for i in range(cs):\n",
    "    c_dense = dense_in(c_ins[i][1])\n",
    "    hidden = merge([c_dense, dense_hidden(hidden)], mode='sum')\n",
    "    outs.append(dense_out(hidden)) "
   ]
  },
  {
   "cell_type": "code",
   "execution_count": 79,
   "metadata": {
    "ExecuteTime": {
     "end_time": "2017-10-30T00:32:41.572976Z",
     "start_time": "2017-10-30T00:32:41.565357Z"
    }
   },
   "outputs": [
    {
     "data": {
      "text/plain": [
       "8"
      ]
     },
     "execution_count": 79,
     "metadata": {},
     "output_type": "execute_result"
    }
   ],
   "source": [
    "len(outs)"
   ]
  },
  {
   "cell_type": "code",
   "execution_count": 80,
   "metadata": {
    "ExecuteTime": {
     "end_time": "2017-10-30T00:32:42.181104Z",
     "start_time": "2017-10-30T00:32:42.173255Z"
    },
    "collapsed": true
   },
   "outputs": [],
   "source": [
    "model = Model(input=[inp1] + [c[0] for c in c_ins], output=outs)"
   ]
  },
  {
   "cell_type": "code",
   "execution_count": 80,
   "metadata": {
    "ExecuteTime": {
     "end_time": "2017-10-26T05:09:22.820950Z",
     "start_time": "2017-10-26T05:09:22.740365Z"
    },
    "collapsed": true
   },
   "outputs": [],
   "source": [
    "model.compile(loss='sparse_categorical_crossentropy', optimizer=Adam())"
   ]
  },
  {
   "cell_type": "code",
   "execution_count": 81,
   "metadata": {
    "ExecuteTime": {
     "end_time": "2017-10-26T05:09:22.837912Z",
     "start_time": "2017-10-26T05:09:22.822749Z"
    },
    "collapsed": true
   },
   "outputs": [],
   "source": [
    "zeros = np.tile(np.zeros(n_fac), (len(xs[0]),1))"
   ]
  },
  {
   "cell_type": "code",
   "execution_count": 82,
   "metadata": {
    "ExecuteTime": {
     "end_time": "2017-10-26T05:09:22.845558Z",
     "start_time": "2017-10-26T05:09:22.839655Z"
    }
   },
   "outputs": [
    {
     "data": {
      "text/plain": [
       "array([[ 0.,  0.,  0., ...,  0.,  0.,  0.],\n",
       "       [ 0.,  0.,  0., ...,  0.,  0.,  0.],\n",
       "       [ 0.,  0.,  0., ...,  0.,  0.,  0.],\n",
       "       ..., \n",
       "       [ 0.,  0.,  0., ...,  0.,  0.,  0.],\n",
       "       [ 0.,  0.,  0., ...,  0.,  0.,  0.],\n",
       "       [ 0.,  0.,  0., ...,  0.,  0.,  0.]])"
      ]
     },
     "execution_count": 82,
     "metadata": {},
     "output_type": "execute_result"
    }
   ],
   "source": [
    "zeros"
   ]
  },
  {
   "cell_type": "code",
   "execution_count": 83,
   "metadata": {
    "ExecuteTime": {
     "end_time": "2017-10-26T05:11:44.840374Z",
     "start_time": "2017-10-26T05:09:22.847181Z"
    }
   },
   "outputs": [
    {
     "name": "stdout",
     "output_type": "stream",
     "text": [
      "Epoch 1/12\n",
      "75110/75110 [==============================] - 10s - loss: 20.1353 - dense_9_loss_1: 2.6985 - dense_9_loss_2: 2.5644 - dense_9_loss_3: 2.5171 - dense_9_loss_4: 2.4795 - dense_9_loss_5: 2.4763 - dense_9_loss_6: 2.4619 - dense_9_loss_7: 2.4734 - dense_9_loss_8: 2.4643    \n",
      "Epoch 2/12\n",
      "75110/75110 [==============================] - 10s - loss: 17.8798 - dense_9_loss_1: 2.5137 - dense_9_loss_2: 2.3520 - dense_9_loss_3: 2.2379 - dense_9_loss_4: 2.1745 - dense_9_loss_5: 2.1612 - dense_9_loss_6: 2.1443 - dense_9_loss_7: 2.1584 - dense_9_loss_8: 2.1377    \n",
      "Epoch 3/12\n",
      "75110/75110 [==============================] - 10s - loss: 17.3053 - dense_9_loss_1: 2.4970 - dense_9_loss_2: 2.3304 - dense_9_loss_3: 2.1813 - dense_9_loss_4: 2.0929 - dense_9_loss_5: 2.0644 - dense_9_loss_6: 2.0446 - dense_9_loss_7: 2.0565 - dense_9_loss_8: 2.0381    \n",
      "Epoch 4/12\n",
      "75110/75110 [==============================] - 10s - loss: 16.9486 - dense_9_loss_1: 2.4907 - dense_9_loss_2: 2.3236 - dense_9_loss_3: 2.1505 - dense_9_loss_4: 2.0405 - dense_9_loss_5: 2.0037 - dense_9_loss_6: 1.9792 - dense_9_loss_7: 1.9890 - dense_9_loss_8: 1.9713    \n",
      "Epoch 5/12\n",
      "75110/75110 [==============================] - 10s - loss: 16.6963 - dense_9_loss_1: 2.4867 - dense_9_loss_2: 2.3172 - dense_9_loss_3: 2.1320 - dense_9_loss_4: 2.0057 - dense_9_loss_5: 1.9612 - dense_9_loss_6: 1.9293 - dense_9_loss_7: 1.9416 - dense_9_loss_8: 1.9225    \n",
      "Epoch 6/12\n",
      "75110/75110 [==============================] - 11s - loss: 16.5187 - dense_9_loss_1: 2.4844 - dense_9_loss_2: 2.3156 - dense_9_loss_3: 2.1191 - dense_9_loss_4: 1.9818 - dense_9_loss_5: 1.9304 - dense_9_loss_6: 1.8939 - dense_9_loss_7: 1.9074 - dense_9_loss_8: 1.8862    \n",
      "Epoch 7/12\n",
      "75110/75110 [==============================] - 11s - loss: 16.3767 - dense_9_loss_1: 2.4829 - dense_9_loss_2: 2.3124 - dense_9_loss_3: 2.1111 - dense_9_loss_4: 1.9620 - dense_9_loss_5: 1.9066 - dense_9_loss_6: 1.8662 - dense_9_loss_7: 1.8790 - dense_9_loss_8: 1.8565    \n",
      "Epoch 8/12\n",
      "75110/75110 [==============================] - 11s - loss: 16.2675 - dense_9_loss_1: 2.4817 - dense_9_loss_2: 2.3098 - dense_9_loss_3: 2.1032 - dense_9_loss_4: 1.9490 - dense_9_loss_5: 1.8897 - dense_9_loss_6: 1.8450 - dense_9_loss_7: 1.8551 - dense_9_loss_8: 1.8340    \n",
      "Epoch 9/12\n",
      "75110/75110 [==============================] - 11s - loss: 16.1772 - dense_9_loss_1: 2.4803 - dense_9_loss_2: 2.3082 - dense_9_loss_3: 2.0976 - dense_9_loss_4: 1.9371 - dense_9_loss_5: 1.8725 - dense_9_loss_6: 1.8279 - dense_9_loss_7: 1.8372 - dense_9_loss_8: 1.8164    \n",
      "Epoch 10/12\n",
      "75110/75110 [==============================] - 11s - loss: 16.1032 - dense_9_loss_1: 2.4794 - dense_9_loss_2: 2.3066 - dense_9_loss_3: 2.0928 - dense_9_loss_4: 1.9273 - dense_9_loss_5: 1.8603 - dense_9_loss_6: 1.8133 - dense_9_loss_7: 1.8231 - dense_9_loss_8: 1.8004    \n",
      "Epoch 11/12\n",
      "75110/75110 [==============================] - 10s - loss: 16.0371 - dense_9_loss_1: 2.4779 - dense_9_loss_2: 2.3056 - dense_9_loss_3: 2.0881 - dense_9_loss_4: 1.9184 - dense_9_loss_5: 1.8503 - dense_9_loss_6: 1.8016 - dense_9_loss_7: 1.8097 - dense_9_loss_8: 1.7854    \n",
      "Epoch 12/12\n",
      "75110/75110 [==============================] - 10s - loss: 15.9833 - dense_9_loss_1: 2.4781 - dense_9_loss_2: 2.3043 - dense_9_loss_3: 2.0856 - dense_9_loss_4: 1.9146 - dense_9_loss_5: 1.8395 - dense_9_loss_6: 1.7893 - dense_9_loss_7: 1.7997 - dense_9_loss_8: 1.7724    \n"
     ]
    },
    {
     "data": {
      "text/plain": [
       "<keras.callbacks.History at 0x7f09286ebf90>"
      ]
     },
     "execution_count": 83,
     "metadata": {},
     "output_type": "execute_result"
    }
   ],
   "source": [
    "model.fit([zeros]+xs, ys, batch_size=64, nb_epoch=12)"
   ]
  },
  {
   "cell_type": "code",
   "execution_count": 85,
   "metadata": {
    "ExecuteTime": {
     "end_time": "2017-10-26T05:12:17.261424Z",
     "start_time": "2017-10-26T05:12:17.252935Z"
    }
   },
   "outputs": [
    {
     "data": {
      "text/plain": [
       "[array([[ 0.,  0.,  0., ...,  0.,  0.,  0.],\n",
       "        [ 0.,  0.,  0., ...,  0.,  0.,  0.],\n",
       "        [ 0.,  0.,  0., ...,  0.,  0.,  0.],\n",
       "        ..., \n",
       "        [ 0.,  0.,  0., ...,  0.,  0.,  0.],\n",
       "        [ 0.,  0.,  0., ...,  0.,  0.,  0.],\n",
       "        [ 0.,  0.,  0., ...,  0.,  0.,  0.]]),\n",
       " array([40,  1, 33, ..., 72, 71, 61]),\n",
       " array([42,  1, 38, ..., 73, 65, 58]),\n",
       " array([29, 43, 31, ..., 62, 57,  2]),\n",
       " array([30, 45,  2, ..., 54,  2, 62]),\n",
       " array([25, 40, 73, ..., 67, 54, 67]),\n",
       " array([27, 40, 61, ...,  2, 72, 57]),\n",
       " array([29, 39, 54, ..., 76,  2, 62]),\n",
       " array([ 1, 43, 73, ..., 68, 73, 56])]"
      ]
     },
     "execution_count": 85,
     "metadata": {},
     "output_type": "execute_result"
    }
   ],
   "source": [
    "[zeros] + xs"
   ]
  },
  {
   "cell_type": "code",
   "execution_count": 86,
   "metadata": {
    "ExecuteTime": {
     "end_time": "2017-10-26T05:12:20.174338Z",
     "start_time": "2017-10-26T05:12:20.168930Z"
    }
   },
   "outputs": [
    {
     "data": {
      "text/plain": [
       "(75110, 42)"
      ]
     },
     "execution_count": 86,
     "metadata": {},
     "output_type": "execute_result"
    }
   ],
   "source": [
    "zeros.shape"
   ]
  },
  {
   "cell_type": "code",
   "execution_count": 87,
   "metadata": {
    "ExecuteTime": {
     "end_time": "2017-10-26T05:12:22.047834Z",
     "start_time": "2017-10-26T05:12:22.043043Z"
    }
   },
   "outputs": [
    {
     "data": {
      "text/plain": [
       "(8, 75110)"
      ]
     },
     "execution_count": 87,
     "metadata": {},
     "output_type": "execute_result"
    }
   ],
   "source": [
    "len(xs), len(xs[0])"
   ]
  },
  {
   "cell_type": "code",
   "execution_count": 88,
   "metadata": {
    "ExecuteTime": {
     "end_time": "2017-10-26T05:12:23.187464Z",
     "start_time": "2017-10-26T05:12:23.182550Z"
    }
   },
   "outputs": [
    {
     "data": {
      "text/plain": [
       "array([40,  1, 33, ..., 72, 71, 61])"
      ]
     },
     "execution_count": 88,
     "metadata": {},
     "output_type": "execute_result"
    }
   ],
   "source": [
    "xs[0]"
   ]
  },
  {
   "cell_type": "code",
   "execution_count": 89,
   "metadata": {
    "ExecuteTime": {
     "end_time": "2017-10-26T05:12:25.069223Z",
     "start_time": "2017-10-26T05:12:25.063095Z"
    }
   },
   "outputs": [
    {
     "data": {
      "text/plain": [
       "array([ 0.,  0.,  0.,  0.,  0.,  0.,  0.,  0.,  0.,  0.,  0.,  0.,  0.,  0.,  0.,  0.,  0.,  0.,\n",
       "        0.,  0.,  0.,  0.,  0.,  0.,  0.,  0.,  0.,  0.,  0.,  0.,  0.,  0.,  0.,  0.,  0.,  0.,\n",
       "        0.,  0.,  0.,  0.,  0.,  0.])"
      ]
     },
     "execution_count": 89,
     "metadata": {},
     "output_type": "execute_result"
    }
   ],
   "source": [
    "zeros[0]"
   ]
  },
  {
   "cell_type": "code",
   "execution_count": 90,
   "metadata": {
    "ExecuteTime": {
     "end_time": "2017-10-26T05:12:26.037872Z",
     "start_time": "2017-10-26T05:12:26.030885Z"
    }
   },
   "outputs": [
    {
     "data": {
      "text/plain": [
       "[array([40,  1, 33, ..., 72, 71, 61]),\n",
       " array([42,  1, 38, ..., 73, 65, 58]),\n",
       " array([29, 43, 31, ..., 62, 57,  2]),\n",
       " array([30, 45,  2, ..., 54,  2, 62]),\n",
       " array([25, 40, 73, ..., 67, 54, 67]),\n",
       " array([27, 40, 61, ...,  2, 72, 57]),\n",
       " array([29, 39, 54, ..., 76,  2, 62]),\n",
       " array([ 1, 43, 73, ..., 68, 73, 56])]"
      ]
     },
     "execution_count": 90,
     "metadata": {},
     "output_type": "execute_result"
    }
   ],
   "source": [
    "xs"
   ]
  },
  {
   "cell_type": "code",
   "execution_count": 81,
   "metadata": {
    "ExecuteTime": {
     "end_time": "2017-10-30T00:32:58.980167Z",
     "start_time": "2017-10-30T00:32:58.973651Z"
    },
    "collapsed": true
   },
   "outputs": [],
   "source": [
    "# def get_nexts(inp):\n",
    "#     # get character indices for input\n",
    "#     idxs = [char_indices[c] for c in inp]\n",
    "#     # turn each index into a 1-d array\n",
    "#     arrs = [np.array([i]) for i in idxs]\n",
    "#     # predict these arrays, outputting a softmax\n",
    "#     p = model.predict([np.zeros(n_fac)[np.newaxis,:]] + arrs)\n",
    "#     # return the character that maximizes the softmax probability\n",
    "#     return [chars[np.argmax(o)] for o in p]\n",
    "def get_nexts(inp):\n",
    "    idxs = [char_indices[c] for c in inp]\n",
    "    arrs = [np.array([i]) for i in idxs]\n",
    "    p = model.predict([np.reshape(np.zeros(n_fac), newshape=(-1, n_fac))] + arrs)\n",
    "    return [chars[np.argmax(o)] for o in p]"
   ]
  },
  {
   "cell_type": "code",
   "execution_count": 82,
   "metadata": {
    "ExecuteTime": {
     "end_time": "2017-10-30T00:32:59.769423Z",
     "start_time": "2017-10-30T00:32:59.763937Z"
    }
   },
   "outputs": [
    {
     "data": {
      "text/plain": [
       "(1, 42)"
      ]
     },
     "execution_count": 82,
     "metadata": {},
     "output_type": "execute_result"
    }
   ],
   "source": [
    "np.reshape(np.zeros(n_fac), newshape=(-1, n_fac)).shape"
   ]
  },
  {
   "cell_type": "code",
   "execution_count": 83,
   "metadata": {
    "ExecuteTime": {
     "end_time": "2017-10-30T00:33:01.931773Z",
     "start_time": "2017-10-30T00:33:00.637469Z"
    }
   },
   "outputs": [
    {
     "data": {
      "text/plain": [
       "[']', '\\xc3', 'E', 'E', 'E', 'E', 'E', 'E']"
      ]
     },
     "execution_count": 83,
     "metadata": {},
     "output_type": "execute_result"
    }
   ],
   "source": [
    "get_nexts(' this is')"
   ]
  },
  {
   "cell_type": "code",
   "execution_count": 84,
   "metadata": {
    "ExecuteTime": {
     "end_time": "2017-10-30T00:33:01.941647Z",
     "start_time": "2017-10-30T00:33:01.933919Z"
    }
   },
   "outputs": [
    {
     "data": {
      "text/plain": [
       "[']', 'P', 'P', 'E', 'E', 'E', 'E', 'E']"
      ]
     },
     "execution_count": 84,
     "metadata": {},
     "output_type": "execute_result"
    }
   ],
   "source": [
    "get_nexts(' part of')"
   ]
  },
  {
   "cell_type": "code",
   "execution_count": null,
   "metadata": {
    "collapsed": true
   },
   "outputs": [],
   "source": []
  },
  {
   "cell_type": "markdown",
   "metadata": {
    "heading_collapsed": true
   },
   "source": [
    "# Returning Sequences"
   ]
  },
  {
   "cell_type": "code",
   "execution_count": 85,
   "metadata": {
    "ExecuteTime": {
     "end_time": "2017-10-30T00:33:10.011875Z",
     "start_time": "2017-10-30T00:33:09.941937Z"
    },
    "collapsed": true,
    "hidden": true
   },
   "outputs": [],
   "source": [
    "c_out_dat = [[idx[i+n] for i in xrange(1, len(idx)-cs, cs)] for n in range(cs)]"
   ]
  },
  {
   "cell_type": "code",
   "execution_count": null,
   "metadata": {
    "collapsed": true,
    "hidden": true
   },
   "outputs": [],
   "source": []
  },
  {
   "cell_type": "markdown",
   "metadata": {
    "heading_collapsed": true
   },
   "source": [
    "# Our First Keras RNN"
   ]
  },
  {
   "cell_type": "code",
   "execution_count": null,
   "metadata": {
    "ExecuteTime": {
     "end_time": "2017-10-26T05:11:44.935255Z",
     "start_time": "2017-10-26T05:09:28.266Z"
    },
    "collapsed": true,
    "hidden": true
   },
   "outputs": [],
   "source": [
    "n_hidden, n_fac, cs, vocab_size = (256, 42, 8, 86)y"
   ]
  },
  {
   "cell_type": "code",
   "execution_count": null,
   "metadata": {
    "ExecuteTime": {
     "end_time": "2017-10-26T05:11:44.936866Z",
     "start_time": "2017-10-26T05:09:28.272Z"
    },
    "collapsed": true,
    "hidden": true
   },
   "outputs": [],
   "source": [
    "model = Sequential([\n",
    "    Embedding(vocab_size, n_fac, input_length=cs),\n",
    "    SimpleRNN(n_hidden, activation='relu', inner_init='identity'),\n",
    "    Dense(vocab_size, activation='softmax')\n",
    "])"
   ]
  },
  {
   "cell_type": "code",
   "execution_count": null,
   "metadata": {
    "ExecuteTime": {
     "end_time": "2017-10-26T05:11:44.938078Z",
     "start_time": "2017-10-26T05:09:28.279Z"
    },
    "collapsed": true,
    "hidden": true
   },
   "outputs": [],
   "source": [
    "c_ins = [embedding_input(name='c_' + str(i), n_in=vocab_size, n_out=n_fac) for i in range(cs)]"
   ]
  },
  {
   "cell_type": "code",
   "execution_count": null,
   "metadata": {
    "ExecuteTime": {
     "end_time": "2017-10-26T05:11:44.939444Z",
     "start_time": "2017-10-26T05:09:28.287Z"
    },
    "collapsed": true,
    "hidden": true
   },
   "outputs": [],
   "source": [
    "dense_in = Dense(n_hidden, activation='relu')\n",
    "dense_hidden = Dense(n_hidden, activation='relu', init='identity')\n",
    "dense_out = Dense(vocab_size, activation='softmax')"
   ]
  },
  {
   "cell_type": "code",
   "execution_count": null,
   "metadata": {
    "ExecuteTime": {
     "end_time": "2017-10-26T05:11:44.940632Z",
     "start_time": "2017-10-26T05:09:28.294Z"
    },
    "collapsed": true,
    "hidden": true
   },
   "outputs": [],
   "source": [
    "len(idx)"
   ]
  },
  {
   "cell_type": "code",
   "execution_count": null,
   "metadata": {
    "ExecuteTime": {
     "end_time": "2017-10-26T05:11:44.942056Z",
     "start_time": "2017-10-26T05:09:28.305Z"
    },
    "collapsed": true,
    "hidden": true
   },
   "outputs": [],
   "source": [
    "inp1 = Input(shape=(n_fac,), name='zeros')\n",
    "hidden = dense_in(inp1)"
   ]
  },
  {
   "cell_type": "code",
   "execution_count": null,
   "metadata": {
    "ExecuteTime": {
     "end_time": "2017-10-26T05:11:44.943288Z",
     "start_time": "2017-10-26T05:09:28.313Z"
    },
    "collapsed": true,
    "hidden": true
   },
   "outputs": [],
   "source": [
    "n_hidden"
   ]
  },
  {
   "cell_type": "code",
   "execution_count": null,
   "metadata": {
    "collapsed": true,
    "hidden": true
   },
   "outputs": [],
   "source": []
  },
  {
   "cell_type": "code",
   "execution_count": null,
   "metadata": {
    "ExecuteTime": {
     "end_time": "2017-10-26T05:11:44.944483Z",
     "start_time": "2017-10-26T05:09:28.334Z"
    },
    "collapsed": true,
    "hidden": true
   },
   "outputs": [],
   "source": [
    "# outs = []\n",
    "# for i in range(cs):\n",
    "#     hidden = merge([dense_in(c_ins[i][1]), dense_hidden(hidden)], mode='sum')\n",
    "#     outs.append(dense_out(hidden)) \n",
    "\n",
    "outs = []\n",
    "\n",
    "for i in range(cs):\n",
    "    c_dense = dense_in(c_ins[i][1])\n",
    "    hidden = dense_hidden(hidden)\n",
    "    hidden = merge([c_dense, hidden], mode='sum')\n",
    "    # every layer now has an output\n",
    "    outs.append(dense_out(hidden))"
   ]
  },
  {
   "cell_type": "code",
   "execution_count": null,
   "metadata": {
    "ExecuteTime": {
     "end_time": "2017-10-26T05:11:44.945666Z",
     "start_time": "2017-10-26T05:09:28.344Z"
    },
    "collapsed": true,
    "hidden": true
   },
   "outputs": [],
   "source": [
    "mdl = Model([inp1] + [c[0] for c in c_ins], outs)"
   ]
  },
  {
   "cell_type": "code",
   "execution_count": null,
   "metadata": {
    "ExecuteTime": {
     "end_time": "2017-10-26T05:11:44.946878Z",
     "start_time": "2017-10-26T05:09:28.352Z"
    },
    "collapsed": true,
    "hidden": true
   },
   "outputs": [],
   "source": [
    "len(c_ins)"
   ]
  },
  {
   "cell_type": "code",
   "execution_count": null,
   "metadata": {
    "ExecuteTime": {
     "end_time": "2017-10-26T05:11:44.948298Z",
     "start_time": "2017-10-26T05:09:28.362Z"
    },
    "collapsed": true,
    "hidden": true
   },
   "outputs": [],
   "source": [
    "zs = np.tile(np.zeros(n_fac), (len(xs[0]), 1))"
   ]
  },
  {
   "cell_type": "code",
   "execution_count": null,
   "metadata": {
    "ExecuteTime": {
     "end_time": "2017-10-26T05:11:44.949748Z",
     "start_time": "2017-10-26T05:09:28.371Z"
    },
    "collapsed": true,
    "hidden": true
   },
   "outputs": [],
   "source": [
    "x0 = [np.array([0])] * len(xs[0])"
   ]
  },
  {
   "cell_type": "code",
   "execution_count": null,
   "metadata": {
    "ExecuteTime": {
     "end_time": "2017-10-26T05:11:44.951132Z",
     "start_time": "2017-10-26T05:09:28.386Z"
    },
    "collapsed": true,
    "hidden": true
   },
   "outputs": [],
   "source": [
    "zs.shape"
   ]
  },
  {
   "cell_type": "code",
   "execution_count": null,
   "metadata": {
    "ExecuteTime": {
     "end_time": "2017-10-26T05:11:44.952333Z",
     "start_time": "2017-10-26T05:09:28.397Z"
    },
    "collapsed": true,
    "hidden": true
   },
   "outputs": [],
   "source": [
    "mdl.compile(loss='sparse_categorical_crossentropy', optimizer=Adam())\n",
    "mdl.fit([zs]+xs, y, batch_size=64, nb_epoch=12)"
   ]
  },
  {
   "cell_type": "markdown",
   "metadata": {},
   "source": [
    "# Sequence Model w/ Keras"
   ]
  },
  {
   "cell_type": "code",
   "execution_count": 86,
   "metadata": {
    "ExecuteTime": {
     "end_time": "2017-10-30T01:01:03.787433Z",
     "start_time": "2017-10-30T01:01:03.782569Z"
    }
   },
   "outputs": [
    {
     "data": {
      "text/plain": [
       "(256, 42, 8, 86)"
      ]
     },
     "execution_count": 86,
     "metadata": {},
     "output_type": "execute_result"
    }
   ],
   "source": [
    "n_hidden, n_fac, cs, vocab_size"
   ]
  },
  {
   "cell_type": "code",
   "execution_count": 87,
   "metadata": {
    "ExecuteTime": {
     "end_time": "2017-10-30T01:02:28.007856Z",
     "start_time": "2017-10-30T01:02:27.966369Z"
    },
    "collapsed": true
   },
   "outputs": [],
   "source": [
    "model = Sequential([\n",
    "    Embedding(vocab_size, n_fac, input_length=cs),\n",
    "    SimpleRNN(n_hidden, return_sequences=True, activation='relu', inner_init='identity'),\n",
    "    TimeDistributed(Dense(vocab_size, activation='softmax'))\n",
    "])"
   ]
  },
  {
   "cell_type": "code",
   "execution_count": 88,
   "metadata": {
    "ExecuteTime": {
     "end_time": "2017-10-30T01:02:37.535845Z",
     "start_time": "2017-10-30T01:02:36.373996Z"
    }
   },
   "outputs": [
    {
     "name": "stdout",
     "output_type": "stream",
     "text": [
      "____________________________________________________________________________________________________\n",
      "Layer (type)                     Output Shape          Param #     Connected to                     \n",
      "====================================================================================================\n",
      "embedding_4 (Embedding)          (None, 8, 42)         3612        embedding_input_1[0][0]          \n",
      "____________________________________________________________________________________________________\n",
      "simplernn_1 (SimpleRNN)          (None, 8, 256)        76544       embedding_4[0][0]                \n",
      "____________________________________________________________________________________________________\n",
      "timedistributed_1 (TimeDistribut (None, 8, 86)         22102       simplernn_1[0][0]                \n",
      "====================================================================================================\n",
      "Total params: 102,258\n",
      "Trainable params: 102,258\n",
      "Non-trainable params: 0\n",
      "____________________________________________________________________________________________________\n"
     ]
    }
   ],
   "source": [
    "model.summary()"
   ]
  },
  {
   "cell_type": "code",
   "execution_count": 90,
   "metadata": {
    "ExecuteTime": {
     "end_time": "2017-10-30T01:03:55.300562Z",
     "start_time": "2017-10-30T01:03:55.284042Z"
    }
   },
   "outputs": [],
   "source": [
    "model.compile(loss='sparse_categorical_crossentropy', optimizer=Adam())"
   ]
  },
  {
   "cell_type": "code",
   "execution_count": 91,
   "metadata": {
    "ExecuteTime": {
     "end_time": "2017-10-30T01:04:53.161327Z",
     "start_time": "2017-10-30T01:04:53.153514Z"
    },
    "collapsed": true
   },
   "outputs": [],
   "source": [
    "x_rnn = np.stack(xs, axis=1)"
   ]
  },
  {
   "cell_type": "code",
   "execution_count": 92,
   "metadata": {
    "ExecuteTime": {
     "end_time": "2017-10-30T01:04:59.247963Z",
     "start_time": "2017-10-30T01:04:59.241716Z"
    }
   },
   "outputs": [
    {
     "data": {
      "text/plain": [
       "[array([40,  1, 33, ..., 72, 71, 61]),\n",
       " array([42,  1, 38, ..., 73, 65, 58]),\n",
       " array([29, 43, 31, ..., 62, 57,  2]),\n",
       " array([30, 45,  2, ..., 54,  2, 62]),\n",
       " array([25, 40, 73, ..., 67, 54, 67]),\n",
       " array([27, 40, 61, ...,  2, 72, 57]),\n",
       " array([29, 39, 54, ..., 76,  2, 62]),\n",
       " array([ 1, 43, 73, ..., 68, 73, 56])]"
      ]
     },
     "execution_count": 92,
     "metadata": {},
     "output_type": "execute_result"
    }
   ],
   "source": [
    "xs"
   ]
  },
  {
   "cell_type": "code",
   "execution_count": 93,
   "metadata": {
    "ExecuteTime": {
     "end_time": "2017-10-30T01:05:05.262781Z",
     "start_time": "2017-10-30T01:05:05.257242Z"
    }
   },
   "outputs": [
    {
     "data": {
      "text/plain": [
       "array([[40, 42, 29, ..., 27, 29,  1],\n",
       "       [ 1,  1, 43, ..., 40, 39, 43],\n",
       "       [33, 38, 31, ..., 61, 54, 73],\n",
       "       ..., \n",
       "       [72, 73, 62, ...,  2, 76, 68],\n",
       "       [71, 65, 57, ..., 72,  2, 73],\n",
       "       [61, 58,  2, ..., 57, 62, 56]])"
      ]
     },
     "execution_count": 93,
     "metadata": {},
     "output_type": "execute_result"
    }
   ],
   "source": [
    "x_rnn"
   ]
  },
  {
   "cell_type": "code",
   "execution_count": 96,
   "metadata": {
    "ExecuteTime": {
     "end_time": "2017-10-30T01:14:06.303922Z",
     "start_time": "2017-10-30T01:14:06.295720Z"
    },
    "collapsed": true
   },
   "outputs": [],
   "source": [
    "y_rnn = np.expand_dims(np.stack(ys, axis=1), -1)"
   ]
  },
  {
   "cell_type": "code",
   "execution_count": 97,
   "metadata": {
    "ExecuteTime": {
     "end_time": "2017-10-30T01:14:06.966814Z",
     "start_time": "2017-10-30T01:14:06.959452Z"
    }
   },
   "outputs": [
    {
     "data": {
      "text/plain": [
       "array([[[42],\n",
       "        [29],\n",
       "        [30],\n",
       "        ..., \n",
       "        [29],\n",
       "        [ 1],\n",
       "        [ 1]],\n",
       "\n",
       "       [[ 1],\n",
       "        [43],\n",
       "        [45],\n",
       "        ..., \n",
       "        [39],\n",
       "        [43],\n",
       "        [33]],\n",
       "\n",
       "       [[38],\n",
       "        [31],\n",
       "        [ 2],\n",
       "        ..., \n",
       "        [54],\n",
       "        [73],\n",
       "        [ 2]],\n",
       "\n",
       "       ..., \n",
       "       [[73],\n",
       "        [62],\n",
       "        [54],\n",
       "        ..., \n",
       "        [76],\n",
       "        [68],\n",
       "        [71]],\n",
       "\n",
       "       [[65],\n",
       "        [57],\n",
       "        [ 2],\n",
       "        ..., \n",
       "        [ 2],\n",
       "        [73],\n",
       "        [61]],\n",
       "\n",
       "       [[58],\n",
       "        [ 2],\n",
       "        [62],\n",
       "        ..., \n",
       "        [62],\n",
       "        [56],\n",
       "        [54]]])"
      ]
     },
     "execution_count": 97,
     "metadata": {},
     "output_type": "execute_result"
    }
   ],
   "source": [
    "y_rnn"
   ]
  },
  {
   "cell_type": "code",
   "execution_count": 98,
   "metadata": {
    "ExecuteTime": {
     "end_time": "2017-10-30T01:16:21.943688Z",
     "start_time": "2017-10-30T01:14:42.521033Z"
    }
   },
   "outputs": [
    {
     "name": "stdout",
     "output_type": "stream",
     "text": [
      "Epoch 1/8\n",
      "75110/75110 [==============================] - 4s - loss: 2.4312     \n",
      "Epoch 2/8\n",
      "75110/75110 [==============================] - 4s - loss: 2.0016     \n",
      "Epoch 3/8\n",
      "75110/75110 [==============================] - 4s - loss: 1.8868     \n",
      "Epoch 4/8\n",
      "75110/75110 [==============================] - 4s - loss: 1.8259     \n",
      "Epoch 5/8\n",
      "75110/75110 [==============================] - 4s - loss: 1.7876     \n",
      "Epoch 6/8\n",
      "75110/75110 [==============================] - 4s - loss: 1.7601     \n",
      "Epoch 7/8\n",
      "75110/75110 [==============================] - 4s - loss: 1.7397     \n",
      "Epoch 8/8\n",
      "75110/75110 [==============================] - 4s - loss: 1.7233     \n"
     ]
    },
    {
     "data": {
      "text/plain": [
       "<keras.callbacks.History at 0x7fba8549a390>"
      ]
     },
     "execution_count": 98,
     "metadata": {},
     "output_type": "execute_result"
    }
   ],
   "source": [
    "model.fit(x_rnn, y_rnn, batch_size=64, nb_epoch=8)"
   ]
  },
  {
   "cell_type": "code",
   "execution_count": 99,
   "metadata": {
    "ExecuteTime": {
     "end_time": "2017-10-30T01:17:42.614758Z",
     "start_time": "2017-10-30T01:17:08.584153Z"
    }
   },
   "outputs": [
    {
     "name": "stdout",
     "output_type": "stream",
     "text": [
      "Epoch 1/8\n",
      "75110/75110 [==============================] - 4s - loss: 1.7103     \n",
      "Epoch 2/8\n",
      "75110/75110 [==============================] - 4s - loss: 1.6994     \n",
      "Epoch 3/8\n",
      "75110/75110 [==============================] - 4s - loss: 1.6902     \n",
      "Epoch 4/8\n",
      "75110/75110 [==============================] - 4s - loss: 1.6820     \n",
      "Epoch 5/8\n",
      "75110/75110 [==============================] - 4s - loss: 1.6753     \n",
      "Epoch 6/8\n",
      "75110/75110 [==============================] - 4s - loss: 1.6681     \n",
      "Epoch 7/8\n",
      "75110/75110 [==============================] - 4s - loss: 1.6632     \n",
      "Epoch 8/8\n",
      "75110/75110 [==============================] - 4s - loss: 1.6582     \n"
     ]
    },
    {
     "data": {
      "text/plain": [
       "<keras.callbacks.History at 0x7fba8549aa90>"
      ]
     },
     "execution_count": 99,
     "metadata": {},
     "output_type": "execute_result"
    }
   ],
   "source": [
    "model.fit(x_rnn, y_rnn, batch_size=64, nb_epoch=8)"
   ]
  },
  {
   "cell_type": "code",
   "execution_count": 114,
   "metadata": {
    "ExecuteTime": {
     "end_time": "2017-10-30T01:34:38.514961Z",
     "start_time": "2017-10-30T01:34:38.509293Z"
    }
   },
   "outputs": [],
   "source": [
    "def get_next(inp):\n",
    "    idx = np.array([char_indices[i] for i in inp])\n",
    "    arr = idx[np.newaxis, :]\n",
    "    pred = model.predict(arr)[0]\n",
    "    return [indices_char[np.argmax(o)] for o in pred]"
   ]
  },
  {
   "cell_type": "code",
   "execution_count": 115,
   "metadata": {
    "ExecuteTime": {
     "end_time": "2017-10-30T01:34:39.313804Z",
     "start_time": "2017-10-30T01:34:39.307053Z"
    }
   },
   "outputs": [
    {
     "data": {
      "text/plain": [
       "['h', 'e', ' ', 's', 'r', 'e', 'n', 'k']"
      ]
     },
     "execution_count": 115,
     "metadata": {},
     "output_type": "execute_result"
    }
   ],
   "source": [
    "get_next('The thin')"
   ]
  },
  {
   "cell_type": "code",
   "execution_count": 117,
   "metadata": {
    "ExecuteTime": {
     "end_time": "2017-10-30T01:35:24.667988Z",
     "start_time": "2017-10-30T01:35:24.661131Z"
    }
   },
   "outputs": [
    {
     "data": {
      "text/plain": [
       "['t', 'h', 'e', 's', ' ', 'a', 's', ' ']"
      ]
     },
     "execution_count": 117,
     "metadata": {},
     "output_type": "execute_result"
    }
   ],
   "source": [
    "get_next(' this is')"
   ]
  },
  {
   "cell_type": "code",
   "execution_count": 120,
   "metadata": {
    "ExecuteTime": {
     "end_time": "2017-10-30T01:54:09.321552Z",
     "start_time": "2017-10-30T01:54:09.294657Z"
    }
   },
   "outputs": [],
   "source": [
    "model = Sequential([\n",
    "   SimpleRNN(n_hidden, return_sequences=True, input_shape=(cs, vocab_size), \n",
    "            activation='relu', inner_init='identity'),\n",
    "   TimeDistributed(Dense(vocab_size, activation='softmax'))\n",
    "])"
   ]
  },
  {
   "cell_type": "code",
   "execution_count": 123,
   "metadata": {
    "ExecuteTime": {
     "end_time": "2017-10-30T01:55:46.420077Z",
     "start_time": "2017-10-30T01:55:45.997695Z"
    },
    "collapsed": true
   },
   "outputs": [],
   "source": [
    "oh_xs = np.stack([to_categorical(i, vocab_size) for i in xs], 1)"
   ]
  },
  {
   "cell_type": "code",
   "execution_count": 124,
   "metadata": {
    "ExecuteTime": {
     "end_time": "2017-10-30T01:55:47.277491Z",
     "start_time": "2017-10-30T01:55:46.859850Z"
    },
    "collapsed": true
   },
   "outputs": [],
   "source": [
    "oh_ys = np.stack([to_categorical(i, vocab_size) for i in ys], 1)"
   ]
  },
  {
   "cell_type": "code",
   "execution_count": 125,
   "metadata": {
    "ExecuteTime": {
     "end_time": "2017-10-30T01:55:57.176929Z",
     "start_time": "2017-10-30T01:55:57.171865Z"
    }
   },
   "outputs": [
    {
     "data": {
      "text/plain": [
       "(75110, 8, 86)"
      ]
     },
     "execution_count": 125,
     "metadata": {},
     "output_type": "execute_result"
    }
   ],
   "source": [
    "oh_xs.shape"
   ]
  },
  {
   "cell_type": "code",
   "execution_count": 126,
   "metadata": {
    "ExecuteTime": {
     "end_time": "2017-10-30T01:56:02.376711Z",
     "start_time": "2017-10-30T01:56:02.371847Z"
    }
   },
   "outputs": [
    {
     "data": {
      "text/plain": [
       "(75110, 8, 86)"
      ]
     },
     "execution_count": 126,
     "metadata": {},
     "output_type": "execute_result"
    }
   ],
   "source": [
    "oh_ys.shape"
   ]
  },
  {
   "cell_type": "code",
   "execution_count": 127,
   "metadata": {
    "ExecuteTime": {
     "end_time": "2017-10-30T01:58:18.012806Z",
     "start_time": "2017-10-30T01:58:17.999457Z"
    },
    "collapsed": true
   },
   "outputs": [],
   "source": [
    "model.compile(loss='categorical_crossentropy', optimizer=Adam())"
   ]
  },
  {
   "cell_type": "code",
   "execution_count": 128,
   "metadata": {
    "ExecuteTime": {
     "end_time": "2017-10-30T01:59:25.830087Z",
     "start_time": "2017-10-30T01:58:32.532455Z"
    }
   },
   "outputs": [
    {
     "name": "stdout",
     "output_type": "stream",
     "text": [
      "Epoch 1/10\n",
      "75110/75110 [==============================] - 4s - loss: 2.4409     \n",
      "Epoch 2/10\n",
      "75110/75110 [==============================] - 4s - loss: 2.0385     \n",
      "Epoch 3/10\n",
      "75110/75110 [==============================] - 4s - loss: 1.9253     \n",
      "Epoch 4/10\n",
      "75110/75110 [==============================] - 4s - loss: 1.8611     \n",
      "Epoch 5/10\n",
      "75110/75110 [==============================] - 4s - loss: 1.8186     \n",
      "Epoch 6/10\n",
      "75110/75110 [==============================] - 4s - loss: 1.7873     \n",
      "Epoch 7/10\n",
      "75110/75110 [==============================] - 4s - loss: 1.7625     \n",
      "Epoch 8/10\n",
      "75110/75110 [==============================] - 4s - loss: 1.7444     \n",
      "Epoch 9/10\n",
      "75110/75110 [==============================] - 4s - loss: 1.7286     \n",
      "Epoch 10/10\n",
      "75110/75110 [==============================] - 4s - loss: 1.7156     \n"
     ]
    },
    {
     "data": {
      "text/plain": [
       "<keras.callbacks.History at 0x7fba760cb150>"
      ]
     },
     "execution_count": 128,
     "metadata": {},
     "output_type": "execute_result"
    }
   ],
   "source": [
    "model.fit(oh_xs, oh_ys, batch_size=64)"
   ]
  },
  {
   "cell_type": "markdown",
   "metadata": {},
   "source": [
    "# Stateful Model with Keras"
   ]
  },
  {
   "cell_type": "code",
   "execution_count": 153,
   "metadata": {
    "ExecuteTime": {
     "end_time": "2017-10-30T03:15:10.899349Z",
     "start_time": "2017-10-30T03:15:10.896056Z"
    },
    "collapsed": true
   },
   "outputs": [],
   "source": [
    "bs = 64"
   ]
  },
  {
   "cell_type": "code",
   "execution_count": 154,
   "metadata": {
    "ExecuteTime": {
     "end_time": "2017-10-30T03:15:12.117409Z",
     "start_time": "2017-10-30T03:15:12.029763Z"
    },
    "collapsed": true
   },
   "outputs": [],
   "source": [
    "model = Sequential([\n",
    "    Embedding(vocab_size, n_fac, input_length=cs, batch_input_shape=(bs, 8)),\n",
    "    BatchNormalization(),\n",
    "    LSTM(n_hidden, return_sequences=True, stateful=True),\n",
    "    TimeDistributed(Dense(n_hidden, activation='softmax'))\n",
    "])"
   ]
  },
  {
   "cell_type": "code",
   "execution_count": 155,
   "metadata": {
    "ExecuteTime": {
     "end_time": "2017-10-30T03:15:15.698838Z",
     "start_time": "2017-10-30T03:15:15.693747Z"
    }
   },
   "outputs": [
    {
     "data": {
      "text/plain": [
       "(75110, 8)"
      ]
     },
     "execution_count": 155,
     "metadata": {},
     "output_type": "execute_result"
    }
   ],
   "source": [
    "x_rnn.shape"
   ]
  },
  {
   "cell_type": "code",
   "execution_count": 156,
   "metadata": {
    "ExecuteTime": {
     "end_time": "2017-10-30T03:15:17.565120Z",
     "start_time": "2017-10-30T03:15:17.561699Z"
    },
    "collapsed": true
   },
   "outputs": [],
   "source": [
    "mx = len(x_rnn)//bs * bs"
   ]
  },
  {
   "cell_type": "code",
   "execution_count": 157,
   "metadata": {
    "ExecuteTime": {
     "end_time": "2017-10-30T03:15:18.874200Z",
     "start_time": "2017-10-30T03:15:18.857736Z"
    },
    "collapsed": true
   },
   "outputs": [],
   "source": [
    "model.compile(optimizer=Adam(), loss='sparse_categorical_crossentropy')"
   ]
  },
  {
   "cell_type": "code",
   "execution_count": 158,
   "metadata": {
    "ExecuteTime": {
     "end_time": "2017-10-30T03:16:44.696466Z",
     "start_time": "2017-10-30T03:15:23.562337Z"
    }
   },
   "outputs": [
    {
     "name": "stdout",
     "output_type": "stream",
     "text": [
      "Epoch 1/4\n",
      "75072/75072 [==============================] - 17s - loss: 2.3300    \n",
      "Epoch 2/4\n",
      "75072/75072 [==============================] - 17s - loss: 2.0633    \n",
      "Epoch 3/4\n",
      "75072/75072 [==============================] - 17s - loss: 1.9773    \n",
      "Epoch 4/4\n",
      "75072/75072 [==============================] - 17s - loss: 1.9269    \n"
     ]
    },
    {
     "data": {
      "text/plain": [
       "<keras.callbacks.History at 0x7fba5dc3ca10>"
      ]
     },
     "execution_count": 158,
     "metadata": {},
     "output_type": "execute_result"
    }
   ],
   "source": [
    "model.fit(x_rnn[:mx], y_rnn[:mx], batch_size=bs, nb_epoch=4, shuffle=False)"
   ]
  },
  {
   "cell_type": "code",
   "execution_count": 136,
   "metadata": {
    "ExecuteTime": {
     "end_time": "2017-10-30T02:25:38.064947Z",
     "start_time": "2017-10-30T02:24:29.920057Z"
    }
   },
   "outputs": [
    {
     "name": "stdout",
     "output_type": "stream",
     "text": [
      "Epoch 1/4\n",
      "75072/75072 [==============================] - 17s - loss: 1.8778    \n",
      "Epoch 2/4\n",
      "75072/75072 [==============================] - 17s - loss: 1.8512    \n",
      "Epoch 3/4\n",
      "75072/75072 [==============================] - 16s - loss: 1.8295    \n",
      "Epoch 4/4\n",
      "75072/75072 [==============================] - 16s - loss: 1.8113    \n"
     ]
    },
    {
     "data": {
      "text/plain": [
       "<keras.callbacks.History at 0x7fba7603e910>"
      ]
     },
     "execution_count": 136,
     "metadata": {},
     "output_type": "execute_result"
    }
   ],
   "source": [
    "model.fit(x_rnn[:mx], y_rnn[:mx], batch_size=bs, nb_epoch=4, shuffle=False)"
   ]
  },
  {
   "cell_type": "code",
   "execution_count": 137,
   "metadata": {
    "ExecuteTime": {
     "end_time": "2017-10-30T02:27:25.639652Z",
     "start_time": "2017-10-30T02:26:17.538073Z"
    }
   },
   "outputs": [
    {
     "name": "stdout",
     "output_type": "stream",
     "text": [
      "Epoch 1/4\n",
      "75072/75072 [==============================] - 17s - loss: 1.7954    \n",
      "Epoch 2/4\n",
      "75072/75072 [==============================] - 16s - loss: 1.7814    \n",
      "Epoch 3/4\n",
      "75072/75072 [==============================] - 17s - loss: 1.7688    \n",
      "Epoch 4/4\n",
      "75072/75072 [==============================] - 16s - loss: 1.7571    \n"
     ]
    },
    {
     "data": {
      "text/plain": [
       "<keras.callbacks.History at 0x7fba72626e90>"
      ]
     },
     "execution_count": 137,
     "metadata": {},
     "output_type": "execute_result"
    }
   ],
   "source": [
    "model.fit(x_rnn[:mx], y_rnn[:mx], batch_size=bs, nb_epoch=4, shuffle=False)"
   ]
  },
  {
   "cell_type": "code",
   "execution_count": 140,
   "metadata": {
    "ExecuteTime": {
     "end_time": "2017-10-30T02:38:51.133071Z",
     "start_time": "2017-10-30T02:38:51.128210Z"
    },
    "collapsed": true
   },
   "outputs": [],
   "source": [
    "def get_next_stateful(inp):\n",
    "    idx = [char_indices[i] for i in inp]\n",
    "    arr = np.array(idx)\n",
    "    pred = model.predict(arr)[0]\n",
    "    return [indices_char[np.argmax(o)] for o in pred]"
   ]
  },
  {
   "cell_type": "code",
   "execution_count": 142,
   "metadata": {
    "ExecuteTime": {
     "end_time": "2017-10-30T02:40:35.188483Z",
     "start_time": "2017-10-30T02:40:35.183528Z"
    }
   },
   "outputs": [
    {
     "data": {
      "text/plain": [
       "(75110, 8)"
      ]
     },
     "execution_count": 142,
     "metadata": {},
     "output_type": "execute_result"
    }
   ],
   "source": [
    "x_rnn.shape"
   ]
  },
  {
   "cell_type": "code",
   "execution_count": 159,
   "metadata": {
    "ExecuteTime": {
     "end_time": "2017-10-30T03:19:11.021362Z",
     "start_time": "2017-10-30T03:19:11.012276Z"
    }
   },
   "outputs": [],
   "source": [
    "def print_example():\n",
    "    seed_string=\"ethics is a basic foundation of all that\"\n",
    "    for i in range(320):\n",
    "        x=np.array([char_indices[c] for c in seed_string[-40:]])[np.newaxis,:]\n",
    "        print(x)\n",
    "        raise SystemExit\n",
    "        preds = model.predict(x, verbose=0)[0][-1]\n",
    "        preds = preds/np.sum(preds)\n",
    "        next_char = choice(chars, p=preds)\n",
    "        seed_string = seed_string + next_char\n",
    "    print(seed_string)"
   ]
  },
  {
   "cell_type": "code",
   "execution_count": 160,
   "metadata": {
    "ExecuteTime": {
     "end_time": "2017-10-30T03:19:11.863600Z",
     "start_time": "2017-10-30T03:19:11.858171Z"
    }
   },
   "outputs": [
    {
     "name": "stdout",
     "output_type": "stream",
     "text": [
      "[[58 73 61 62 56 72  2 62 72  2 54  2 55 54 72 62 56  2 59 68 74 67 57 54 73 62 68 67  2 68 59  2 54\n",
      "  65 65  2 73 61 54 73]]\n"
     ]
    },
    {
     "ename": "SystemExit",
     "evalue": "",
     "output_type": "error",
     "traceback": [
      "An exception has occurred, use %tb to see the full traceback.\n",
      "\u001b[0;31mSystemExit\u001b[0m\n"
     ]
    }
   ],
   "source": [
    "print_example()"
   ]
  },
  {
   "cell_type": "code",
   "execution_count": null,
   "metadata": {
    "collapsed": true
   },
   "outputs": [],
   "source": []
  }
 ],
 "metadata": {
  "kernelspec": {
   "display_name": "Python 2",
   "language": "python",
   "name": "python2"
  },
  "language_info": {
   "codemirror_mode": {
    "name": "ipython",
    "version": 2
   },
   "file_extension": ".py",
   "mimetype": "text/x-python",
   "name": "python",
   "nbconvert_exporter": "python",
   "pygments_lexer": "ipython2",
   "version": "2.7.13"
  }
 },
 "nbformat": 4,
 "nbformat_minor": 2
}
